{
 "cells": [
  {
   "cell_type": "markdown",
   "metadata": {},
   "source": [
    "This notebook will apply the PCA method to the music features data and then conduct the following clustering methods: \n",
    "1. k-means\n",
    "2. hierarchical\n"
   ]
  },
  {
   "cell_type": "code",
   "execution_count": 48,
   "metadata": {},
   "outputs": [],
   "source": [
    "import pandas as pd \n",
    "import matplotlib\n",
    "import numpy as np\n",
    "import seaborn as sb\n",
    "import matplotlib.pyplot as plt\n",
    "import sklearn\n",
    "from sklearn.cluster import KMeans\n",
    "import scipy.cluster.hierarchy as sch\n",
    "from sklearn.cluster import AgglomerativeClustering \n",
    "from sklearn.preprocessing import MinMaxScaler\n",
    "from plotly import graph_objects as go\n",
    "from IPython.display import clear_output\n",
    "import matplotlib.pyplot as plt"
   ]
  },
  {
   "cell_type": "code",
   "execution_count": 4,
   "metadata": {},
   "outputs": [],
   "source": [
    "#Read music feature data into python\n",
    "file_name = 'music_features.csv'\n",
    "music_features = pd.read_csv(file_name, index_col=0)"
   ]
  },
  {
   "cell_type": "code",
   "execution_count": 5,
   "metadata": {},
   "outputs": [
    {
     "data": {
      "text/html": [
       "<div>\n",
       "<style scoped>\n",
       "    .dataframe tbody tr th:only-of-type {\n",
       "        vertical-align: middle;\n",
       "    }\n",
       "\n",
       "    .dataframe tbody tr th {\n",
       "        vertical-align: top;\n",
       "    }\n",
       "\n",
       "    .dataframe thead th {\n",
       "        text-align: right;\n",
       "    }\n",
       "</style>\n",
       "<table border=\"1\" class=\"dataframe\">\n",
       "  <thead>\n",
       "    <tr style=\"text-align: right;\">\n",
       "      <th></th>\n",
       "      <th>acousticness</th>\n",
       "      <th>danceability</th>\n",
       "      <th>duration_ms</th>\n",
       "      <th>energy</th>\n",
       "      <th>id</th>\n",
       "      <th>instrumentalness</th>\n",
       "      <th>key</th>\n",
       "      <th>liveness</th>\n",
       "      <th>loudness</th>\n",
       "      <th>mode</th>\n",
       "      <th>speechiness</th>\n",
       "      <th>tempo</th>\n",
       "      <th>time_signature</th>\n",
       "      <th>type</th>\n",
       "      <th>valence</th>\n",
       "    </tr>\n",
       "  </thead>\n",
       "  <tbody>\n",
       "    <tr>\n",
       "      <th>160541</th>\n",
       "      <td>0.131</td>\n",
       "      <td>0.748</td>\n",
       "      <td>188491.0</td>\n",
       "      <td>0.627</td>\n",
       "      <td>000xQL6tZNLJzIrtIgxqSl</td>\n",
       "      <td>0.000000</td>\n",
       "      <td>7.0</td>\n",
       "      <td>0.0852</td>\n",
       "      <td>-6.029</td>\n",
       "      <td>1.0</td>\n",
       "      <td>0.0639</td>\n",
       "      <td>120.963</td>\n",
       "      <td>4.0</td>\n",
       "      <td>audio_features</td>\n",
       "      <td>0.524</td>\n",
       "    </tr>\n",
       "    <tr>\n",
       "      <th>45268</th>\n",
       "      <td>0.684</td>\n",
       "      <td>0.509</td>\n",
       "      <td>187119.0</td>\n",
       "      <td>0.803</td>\n",
       "      <td>000xYdQfIZ4pDmBGzQalKU</td>\n",
       "      <td>0.000539</td>\n",
       "      <td>0.0</td>\n",
       "      <td>0.4630</td>\n",
       "      <td>-6.743</td>\n",
       "      <td>1.0</td>\n",
       "      <td>0.0400</td>\n",
       "      <td>166.018</td>\n",
       "      <td>4.0</td>\n",
       "      <td>audio_features</td>\n",
       "      <td>0.651</td>\n",
       "    </tr>\n",
       "    <tr>\n",
       "      <th>236479</th>\n",
       "      <td>0.105</td>\n",
       "      <td>0.772</td>\n",
       "      <td>167866.0</td>\n",
       "      <td>0.635</td>\n",
       "      <td>001b8t3bYPfnabpjpfG1Y4</td>\n",
       "      <td>0.000000</td>\n",
       "      <td>9.0</td>\n",
       "      <td>0.1170</td>\n",
       "      <td>-4.846</td>\n",
       "      <td>1.0</td>\n",
       "      <td>0.3720</td>\n",
       "      <td>95.951</td>\n",
       "      <td>4.0</td>\n",
       "      <td>audio_features</td>\n",
       "      <td>0.541</td>\n",
       "    </tr>\n",
       "    <tr>\n",
       "      <th>218937</th>\n",
       "      <td>0.145</td>\n",
       "      <td>0.807</td>\n",
       "      <td>188395.0</td>\n",
       "      <td>0.552</td>\n",
       "      <td>001cKCt7jEOzXjqgkn9DQf</td>\n",
       "      <td>0.000000</td>\n",
       "      <td>8.0</td>\n",
       "      <td>0.0999</td>\n",
       "      <td>-8.966</td>\n",
       "      <td>1.0</td>\n",
       "      <td>0.3050</td>\n",
       "      <td>119.988</td>\n",
       "      <td>4.0</td>\n",
       "      <td>audio_features</td>\n",
       "      <td>0.287</td>\n",
       "    </tr>\n",
       "    <tr>\n",
       "      <th>193090</th>\n",
       "      <td>0.159</td>\n",
       "      <td>0.683</td>\n",
       "      <td>180933.0</td>\n",
       "      <td>0.676</td>\n",
       "      <td>003F0rm5lqxcmhvJPKgfaJ</td>\n",
       "      <td>0.000000</td>\n",
       "      <td>1.0</td>\n",
       "      <td>0.0726</td>\n",
       "      <td>-6.688</td>\n",
       "      <td>0.0</td>\n",
       "      <td>0.1470</td>\n",
       "      <td>98.992</td>\n",
       "      <td>4.0</td>\n",
       "      <td>audio_features</td>\n",
       "      <td>0.434</td>\n",
       "    </tr>\n",
       "  </tbody>\n",
       "</table>\n",
       "</div>"
      ],
      "text/plain": [
       "        acousticness  danceability  duration_ms  energy  \\\n",
       "160541         0.131         0.748     188491.0   0.627   \n",
       "45268          0.684         0.509     187119.0   0.803   \n",
       "236479         0.105         0.772     167866.0   0.635   \n",
       "218937         0.145         0.807     188395.0   0.552   \n",
       "193090         0.159         0.683     180933.0   0.676   \n",
       "\n",
       "                            id  instrumentalness  key  liveness  loudness  \\\n",
       "160541  000xQL6tZNLJzIrtIgxqSl          0.000000  7.0    0.0852    -6.029   \n",
       "45268   000xYdQfIZ4pDmBGzQalKU          0.000539  0.0    0.4630    -6.743   \n",
       "236479  001b8t3bYPfnabpjpfG1Y4          0.000000  9.0    0.1170    -4.846   \n",
       "218937  001cKCt7jEOzXjqgkn9DQf          0.000000  8.0    0.0999    -8.966   \n",
       "193090  003F0rm5lqxcmhvJPKgfaJ          0.000000  1.0    0.0726    -6.688   \n",
       "\n",
       "        mode  speechiness    tempo  time_signature            type  valence  \n",
       "160541   1.0       0.0639  120.963             4.0  audio_features    0.524  \n",
       "45268    1.0       0.0400  166.018             4.0  audio_features    0.651  \n",
       "236479   1.0       0.3720   95.951             4.0  audio_features    0.541  \n",
       "218937   1.0       0.3050  119.988             4.0  audio_features    0.287  \n",
       "193090   0.0       0.1470   98.992             4.0  audio_features    0.434  "
      ]
     },
     "execution_count": 5,
     "metadata": {},
     "output_type": "execute_result"
    }
   ],
   "source": [
    "music_features.head()"
   ]
  },
  {
   "cell_type": "code",
   "execution_count": 6,
   "metadata": {},
   "outputs": [],
   "source": [
    "music_features = music_features.drop(columns=['type'])"
   ]
  },
  {
   "cell_type": "code",
   "execution_count": 7,
   "metadata": {},
   "outputs": [
    {
     "data": {
      "text/plain": [
       "acousticness         3599\n",
       "danceability          889\n",
       "duration_ms         49403\n",
       "energy               1220\n",
       "id                  88126\n",
       "instrumentalness     5142\n",
       "key                    12\n",
       "liveness             1669\n",
       "loudness            13366\n",
       "mode                    2\n",
       "speechiness          1473\n",
       "tempo               37438\n",
       "time_signature          5\n",
       "valence              1470\n",
       "dtype: int64"
      ]
     },
     "execution_count": 7,
     "metadata": {},
     "output_type": "execute_result"
    }
   ],
   "source": [
    "music_features.nunique()"
   ]
  },
  {
   "cell_type": "code",
   "execution_count": 8,
   "metadata": {},
   "outputs": [],
   "source": [
    "features = list(music_features)"
   ]
  },
  {
   "cell_type": "code",
   "execution_count": 9,
   "metadata": {},
   "outputs": [],
   "source": [
    "features.remove('id')"
   ]
  },
  {
   "cell_type": "code",
   "execution_count": 10,
   "metadata": {},
   "outputs": [
    {
     "data": {
      "text/plain": [
       "(8.420049073685684e-17, 0.9999999999999998)"
      ]
     },
     "execution_count": 10,
     "metadata": {},
     "output_type": "execute_result"
    }
   ],
   "source": [
    "from sklearn.preprocessing import StandardScaler\n",
    "\n",
    "feature_values = music_features.loc[:, features].values\n",
    "normalized_values = StandardScaler().fit_transform(feature_values) # normalizing the features\n",
    "np.mean(normalized_values),np.std(normalized_values)"
   ]
  },
  {
   "cell_type": "code",
   "execution_count": 11,
   "metadata": {},
   "outputs": [],
   "source": [
    "from sklearn.decomposition import PCA\n",
    "\n",
    "pca = PCA(n_components=0.90)\n",
    "principalComponents = pca.fit_transform(normalized_values)\n",
    "principalDF = pd.DataFrame(data = principalComponents)"
   ]
  },
  {
   "cell_type": "code",
   "execution_count": 12,
   "metadata": {},
   "outputs": [
    {
     "data": {
      "text/html": [
       "<div>\n",
       "<style scoped>\n",
       "    .dataframe tbody tr th:only-of-type {\n",
       "        vertical-align: middle;\n",
       "    }\n",
       "\n",
       "    .dataframe tbody tr th {\n",
       "        vertical-align: top;\n",
       "    }\n",
       "\n",
       "    .dataframe thead th {\n",
       "        text-align: right;\n",
       "    }\n",
       "</style>\n",
       "<table border=\"1\" class=\"dataframe\">\n",
       "  <thead>\n",
       "    <tr style=\"text-align: right;\">\n",
       "      <th></th>\n",
       "      <th>0</th>\n",
       "      <th>1</th>\n",
       "      <th>2</th>\n",
       "      <th>3</th>\n",
       "      <th>4</th>\n",
       "      <th>5</th>\n",
       "      <th>6</th>\n",
       "      <th>7</th>\n",
       "      <th>8</th>\n",
       "      <th>9</th>\n",
       "    </tr>\n",
       "  </thead>\n",
       "  <tbody>\n",
       "    <tr>\n",
       "      <th>0</th>\n",
       "      <td>-0.451134</td>\n",
       "      <td>-0.033565</td>\n",
       "      <td>-0.439366</td>\n",
       "      <td>0.569575</td>\n",
       "      <td>-0.016130</td>\n",
       "      <td>0.316759</td>\n",
       "      <td>0.554029</td>\n",
       "      <td>-0.360533</td>\n",
       "      <td>-1.078593</td>\n",
       "      <td>0.110149</td>\n",
       "    </tr>\n",
       "    <tr>\n",
       "      <th>1</th>\n",
       "      <td>0.021821</td>\n",
       "      <td>1.748103</td>\n",
       "      <td>-1.119083</td>\n",
       "      <td>-2.078193</td>\n",
       "      <td>0.346411</td>\n",
       "      <td>-0.723661</td>\n",
       "      <td>-0.289637</td>\n",
       "      <td>-1.515539</td>\n",
       "      <td>0.975765</td>\n",
       "      <td>-1.260121</td>\n",
       "    </tr>\n",
       "    <tr>\n",
       "      <th>2</th>\n",
       "      <td>-1.080884</td>\n",
       "      <td>-1.439510</td>\n",
       "      <td>-0.394431</td>\n",
       "      <td>0.030598</td>\n",
       "      <td>-0.557967</td>\n",
       "      <td>-0.133521</td>\n",
       "      <td>-0.497757</td>\n",
       "      <td>0.253585</td>\n",
       "      <td>-1.397900</td>\n",
       "      <td>1.455529</td>\n",
       "    </tr>\n",
       "    <tr>\n",
       "      <th>3</th>\n",
       "      <td>0.288048</td>\n",
       "      <td>-1.355919</td>\n",
       "      <td>-0.412265</td>\n",
       "      <td>-0.186526</td>\n",
       "      <td>-0.410735</td>\n",
       "      <td>0.724761</td>\n",
       "      <td>-0.627038</td>\n",
       "      <td>0.277819</td>\n",
       "      <td>-1.238071</td>\n",
       "      <td>1.280738</td>\n",
       "    </tr>\n",
       "    <tr>\n",
       "      <th>4</th>\n",
       "      <td>-0.327189</td>\n",
       "      <td>-0.569155</td>\n",
       "      <td>-0.424199</td>\n",
       "      <td>0.695444</td>\n",
       "      <td>0.009849</td>\n",
       "      <td>0.219913</td>\n",
       "      <td>-0.097795</td>\n",
       "      <td>1.509594</td>\n",
       "      <td>0.569051</td>\n",
       "      <td>-0.782480</td>\n",
       "    </tr>\n",
       "  </tbody>\n",
       "</table>\n",
       "</div>"
      ],
      "text/plain": [
       "          0         1         2         3         4         5         6  \\\n",
       "0 -0.451134 -0.033565 -0.439366  0.569575 -0.016130  0.316759  0.554029   \n",
       "1  0.021821  1.748103 -1.119083 -2.078193  0.346411 -0.723661 -0.289637   \n",
       "2 -1.080884 -1.439510 -0.394431  0.030598 -0.557967 -0.133521 -0.497757   \n",
       "3  0.288048 -1.355919 -0.412265 -0.186526 -0.410735  0.724761 -0.627038   \n",
       "4 -0.327189 -0.569155 -0.424199  0.695444  0.009849  0.219913 -0.097795   \n",
       "\n",
       "          7         8         9  \n",
       "0 -0.360533 -1.078593  0.110149  \n",
       "1 -1.515539  0.975765 -1.260121  \n",
       "2  0.253585 -1.397900  1.455529  \n",
       "3  0.277819 -1.238071  1.280738  \n",
       "4  1.509594  0.569051 -0.782480  "
      ]
     },
     "execution_count": 12,
     "metadata": {},
     "output_type": "execute_result"
    }
   ],
   "source": [
    "principalDF.head()"
   ]
  },
  {
   "cell_type": "code",
   "execution_count": 42,
   "metadata": {},
   "outputs": [],
   "source": [
    "#get sample of principal components to run in dendogram \n",
    "principalDF_sample = principalDF.sample(frac=0.50, replace = False)"
   ]
  },
  {
   "cell_type": "code",
   "execution_count": 89,
   "metadata": {},
   "outputs": [
    {
     "data": {
      "text/plain": [
       "264384"
      ]
     },
     "execution_count": 89,
     "metadata": {},
     "output_type": "execute_result"
    }
   ],
   "source": [
    "principalDF_sample.size"
   ]
  },
  {
   "cell_type": "code",
   "execution_count": 103,
   "metadata": {},
   "outputs": [
    {
     "data": {
      "image/png": "[encoded data removed]",
      "text/plain": [
       "<Figure size 432x288 with 1 Axes>"
      ]
     },
     "metadata": {
      "needs_background": "light"
     },
     "output_type": "display_data"
    }
   ],
   "source": [
    "dendrogram = sch.dendrogram(sch.linkage(principalDF_sample.values, method  = \"complete\"))\n",
    "plt.title('Dendrogram')\n",
    "plt.xlabel('Customers')\n",
    "plt.ylabel('Euclidean distances')\n",
    "plt.show()"
   ]
  },
  {
   "cell_type": "code",
   "execution_count": 104,
   "metadata": {},
   "outputs": [],
   "source": [
    "hc4 = AgglomerativeClustering(n_clusters = 4, affinity = 'euclidean', linkage ='complete')\n",
    "#hc6 = AgglomerativeClustering(n_clusters = 6, affinity = 'euclidean', linkage ='ward')"
   ]
  },
  {
   "cell_type": "code",
   "execution_count": 105,
   "metadata": {},
   "outputs": [],
   "source": [
    "principalDF_sample['AC Cluster 4'] = hc4.fit_predict(principalDF_sample.values)\n",
    "#principalDF_sample['AC Cluster 6'] = hc6.fit_predict(principalDF_sample.values)"
   ]
  },
  {
   "cell_type": "code",
   "execution_count": 106,
   "metadata": {},
   "outputs": [],
   "source": [
    "music_features['AC Cluster 4'] = principalDF_sample['AC Cluster 4']\n",
    "#music_features['AC Cluster 6'] = principalDF_sample['AC Cluster 6']"
   ]
  },
  {
   "cell_type": "code",
   "execution_count": 107,
   "metadata": {},
   "outputs": [
    {
     "data": {
      "text/html": [
       "<div>\n",
       "<style scoped>\n",
       "    .dataframe tbody tr th:only-of-type {\n",
       "        vertical-align: middle;\n",
       "    }\n",
       "\n",
       "    .dataframe tbody tr th {\n",
       "        vertical-align: top;\n",
       "    }\n",
       "\n",
       "    .dataframe thead th {\n",
       "        text-align: right;\n",
       "    }\n",
       "</style>\n",
       "<table border=\"1\" class=\"dataframe\">\n",
       "  <thead>\n",
       "    <tr style=\"text-align: right;\">\n",
       "      <th></th>\n",
       "      <th>acousticness</th>\n",
       "      <th>danceability</th>\n",
       "      <th>duration_ms</th>\n",
       "      <th>energy</th>\n",
       "      <th>id</th>\n",
       "      <th>instrumentalness</th>\n",
       "      <th>key</th>\n",
       "      <th>liveness</th>\n",
       "      <th>loudness</th>\n",
       "      <th>mode</th>\n",
       "      <th>speechiness</th>\n",
       "      <th>tempo</th>\n",
       "      <th>time_signature</th>\n",
       "      <th>valence</th>\n",
       "      <th>AC Cluster 4</th>\n",
       "      <th>AC Cluster 6</th>\n",
       "    </tr>\n",
       "  </thead>\n",
       "  <tbody>\n",
       "    <tr>\n",
       "      <th>7610</th>\n",
       "      <td>0.3950</td>\n",
       "      <td>0.552</td>\n",
       "      <td>241014.0</td>\n",
       "      <td>0.578</td>\n",
       "      <td>009Zz28Vgvnc5FvMXs6dEm</td>\n",
       "      <td>0.000000</td>\n",
       "      <td>11.0</td>\n",
       "      <td>0.1460</td>\n",
       "      <td>-9.318</td>\n",
       "      <td>0.0</td>\n",
       "      <td>0.3360</td>\n",
       "      <td>89.662</td>\n",
       "      <td>4.0</td>\n",
       "      <td>0.590</td>\n",
       "      <td>0.0</td>\n",
       "      <td>0.0</td>\n",
       "    </tr>\n",
       "    <tr>\n",
       "      <th>31581</th>\n",
       "      <td>0.7020</td>\n",
       "      <td>0.543</td>\n",
       "      <td>274960.0</td>\n",
       "      <td>0.373</td>\n",
       "      <td>009j4tQyJC53rmgTuXil9E</td>\n",
       "      <td>0.000003</td>\n",
       "      <td>11.0</td>\n",
       "      <td>0.1070</td>\n",
       "      <td>-10.504</td>\n",
       "      <td>1.0</td>\n",
       "      <td>0.0303</td>\n",
       "      <td>114.956</td>\n",
       "      <td>4.0</td>\n",
       "      <td>0.245</td>\n",
       "      <td>0.0</td>\n",
       "      <td>1.0</td>\n",
       "    </tr>\n",
       "    <tr>\n",
       "      <th>23060</th>\n",
       "      <td>0.4510</td>\n",
       "      <td>0.470</td>\n",
       "      <td>277310.0</td>\n",
       "      <td>0.475</td>\n",
       "      <td>00C47repvBYiWwkfE99faH</td>\n",
       "      <td>0.000000</td>\n",
       "      <td>8.0</td>\n",
       "      <td>0.1340</td>\n",
       "      <td>-6.730</td>\n",
       "      <td>1.0</td>\n",
       "      <td>0.0321</td>\n",
       "      <td>123.852</td>\n",
       "      <td>4.0</td>\n",
       "      <td>0.209</td>\n",
       "      <td>0.0</td>\n",
       "      <td>0.0</td>\n",
       "    </tr>\n",
       "    <tr>\n",
       "      <th>61060</th>\n",
       "      <td>0.2010</td>\n",
       "      <td>0.743</td>\n",
       "      <td>101851.0</td>\n",
       "      <td>0.454</td>\n",
       "      <td>00JZgGi6ZTM4jAvJcp4oIv</td>\n",
       "      <td>0.050400</td>\n",
       "      <td>0.0</td>\n",
       "      <td>0.1100</td>\n",
       "      <td>-5.522</td>\n",
       "      <td>1.0</td>\n",
       "      <td>0.0719</td>\n",
       "      <td>144.981</td>\n",
       "      <td>4.0</td>\n",
       "      <td>0.714</td>\n",
       "      <td>0.0</td>\n",
       "      <td>0.0</td>\n",
       "    </tr>\n",
       "    <tr>\n",
       "      <th>39445</th>\n",
       "      <td>0.0063</td>\n",
       "      <td>0.581</td>\n",
       "      <td>210347.0</td>\n",
       "      <td>0.919</td>\n",
       "      <td>00TVmX9spquyg0UKuN57l3</td>\n",
       "      <td>0.000003</td>\n",
       "      <td>6.0</td>\n",
       "      <td>0.1070</td>\n",
       "      <td>-4.324</td>\n",
       "      <td>0.0</td>\n",
       "      <td>0.0500</td>\n",
       "      <td>95.991</td>\n",
       "      <td>4.0</td>\n",
       "      <td>0.847</td>\n",
       "      <td>0.0</td>\n",
       "      <td>0.0</td>\n",
       "    </tr>\n",
       "    <tr>\n",
       "      <th>...</th>\n",
       "      <td>...</td>\n",
       "      <td>...</td>\n",
       "      <td>...</td>\n",
       "      <td>...</td>\n",
       "      <td>...</td>\n",
       "      <td>...</td>\n",
       "      <td>...</td>\n",
       "      <td>...</td>\n",
       "      <td>...</td>\n",
       "      <td>...</td>\n",
       "      <td>...</td>\n",
       "      <td>...</td>\n",
       "      <td>...</td>\n",
       "      <td>...</td>\n",
       "      <td>...</td>\n",
       "      <td>...</td>\n",
       "    </tr>\n",
       "    <tr>\n",
       "      <th>36569</th>\n",
       "      <td>0.1030</td>\n",
       "      <td>0.470</td>\n",
       "      <td>173160.0</td>\n",
       "      <td>0.520</td>\n",
       "      <td>7zZhsd4me9GmNFs0xo57p5</td>\n",
       "      <td>0.000000</td>\n",
       "      <td>0.0</td>\n",
       "      <td>0.1280</td>\n",
       "      <td>-7.397</td>\n",
       "      <td>1.0</td>\n",
       "      <td>0.0400</td>\n",
       "      <td>121.277</td>\n",
       "      <td>4.0</td>\n",
       "      <td>0.346</td>\n",
       "      <td>0.0</td>\n",
       "      <td>1.0</td>\n",
       "    </tr>\n",
       "    <tr>\n",
       "      <th>84629</th>\n",
       "      <td>0.6700</td>\n",
       "      <td>0.833</td>\n",
       "      <td>112040.0</td>\n",
       "      <td>0.381</td>\n",
       "      <td>7zkQwd9ZjsqvGexq5oQ4m6</td>\n",
       "      <td>0.000000</td>\n",
       "      <td>9.0</td>\n",
       "      <td>0.0908</td>\n",
       "      <td>-13.381</td>\n",
       "      <td>0.0</td>\n",
       "      <td>0.0504</td>\n",
       "      <td>117.016</td>\n",
       "      <td>4.0</td>\n",
       "      <td>0.767</td>\n",
       "      <td>0.0</td>\n",
       "      <td>0.0</td>\n",
       "    </tr>\n",
       "    <tr>\n",
       "      <th>80940</th>\n",
       "      <td>0.4590</td>\n",
       "      <td>0.649</td>\n",
       "      <td>238080.0</td>\n",
       "      <td>0.417</td>\n",
       "      <td>7znCkOoJw2PZxbgtdYnt6T</td>\n",
       "      <td>0.002140</td>\n",
       "      <td>9.0</td>\n",
       "      <td>0.0818</td>\n",
       "      <td>-12.438</td>\n",
       "      <td>0.0</td>\n",
       "      <td>0.0460</td>\n",
       "      <td>125.021</td>\n",
       "      <td>4.0</td>\n",
       "      <td>0.353</td>\n",
       "      <td>0.0</td>\n",
       "      <td>0.0</td>\n",
       "    </tr>\n",
       "    <tr>\n",
       "      <th>38347</th>\n",
       "      <td>0.3940</td>\n",
       "      <td>0.755</td>\n",
       "      <td>216000.0</td>\n",
       "      <td>0.764</td>\n",
       "      <td>7zoP4qnuk0npMUMAG3D1HA</td>\n",
       "      <td>0.000000</td>\n",
       "      <td>6.0</td>\n",
       "      <td>0.1060</td>\n",
       "      <td>-4.043</td>\n",
       "      <td>0.0</td>\n",
       "      <td>0.0315</td>\n",
       "      <td>100.984</td>\n",
       "      <td>4.0</td>\n",
       "      <td>0.851</td>\n",
       "      <td>0.0</td>\n",
       "      <td>1.0</td>\n",
       "    </tr>\n",
       "    <tr>\n",
       "      <th>6297</th>\n",
       "      <td>0.5780</td>\n",
       "      <td>0.699</td>\n",
       "      <td>189057.0</td>\n",
       "      <td>0.435</td>\n",
       "      <td>7zqLBFKCBkk5IfbgKgH4VZ</td>\n",
       "      <td>0.000000</td>\n",
       "      <td>1.0</td>\n",
       "      <td>0.0884</td>\n",
       "      <td>-6.891</td>\n",
       "      <td>1.0</td>\n",
       "      <td>0.1110</td>\n",
       "      <td>110.288</td>\n",
       "      <td>4.0</td>\n",
       "      <td>0.450</td>\n",
       "      <td>0.0</td>\n",
       "      <td>3.0</td>\n",
       "    </tr>\n",
       "  </tbody>\n",
       "</table>\n",
       "<p>4380 rows × 16 columns</p>\n",
       "</div>"
      ],
      "text/plain": [
       "       acousticness  danceability  duration_ms  energy  \\\n",
       "7610         0.3950         0.552     241014.0   0.578   \n",
       "31581        0.7020         0.543     274960.0   0.373   \n",
       "23060        0.4510         0.470     277310.0   0.475   \n",
       "61060        0.2010         0.743     101851.0   0.454   \n",
       "39445        0.0063         0.581     210347.0   0.919   \n",
       "...             ...           ...          ...     ...   \n",
       "36569        0.1030         0.470     173160.0   0.520   \n",
       "84629        0.6700         0.833     112040.0   0.381   \n",
       "80940        0.4590         0.649     238080.0   0.417   \n",
       "38347        0.3940         0.755     216000.0   0.764   \n",
       "6297         0.5780         0.699     189057.0   0.435   \n",
       "\n",
       "                           id  instrumentalness   key  liveness  loudness  \\\n",
       "7610   009Zz28Vgvnc5FvMXs6dEm          0.000000  11.0    0.1460    -9.318   \n",
       "31581  009j4tQyJC53rmgTuXil9E          0.000003  11.0    0.1070   -10.504   \n",
       "23060  00C47repvBYiWwkfE99faH          0.000000   8.0    0.1340    -6.730   \n",
       "61060  00JZgGi6ZTM4jAvJcp4oIv          0.050400   0.0    0.1100    -5.522   \n",
       "39445  00TVmX9spquyg0UKuN57l3          0.000003   6.0    0.1070    -4.324   \n",
       "...                       ...               ...   ...       ...       ...   \n",
       "36569  7zZhsd4me9GmNFs0xo57p5          0.000000   0.0    0.1280    -7.397   \n",
       "84629  7zkQwd9ZjsqvGexq5oQ4m6          0.000000   9.0    0.0908   -13.381   \n",
       "80940  7znCkOoJw2PZxbgtdYnt6T          0.002140   9.0    0.0818   -12.438   \n",
       "38347  7zoP4qnuk0npMUMAG3D1HA          0.000000   6.0    0.1060    -4.043   \n",
       "6297   7zqLBFKCBkk5IfbgKgH4VZ          0.000000   1.0    0.0884    -6.891   \n",
       "\n",
       "       mode  speechiness    tempo  time_signature  valence  AC Cluster 4  \\\n",
       "7610    0.0       0.3360   89.662             4.0    0.590           0.0   \n",
       "31581   1.0       0.0303  114.956             4.0    0.245           0.0   \n",
       "23060   1.0       0.0321  123.852             4.0    0.209           0.0   \n",
       "61060   1.0       0.0719  144.981             4.0    0.714           0.0   \n",
       "39445   0.0       0.0500   95.991             4.0    0.847           0.0   \n",
       "...     ...          ...      ...             ...      ...           ...   \n",
       "36569   1.0       0.0400  121.277             4.0    0.346           0.0   \n",
       "84629   0.0       0.0504  117.016             4.0    0.767           0.0   \n",
       "80940   0.0       0.0460  125.021             4.0    0.353           0.0   \n",
       "38347   0.0       0.0315  100.984             4.0    0.851           0.0   \n",
       "6297    1.0       0.1110  110.288             4.0    0.450           0.0   \n",
       "\n",
       "       AC Cluster 6  \n",
       "7610            0.0  \n",
       "31581           1.0  \n",
       "23060           0.0  \n",
       "61060           0.0  \n",
       "39445           0.0  \n",
       "...             ...  \n",
       "36569           1.0  \n",
       "84629           0.0  \n",
       "80940           0.0  \n",
       "38347           1.0  \n",
       "6297            3.0  \n",
       "\n",
       "[4380 rows x 16 columns]"
      ]
     },
     "execution_count": 107,
     "metadata": {},
     "output_type": "execute_result"
    }
   ],
   "source": [
    "music_features[music_features['AC Cluster 4'].notnull()] "
   ]
  },
  {
   "cell_type": "code",
   "execution_count": 77,
   "metadata": {},
   "outputs": [],
   "source": [
    "feature_list = list(music_features.loc[:, music_features.columns != 'id'])"
   ]
  },
  {
   "cell_type": "code",
   "execution_count": 109,
   "metadata": {},
   "outputs": [
    {
     "data": {
      "text/html": [
       "<div>\n",
       "<style scoped>\n",
       "    .dataframe tbody tr th:only-of-type {\n",
       "        vertical-align: middle;\n",
       "    }\n",
       "\n",
       "    .dataframe tbody tr th {\n",
       "        vertical-align: top;\n",
       "    }\n",
       "\n",
       "    .dataframe thead th {\n",
       "        text-align: right;\n",
       "    }\n",
       "</style>\n",
       "<table border=\"1\" class=\"dataframe\">\n",
       "  <thead>\n",
       "    <tr style=\"text-align: right;\">\n",
       "      <th></th>\n",
       "      <th>acousticness</th>\n",
       "      <th>danceability</th>\n",
       "      <th>duration_ms</th>\n",
       "      <th>energy</th>\n",
       "      <th>instrumentalness</th>\n",
       "      <th>key</th>\n",
       "      <th>liveness</th>\n",
       "      <th>loudness</th>\n",
       "      <th>mode</th>\n",
       "      <th>speechiness</th>\n",
       "      <th>tempo</th>\n",
       "      <th>time_signature</th>\n",
       "      <th>valence</th>\n",
       "      <th>acousticness</th>\n",
       "      <th>acousticness</th>\n",
       "      <th>AC Cluster 4</th>\n",
       "    </tr>\n",
       "  </thead>\n",
       "  <tbody>\n",
       "    <tr>\n",
       "      <th>160541</th>\n",
       "      <td>0.131526</td>\n",
       "      <td>0.757085</td>\n",
       "      <td>0.047786</td>\n",
       "      <td>0.627</td>\n",
       "      <td>0.000000</td>\n",
       "      <td>0.636364</td>\n",
       "      <td>0.086061</td>\n",
       "      <td>0.875328</td>\n",
       "      <td>1.0</td>\n",
       "      <td>0.066149</td>\n",
       "      <td>0.525309</td>\n",
       "      <td>0.8</td>\n",
       "      <td>0.524525</td>\n",
       "      <td>0.131526</td>\n",
       "      <td>0.131526</td>\n",
       "      <td>NaN</td>\n",
       "    </tr>\n",
       "    <tr>\n",
       "      <th>45268</th>\n",
       "      <td>0.686747</td>\n",
       "      <td>0.515182</td>\n",
       "      <td>0.047436</td>\n",
       "      <td>0.803</td>\n",
       "      <td>0.000546</td>\n",
       "      <td>0.000000</td>\n",
       "      <td>0.467677</td>\n",
       "      <td>0.863748</td>\n",
       "      <td>1.0</td>\n",
       "      <td>0.041408</td>\n",
       "      <td>0.720971</td>\n",
       "      <td>0.8</td>\n",
       "      <td>0.651652</td>\n",
       "      <td>0.686747</td>\n",
       "      <td>0.686747</td>\n",
       "      <td>NaN</td>\n",
       "    </tr>\n",
       "    <tr>\n",
       "      <th>236479</th>\n",
       "      <td>0.105422</td>\n",
       "      <td>0.781377</td>\n",
       "      <td>0.042529</td>\n",
       "      <td>0.635</td>\n",
       "      <td>0.000000</td>\n",
       "      <td>0.818182</td>\n",
       "      <td>0.118182</td>\n",
       "      <td>0.894515</td>\n",
       "      <td>1.0</td>\n",
       "      <td>0.385093</td>\n",
       "      <td>0.416689</td>\n",
       "      <td>0.8</td>\n",
       "      <td>0.541542</td>\n",
       "      <td>0.105422</td>\n",
       "      <td>0.105422</td>\n",
       "      <td>NaN</td>\n",
       "    </tr>\n",
       "    <tr>\n",
       "      <th>218937</th>\n",
       "      <td>0.145582</td>\n",
       "      <td>0.816802</td>\n",
       "      <td>0.047762</td>\n",
       "      <td>0.552</td>\n",
       "      <td>0.000000</td>\n",
       "      <td>0.727273</td>\n",
       "      <td>0.100909</td>\n",
       "      <td>0.827695</td>\n",
       "      <td>1.0</td>\n",
       "      <td>0.315735</td>\n",
       "      <td>0.521075</td>\n",
       "      <td>0.8</td>\n",
       "      <td>0.287287</td>\n",
       "      <td>0.145582</td>\n",
       "      <td>0.145582</td>\n",
       "      <td>NaN</td>\n",
       "    </tr>\n",
       "    <tr>\n",
       "      <th>193090</th>\n",
       "      <td>0.159639</td>\n",
       "      <td>0.691296</td>\n",
       "      <td>0.045860</td>\n",
       "      <td>0.676</td>\n",
       "      <td>0.000000</td>\n",
       "      <td>0.090909</td>\n",
       "      <td>0.073333</td>\n",
       "      <td>0.864640</td>\n",
       "      <td>0.0</td>\n",
       "      <td>0.152174</td>\n",
       "      <td>0.429895</td>\n",
       "      <td>0.8</td>\n",
       "      <td>0.434434</td>\n",
       "      <td>0.159639</td>\n",
       "      <td>0.159639</td>\n",
       "      <td>NaN</td>\n",
       "    </tr>\n",
       "    <tr>\n",
       "      <th>...</th>\n",
       "      <td>...</td>\n",
       "      <td>...</td>\n",
       "      <td>...</td>\n",
       "      <td>...</td>\n",
       "      <td>...</td>\n",
       "      <td>...</td>\n",
       "      <td>...</td>\n",
       "      <td>...</td>\n",
       "      <td>...</td>\n",
       "      <td>...</td>\n",
       "      <td>...</td>\n",
       "      <td>...</td>\n",
       "      <td>...</td>\n",
       "      <td>...</td>\n",
       "      <td>...</td>\n",
       "      <td>...</td>\n",
       "    </tr>\n",
       "    <tr>\n",
       "      <th>154441</th>\n",
       "      <td>0.036145</td>\n",
       "      <td>0.860324</td>\n",
       "      <td>0.034640</td>\n",
       "      <td>0.739</td>\n",
       "      <td>0.000000</td>\n",
       "      <td>0.636364</td>\n",
       "      <td>0.291919</td>\n",
       "      <td>0.789030</td>\n",
       "      <td>1.0</td>\n",
       "      <td>0.237060</td>\n",
       "      <td>0.486659</td>\n",
       "      <td>0.8</td>\n",
       "      <td>0.602603</td>\n",
       "      <td>0.036145</td>\n",
       "      <td>0.036145</td>\n",
       "      <td>NaN</td>\n",
       "    </tr>\n",
       "    <tr>\n",
       "      <th>155996</th>\n",
       "      <td>0.730924</td>\n",
       "      <td>0.428138</td>\n",
       "      <td>0.066158</td>\n",
       "      <td>0.360</td>\n",
       "      <td>0.000000</td>\n",
       "      <td>0.272727</td>\n",
       "      <td>0.106061</td>\n",
       "      <td>0.819715</td>\n",
       "      <td>1.0</td>\n",
       "      <td>0.038509</td>\n",
       "      <td>0.567056</td>\n",
       "      <td>0.8</td>\n",
       "      <td>0.291291</td>\n",
       "      <td>0.730924</td>\n",
       "      <td>0.730924</td>\n",
       "      <td>NaN</td>\n",
       "    </tr>\n",
       "    <tr>\n",
       "      <th>101624</th>\n",
       "      <td>0.200803</td>\n",
       "      <td>0.644737</td>\n",
       "      <td>0.061313</td>\n",
       "      <td>0.741</td>\n",
       "      <td>0.000000</td>\n",
       "      <td>0.818182</td>\n",
       "      <td>0.186869</td>\n",
       "      <td>0.902332</td>\n",
       "      <td>1.0</td>\n",
       "      <td>0.031056</td>\n",
       "      <td>0.390767</td>\n",
       "      <td>0.8</td>\n",
       "      <td>0.419419</td>\n",
       "      <td>0.200803</td>\n",
       "      <td>0.200803</td>\n",
       "      <td>NaN</td>\n",
       "    </tr>\n",
       "    <tr>\n",
       "      <th>114871</th>\n",
       "      <td>0.354418</td>\n",
       "      <td>0.828947</td>\n",
       "      <td>0.052913</td>\n",
       "      <td>0.679</td>\n",
       "      <td>0.000000</td>\n",
       "      <td>1.000000</td>\n",
       "      <td>0.293939</td>\n",
       "      <td>0.827403</td>\n",
       "      <td>0.0</td>\n",
       "      <td>0.107660</td>\n",
       "      <td>0.607908</td>\n",
       "      <td>0.8</td>\n",
       "      <td>0.551552</td>\n",
       "      <td>0.354418</td>\n",
       "      <td>0.354418</td>\n",
       "      <td>NaN</td>\n",
       "    </tr>\n",
       "    <tr>\n",
       "      <th>207130</th>\n",
       "      <td>0.187751</td>\n",
       "      <td>0.950405</td>\n",
       "      <td>0.070973</td>\n",
       "      <td>0.700</td>\n",
       "      <td>0.000000</td>\n",
       "      <td>0.818182</td>\n",
       "      <td>0.094949</td>\n",
       "      <td>0.867268</td>\n",
       "      <td>0.0</td>\n",
       "      <td>0.053727</td>\n",
       "      <td>0.573257</td>\n",
       "      <td>0.8</td>\n",
       "      <td>0.886887</td>\n",
       "      <td>0.187751</td>\n",
       "      <td>0.187751</td>\n",
       "      <td>NaN</td>\n",
       "    </tr>\n",
       "  </tbody>\n",
       "</table>\n",
       "<p>88126 rows × 16 columns</p>\n",
       "</div>"
      ],
      "text/plain": [
       "        acousticness  danceability  duration_ms  energy  instrumentalness  \\\n",
       "160541      0.131526      0.757085     0.047786   0.627          0.000000   \n",
       "45268       0.686747      0.515182     0.047436   0.803          0.000546   \n",
       "236479      0.105422      0.781377     0.042529   0.635          0.000000   \n",
       "218937      0.145582      0.816802     0.047762   0.552          0.000000   \n",
       "193090      0.159639      0.691296     0.045860   0.676          0.000000   \n",
       "...              ...           ...          ...     ...               ...   \n",
       "154441      0.036145      0.860324     0.034640   0.739          0.000000   \n",
       "155996      0.730924      0.428138     0.066158   0.360          0.000000   \n",
       "101624      0.200803      0.644737     0.061313   0.741          0.000000   \n",
       "114871      0.354418      0.828947     0.052913   0.679          0.000000   \n",
       "207130      0.187751      0.950405     0.070973   0.700          0.000000   \n",
       "\n",
       "             key  liveness  loudness  mode  speechiness     tempo  \\\n",
       "160541  0.636364  0.086061  0.875328   1.0     0.066149  0.525309   \n",
       "45268   0.000000  0.467677  0.863748   1.0     0.041408  0.720971   \n",
       "236479  0.818182  0.118182  0.894515   1.0     0.385093  0.416689   \n",
       "218937  0.727273  0.100909  0.827695   1.0     0.315735  0.521075   \n",
       "193090  0.090909  0.073333  0.864640   0.0     0.152174  0.429895   \n",
       "...          ...       ...       ...   ...          ...       ...   \n",
       "154441  0.636364  0.291919  0.789030   1.0     0.237060  0.486659   \n",
       "155996  0.272727  0.106061  0.819715   1.0     0.038509  0.567056   \n",
       "101624  0.818182  0.186869  0.902332   1.0     0.031056  0.390767   \n",
       "114871  1.000000  0.293939  0.827403   0.0     0.107660  0.607908   \n",
       "207130  0.818182  0.094949  0.867268   0.0     0.053727  0.573257   \n",
       "\n",
       "        time_signature   valence  acousticness  acousticness  AC Cluster 4  \n",
       "160541             0.8  0.524525      0.131526      0.131526           NaN  \n",
       "45268              0.8  0.651652      0.686747      0.686747           NaN  \n",
       "236479             0.8  0.541542      0.105422      0.105422           NaN  \n",
       "218937             0.8  0.287287      0.145582      0.145582           NaN  \n",
       "193090             0.8  0.434434      0.159639      0.159639           NaN  \n",
       "...                ...       ...           ...           ...           ...  \n",
       "154441             0.8  0.602603      0.036145      0.036145           NaN  \n",
       "155996             0.8  0.291291      0.730924      0.730924           NaN  \n",
       "101624             0.8  0.419419      0.200803      0.200803           NaN  \n",
       "114871             0.8  0.551552      0.354418      0.354418           NaN  \n",
       "207130             0.8  0.886887      0.187751      0.187751           NaN  \n",
       "\n",
       "[88126 rows x 16 columns]"
      ]
     },
     "execution_count": 109,
     "metadata": {},
     "output_type": "execute_result"
    }
   ],
   "source": [
    "scaled_df = music_features[feature_list].copy()\n",
    "scaler = MinMaxScaler() \n",
    "scaled_values = scaler.fit_transform(scaled_df) \n",
    "scaled_df.loc[:,:] = scaled_values\n",
    "scaled_df['AC Cluster 4'] = music_features['AC Cluster 4']\n",
    "#scaled_df['AC Cluster 6'] = music_features['AC Cluster 6']\n",
    "scaled_df"
   ]
  },
  {
   "cell_type": "code",
   "execution_count": 111,
   "metadata": {},
   "outputs": [
    {
     "data": {
      "application/vnd.plotly.v1+json": {
       "config": {
        "plotlyServerURL": "https://plot.ly"
       },
       "data": [
        {
         "fill": "toself",
         "name": "Cluster 0",
         "r": [
          [
           0.2709356169651175,
           0.2709356169651175,
           0.2709356169651175
          ],
          0.6554757408832866,
          0.05582739229444471,
          0.6481163185557592,
          0.01601407451578011,
          0.47841532325079017,
          0.18079538529721312,
          0.8631190995586138,
          0.5946069469835467,
          0.11669477026960523,
          0.5234081430439061,
          0.7915904936015116,
          0.5040954574318381,
          [
           0.2709356169651175,
           0.2709356169651175,
           0.2709356169651175
          ],
          [
           0.2709356169651175,
           0.2709356169651175,
           0.2709356169651175
          ],
          [
           0.2709356169651175,
           0.2709356169651175,
           0.2709356169651175
          ],
          [
           0.2709356169651175,
           0.2709356169651175,
           0.2709356169651175
          ]
         ],
         "theta": [
          "acousticness",
          "danceability",
          "duration_ms",
          "energy",
          "instrumentalness",
          "key",
          "liveness",
          "loudness",
          "mode",
          "speechiness",
          "tempo",
          "time_signature",
          "valence",
          "acousticness",
          "acousticness",
          "acousticness"
         ],
         "type": "scatterpolar"
        },
        {
         "fill": "toself",
         "name": "Cluster 1",
         "r": [
          [
           0.10147339357429719,
           0.10147339357429719,
           0.10147339357429719
          ],
          0.65334008097166,
          0.05313226701954455,
          0.62825,
          0.19796403242147922,
          0.2954545454545454,
          0.18934343434343434,
          0.8595640468390151,
          0.5,
          0.07474120082815734,
          0.4755558691970295,
          0.8,
          0.6594094094094094,
          [
           0.10147339357429719,
           0.10147339357429719,
           0.10147339357429719
          ],
          [
           0.10147339357429719,
           0.10147339357429719,
           0.10147339357429719
          ],
          [
           0.10147339357429719,
           0.10147339357429719,
           0.10147339357429719
          ],
          [
           0.10147339357429719,
           0.10147339357429719,
           0.10147339357429719
          ]
         ],
         "theta": [
          "acousticness",
          "danceability",
          "duration_ms",
          "energy",
          "instrumentalness",
          "key",
          "liveness",
          "loudness",
          "mode",
          "speechiness",
          "tempo",
          "time_signature",
          "valence",
          "acousticness",
          "acousticness",
          "acousticness"
         ],
         "type": "scatterpolar"
        },
        {
         "fill": "toself",
         "name": "Cluster 2",
         "r": [
          [
           null,
           null,
           null
          ],
          null,
          null,
          null,
          null,
          null,
          null,
          null,
          null,
          null,
          null,
          null,
          null,
          [
           null,
           null,
           null
          ],
          [
           null,
           null,
           null
          ],
          [
           null,
           null,
           null
          ],
          [
           null,
           null,
           null
          ]
         ],
         "theta": [
          "acousticness",
          "danceability",
          "duration_ms",
          "energy",
          "instrumentalness",
          "key",
          "liveness",
          "loudness",
          "mode",
          "speechiness",
          "tempo",
          "time_signature",
          "valence",
          "acousticness",
          "acousticness",
          "acousticness"
         ],
         "type": "scatterpolar"
        },
        {
         "fill": "toself",
         "name": "Cluster 3",
         "r": [
          [
           null,
           null,
           null
          ],
          null,
          null,
          null,
          null,
          null,
          null,
          null,
          null,
          null,
          null,
          null,
          null,
          [
           null,
           null,
           null
          ],
          [
           null,
           null,
           null
          ],
          [
           null,
           null,
           null
          ],
          [
           null,
           null,
           null
          ]
         ],
         "theta": [
          "acousticness",
          "danceability",
          "duration_ms",
          "energy",
          "instrumentalness",
          "key",
          "liveness",
          "loudness",
          "mode",
          "speechiness",
          "tempo",
          "time_signature",
          "valence",
          "acousticness",
          "acousticness",
          "acousticness"
         ],
         "type": "scatterpolar"
        }
       ],
       "layout": {
        "polar": {
         "radialaxis": {
          "range": [
           0,
           1
          ],
          "visible": true
         }
        },
        "showlegend": true,
        "template": {
         "data": {
          "bar": [
           {
            "error_x": {
             "color": "#f2f5fa"
            },
            "error_y": {
             "color": "#f2f5fa"
            },
            "marker": {
             "line": {
              "color": "rgb(17,17,17)",
              "width": 0.5
             }
            },
            "type": "bar"
           }
          ],
          "barpolar": [
           {
            "marker": {
             "line": {
              "color": "rgb(17,17,17)",
              "width": 0.5
             }
            },
            "type": "barpolar"
           }
          ],
          "carpet": [
           {
            "aaxis": {
             "endlinecolor": "#A2B1C6",
             "gridcolor": "#506784",
             "linecolor": "#506784",
             "minorgridcolor": "#506784",
             "startlinecolor": "#A2B1C6"
            },
            "baxis": {
             "endlinecolor": "#A2B1C6",
             "gridcolor": "#506784",
             "linecolor": "#506784",
             "minorgridcolor": "#506784",
             "startlinecolor": "#A2B1C6"
            },
            "type": "carpet"
           }
          ],
          "choropleth": [
           {
            "colorbar": {
             "outlinewidth": 0,
             "ticks": ""
            },
            "type": "choropleth"
           }
          ],
          "contour": [
           {
            "colorbar": {
             "outlinewidth": 0,
             "ticks": ""
            },
            "colorscale": [
             [
              0,
              "#0d0887"
             ],
             [
              0.1111111111111111,
              "#46039f"
             ],
             [
              0.2222222222222222,
              "#7201a8"
             ],
             [
              0.3333333333333333,
              "#9c179e"
             ],
             [
              0.4444444444444444,
              "#bd3786"
             ],
             [
              0.5555555555555556,
              "#d8576b"
             ],
             [
              0.6666666666666666,
              "#ed7953"
             ],
             [
              0.7777777777777778,
              "#fb9f3a"
             ],
             [
              0.8888888888888888,
              "#fdca26"
             ],
             [
              1,
              "#f0f921"
             ]
            ],
            "type": "contour"
           }
          ],
          "contourcarpet": [
           {
            "colorbar": {
             "outlinewidth": 0,
             "ticks": ""
            },
            "type": "contourcarpet"
           }
          ],
          "heatmap": [
           {
            "colorbar": {
             "outlinewidth": 0,
             "ticks": ""
            },
            "colorscale": [
             [
              0,
              "#0d0887"
             ],
             [
              0.1111111111111111,
              "#46039f"
             ],
             [
              0.2222222222222222,
              "#7201a8"
             ],
             [
              0.3333333333333333,
              "#9c179e"
             ],
             [
              0.4444444444444444,
              "#bd3786"
             ],
             [
              0.5555555555555556,
              "#d8576b"
             ],
             [
              0.6666666666666666,
              "#ed7953"
             ],
             [
              0.7777777777777778,
              "#fb9f3a"
             ],
             [
              0.8888888888888888,
              "#fdca26"
             ],
             [
              1,
              "#f0f921"
             ]
            ],
            "type": "heatmap"
           }
          ],
          "heatmapgl": [
           {
            "colorbar": {
             "outlinewidth": 0,
             "ticks": ""
            },
            "colorscale": [
             [
              0,
              "#0d0887"
             ],
             [
              0.1111111111111111,
              "#46039f"
             ],
             [
              0.2222222222222222,
              "#7201a8"
             ],
             [
              0.3333333333333333,
              "#9c179e"
             ],
             [
              0.4444444444444444,
              "#bd3786"
             ],
             [
              0.5555555555555556,
              "#d8576b"
             ],
             [
              0.6666666666666666,
              "#ed7953"
             ],
             [
              0.7777777777777778,
              "#fb9f3a"
             ],
             [
              0.8888888888888888,
              "#fdca26"
             ],
             [
              1,
              "#f0f921"
             ]
            ],
            "type": "heatmapgl"
           }
          ],
          "histogram": [
           {
            "marker": {
             "colorbar": {
              "outlinewidth": 0,
              "ticks": ""
             }
            },
            "type": "histogram"
           }
          ],
          "histogram2d": [
           {
            "colorbar": {
             "outlinewidth": 0,
             "ticks": ""
            },
            "colorscale": [
             [
              0,
              "#0d0887"
             ],
             [
              0.1111111111111111,
              "#46039f"
             ],
             [
              0.2222222222222222,
              "#7201a8"
             ],
             [
              0.3333333333333333,
              "#9c179e"
             ],
             [
              0.4444444444444444,
              "#bd3786"
             ],
             [
              0.5555555555555556,
              "#d8576b"
             ],
             [
              0.6666666666666666,
              "#ed7953"
             ],
             [
              0.7777777777777778,
              "#fb9f3a"
             ],
             [
              0.8888888888888888,
              "#fdca26"
             ],
             [
              1,
              "#f0f921"
             ]
            ],
            "type": "histogram2d"
           }
          ],
          "histogram2dcontour": [
           {
            "colorbar": {
             "outlinewidth": 0,
             "ticks": ""
            },
            "colorscale": [
             [
              0,
              "#0d0887"
             ],
             [
              0.1111111111111111,
              "#46039f"
             ],
             [
              0.2222222222222222,
              "#7201a8"
             ],
             [
              0.3333333333333333,
              "#9c179e"
             ],
             [
              0.4444444444444444,
              "#bd3786"
             ],
             [
              0.5555555555555556,
              "#d8576b"
             ],
             [
              0.6666666666666666,
              "#ed7953"
             ],
             [
              0.7777777777777778,
              "#fb9f3a"
             ],
             [
              0.8888888888888888,
              "#fdca26"
             ],
             [
              1,
              "#f0f921"
             ]
            ],
            "type": "histogram2dcontour"
           }
          ],
          "mesh3d": [
           {
            "colorbar": {
             "outlinewidth": 0,
             "ticks": ""
            },
            "type": "mesh3d"
           }
          ],
          "parcoords": [
           {
            "line": {
             "colorbar": {
              "outlinewidth": 0,
              "ticks": ""
             }
            },
            "type": "parcoords"
           }
          ],
          "pie": [
           {
            "automargin": true,
            "type": "pie"
           }
          ],
          "scatter": [
           {
            "marker": {
             "line": {
              "color": "#283442"
             }
            },
            "type": "scatter"
           }
          ],
          "scatter3d": [
           {
            "line": {
             "colorbar": {
              "outlinewidth": 0,
              "ticks": ""
             }
            },
            "marker": {
             "colorbar": {
              "outlinewidth": 0,
              "ticks": ""
             }
            },
            "type": "scatter3d"
           }
          ],
          "scattercarpet": [
           {
            "marker": {
             "colorbar": {
              "outlinewidth": 0,
              "ticks": ""
             }
            },
            "type": "scattercarpet"
           }
          ],
          "scattergeo": [
           {
            "marker": {
             "colorbar": {
              "outlinewidth": 0,
              "ticks": ""
             }
            },
            "type": "scattergeo"
           }
          ],
          "scattergl": [
           {
            "marker": {
             "line": {
              "color": "#283442"
             }
            },
            "type": "scattergl"
           }
          ],
          "scattermapbox": [
           {
            "marker": {
             "colorbar": {
              "outlinewidth": 0,
              "ticks": ""
             }
            },
            "type": "scattermapbox"
           }
          ],
          "scatterpolar": [
           {
            "marker": {
             "colorbar": {
              "outlinewidth": 0,
              "ticks": ""
             }
            },
            "type": "scatterpolar"
           }
          ],
          "scatterpolargl": [
           {
            "marker": {
             "colorbar": {
              "outlinewidth": 0,
              "ticks": ""
             }
            },
            "type": "scatterpolargl"
           }
          ],
          "scatterternary": [
           {
            "marker": {
             "colorbar": {
              "outlinewidth": 0,
              "ticks": ""
             }
            },
            "type": "scatterternary"
           }
          ],
          "surface": [
           {
            "colorbar": {
             "outlinewidth": 0,
             "ticks": ""
            },
            "colorscale": [
             [
              0,
              "#0d0887"
             ],
             [
              0.1111111111111111,
              "#46039f"
             ],
             [
              0.2222222222222222,
              "#7201a8"
             ],
             [
              0.3333333333333333,
              "#9c179e"
             ],
             [
              0.4444444444444444,
              "#bd3786"
             ],
             [
              0.5555555555555556,
              "#d8576b"
             ],
             [
              0.6666666666666666,
              "#ed7953"
             ],
             [
              0.7777777777777778,
              "#fb9f3a"
             ],
             [
              0.8888888888888888,
              "#fdca26"
             ],
             [
              1,
              "#f0f921"
             ]
            ],
            "type": "surface"
           }
          ],
          "table": [
           {
            "cells": {
             "fill": {
              "color": "#506784"
             },
             "line": {
              "color": "rgb(17,17,17)"
             }
            },
            "header": {
             "fill": {
              "color": "#2a3f5f"
             },
             "line": {
              "color": "rgb(17,17,17)"
             }
            },
            "type": "table"
           }
          ]
         },
         "layout": {
          "annotationdefaults": {
           "arrowcolor": "#f2f5fa",
           "arrowhead": 0,
           "arrowwidth": 1
          },
          "autotypenumbers": "strict",
          "coloraxis": {
           "colorbar": {
            "outlinewidth": 0,
            "ticks": ""
           }
          },
          "colorscale": {
           "diverging": [
            [
             0,
             "#8e0152"
            ],
            [
             0.1,
             "#c51b7d"
            ],
            [
             0.2,
             "#de77ae"
            ],
            [
             0.3,
             "#f1b6da"
            ],
            [
             0.4,
             "#fde0ef"
            ],
            [
             0.5,
             "#f7f7f7"
            ],
            [
             0.6,
             "#e6f5d0"
            ],
            [
             0.7,
             "#b8e186"
            ],
            [
             0.8,
             "#7fbc41"
            ],
            [
             0.9,
             "#4d9221"
            ],
            [
             1,
             "#276419"
            ]
           ],
           "sequential": [
            [
             0,
             "#0d0887"
            ],
            [
             0.1111111111111111,
             "#46039f"
            ],
            [
             0.2222222222222222,
             "#7201a8"
            ],
            [
             0.3333333333333333,
             "#9c179e"
            ],
            [
             0.4444444444444444,
             "#bd3786"
            ],
            [
             0.5555555555555556,
             "#d8576b"
            ],
            [
             0.6666666666666666,
             "#ed7953"
            ],
            [
             0.7777777777777778,
             "#fb9f3a"
            ],
            [
             0.8888888888888888,
             "#fdca26"
            ],
            [
             1,
             "#f0f921"
            ]
           ],
           "sequentialminus": [
            [
             0,
             "#0d0887"
            ],
            [
             0.1111111111111111,
             "#46039f"
            ],
            [
             0.2222222222222222,
             "#7201a8"
            ],
            [
             0.3333333333333333,
             "#9c179e"
            ],
            [
             0.4444444444444444,
             "#bd3786"
            ],
            [
             0.5555555555555556,
             "#d8576b"
            ],
            [
             0.6666666666666666,
             "#ed7953"
            ],
            [
             0.7777777777777778,
             "#fb9f3a"
            ],
            [
             0.8888888888888888,
             "#fdca26"
            ],
            [
             1,
             "#f0f921"
            ]
           ]
          },
          "colorway": [
           "#636efa",
           "#EF553B",
           "#00cc96",
           "#ab63fa",
           "#FFA15A",
           "#19d3f3",
           "#FF6692",
           "#B6E880",
           "#FF97FF",
           "#FECB52"
          ],
          "font": {
           "color": "#f2f5fa"
          },
          "geo": {
           "bgcolor": "rgb(17,17,17)",
           "lakecolor": "rgb(17,17,17)",
           "landcolor": "rgb(17,17,17)",
           "showlakes": true,
           "showland": true,
           "subunitcolor": "#506784"
          },
          "hoverlabel": {
           "align": "left"
          },
          "hovermode": "closest",
          "mapbox": {
           "style": "dark"
          },
          "paper_bgcolor": "rgb(17,17,17)",
          "plot_bgcolor": "rgb(17,17,17)",
          "polar": {
           "angularaxis": {
            "gridcolor": "#506784",
            "linecolor": "#506784",
            "ticks": ""
           },
           "bgcolor": "rgb(17,17,17)",
           "radialaxis": {
            "gridcolor": "#506784",
            "linecolor": "#506784",
            "ticks": ""
           }
          },
          "scene": {
           "xaxis": {
            "backgroundcolor": "rgb(17,17,17)",
            "gridcolor": "#506784",
            "gridwidth": 2,
            "linecolor": "#506784",
            "showbackground": true,
            "ticks": "",
            "zerolinecolor": "#C8D4E3"
           },
           "yaxis": {
            "backgroundcolor": "rgb(17,17,17)",
            "gridcolor": "#506784",
            "gridwidth": 2,
            "linecolor": "#506784",
            "showbackground": true,
            "ticks": "",
            "zerolinecolor": "#C8D4E3"
           },
           "zaxis": {
            "backgroundcolor": "rgb(17,17,17)",
            "gridcolor": "#506784",
            "gridwidth": 2,
            "linecolor": "#506784",
            "showbackground": true,
            "ticks": "",
            "zerolinecolor": "#C8D4E3"
           }
          },
          "shapedefaults": {
           "line": {
            "color": "#f2f5fa"
           }
          },
          "sliderdefaults": {
           "bgcolor": "#C8D4E3",
           "bordercolor": "rgb(17,17,17)",
           "borderwidth": 1,
           "tickwidth": 0
          },
          "ternary": {
           "aaxis": {
            "gridcolor": "#506784",
            "linecolor": "#506784",
            "ticks": ""
           },
           "baxis": {
            "gridcolor": "#506784",
            "linecolor": "#506784",
            "ticks": ""
           },
           "bgcolor": "rgb(17,17,17)",
           "caxis": {
            "gridcolor": "#506784",
            "linecolor": "#506784",
            "ticks": ""
           }
          },
          "title": {
           "x": 0.05
          },
          "updatemenudefaults": {
           "bgcolor": "#506784",
           "borderwidth": 0
          },
          "xaxis": {
           "automargin": true,
           "gridcolor": "#283442",
           "linecolor": "#506784",
           "ticks": "",
           "title": {
            "standoff": 15
           },
           "zerolinecolor": "#283442",
           "zerolinewidth": 2
          },
          "yaxis": {
           "automargin": true,
           "gridcolor": "#283442",
           "linecolor": "#506784",
           "ticks": "",
           "title": {
            "standoff": 15
           },
           "zerolinecolor": "#283442",
           "zerolinewidth": 2
          }
         }
        }
       }
      },
      "text/html": [
       "<div>                            <div id=\"1d8d9f39-f636-44d2-abc7-1e21960510c0\" class=\"plotly-graph-div\" style=\"height:525px; width:100%;\"></div>            <script type=\"text/javascript\">                require([\"plotly\"], function(Plotly) {                    window.PLOTLYENV=window.PLOTLYENV || {};                                    if (document.getElementById(\"1d8d9f39-f636-44d2-abc7-1e21960510c0\")) {                    Plotly.newPlot(                        \"1d8d9f39-f636-44d2-abc7-1e21960510c0\",                        [{\"fill\": \"toself\", \"name\": \"Cluster 0\", \"r\": [[0.2709356169651175, 0.2709356169651175, 0.2709356169651175], 0.6554757408832866, 0.05582739229444471, 0.6481163185557592, 0.01601407451578011, 0.47841532325079017, 0.18079538529721312, 0.8631190995586138, 0.5946069469835467, 0.11669477026960523, 0.5234081430439061, 0.7915904936015116, 0.5040954574318381, [0.2709356169651175, 0.2709356169651175, 0.2709356169651175], [0.2709356169651175, 0.2709356169651175, 0.2709356169651175], [0.2709356169651175, 0.2709356169651175, 0.2709356169651175], [0.2709356169651175, 0.2709356169651175, 0.2709356169651175]], \"theta\": [\"acousticness\", \"danceability\", \"duration_ms\", \"energy\", \"instrumentalness\", \"key\", \"liveness\", \"loudness\", \"mode\", \"speechiness\", \"tempo\", \"time_signature\", \"valence\", \"acousticness\", \"acousticness\", \"acousticness\"], \"type\": \"scatterpolar\"}, {\"fill\": \"toself\", \"name\": \"Cluster 1\", \"r\": [[0.10147339357429719, 0.10147339357429719, 0.10147339357429719], 0.65334008097166, 0.05313226701954455, 0.62825, 0.19796403242147922, 0.2954545454545454, 0.18934343434343434, 0.8595640468390151, 0.5, 0.07474120082815734, 0.4755558691970295, 0.8, 0.6594094094094094, [0.10147339357429719, 0.10147339357429719, 0.10147339357429719], [0.10147339357429719, 0.10147339357429719, 0.10147339357429719], [0.10147339357429719, 0.10147339357429719, 0.10147339357429719], [0.10147339357429719, 0.10147339357429719, 0.10147339357429719]], \"theta\": [\"acousticness\", \"danceability\", \"duration_ms\", \"energy\", \"instrumentalness\", \"key\", \"liveness\", \"loudness\", \"mode\", \"speechiness\", \"tempo\", \"time_signature\", \"valence\", \"acousticness\", \"acousticness\", \"acousticness\"], \"type\": \"scatterpolar\"}, {\"fill\": \"toself\", \"name\": \"Cluster 2\", \"r\": [[null, null, null], null, null, null, null, null, null, null, null, null, null, null, null, [null, null, null], [null, null, null], [null, null, null], [null, null, null]], \"theta\": [\"acousticness\", \"danceability\", \"duration_ms\", \"energy\", \"instrumentalness\", \"key\", \"liveness\", \"loudness\", \"mode\", \"speechiness\", \"tempo\", \"time_signature\", \"valence\", \"acousticness\", \"acousticness\", \"acousticness\"], \"type\": \"scatterpolar\"}, {\"fill\": \"toself\", \"name\": \"Cluster 3\", \"r\": [[null, null, null], null, null, null, null, null, null, null, null, null, null, null, null, [null, null, null], [null, null, null], [null, null, null], [null, null, null]], \"theta\": [\"acousticness\", \"danceability\", \"duration_ms\", \"energy\", \"instrumentalness\", \"key\", \"liveness\", \"loudness\", \"mode\", \"speechiness\", \"tempo\", \"time_signature\", \"valence\", \"acousticness\", \"acousticness\", \"acousticness\"], \"type\": \"scatterpolar\"}],                        {\"polar\": {\"radialaxis\": {\"range\": [0, 1], \"visible\": true}}, \"showlegend\": true, \"template\": {\"data\": {\"bar\": [{\"error_x\": {\"color\": \"#f2f5fa\"}, \"error_y\": {\"color\": \"#f2f5fa\"}, \"marker\": {\"line\": {\"color\": \"rgb(17,17,17)\", \"width\": 0.5}}, \"type\": \"bar\"}], \"barpolar\": [{\"marker\": {\"line\": {\"color\": \"rgb(17,17,17)\", \"width\": 0.5}}, \"type\": \"barpolar\"}], \"carpet\": [{\"aaxis\": {\"endlinecolor\": \"#A2B1C6\", \"gridcolor\": \"#506784\", \"linecolor\": \"#506784\", \"minorgridcolor\": \"#506784\", \"startlinecolor\": \"#A2B1C6\"}, \"baxis\": {\"endlinecolor\": \"#A2B1C6\", \"gridcolor\": \"#506784\", \"linecolor\": \"#506784\", \"minorgridcolor\": \"#506784\", \"startlinecolor\": \"#A2B1C6\"}, \"type\": \"carpet\"}], \"choropleth\": [{\"colorbar\": {\"outlinewidth\": 0, \"ticks\": \"\"}, \"type\": \"choropleth\"}], \"contour\": [{\"colorbar\": {\"outlinewidth\": 0, \"ticks\": \"\"}, \"colorscale\": [[0.0, \"#0d0887\"], [0.1111111111111111, \"#46039f\"], [0.2222222222222222, \"#7201a8\"], [0.3333333333333333, \"#9c179e\"], [0.4444444444444444, \"#bd3786\"], [0.5555555555555556, \"#d8576b\"], [0.6666666666666666, \"#ed7953\"], [0.7777777777777778, \"#fb9f3a\"], [0.8888888888888888, \"#fdca26\"], [1.0, \"#f0f921\"]], \"type\": \"contour\"}], \"contourcarpet\": [{\"colorbar\": {\"outlinewidth\": 0, \"ticks\": \"\"}, \"type\": \"contourcarpet\"}], \"heatmap\": [{\"colorbar\": {\"outlinewidth\": 0, \"ticks\": \"\"}, \"colorscale\": [[0.0, \"#0d0887\"], [0.1111111111111111, \"#46039f\"], [0.2222222222222222, \"#7201a8\"], [0.3333333333333333, \"#9c179e\"], [0.4444444444444444, \"#bd3786\"], [0.5555555555555556, \"#d8576b\"], [0.6666666666666666, \"#ed7953\"], [0.7777777777777778, \"#fb9f3a\"], [0.8888888888888888, \"#fdca26\"], [1.0, \"#f0f921\"]], \"type\": \"heatmap\"}], \"heatmapgl\": [{\"colorbar\": {\"outlinewidth\": 0, \"ticks\": \"\"}, \"colorscale\": [[0.0, \"#0d0887\"], [0.1111111111111111, \"#46039f\"], [0.2222222222222222, \"#7201a8\"], [0.3333333333333333, \"#9c179e\"], [0.4444444444444444, \"#bd3786\"], [0.5555555555555556, \"#d8576b\"], [0.6666666666666666, \"#ed7953\"], [0.7777777777777778, \"#fb9f3a\"], [0.8888888888888888, \"#fdca26\"], [1.0, \"#f0f921\"]], \"type\": \"heatmapgl\"}], \"histogram\": [{\"marker\": {\"colorbar\": {\"outlinewidth\": 0, \"ticks\": \"\"}}, \"type\": \"histogram\"}], \"histogram2d\": [{\"colorbar\": {\"outlinewidth\": 0, \"ticks\": \"\"}, \"colorscale\": [[0.0, \"#0d0887\"], [0.1111111111111111, \"#46039f\"], [0.2222222222222222, \"#7201a8\"], [0.3333333333333333, \"#9c179e\"], [0.4444444444444444, \"#bd3786\"], [0.5555555555555556, \"#d8576b\"], [0.6666666666666666, \"#ed7953\"], [0.7777777777777778, \"#fb9f3a\"], [0.8888888888888888, \"#fdca26\"], [1.0, \"#f0f921\"]], \"type\": \"histogram2d\"}], \"histogram2dcontour\": [{\"colorbar\": {\"outlinewidth\": 0, \"ticks\": \"\"}, \"colorscale\": [[0.0, \"#0d0887\"], [0.1111111111111111, \"#46039f\"], [0.2222222222222222, \"#7201a8\"], [0.3333333333333333, \"#9c179e\"], [0.4444444444444444, \"#bd3786\"], [0.5555555555555556, \"#d8576b\"], [0.6666666666666666, \"#ed7953\"], [0.7777777777777778, \"#fb9f3a\"], [0.8888888888888888, \"#fdca26\"], [1.0, \"#f0f921\"]], \"type\": \"histogram2dcontour\"}], \"mesh3d\": [{\"colorbar\": {\"outlinewidth\": 0, \"ticks\": \"\"}, \"type\": \"mesh3d\"}], \"parcoords\": [{\"line\": {\"colorbar\": {\"outlinewidth\": 0, \"ticks\": \"\"}}, \"type\": \"parcoords\"}], \"pie\": [{\"automargin\": true, \"type\": \"pie\"}], \"scatter\": [{\"marker\": {\"line\": {\"color\": \"#283442\"}}, \"type\": \"scatter\"}], \"scatter3d\": [{\"line\": {\"colorbar\": {\"outlinewidth\": 0, \"ticks\": \"\"}}, \"marker\": {\"colorbar\": {\"outlinewidth\": 0, \"ticks\": \"\"}}, \"type\": \"scatter3d\"}], \"scattercarpet\": [{\"marker\": {\"colorbar\": {\"outlinewidth\": 0, \"ticks\": \"\"}}, \"type\": \"scattercarpet\"}], \"scattergeo\": [{\"marker\": {\"colorbar\": {\"outlinewidth\": 0, \"ticks\": \"\"}}, \"type\": \"scattergeo\"}], \"scattergl\": [{\"marker\": {\"line\": {\"color\": \"#283442\"}}, \"type\": \"scattergl\"}], \"scattermapbox\": [{\"marker\": {\"colorbar\": {\"outlinewidth\": 0, \"ticks\": \"\"}}, \"type\": \"scattermapbox\"}], \"scatterpolar\": [{\"marker\": {\"colorbar\": {\"outlinewidth\": 0, \"ticks\": \"\"}}, \"type\": \"scatterpolar\"}], \"scatterpolargl\": [{\"marker\": {\"colorbar\": {\"outlinewidth\": 0, \"ticks\": \"\"}}, \"type\": \"scatterpolargl\"}], \"scatterternary\": [{\"marker\": {\"colorbar\": {\"outlinewidth\": 0, \"ticks\": \"\"}}, \"type\": \"scatterternary\"}], \"surface\": [{\"colorbar\": {\"outlinewidth\": 0, \"ticks\": \"\"}, \"colorscale\": [[0.0, \"#0d0887\"], [0.1111111111111111, \"#46039f\"], [0.2222222222222222, \"#7201a8\"], [0.3333333333333333, \"#9c179e\"], [0.4444444444444444, \"#bd3786\"], [0.5555555555555556, \"#d8576b\"], [0.6666666666666666, \"#ed7953\"], [0.7777777777777778, \"#fb9f3a\"], [0.8888888888888888, \"#fdca26\"], [1.0, \"#f0f921\"]], \"type\": \"surface\"}], \"table\": [{\"cells\": {\"fill\": {\"color\": \"#506784\"}, \"line\": {\"color\": \"rgb(17,17,17)\"}}, \"header\": {\"fill\": {\"color\": \"#2a3f5f\"}, \"line\": {\"color\": \"rgb(17,17,17)\"}}, \"type\": \"table\"}]}, \"layout\": {\"annotationdefaults\": {\"arrowcolor\": \"#f2f5fa\", \"arrowhead\": 0, \"arrowwidth\": 1}, \"autotypenumbers\": \"strict\", \"coloraxis\": {\"colorbar\": {\"outlinewidth\": 0, \"ticks\": \"\"}}, \"colorscale\": {\"diverging\": [[0, \"#8e0152\"], [0.1, \"#c51b7d\"], [0.2, \"#de77ae\"], [0.3, \"#f1b6da\"], [0.4, \"#fde0ef\"], [0.5, \"#f7f7f7\"], [0.6, \"#e6f5d0\"], [0.7, \"#b8e186\"], [0.8, \"#7fbc41\"], [0.9, \"#4d9221\"], [1, \"#276419\"]], \"sequential\": [[0.0, \"#0d0887\"], [0.1111111111111111, \"#46039f\"], [0.2222222222222222, \"#7201a8\"], [0.3333333333333333, \"#9c179e\"], [0.4444444444444444, \"#bd3786\"], [0.5555555555555556, \"#d8576b\"], [0.6666666666666666, \"#ed7953\"], [0.7777777777777778, \"#fb9f3a\"], [0.8888888888888888, \"#fdca26\"], [1.0, \"#f0f921\"]], \"sequentialminus\": [[0.0, \"#0d0887\"], [0.1111111111111111, \"#46039f\"], [0.2222222222222222, \"#7201a8\"], [0.3333333333333333, \"#9c179e\"], [0.4444444444444444, \"#bd3786\"], [0.5555555555555556, \"#d8576b\"], [0.6666666666666666, \"#ed7953\"], [0.7777777777777778, \"#fb9f3a\"], [0.8888888888888888, \"#fdca26\"], [1.0, \"#f0f921\"]]}, \"colorway\": [\"#636efa\", \"#EF553B\", \"#00cc96\", \"#ab63fa\", \"#FFA15A\", \"#19d3f3\", \"#FF6692\", \"#B6E880\", \"#FF97FF\", \"#FECB52\"], \"font\": {\"color\": \"#f2f5fa\"}, \"geo\": {\"bgcolor\": \"rgb(17,17,17)\", \"lakecolor\": \"rgb(17,17,17)\", \"landcolor\": \"rgb(17,17,17)\", \"showlakes\": true, \"showland\": true, \"subunitcolor\": \"#506784\"}, \"hoverlabel\": {\"align\": \"left\"}, \"hovermode\": \"closest\", \"mapbox\": {\"style\": \"dark\"}, \"paper_bgcolor\": \"rgb(17,17,17)\", \"plot_bgcolor\": \"rgb(17,17,17)\", \"polar\": {\"angularaxis\": {\"gridcolor\": \"#506784\", \"linecolor\": \"#506784\", \"ticks\": \"\"}, \"bgcolor\": \"rgb(17,17,17)\", \"radialaxis\": {\"gridcolor\": \"#506784\", \"linecolor\": \"#506784\", \"ticks\": \"\"}}, \"scene\": {\"xaxis\": {\"backgroundcolor\": \"rgb(17,17,17)\", \"gridcolor\": \"#506784\", \"gridwidth\": 2, \"linecolor\": \"#506784\", \"showbackground\": true, \"ticks\": \"\", \"zerolinecolor\": \"#C8D4E3\"}, \"yaxis\": {\"backgroundcolor\": \"rgb(17,17,17)\", \"gridcolor\": \"#506784\", \"gridwidth\": 2, \"linecolor\": \"#506784\", \"showbackground\": true, \"ticks\": \"\", \"zerolinecolor\": \"#C8D4E3\"}, \"zaxis\": {\"backgroundcolor\": \"rgb(17,17,17)\", \"gridcolor\": \"#506784\", \"gridwidth\": 2, \"linecolor\": \"#506784\", \"showbackground\": true, \"ticks\": \"\", \"zerolinecolor\": \"#C8D4E3\"}}, \"shapedefaults\": {\"line\": {\"color\": \"#f2f5fa\"}}, \"sliderdefaults\": {\"bgcolor\": \"#C8D4E3\", \"bordercolor\": \"rgb(17,17,17)\", \"borderwidth\": 1, \"tickwidth\": 0}, \"ternary\": {\"aaxis\": {\"gridcolor\": \"#506784\", \"linecolor\": \"#506784\", \"ticks\": \"\"}, \"baxis\": {\"gridcolor\": \"#506784\", \"linecolor\": \"#506784\", \"ticks\": \"\"}, \"bgcolor\": \"rgb(17,17,17)\", \"caxis\": {\"gridcolor\": \"#506784\", \"linecolor\": \"#506784\", \"ticks\": \"\"}}, \"title\": {\"x\": 0.05}, \"updatemenudefaults\": {\"bgcolor\": \"#506784\", \"borderwidth\": 0}, \"xaxis\": {\"automargin\": true, \"gridcolor\": \"#283442\", \"linecolor\": \"#506784\", \"ticks\": \"\", \"title\": {\"standoff\": 15}, \"zerolinecolor\": \"#283442\", \"zerolinewidth\": 2}, \"yaxis\": {\"automargin\": true, \"gridcolor\": \"#283442\", \"linecolor\": \"#506784\", \"ticks\": \"\", \"title\": {\"standoff\": 15}, \"zerolinecolor\": \"#283442\", \"zerolinewidth\": 2}}}},                        {\"responsive\": true}                    ).then(function(){\n",
       "                            \n",
       "var gd = document.getElementById('1d8d9f39-f636-44d2-abc7-1e21960510c0');\n",
       "var x = new MutationObserver(function (mutations, observer) {{\n",
       "        var display = window.getComputedStyle(gd).display;\n",
       "        if (!display || display === 'none') {{\n",
       "            console.log([gd, 'removed!']);\n",
       "            Plotly.purge(gd);\n",
       "            observer.disconnect();\n",
       "        }}\n",
       "}});\n",
       "\n",
       "// Listen for the removal of the full notebook cells\n",
       "var notebookContainer = gd.closest('#notebook-container');\n",
       "if (notebookContainer) {{\n",
       "    x.observe(notebookContainer, {childList: true});\n",
       "}}\n",
       "\n",
       "// Listen for the clearing of the current output cell\n",
       "var outputEl = gd.closest('.output');\n",
       "if (outputEl) {{\n",
       "    x.observe(outputEl, {childList: true});\n",
       "}}\n",
       "\n",
       "                        })                };                });            </script>        </div>"
      ]
     },
     "metadata": {},
     "output_type": "display_data"
    }
   ],
   "source": [
    "opt_clusters = 4\n",
    "\n",
    "\n",
    "fig = go.Figure()\n",
    "\n",
    "angles = feature_list\n",
    "angles.append(angles[0])\n",
    "layoutdict = dict(\n",
    "            radialaxis=dict(\n",
    "            visible=True,\n",
    "            range=[0, 1]\n",
    "            ))\n",
    "for i in range(opt_clusters):\n",
    "    subset = scaled_df[scaled_df['AC Cluster 4'] == i]\n",
    "    data = [np.mean(subset[col]) for col in feature_list]\n",
    "    data.append(data[0])\n",
    "    fig.add_trace(go.Scatterpolar(\n",
    "        r=data,\n",
    "        theta=angles,\n",
    "        fill='toself',\n",
    "        name=\"Cluster \" + str(i)))\n",
    "    \n",
    "fig.update_layout(\n",
    "        polar=layoutdict,\n",
    "        showlegend=True,template='plotly_dark'\n",
    "        )\n",
    "fig.show()"
   ]
  }
 ],
 "metadata": {
  "kernelspec": {
   "display_name": "Python 3",
   "language": "python",
   "name": "python3"
  },
  "language_info": {
   "codemirror_mode": {
    "name": "ipython",
    "version": 3
   },
   "file_extension": ".py",
   "mimetype": "text/x-python",
   "name": "python",
   "nbconvert_exporter": "python",
   "pygments_lexer": "ipython3",
   "version": "3.8.5"
  }
 },
 "nbformat": 4,
 "nbformat_minor": 4
}
