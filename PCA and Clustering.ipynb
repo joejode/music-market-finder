{
 "cells": [
  {
   "cell_type": "markdown",
   "metadata": {},
   "source": [
    "This notebook will apply the PCA method to the music features data and then conduct the following clustering methods: \n",
    "1. k-means\n",
    "2. hierarchical\n"
   ]
  },
  {
   "cell_type": "code",
   "execution_count": 174,
   "metadata": {},
   "outputs": [],
   "source": [
    "import pandas as pd \n",
    "import matplotlib\n",
    "import numpy as np\n",
    "import seaborn as sb\n",
    "import matplotlib.pyplot as plt\n",
    "import sklearn\n",
    "from sklearn.cluster import KMeans\n",
    "import scipy.cluster.hierarchy as sch\n",
    "import os"
   ]
  },
  {
   "cell_type": "code",
   "execution_count": 175,
   "metadata": {},
   "outputs": [],
   "source": [
    "#Read music feature data into python\n",
    "file_name = 'music_features.csv'\n",
    "music_features = pd.read_csv(file_name, index_col=0)"
   ]
  },
  {
   "cell_type": "code",
   "execution_count": 176,
   "metadata": {},
   "outputs": [
    {
     "data": {
      "text/html": [
       "<div>\n",
       "<style scoped>\n",
       "    .dataframe tbody tr th:only-of-type {\n",
       "        vertical-align: middle;\n",
       "    }\n",
       "\n",
       "    .dataframe tbody tr th {\n",
       "        vertical-align: top;\n",
       "    }\n",
       "\n",
       "    .dataframe thead th {\n",
       "        text-align: right;\n",
       "    }\n",
       "</style>\n",
       "<table border=\"1\" class=\"dataframe\">\n",
       "  <thead>\n",
       "    <tr style=\"text-align: right;\">\n",
       "      <th></th>\n",
       "      <th>acousticness</th>\n",
       "      <th>danceability</th>\n",
       "      <th>duration_ms</th>\n",
       "      <th>energy</th>\n",
       "      <th>id</th>\n",
       "      <th>instrumentalness</th>\n",
       "      <th>key</th>\n",
       "      <th>liveness</th>\n",
       "      <th>loudness</th>\n",
       "      <th>mode</th>\n",
       "      <th>speechiness</th>\n",
       "      <th>tempo</th>\n",
       "      <th>time_signature</th>\n",
       "      <th>type</th>\n",
       "      <th>valence</th>\n",
       "    </tr>\n",
       "  </thead>\n",
       "  <tbody>\n",
       "    <tr>\n",
       "      <th>160541</th>\n",
       "      <td>0.131</td>\n",
       "      <td>0.748</td>\n",
       "      <td>188491.0</td>\n",
       "      <td>0.627</td>\n",
       "      <td>000xQL6tZNLJzIrtIgxqSl</td>\n",
       "      <td>0.000000</td>\n",
       "      <td>7.0</td>\n",
       "      <td>0.0852</td>\n",
       "      <td>-6.029</td>\n",
       "      <td>1.0</td>\n",
       "      <td>0.0639</td>\n",
       "      <td>120.963</td>\n",
       "      <td>4.0</td>\n",
       "      <td>audio_features</td>\n",
       "      <td>0.524</td>\n",
       "    </tr>\n",
       "    <tr>\n",
       "      <th>45268</th>\n",
       "      <td>0.684</td>\n",
       "      <td>0.509</td>\n",
       "      <td>187119.0</td>\n",
       "      <td>0.803</td>\n",
       "      <td>000xYdQfIZ4pDmBGzQalKU</td>\n",
       "      <td>0.000539</td>\n",
       "      <td>0.0</td>\n",
       "      <td>0.4630</td>\n",
       "      <td>-6.743</td>\n",
       "      <td>1.0</td>\n",
       "      <td>0.0400</td>\n",
       "      <td>166.018</td>\n",
       "      <td>4.0</td>\n",
       "      <td>audio_features</td>\n",
       "      <td>0.651</td>\n",
       "    </tr>\n",
       "    <tr>\n",
       "      <th>236479</th>\n",
       "      <td>0.105</td>\n",
       "      <td>0.772</td>\n",
       "      <td>167866.0</td>\n",
       "      <td>0.635</td>\n",
       "      <td>001b8t3bYPfnabpjpfG1Y4</td>\n",
       "      <td>0.000000</td>\n",
       "      <td>9.0</td>\n",
       "      <td>0.1170</td>\n",
       "      <td>-4.846</td>\n",
       "      <td>1.0</td>\n",
       "      <td>0.3720</td>\n",
       "      <td>95.951</td>\n",
       "      <td>4.0</td>\n",
       "      <td>audio_features</td>\n",
       "      <td>0.541</td>\n",
       "    </tr>\n",
       "    <tr>\n",
       "      <th>218937</th>\n",
       "      <td>0.145</td>\n",
       "      <td>0.807</td>\n",
       "      <td>188395.0</td>\n",
       "      <td>0.552</td>\n",
       "      <td>001cKCt7jEOzXjqgkn9DQf</td>\n",
       "      <td>0.000000</td>\n",
       "      <td>8.0</td>\n",
       "      <td>0.0999</td>\n",
       "      <td>-8.966</td>\n",
       "      <td>1.0</td>\n",
       "      <td>0.3050</td>\n",
       "      <td>119.988</td>\n",
       "      <td>4.0</td>\n",
       "      <td>audio_features</td>\n",
       "      <td>0.287</td>\n",
       "    </tr>\n",
       "    <tr>\n",
       "      <th>193090</th>\n",
       "      <td>0.159</td>\n",
       "      <td>0.683</td>\n",
       "      <td>180933.0</td>\n",
       "      <td>0.676</td>\n",
       "      <td>003F0rm5lqxcmhvJPKgfaJ</td>\n",
       "      <td>0.000000</td>\n",
       "      <td>1.0</td>\n",
       "      <td>0.0726</td>\n",
       "      <td>-6.688</td>\n",
       "      <td>0.0</td>\n",
       "      <td>0.1470</td>\n",
       "      <td>98.992</td>\n",
       "      <td>4.0</td>\n",
       "      <td>audio_features</td>\n",
       "      <td>0.434</td>\n",
       "    </tr>\n",
       "  </tbody>\n",
       "</table>\n",
       "</div>"
      ],
      "text/plain": [
       "        acousticness  danceability  duration_ms  energy  \\\n",
       "160541         0.131         0.748     188491.0   0.627   \n",
       "45268          0.684         0.509     187119.0   0.803   \n",
       "236479         0.105         0.772     167866.0   0.635   \n",
       "218937         0.145         0.807     188395.0   0.552   \n",
       "193090         0.159         0.683     180933.0   0.676   \n",
       "\n",
       "                            id  instrumentalness  key  liveness  loudness  \\\n",
       "160541  000xQL6tZNLJzIrtIgxqSl          0.000000  7.0    0.0852    -6.029   \n",
       "45268   000xYdQfIZ4pDmBGzQalKU          0.000539  0.0    0.4630    -6.743   \n",
       "236479  001b8t3bYPfnabpjpfG1Y4          0.000000  9.0    0.1170    -4.846   \n",
       "218937  001cKCt7jEOzXjqgkn9DQf          0.000000  8.0    0.0999    -8.966   \n",
       "193090  003F0rm5lqxcmhvJPKgfaJ          0.000000  1.0    0.0726    -6.688   \n",
       "\n",
       "        mode  speechiness    tempo  time_signature            type  valence  \n",
       "160541   1.0       0.0639  120.963             4.0  audio_features    0.524  \n",
       "45268    1.0       0.0400  166.018             4.0  audio_features    0.651  \n",
       "236479   1.0       0.3720   95.951             4.0  audio_features    0.541  \n",
       "218937   1.0       0.3050  119.988             4.0  audio_features    0.287  \n",
       "193090   0.0       0.1470   98.992             4.0  audio_features    0.434  "
      ]
     },
     "execution_count": 176,
     "metadata": {},
     "output_type": "execute_result"
    }
   ],
   "source": [
    "music_features.head()"
   ]
  },
  {
   "cell_type": "code",
   "execution_count": 177,
   "metadata": {},
   "outputs": [],
   "source": [
    "music_features = music_features.drop(columns=['type'])"
   ]
  },
  {
   "cell_type": "code",
   "execution_count": 178,
   "metadata": {},
   "outputs": [
    {
     "data": {
      "text/plain": [
       "acousticness         3599\n",
       "danceability          889\n",
       "duration_ms         49403\n",
       "energy               1220\n",
       "id                  88126\n",
       "instrumentalness     5142\n",
       "key                    12\n",
       "liveness             1669\n",
       "loudness            13366\n",
       "mode                    2\n",
       "speechiness          1473\n",
       "tempo               37438\n",
       "time_signature          5\n",
       "valence              1470\n",
       "dtype: int64"
      ]
     },
     "execution_count": 178,
     "metadata": {},
     "output_type": "execute_result"
    }
   ],
   "source": [
    "music_features.nunique()"
   ]
  },
  {
   "cell_type": "code",
   "execution_count": 179,
   "metadata": {},
   "outputs": [],
   "source": [
    "features = list(music_features)"
   ]
  },
  {
   "cell_type": "code",
   "execution_count": 180,
   "metadata": {},
   "outputs": [],
   "source": [
    "features.remove('id')"
   ]
  },
  {
   "cell_type": "code",
   "execution_count": 181,
   "metadata": {},
   "outputs": [
    {
     "data": {
      "text/plain": [
       "Text(0.5, 1.0, 'Correlation between Music Features')"
      ]
     },
     "execution_count": 181,
     "metadata": {},
     "output_type": "execute_result"
    },
    {
     "data": {
      "image/png": "[encoded data removed]",
      "text/plain": [
       "<Figure size 720x576 with 2 Axes>"
      ]
     },
     "metadata": {
      "needs_background": "light"
     },
     "output_type": "display_data"
    }
   ],
   "source": [
    "#Correlation\n",
    "\n",
    "import matplotlib.pyplot as plt\n",
    "import seaborn as sns\n",
    "\n",
    "f, ax = plt.subplots(figsize=(10, 8))\n",
    "corr = music_features.corr()\n",
    "sns.heatmap(corr, cmap=sb.diverging_palette(16, 186, as_cmap=True),\n",
    "            square=True, ax=ax, annot=True, fmt=\".1g\")\n",
    "\n",
    "ax.set_title('Correlation between Music Features')\n",
    "\n",
    "#Energy may be removed\n"
   ]
  },
  {
   "cell_type": "code",
   "execution_count": 182,
   "metadata": {},
   "outputs": [
    {
     "data": {
      "text/html": [
       "<div>\n",
       "<style scoped>\n",
       "    .dataframe tbody tr th:only-of-type {\n",
       "        vertical-align: middle;\n",
       "    }\n",
       "\n",
       "    .dataframe tbody tr th {\n",
       "        vertical-align: top;\n",
       "    }\n",
       "\n",
       "    .dataframe thead th {\n",
       "        text-align: right;\n",
       "    }\n",
       "</style>\n",
       "<table border=\"1\" class=\"dataframe\">\n",
       "  <thead>\n",
       "    <tr style=\"text-align: right;\">\n",
       "      <th></th>\n",
       "      <th>acousticness</th>\n",
       "      <th>danceability</th>\n",
       "      <th>duration_ms</th>\n",
       "      <th>energy</th>\n",
       "      <th>id</th>\n",
       "      <th>instrumentalness</th>\n",
       "      <th>key</th>\n",
       "      <th>liveness</th>\n",
       "      <th>mode</th>\n",
       "      <th>speechiness</th>\n",
       "      <th>tempo</th>\n",
       "      <th>time_signature</th>\n",
       "      <th>valence</th>\n",
       "    </tr>\n",
       "  </thead>\n",
       "  <tbody>\n",
       "    <tr>\n",
       "      <th>160541</th>\n",
       "      <td>0.131</td>\n",
       "      <td>0.748</td>\n",
       "      <td>188491.0</td>\n",
       "      <td>0.627</td>\n",
       "      <td>000xQL6tZNLJzIrtIgxqSl</td>\n",
       "      <td>0.000000</td>\n",
       "      <td>7.0</td>\n",
       "      <td>0.0852</td>\n",
       "      <td>1.0</td>\n",
       "      <td>0.0639</td>\n",
       "      <td>120.963</td>\n",
       "      <td>4.0</td>\n",
       "      <td>0.524</td>\n",
       "    </tr>\n",
       "    <tr>\n",
       "      <th>45268</th>\n",
       "      <td>0.684</td>\n",
       "      <td>0.509</td>\n",
       "      <td>187119.0</td>\n",
       "      <td>0.803</td>\n",
       "      <td>000xYdQfIZ4pDmBGzQalKU</td>\n",
       "      <td>0.000539</td>\n",
       "      <td>0.0</td>\n",
       "      <td>0.4630</td>\n",
       "      <td>1.0</td>\n",
       "      <td>0.0400</td>\n",
       "      <td>166.018</td>\n",
       "      <td>4.0</td>\n",
       "      <td>0.651</td>\n",
       "    </tr>\n",
       "    <tr>\n",
       "      <th>236479</th>\n",
       "      <td>0.105</td>\n",
       "      <td>0.772</td>\n",
       "      <td>167866.0</td>\n",
       "      <td>0.635</td>\n",
       "      <td>001b8t3bYPfnabpjpfG1Y4</td>\n",
       "      <td>0.000000</td>\n",
       "      <td>9.0</td>\n",
       "      <td>0.1170</td>\n",
       "      <td>1.0</td>\n",
       "      <td>0.3720</td>\n",
       "      <td>95.951</td>\n",
       "      <td>4.0</td>\n",
       "      <td>0.541</td>\n",
       "    </tr>\n",
       "    <tr>\n",
       "      <th>218937</th>\n",
       "      <td>0.145</td>\n",
       "      <td>0.807</td>\n",
       "      <td>188395.0</td>\n",
       "      <td>0.552</td>\n",
       "      <td>001cKCt7jEOzXjqgkn9DQf</td>\n",
       "      <td>0.000000</td>\n",
       "      <td>8.0</td>\n",
       "      <td>0.0999</td>\n",
       "      <td>1.0</td>\n",
       "      <td>0.3050</td>\n",
       "      <td>119.988</td>\n",
       "      <td>4.0</td>\n",
       "      <td>0.287</td>\n",
       "    </tr>\n",
       "    <tr>\n",
       "      <th>193090</th>\n",
       "      <td>0.159</td>\n",
       "      <td>0.683</td>\n",
       "      <td>180933.0</td>\n",
       "      <td>0.676</td>\n",
       "      <td>003F0rm5lqxcmhvJPKgfaJ</td>\n",
       "      <td>0.000000</td>\n",
       "      <td>1.0</td>\n",
       "      <td>0.0726</td>\n",
       "      <td>0.0</td>\n",
       "      <td>0.1470</td>\n",
       "      <td>98.992</td>\n",
       "      <td>4.0</td>\n",
       "      <td>0.434</td>\n",
       "    </tr>\n",
       "    <tr>\n",
       "      <th>...</th>\n",
       "      <td>...</td>\n",
       "      <td>...</td>\n",
       "      <td>...</td>\n",
       "      <td>...</td>\n",
       "      <td>...</td>\n",
       "      <td>...</td>\n",
       "      <td>...</td>\n",
       "      <td>...</td>\n",
       "      <td>...</td>\n",
       "      <td>...</td>\n",
       "      <td>...</td>\n",
       "      <td>...</td>\n",
       "      <td>...</td>\n",
       "    </tr>\n",
       "    <tr>\n",
       "      <th>154441</th>\n",
       "      <td>0.036</td>\n",
       "      <td>0.850</td>\n",
       "      <td>136913.0</td>\n",
       "      <td>0.739</td>\n",
       "      <td>7zy0jQ2un779v9bmBrBVCV</td>\n",
       "      <td>0.000000</td>\n",
       "      <td>7.0</td>\n",
       "      <td>0.2890</td>\n",
       "      <td>1.0</td>\n",
       "      <td>0.2290</td>\n",
       "      <td>112.063</td>\n",
       "      <td>4.0</td>\n",
       "      <td>0.602</td>\n",
       "    </tr>\n",
       "    <tr>\n",
       "      <th>155996</th>\n",
       "      <td>0.728</td>\n",
       "      <td>0.423</td>\n",
       "      <td>260573.0</td>\n",
       "      <td>0.360</td>\n",
       "      <td>7zyYmIdjqqiX6kLryb7QBx</td>\n",
       "      <td>0.000000</td>\n",
       "      <td>3.0</td>\n",
       "      <td>0.1050</td>\n",
       "      <td>1.0</td>\n",
       "      <td>0.0372</td>\n",
       "      <td>130.576</td>\n",
       "      <td>4.0</td>\n",
       "      <td>0.291</td>\n",
       "    </tr>\n",
       "    <tr>\n",
       "      <th>101624</th>\n",
       "      <td>0.200</td>\n",
       "      <td>0.637</td>\n",
       "      <td>241564.0</td>\n",
       "      <td>0.741</td>\n",
       "      <td>7zyofXGhXgaqT8fhvLufdf</td>\n",
       "      <td>0.000000</td>\n",
       "      <td>9.0</td>\n",
       "      <td>0.1850</td>\n",
       "      <td>1.0</td>\n",
       "      <td>0.0300</td>\n",
       "      <td>89.982</td>\n",
       "      <td>4.0</td>\n",
       "      <td>0.419</td>\n",
       "    </tr>\n",
       "    <tr>\n",
       "      <th>114871</th>\n",
       "      <td>0.353</td>\n",
       "      <td>0.819</td>\n",
       "      <td>208608.0</td>\n",
       "      <td>0.679</td>\n",
       "      <td>7zzI3SbctTJN6wDerZNZCD</td>\n",
       "      <td>0.000000</td>\n",
       "      <td>11.0</td>\n",
       "      <td>0.2910</td>\n",
       "      <td>0.0</td>\n",
       "      <td>0.1040</td>\n",
       "      <td>139.983</td>\n",
       "      <td>4.0</td>\n",
       "      <td>0.551</td>\n",
       "    </tr>\n",
       "    <tr>\n",
       "      <th>207130</th>\n",
       "      <td>0.187</td>\n",
       "      <td>0.939</td>\n",
       "      <td>279467.0</td>\n",
       "      <td>0.700</td>\n",
       "      <td>7zzhknA0A39TH81meuX7WA</td>\n",
       "      <td>0.000000</td>\n",
       "      <td>9.0</td>\n",
       "      <td>0.0940</td>\n",
       "      <td>0.0</td>\n",
       "      <td>0.0519</td>\n",
       "      <td>132.004</td>\n",
       "      <td>4.0</td>\n",
       "      <td>0.886</td>\n",
       "    </tr>\n",
       "  </tbody>\n",
       "</table>\n",
       "<p>88126 rows × 13 columns</p>\n",
       "</div>"
      ],
      "text/plain": [
       "        acousticness  danceability  duration_ms  energy  \\\n",
       "160541         0.131         0.748     188491.0   0.627   \n",
       "45268          0.684         0.509     187119.0   0.803   \n",
       "236479         0.105         0.772     167866.0   0.635   \n",
       "218937         0.145         0.807     188395.0   0.552   \n",
       "193090         0.159         0.683     180933.0   0.676   \n",
       "...              ...           ...          ...     ...   \n",
       "154441         0.036         0.850     136913.0   0.739   \n",
       "155996         0.728         0.423     260573.0   0.360   \n",
       "101624         0.200         0.637     241564.0   0.741   \n",
       "114871         0.353         0.819     208608.0   0.679   \n",
       "207130         0.187         0.939     279467.0   0.700   \n",
       "\n",
       "                            id  instrumentalness   key  liveness  mode  \\\n",
       "160541  000xQL6tZNLJzIrtIgxqSl          0.000000   7.0    0.0852   1.0   \n",
       "45268   000xYdQfIZ4pDmBGzQalKU          0.000539   0.0    0.4630   1.0   \n",
       "236479  001b8t3bYPfnabpjpfG1Y4          0.000000   9.0    0.1170   1.0   \n",
       "218937  001cKCt7jEOzXjqgkn9DQf          0.000000   8.0    0.0999   1.0   \n",
       "193090  003F0rm5lqxcmhvJPKgfaJ          0.000000   1.0    0.0726   0.0   \n",
       "...                        ...               ...   ...       ...   ...   \n",
       "154441  7zy0jQ2un779v9bmBrBVCV          0.000000   7.0    0.2890   1.0   \n",
       "155996  7zyYmIdjqqiX6kLryb7QBx          0.000000   3.0    0.1050   1.0   \n",
       "101624  7zyofXGhXgaqT8fhvLufdf          0.000000   9.0    0.1850   1.0   \n",
       "114871  7zzI3SbctTJN6wDerZNZCD          0.000000  11.0    0.2910   0.0   \n",
       "207130  7zzhknA0A39TH81meuX7WA          0.000000   9.0    0.0940   0.0   \n",
       "\n",
       "        speechiness    tempo  time_signature  valence  \n",
       "160541       0.0639  120.963             4.0    0.524  \n",
       "45268        0.0400  166.018             4.0    0.651  \n",
       "236479       0.3720   95.951             4.0    0.541  \n",
       "218937       0.3050  119.988             4.0    0.287  \n",
       "193090       0.1470   98.992             4.0    0.434  \n",
       "...             ...      ...             ...      ...  \n",
       "154441       0.2290  112.063             4.0    0.602  \n",
       "155996       0.0372  130.576             4.0    0.291  \n",
       "101624       0.0300   89.982             4.0    0.419  \n",
       "114871       0.1040  139.983             4.0    0.551  \n",
       "207130       0.0519  132.004             4.0    0.886  \n",
       "\n",
       "[88126 rows x 13 columns]"
      ]
     },
     "execution_count": 182,
     "metadata": {},
     "output_type": "execute_result"
    }
   ],
   "source": [
    "#Remove loudness\n",
    "music_features = music_features.drop(columns=['loudness'])\n",
    "features.remove('loudness')\n",
    "music_features"
   ]
  },
  {
   "cell_type": "code",
   "execution_count": 183,
   "metadata": {},
   "outputs": [
    {
     "data": {
      "text/plain": [
       "(7.941778739950387e-17, 1.0)"
      ]
     },
     "execution_count": 183,
     "metadata": {},
     "output_type": "execute_result"
    }
   ],
   "source": [
    "from sklearn.preprocessing import StandardScaler\n",
    "\n",
    "feature_values = music_features.loc[:, features].values\n",
    "normalized_values = StandardScaler().fit_transform(feature_values) # normalizing the features\n",
    "np.mean(normalized_values),np.std(normalized_values)"
   ]
  },
  {
   "cell_type": "code",
   "execution_count": 184,
   "metadata": {},
   "outputs": [],
   "source": [
    "from sklearn.decomposition import PCA\n",
    "\n",
    "pca = PCA(n_components=0.90)\n",
    "principalComponents = pca.fit_transform(normalized_values)\n",
    "principalDF = pd.DataFrame(data = principalComponents)"
   ]
  },
  {
   "cell_type": "code",
   "execution_count": 185,
   "metadata": {},
   "outputs": [
    {
     "data": {
      "text/html": [
       "<div>\n",
       "<style scoped>\n",
       "    .dataframe tbody tr th:only-of-type {\n",
       "        vertical-align: middle;\n",
       "    }\n",
       "\n",
       "    .dataframe tbody tr th {\n",
       "        vertical-align: top;\n",
       "    }\n",
       "\n",
       "    .dataframe thead th {\n",
       "        text-align: right;\n",
       "    }\n",
       "</style>\n",
       "<table border=\"1\" class=\"dataframe\">\n",
       "  <thead>\n",
       "    <tr style=\"text-align: right;\">\n",
       "      <th></th>\n",
       "      <th>0</th>\n",
       "      <th>1</th>\n",
       "      <th>2</th>\n",
       "      <th>3</th>\n",
       "      <th>4</th>\n",
       "      <th>5</th>\n",
       "      <th>6</th>\n",
       "      <th>7</th>\n",
       "      <th>8</th>\n",
       "      <th>9</th>\n",
       "    </tr>\n",
       "  </thead>\n",
       "  <tbody>\n",
       "    <tr>\n",
       "      <th>0</th>\n",
       "      <td>-0.323942</td>\n",
       "      <td>-0.084281</td>\n",
       "      <td>-0.429661</td>\n",
       "      <td>0.539490</td>\n",
       "      <td>0.316716</td>\n",
       "      <td>-0.193799</td>\n",
       "      <td>-0.552014</td>\n",
       "      <td>-0.386483</td>\n",
       "      <td>-1.078083</td>\n",
       "      <td>-0.196367</td>\n",
       "    </tr>\n",
       "    <tr>\n",
       "      <th>1</th>\n",
       "      <td>0.378961</td>\n",
       "      <td>1.939718</td>\n",
       "      <td>-1.175013</td>\n",
       "      <td>-1.792848</td>\n",
       "      <td>-0.728229</td>\n",
       "      <td>-0.156206</td>\n",
       "      <td>0.386362</td>\n",
       "      <td>-1.590256</td>\n",
       "      <td>1.393964</td>\n",
       "      <td>-0.722652</td>\n",
       "    </tr>\n",
       "    <tr>\n",
       "      <th>2</th>\n",
       "      <td>-1.113958</td>\n",
       "      <td>-1.430243</td>\n",
       "      <td>-0.370018</td>\n",
       "      <td>-0.188560</td>\n",
       "      <td>-0.127277</td>\n",
       "      <td>0.513607</td>\n",
       "      <td>0.341231</td>\n",
       "      <td>0.172161</td>\n",
       "      <td>-1.670083</td>\n",
       "      <td>1.202473</td>\n",
       "    </tr>\n",
       "    <tr>\n",
       "      <th>3</th>\n",
       "      <td>-0.272934</td>\n",
       "      <td>-1.200805</td>\n",
       "      <td>-0.400036</td>\n",
       "      <td>-0.307038</td>\n",
       "      <td>0.730169</td>\n",
       "      <td>0.551727</td>\n",
       "      <td>0.424344</td>\n",
       "      <td>0.271747</td>\n",
       "      <td>-1.539700</td>\n",
       "      <td>0.879469</td>\n",
       "    </tr>\n",
       "    <tr>\n",
       "      <th>4</th>\n",
       "      <td>-0.370050</td>\n",
       "      <td>-0.649380</td>\n",
       "      <td>-0.404402</td>\n",
       "      <td>0.609033</td>\n",
       "      <td>0.219347</td>\n",
       "      <td>-0.063008</td>\n",
       "      <td>0.235505</td>\n",
       "      <td>1.458883</td>\n",
       "      <td>0.654913</td>\n",
       "      <td>-0.757454</td>\n",
       "    </tr>\n",
       "  </tbody>\n",
       "</table>\n",
       "</div>"
      ],
      "text/plain": [
       "          0         1         2         3         4         5         6  \\\n",
       "0 -0.323942 -0.084281 -0.429661  0.539490  0.316716 -0.193799 -0.552014   \n",
       "1  0.378961  1.939718 -1.175013 -1.792848 -0.728229 -0.156206  0.386362   \n",
       "2 -1.113958 -1.430243 -0.370018 -0.188560 -0.127277  0.513607  0.341231   \n",
       "3 -0.272934 -1.200805 -0.400036 -0.307038  0.730169  0.551727  0.424344   \n",
       "4 -0.370050 -0.649380 -0.404402  0.609033  0.219347 -0.063008  0.235505   \n",
       "\n",
       "          7         8         9  \n",
       "0 -0.386483 -1.078083 -0.196367  \n",
       "1 -1.590256  1.393964 -0.722652  \n",
       "2  0.172161 -1.670083  1.202473  \n",
       "3  0.271747 -1.539700  0.879469  \n",
       "4  1.458883  0.654913 -0.757454  "
      ]
     },
     "execution_count": 185,
     "metadata": {},
     "output_type": "execute_result"
    }
   ],
   "source": [
    "principalDF.head()"
   ]
  },
  {
   "cell_type": "markdown",
   "metadata": {},
   "source": [
    "## Hierarchical Clustering"
   ]
  },
  {
   "cell_type": "code",
   "execution_count": null,
   "metadata": {},
   "outputs": [],
   "source": [
    "#get sample of principal components to run in dendogram \n",
    "principalDF_sample = principalDF.sample(frac=0.50, replace = False)"
   ]
  },
  {
   "cell_type": "code",
   "execution_count": 42,
   "metadata": {},
   "outputs": [],
   "source": [
    "dendrogram = sch.dendrogram(sch.linkage(principalDF_sample.values, method  = \"ward\"))\n",
    "f, ax = plt.subplots(figsize=(10, 8))\n",
    "plt.title('Dendrogram')\n",
    "plt.xlabel('Customers')\n",
    "plt.ylabel('Euclidean distances')\n",
    "plt.show()"
   ]
  },
  {
   "cell_type": "code",
   "execution_count": 104,
   "metadata": {},
   "outputs": [],
   "source": [
    "hc4 = AgglomerativeClustering(n_clusters = 4, affinity = 'euclidean', linkage ='complete')\n",
    "#hc6 = AgglomerativeClustering(n_clusters = 6, affinity = 'euclidean', linkage ='ward')"
   ]
  },
  {
   "cell_type": "code",
   "execution_count": 105,
   "metadata": {},
   "outputs": [],
   "source": [
    "principalDF_sample['AC Cluster 4'] = hc4.fit_predict(principalDF_sample.values)\n",
    "#principalDF_sample['AC Cluster 6'] = hc6.fit_predict(principalDF_sample.values)"
   ]
  },
  {
   "cell_type": "code",
   "execution_count": 106,
   "metadata": {},
   "outputs": [],
   "source": [
    "music_features['AC Cluster 4'] = principalDF_sample['AC Cluster 4']\n",
    "#music_features['AC Cluster 6'] = principalDF_sample['AC Cluster 6']"
   ]
  },
  {
   "cell_type": "code",
   "execution_count": 107,
   "metadata": {},
   "outputs": [
    {
     "data": {
      "text/html": [
       "<div>\n",
       "<style scoped>\n",
       "    .dataframe tbody tr th:only-of-type {\n",
       "        vertical-align: middle;\n",
       "    }\n",
       "\n",
       "    .dataframe tbody tr th {\n",
       "        vertical-align: top;\n",
       "    }\n",
       "\n",
       "    .dataframe thead th {\n",
       "        text-align: right;\n",
       "    }\n",
       "</style>\n",
       "<table border=\"1\" class=\"dataframe\">\n",
       "  <thead>\n",
       "    <tr style=\"text-align: right;\">\n",
       "      <th></th>\n",
       "      <th>acousticness</th>\n",
       "      <th>danceability</th>\n",
       "      <th>duration_ms</th>\n",
       "      <th>energy</th>\n",
       "      <th>id</th>\n",
       "      <th>instrumentalness</th>\n",
       "      <th>key</th>\n",
       "      <th>liveness</th>\n",
       "      <th>loudness</th>\n",
       "      <th>mode</th>\n",
       "      <th>speechiness</th>\n",
       "      <th>tempo</th>\n",
       "      <th>time_signature</th>\n",
       "      <th>valence</th>\n",
       "      <th>AC Cluster 4</th>\n",
       "      <th>AC Cluster 6</th>\n",
       "    </tr>\n",
       "  </thead>\n",
       "  <tbody>\n",
       "    <tr>\n",
       "      <th>7610</th>\n",
       "      <td>0.3950</td>\n",
       "      <td>0.552</td>\n",
       "      <td>241014.0</td>\n",
       "      <td>0.578</td>\n",
       "      <td>009Zz28Vgvnc5FvMXs6dEm</td>\n",
       "      <td>0.000000</td>\n",
       "      <td>11.0</td>\n",
       "      <td>0.1460</td>\n",
       "      <td>-9.318</td>\n",
       "      <td>0.0</td>\n",
       "      <td>0.3360</td>\n",
       "      <td>89.662</td>\n",
       "      <td>4.0</td>\n",
       "      <td>0.590</td>\n",
       "      <td>0.0</td>\n",
       "      <td>0.0</td>\n",
       "    </tr>\n",
       "    <tr>\n",
       "      <th>31581</th>\n",
       "      <td>0.7020</td>\n",
       "      <td>0.543</td>\n",
       "      <td>274960.0</td>\n",
       "      <td>0.373</td>\n",
       "      <td>009j4tQyJC53rmgTuXil9E</td>\n",
       "      <td>0.000003</td>\n",
       "      <td>11.0</td>\n",
       "      <td>0.1070</td>\n",
       "      <td>-10.504</td>\n",
       "      <td>1.0</td>\n",
       "      <td>0.0303</td>\n",
       "      <td>114.956</td>\n",
       "      <td>4.0</td>\n",
       "      <td>0.245</td>\n",
       "      <td>0.0</td>\n",
       "      <td>1.0</td>\n",
       "    </tr>\n",
       "    <tr>\n",
       "      <th>23060</th>\n",
       "      <td>0.4510</td>\n",
       "      <td>0.470</td>\n",
       "      <td>277310.0</td>\n",
       "      <td>0.475</td>\n",
       "      <td>00C47repvBYiWwkfE99faH</td>\n",
       "      <td>0.000000</td>\n",
       "      <td>8.0</td>\n",
       "      <td>0.1340</td>\n",
       "      <td>-6.730</td>\n",
       "      <td>1.0</td>\n",
       "      <td>0.0321</td>\n",
       "      <td>123.852</td>\n",
       "      <td>4.0</td>\n",
       "      <td>0.209</td>\n",
       "      <td>0.0</td>\n",
       "      <td>0.0</td>\n",
       "    </tr>\n",
       "    <tr>\n",
       "      <th>61060</th>\n",
       "      <td>0.2010</td>\n",
       "      <td>0.743</td>\n",
       "      <td>101851.0</td>\n",
       "      <td>0.454</td>\n",
       "      <td>00JZgGi6ZTM4jAvJcp4oIv</td>\n",
       "      <td>0.050400</td>\n",
       "      <td>0.0</td>\n",
       "      <td>0.1100</td>\n",
       "      <td>-5.522</td>\n",
       "      <td>1.0</td>\n",
       "      <td>0.0719</td>\n",
       "      <td>144.981</td>\n",
       "      <td>4.0</td>\n",
       "      <td>0.714</td>\n",
       "      <td>0.0</td>\n",
       "      <td>0.0</td>\n",
       "    </tr>\n",
       "    <tr>\n",
       "      <th>39445</th>\n",
       "      <td>0.0063</td>\n",
       "      <td>0.581</td>\n",
       "      <td>210347.0</td>\n",
       "      <td>0.919</td>\n",
       "      <td>00TVmX9spquyg0UKuN57l3</td>\n",
       "      <td>0.000003</td>\n",
       "      <td>6.0</td>\n",
       "      <td>0.1070</td>\n",
       "      <td>-4.324</td>\n",
       "      <td>0.0</td>\n",
       "      <td>0.0500</td>\n",
       "      <td>95.991</td>\n",
       "      <td>4.0</td>\n",
       "      <td>0.847</td>\n",
       "      <td>0.0</td>\n",
       "      <td>0.0</td>\n",
       "    </tr>\n",
       "    <tr>\n",
       "      <th>...</th>\n",
       "      <td>...</td>\n",
       "      <td>...</td>\n",
       "      <td>...</td>\n",
       "      <td>...</td>\n",
       "      <td>...</td>\n",
       "      <td>...</td>\n",
       "      <td>...</td>\n",
       "      <td>...</td>\n",
       "      <td>...</td>\n",
       "      <td>...</td>\n",
       "      <td>...</td>\n",
       "      <td>...</td>\n",
       "      <td>...</td>\n",
       "      <td>...</td>\n",
       "      <td>...</td>\n",
       "      <td>...</td>\n",
       "    </tr>\n",
       "    <tr>\n",
       "      <th>36569</th>\n",
       "      <td>0.1030</td>\n",
       "      <td>0.470</td>\n",
       "      <td>173160.0</td>\n",
       "      <td>0.520</td>\n",
       "      <td>7zZhsd4me9GmNFs0xo57p5</td>\n",
       "      <td>0.000000</td>\n",
       "      <td>0.0</td>\n",
       "      <td>0.1280</td>\n",
       "      <td>-7.397</td>\n",
       "      <td>1.0</td>\n",
       "      <td>0.0400</td>\n",
       "      <td>121.277</td>\n",
       "      <td>4.0</td>\n",
       "      <td>0.346</td>\n",
       "      <td>0.0</td>\n",
       "      <td>1.0</td>\n",
       "    </tr>\n",
       "    <tr>\n",
       "      <th>84629</th>\n",
       "      <td>0.6700</td>\n",
       "      <td>0.833</td>\n",
       "      <td>112040.0</td>\n",
       "      <td>0.381</td>\n",
       "      <td>7zkQwd9ZjsqvGexq5oQ4m6</td>\n",
       "      <td>0.000000</td>\n",
       "      <td>9.0</td>\n",
       "      <td>0.0908</td>\n",
       "      <td>-13.381</td>\n",
       "      <td>0.0</td>\n",
       "      <td>0.0504</td>\n",
       "      <td>117.016</td>\n",
       "      <td>4.0</td>\n",
       "      <td>0.767</td>\n",
       "      <td>0.0</td>\n",
       "      <td>0.0</td>\n",
       "    </tr>\n",
       "    <tr>\n",
       "      <th>80940</th>\n",
       "      <td>0.4590</td>\n",
       "      <td>0.649</td>\n",
       "      <td>238080.0</td>\n",
       "      <td>0.417</td>\n",
       "      <td>7znCkOoJw2PZxbgtdYnt6T</td>\n",
       "      <td>0.002140</td>\n",
       "      <td>9.0</td>\n",
       "      <td>0.0818</td>\n",
       "      <td>-12.438</td>\n",
       "      <td>0.0</td>\n",
       "      <td>0.0460</td>\n",
       "      <td>125.021</td>\n",
       "      <td>4.0</td>\n",
       "      <td>0.353</td>\n",
       "      <td>0.0</td>\n",
       "      <td>0.0</td>\n",
       "    </tr>\n",
       "    <tr>\n",
       "      <th>38347</th>\n",
       "      <td>0.3940</td>\n",
       "      <td>0.755</td>\n",
       "      <td>216000.0</td>\n",
       "      <td>0.764</td>\n",
       "      <td>7zoP4qnuk0npMUMAG3D1HA</td>\n",
       "      <td>0.000000</td>\n",
       "      <td>6.0</td>\n",
       "      <td>0.1060</td>\n",
       "      <td>-4.043</td>\n",
       "      <td>0.0</td>\n",
       "      <td>0.0315</td>\n",
       "      <td>100.984</td>\n",
       "      <td>4.0</td>\n",
       "      <td>0.851</td>\n",
       "      <td>0.0</td>\n",
       "      <td>1.0</td>\n",
       "    </tr>\n",
       "    <tr>\n",
       "      <th>6297</th>\n",
       "      <td>0.5780</td>\n",
       "      <td>0.699</td>\n",
       "      <td>189057.0</td>\n",
       "      <td>0.435</td>\n",
       "      <td>7zqLBFKCBkk5IfbgKgH4VZ</td>\n",
       "      <td>0.000000</td>\n",
       "      <td>1.0</td>\n",
       "      <td>0.0884</td>\n",
       "      <td>-6.891</td>\n",
       "      <td>1.0</td>\n",
       "      <td>0.1110</td>\n",
       "      <td>110.288</td>\n",
       "      <td>4.0</td>\n",
       "      <td>0.450</td>\n",
       "      <td>0.0</td>\n",
       "      <td>3.0</td>\n",
       "    </tr>\n",
       "  </tbody>\n",
       "</table>\n",
       "<p>4380 rows × 16 columns</p>\n",
       "</div>"
      ],
      "text/plain": [
       "       acousticness  danceability  duration_ms  energy  \\\n",
       "7610         0.3950         0.552     241014.0   0.578   \n",
       "31581        0.7020         0.543     274960.0   0.373   \n",
       "23060        0.4510         0.470     277310.0   0.475   \n",
       "61060        0.2010         0.743     101851.0   0.454   \n",
       "39445        0.0063         0.581     210347.0   0.919   \n",
       "...             ...           ...          ...     ...   \n",
       "36569        0.1030         0.470     173160.0   0.520   \n",
       "84629        0.6700         0.833     112040.0   0.381   \n",
       "80940        0.4590         0.649     238080.0   0.417   \n",
       "38347        0.3940         0.755     216000.0   0.764   \n",
       "6297         0.5780         0.699     189057.0   0.435   \n",
       "\n",
       "                           id  instrumentalness   key  liveness  loudness  \\\n",
       "7610   009Zz28Vgvnc5FvMXs6dEm          0.000000  11.0    0.1460    -9.318   \n",
       "31581  009j4tQyJC53rmgTuXil9E          0.000003  11.0    0.1070   -10.504   \n",
       "23060  00C47repvBYiWwkfE99faH          0.000000   8.0    0.1340    -6.730   \n",
       "61060  00JZgGi6ZTM4jAvJcp4oIv          0.050400   0.0    0.1100    -5.522   \n",
       "39445  00TVmX9spquyg0UKuN57l3          0.000003   6.0    0.1070    -4.324   \n",
       "...                       ...               ...   ...       ...       ...   \n",
       "36569  7zZhsd4me9GmNFs0xo57p5          0.000000   0.0    0.1280    -7.397   \n",
       "84629  7zkQwd9ZjsqvGexq5oQ4m6          0.000000   9.0    0.0908   -13.381   \n",
       "80940  7znCkOoJw2PZxbgtdYnt6T          0.002140   9.0    0.0818   -12.438   \n",
       "38347  7zoP4qnuk0npMUMAG3D1HA          0.000000   6.0    0.1060    -4.043   \n",
       "6297   7zqLBFKCBkk5IfbgKgH4VZ          0.000000   1.0    0.0884    -6.891   \n",
       "\n",
       "       mode  speechiness    tempo  time_signature  valence  AC Cluster 4  \\\n",
       "7610    0.0       0.3360   89.662             4.0    0.590           0.0   \n",
       "31581   1.0       0.0303  114.956             4.0    0.245           0.0   \n",
       "23060   1.0       0.0321  123.852             4.0    0.209           0.0   \n",
       "61060   1.0       0.0719  144.981             4.0    0.714           0.0   \n",
       "39445   0.0       0.0500   95.991             4.0    0.847           0.0   \n",
       "...     ...          ...      ...             ...      ...           ...   \n",
       "36569   1.0       0.0400  121.277             4.0    0.346           0.0   \n",
       "84629   0.0       0.0504  117.016             4.0    0.767           0.0   \n",
       "80940   0.0       0.0460  125.021             4.0    0.353           0.0   \n",
       "38347   0.0       0.0315  100.984             4.0    0.851           0.0   \n",
       "6297    1.0       0.1110  110.288             4.0    0.450           0.0   \n",
       "\n",
       "       AC Cluster 6  \n",
       "7610            0.0  \n",
       "31581           1.0  \n",
       "23060           0.0  \n",
       "61060           0.0  \n",
       "39445           0.0  \n",
       "...             ...  \n",
       "36569           1.0  \n",
       "84629           0.0  \n",
       "80940           0.0  \n",
       "38347           1.0  \n",
       "6297            3.0  \n",
       "\n",
       "[4380 rows x 16 columns]"
      ]
     },
     "execution_count": 107,
     "metadata": {},
     "output_type": "execute_result"
    }
   ],
   "source": [
    "music_features[music_features['AC Cluster 4'].notnull()] "
   ]
  },
  {
   "cell_type": "code",
   "execution_count": 77,
   "metadata": {},
   "outputs": [],
   "source": [
    "feature_list = list(music_features.loc[:, music_features.columns != 'id'])"
   ]
  },
  {
   "cell_type": "code",
   "execution_count": 109,
   "metadata": {},
   "outputs": [
    {
     "data": {
      "text/html": [
       "<div>\n",
       "<style scoped>\n",
       "    .dataframe tbody tr th:only-of-type {\n",
       "        vertical-align: middle;\n",
       "    }\n",
       "\n",
       "    .dataframe tbody tr th {\n",
       "        vertical-align: top;\n",
       "    }\n",
       "\n",
       "    .dataframe thead th {\n",
       "        text-align: right;\n",
       "    }\n",
       "</style>\n",
       "<table border=\"1\" class=\"dataframe\">\n",
       "  <thead>\n",
       "    <tr style=\"text-align: right;\">\n",
       "      <th></th>\n",
       "      <th>acousticness</th>\n",
       "      <th>danceability</th>\n",
       "      <th>duration_ms</th>\n",
       "      <th>energy</th>\n",
       "      <th>instrumentalness</th>\n",
       "      <th>key</th>\n",
       "      <th>liveness</th>\n",
       "      <th>loudness</th>\n",
       "      <th>mode</th>\n",
       "      <th>speechiness</th>\n",
       "      <th>tempo</th>\n",
       "      <th>time_signature</th>\n",
       "      <th>valence</th>\n",
       "      <th>acousticness</th>\n",
       "      <th>acousticness</th>\n",
       "      <th>AC Cluster 4</th>\n",
       "    </tr>\n",
       "  </thead>\n",
       "  <tbody>\n",
       "    <tr>\n",
       "      <th>160541</th>\n",
       "      <td>0.131526</td>\n",
       "      <td>0.757085</td>\n",
       "      <td>0.047786</td>\n",
       "      <td>0.627</td>\n",
       "      <td>0.000000</td>\n",
       "      <td>0.636364</td>\n",
       "      <td>0.086061</td>\n",
       "      <td>0.875328</td>\n",
       "      <td>1.0</td>\n",
       "      <td>0.066149</td>\n",
       "      <td>0.525309</td>\n",
       "      <td>0.8</td>\n",
       "      <td>0.524525</td>\n",
       "      <td>0.131526</td>\n",
       "      <td>0.131526</td>\n",
       "      <td>NaN</td>\n",
       "    </tr>\n",
       "    <tr>\n",
       "      <th>45268</th>\n",
       "      <td>0.686747</td>\n",
       "      <td>0.515182</td>\n",
       "      <td>0.047436</td>\n",
       "      <td>0.803</td>\n",
       "      <td>0.000546</td>\n",
       "      <td>0.000000</td>\n",
       "      <td>0.467677</td>\n",
       "      <td>0.863748</td>\n",
       "      <td>1.0</td>\n",
       "      <td>0.041408</td>\n",
       "      <td>0.720971</td>\n",
       "      <td>0.8</td>\n",
       "      <td>0.651652</td>\n",
       "      <td>0.686747</td>\n",
       "      <td>0.686747</td>\n",
       "      <td>NaN</td>\n",
       "    </tr>\n",
       "    <tr>\n",
       "      <th>236479</th>\n",
       "      <td>0.105422</td>\n",
       "      <td>0.781377</td>\n",
       "      <td>0.042529</td>\n",
       "      <td>0.635</td>\n",
       "      <td>0.000000</td>\n",
       "      <td>0.818182</td>\n",
       "      <td>0.118182</td>\n",
       "      <td>0.894515</td>\n",
       "      <td>1.0</td>\n",
       "      <td>0.385093</td>\n",
       "      <td>0.416689</td>\n",
       "      <td>0.8</td>\n",
       "      <td>0.541542</td>\n",
       "      <td>0.105422</td>\n",
       "      <td>0.105422</td>\n",
       "      <td>NaN</td>\n",
       "    </tr>\n",
       "    <tr>\n",
       "      <th>218937</th>\n",
       "      <td>0.145582</td>\n",
       "      <td>0.816802</td>\n",
       "      <td>0.047762</td>\n",
       "      <td>0.552</td>\n",
       "      <td>0.000000</td>\n",
       "      <td>0.727273</td>\n",
       "      <td>0.100909</td>\n",
       "      <td>0.827695</td>\n",
       "      <td>1.0</td>\n",
       "      <td>0.315735</td>\n",
       "      <td>0.521075</td>\n",
       "      <td>0.8</td>\n",
       "      <td>0.287287</td>\n",
       "      <td>0.145582</td>\n",
       "      <td>0.145582</td>\n",
       "      <td>NaN</td>\n",
       "    </tr>\n",
       "    <tr>\n",
       "      <th>193090</th>\n",
       "      <td>0.159639</td>\n",
       "      <td>0.691296</td>\n",
       "      <td>0.045860</td>\n",
       "      <td>0.676</td>\n",
       "      <td>0.000000</td>\n",
       "      <td>0.090909</td>\n",
       "      <td>0.073333</td>\n",
       "      <td>0.864640</td>\n",
       "      <td>0.0</td>\n",
       "      <td>0.152174</td>\n",
       "      <td>0.429895</td>\n",
       "      <td>0.8</td>\n",
       "      <td>0.434434</td>\n",
       "      <td>0.159639</td>\n",
       "      <td>0.159639</td>\n",
       "      <td>NaN</td>\n",
       "    </tr>\n",
       "    <tr>\n",
       "      <th>...</th>\n",
       "      <td>...</td>\n",
       "      <td>...</td>\n",
       "      <td>...</td>\n",
       "      <td>...</td>\n",
       "      <td>...</td>\n",
       "      <td>...</td>\n",
       "      <td>...</td>\n",
       "      <td>...</td>\n",
       "      <td>...</td>\n",
       "      <td>...</td>\n",
       "      <td>...</td>\n",
       "      <td>...</td>\n",
       "      <td>...</td>\n",
       "      <td>...</td>\n",
       "      <td>...</td>\n",
       "      <td>...</td>\n",
       "    </tr>\n",
       "    <tr>\n",
       "      <th>154441</th>\n",
       "      <td>0.036145</td>\n",
       "      <td>0.860324</td>\n",
       "      <td>0.034640</td>\n",
       "      <td>0.739</td>\n",
       "      <td>0.000000</td>\n",
       "      <td>0.636364</td>\n",
       "      <td>0.291919</td>\n",
       "      <td>0.789030</td>\n",
       "      <td>1.0</td>\n",
       "      <td>0.237060</td>\n",
       "      <td>0.486659</td>\n",
       "      <td>0.8</td>\n",
       "      <td>0.602603</td>\n",
       "      <td>0.036145</td>\n",
       "      <td>0.036145</td>\n",
       "      <td>NaN</td>\n",
       "    </tr>\n",
       "    <tr>\n",
       "      <th>155996</th>\n",
       "      <td>0.730924</td>\n",
       "      <td>0.428138</td>\n",
       "      <td>0.066158</td>\n",
       "      <td>0.360</td>\n",
       "      <td>0.000000</td>\n",
       "      <td>0.272727</td>\n",
       "      <td>0.106061</td>\n",
       "      <td>0.819715</td>\n",
       "      <td>1.0</td>\n",
       "      <td>0.038509</td>\n",
       "      <td>0.567056</td>\n",
       "      <td>0.8</td>\n",
       "      <td>0.291291</td>\n",
       "      <td>0.730924</td>\n",
       "      <td>0.730924</td>\n",
       "      <td>NaN</td>\n",
       "    </tr>\n",
       "    <tr>\n",
       "      <th>101624</th>\n",
       "      <td>0.200803</td>\n",
       "      <td>0.644737</td>\n",
       "      <td>0.061313</td>\n",
       "      <td>0.741</td>\n",
       "      <td>0.000000</td>\n",
       "      <td>0.818182</td>\n",
       "      <td>0.186869</td>\n",
       "      <td>0.902332</td>\n",
       "      <td>1.0</td>\n",
       "      <td>0.031056</td>\n",
       "      <td>0.390767</td>\n",
       "      <td>0.8</td>\n",
       "      <td>0.419419</td>\n",
       "      <td>0.200803</td>\n",
       "      <td>0.200803</td>\n",
       "      <td>NaN</td>\n",
       "    </tr>\n",
       "    <tr>\n",
       "      <th>114871</th>\n",
       "      <td>0.354418</td>\n",
       "      <td>0.828947</td>\n",
       "      <td>0.052913</td>\n",
       "      <td>0.679</td>\n",
       "      <td>0.000000</td>\n",
       "      <td>1.000000</td>\n",
       "      <td>0.293939</td>\n",
       "      <td>0.827403</td>\n",
       "      <td>0.0</td>\n",
       "      <td>0.107660</td>\n",
       "      <td>0.607908</td>\n",
       "      <td>0.8</td>\n",
       "      <td>0.551552</td>\n",
       "      <td>0.354418</td>\n",
       "      <td>0.354418</td>\n",
       "      <td>NaN</td>\n",
       "    </tr>\n",
       "    <tr>\n",
       "      <th>207130</th>\n",
       "      <td>0.187751</td>\n",
       "      <td>0.950405</td>\n",
       "      <td>0.070973</td>\n",
       "      <td>0.700</td>\n",
       "      <td>0.000000</td>\n",
       "      <td>0.818182</td>\n",
       "      <td>0.094949</td>\n",
       "      <td>0.867268</td>\n",
       "      <td>0.0</td>\n",
       "      <td>0.053727</td>\n",
       "      <td>0.573257</td>\n",
       "      <td>0.8</td>\n",
       "      <td>0.886887</td>\n",
       "      <td>0.187751</td>\n",
       "      <td>0.187751</td>\n",
       "      <td>NaN</td>\n",
       "    </tr>\n",
       "  </tbody>\n",
       "</table>\n",
       "<p>88126 rows × 16 columns</p>\n",
       "</div>"
      ],
      "text/plain": [
       "        acousticness  danceability  duration_ms  energy  instrumentalness  \\\n",
       "160541      0.131526      0.757085     0.047786   0.627          0.000000   \n",
       "45268       0.686747      0.515182     0.047436   0.803          0.000546   \n",
       "236479      0.105422      0.781377     0.042529   0.635          0.000000   \n",
       "218937      0.145582      0.816802     0.047762   0.552          0.000000   \n",
       "193090      0.159639      0.691296     0.045860   0.676          0.000000   \n",
       "...              ...           ...          ...     ...               ...   \n",
       "154441      0.036145      0.860324     0.034640   0.739          0.000000   \n",
       "155996      0.730924      0.428138     0.066158   0.360          0.000000   \n",
       "101624      0.200803      0.644737     0.061313   0.741          0.000000   \n",
       "114871      0.354418      0.828947     0.052913   0.679          0.000000   \n",
       "207130      0.187751      0.950405     0.070973   0.700          0.000000   \n",
       "\n",
       "             key  liveness  loudness  mode  speechiness     tempo  \\\n",
       "160541  0.636364  0.086061  0.875328   1.0     0.066149  0.525309   \n",
       "45268   0.000000  0.467677  0.863748   1.0     0.041408  0.720971   \n",
       "236479  0.818182  0.118182  0.894515   1.0     0.385093  0.416689   \n",
       "218937  0.727273  0.100909  0.827695   1.0     0.315735  0.521075   \n",
       "193090  0.090909  0.073333  0.864640   0.0     0.152174  0.429895   \n",
       "...          ...       ...       ...   ...          ...       ...   \n",
       "154441  0.636364  0.291919  0.789030   1.0     0.237060  0.486659   \n",
       "155996  0.272727  0.106061  0.819715   1.0     0.038509  0.567056   \n",
       "101624  0.818182  0.186869  0.902332   1.0     0.031056  0.390767   \n",
       "114871  1.000000  0.293939  0.827403   0.0     0.107660  0.607908   \n",
       "207130  0.818182  0.094949  0.867268   0.0     0.053727  0.573257   \n",
       "\n",
       "        time_signature   valence  acousticness  acousticness  AC Cluster 4  \n",
       "160541             0.8  0.524525      0.131526      0.131526           NaN  \n",
       "45268              0.8  0.651652      0.686747      0.686747           NaN  \n",
       "236479             0.8  0.541542      0.105422      0.105422           NaN  \n",
       "218937             0.8  0.287287      0.145582      0.145582           NaN  \n",
       "193090             0.8  0.434434      0.159639      0.159639           NaN  \n",
       "...                ...       ...           ...           ...           ...  \n",
       "154441             0.8  0.602603      0.036145      0.036145           NaN  \n",
       "155996             0.8  0.291291      0.730924      0.730924           NaN  \n",
       "101624             0.8  0.419419      0.200803      0.200803           NaN  \n",
       "114871             0.8  0.551552      0.354418      0.354418           NaN  \n",
       "207130             0.8  0.886887      0.187751      0.187751           NaN  \n",
       "\n",
       "[88126 rows x 16 columns]"
      ]
     },
     "execution_count": 109,
     "metadata": {},
     "output_type": "execute_result"
    }
   ],
   "source": [
    "scaled_df = music_features[feature_list].copy()\n",
    "scaler = MinMaxScaler() \n",
    "scaled_values = scaler.fit_transform(scaled_df) \n",
    "scaled_df.loc[:,:] = scaled_values\n",
    "scaled_df['AC Cluster 4'] = music_features['AC Cluster 4']\n",
    "#scaled_df['AC Cluster 6'] = music_features['AC Cluster 6']\n",
    "scaled_df"
   ]
  },
  {
   "cell_type": "code",
   "execution_count": 111,
   "metadata": {},
   "outputs": [
    {
     "data": {
      "application/vnd.plotly.v1+json": {
       "config": {
        "plotlyServerURL": "https://plot.ly"
       },
       "data": [
        {
         "fill": "toself",
         "name": "Cluster 0",
         "r": [
          [
           0.2709356169651175,
           0.2709356169651175,
           0.2709356169651175
          ],
          0.6554757408832866,
          0.05582739229444471,
          0.6481163185557592,
          0.01601407451578011,
          0.47841532325079017,
          0.18079538529721312,
          0.8631190995586138,
          0.5946069469835467,
          0.11669477026960523,
          0.5234081430439061,
          0.7915904936015116,
          0.5040954574318381,
          [
           0.2709356169651175,
           0.2709356169651175,
           0.2709356169651175
          ],
          [
           0.2709356169651175,
           0.2709356169651175,
           0.2709356169651175
          ],
          [
           0.2709356169651175,
           0.2709356169651175,
           0.2709356169651175
          ],
          [
           0.2709356169651175,
           0.2709356169651175,
           0.2709356169651175
          ]
         ],
         "theta": [
          "acousticness",
          "danceability",
          "duration_ms",
          "energy",
          "instrumentalness",
          "key",
          "liveness",
          "loudness",
          "mode",
          "speechiness",
          "tempo",
          "time_signature",
          "valence",
          "acousticness",
          "acousticness",
          "acousticness"
         ],
         "type": "scatterpolar"
        },
        {
         "fill": "toself",
         "name": "Cluster 1",
         "r": [
          [
           0.10147339357429719,
           0.10147339357429719,
           0.10147339357429719
          ],
          0.65334008097166,
          0.05313226701954455,
          0.62825,
          0.19796403242147922,
          0.2954545454545454,
          0.18934343434343434,
          0.8595640468390151,
          0.5,
          0.07474120082815734,
          0.4755558691970295,
          0.8,
          0.6594094094094094,
          [
           0.10147339357429719,
           0.10147339357429719,
           0.10147339357429719
          ],
          [
           0.10147339357429719,
           0.10147339357429719,
           0.10147339357429719
          ],
          [
           0.10147339357429719,
           0.10147339357429719,
           0.10147339357429719
          ],
          [
           0.10147339357429719,
           0.10147339357429719,
           0.10147339357429719
          ]
         ],
         "theta": [
          "acousticness",
          "danceability",
          "duration_ms",
          "energy",
          "instrumentalness",
          "key",
          "liveness",
          "loudness",
          "mode",
          "speechiness",
          "tempo",
          "time_signature",
          "valence",
          "acousticness",
          "acousticness",
          "acousticness"
         ],
         "type": "scatterpolar"
        },
        {
         "fill": "toself",
         "name": "Cluster 2",
         "r": [
          [
           null,
           null,
           null
          ],
          null,
          null,
          null,
          null,
          null,
          null,
          null,
          null,
          null,
          null,
          null,
          null,
          [
           null,
           null,
           null
          ],
          [
           null,
           null,
           null
          ],
          [
           null,
           null,
           null
          ],
          [
           null,
           null,
           null
          ]
         ],
         "theta": [
          "acousticness",
          "danceability",
          "duration_ms",
          "energy",
          "instrumentalness",
          "key",
          "liveness",
          "loudness",
          "mode",
          "speechiness",
          "tempo",
          "time_signature",
          "valence",
          "acousticness",
          "acousticness",
          "acousticness"
         ],
         "type": "scatterpolar"
        },
        {
         "fill": "toself",
         "name": "Cluster 3",
         "r": [
          [
           null,
           null,
           null
          ],
          null,
          null,
          null,
          null,
          null,
          null,
          null,
          null,
          null,
          null,
          null,
          null,
          [
           null,
           null,
           null
          ],
          [
           null,
           null,
           null
          ],
          [
           null,
           null,
           null
          ],
          [
           null,
           null,
           null
          ]
         ],
         "theta": [
          "acousticness",
          "danceability",
          "duration_ms",
          "energy",
          "instrumentalness",
          "key",
          "liveness",
          "loudness",
          "mode",
          "speechiness",
          "tempo",
          "time_signature",
          "valence",
          "acousticness",
          "acousticness",
          "acousticness"
         ],
         "type": "scatterpolar"
        }
       ],
       "layout": {
        "polar": {
         "radialaxis": {
          "range": [
           0,
           1
          ],
          "visible": true
         }
        },
        "showlegend": true,
        "template": {
         "data": {
          "bar": [
           {
            "error_x": {
             "color": "#f2f5fa"
            },
            "error_y": {
             "color": "#f2f5fa"
            },
            "marker": {
             "line": {
              "color": "rgb(17,17,17)",
              "width": 0.5
             }
            },
            "type": "bar"
           }
          ],
          "barpolar": [
           {
            "marker": {
             "line": {
              "color": "rgb(17,17,17)",
              "width": 0.5
             }
            },
            "type": "barpolar"
           }
          ],
          "carpet": [
           {
            "aaxis": {
             "endlinecolor": "#A2B1C6",
             "gridcolor": "#506784",
             "linecolor": "#506784",
             "minorgridcolor": "#506784",
             "startlinecolor": "#A2B1C6"
            },
            "baxis": {
             "endlinecolor": "#A2B1C6",
             "gridcolor": "#506784",
             "linecolor": "#506784",
             "minorgridcolor": "#506784",
             "startlinecolor": "#A2B1C6"
            },
            "type": "carpet"
           }
          ],
          "choropleth": [
           {
            "colorbar": {
             "outlinewidth": 0,
             "ticks": ""
            },
            "type": "choropleth"
           }
          ],
          "contour": [
           {
            "colorbar": {
             "outlinewidth": 0,
             "ticks": ""
            },
            "colorscale": [
             [
              0,
              "#0d0887"
             ],
             [
              0.1111111111111111,
              "#46039f"
             ],
             [
              0.2222222222222222,
              "#7201a8"
             ],
             [
              0.3333333333333333,
              "#9c179e"
             ],
             [
              0.4444444444444444,
              "#bd3786"
             ],
             [
              0.5555555555555556,
              "#d8576b"
             ],
             [
              0.6666666666666666,
              "#ed7953"
             ],
             [
              0.7777777777777778,
              "#fb9f3a"
             ],
             [
              0.8888888888888888,
              "#fdca26"
             ],
             [
              1,
              "#f0f921"
             ]
            ],
            "type": "contour"
           }
          ],
          "contourcarpet": [
           {
            "colorbar": {
             "outlinewidth": 0,
             "ticks": ""
            },
            "type": "contourcarpet"
           }
          ],
          "heatmap": [
           {
            "colorbar": {
             "outlinewidth": 0,
             "ticks": ""
            },
            "colorscale": [
             [
              0,
              "#0d0887"
             ],
             [
              0.1111111111111111,
              "#46039f"
             ],
             [
              0.2222222222222222,
              "#7201a8"
             ],
             [
              0.3333333333333333,
              "#9c179e"
             ],
             [
              0.4444444444444444,
              "#bd3786"
             ],
             [
              0.5555555555555556,
              "#d8576b"
             ],
             [
              0.6666666666666666,
              "#ed7953"
             ],
             [
              0.7777777777777778,
              "#fb9f3a"
             ],
             [
              0.8888888888888888,
              "#fdca26"
             ],
             [
              1,
              "#f0f921"
             ]
            ],
            "type": "heatmap"
           }
          ],
          "heatmapgl": [
           {
            "colorbar": {
             "outlinewidth": 0,
             "ticks": ""
            },
            "colorscale": [
             [
              0,
              "#0d0887"
             ],
             [
              0.1111111111111111,
              "#46039f"
             ],
             [
              0.2222222222222222,
              "#7201a8"
             ],
             [
              0.3333333333333333,
              "#9c179e"
             ],
             [
              0.4444444444444444,
              "#bd3786"
             ],
             [
              0.5555555555555556,
              "#d8576b"
             ],
             [
              0.6666666666666666,
              "#ed7953"
             ],
             [
              0.7777777777777778,
              "#fb9f3a"
             ],
             [
              0.8888888888888888,
              "#fdca26"
             ],
             [
              1,
              "#f0f921"
             ]
            ],
            "type": "heatmapgl"
           }
          ],
          "histogram": [
           {
            "marker": {
             "colorbar": {
              "outlinewidth": 0,
              "ticks": ""
             }
            },
            "type": "histogram"
           }
          ],
          "histogram2d": [
           {
            "colorbar": {
             "outlinewidth": 0,
             "ticks": ""
            },
            "colorscale": [
             [
              0,
              "#0d0887"
             ],
             [
              0.1111111111111111,
              "#46039f"
             ],
             [
              0.2222222222222222,
              "#7201a8"
             ],
             [
              0.3333333333333333,
              "#9c179e"
             ],
             [
              0.4444444444444444,
              "#bd3786"
             ],
             [
              0.5555555555555556,
              "#d8576b"
             ],
             [
              0.6666666666666666,
              "#ed7953"
             ],
             [
              0.7777777777777778,
              "#fb9f3a"
             ],
             [
              0.8888888888888888,
              "#fdca26"
             ],
             [
              1,
              "#f0f921"
             ]
            ],
            "type": "histogram2d"
           }
          ],
          "histogram2dcontour": [
           {
            "colorbar": {
             "outlinewidth": 0,
             "ticks": ""
            },
            "colorscale": [
             [
              0,
              "#0d0887"
             ],
             [
              0.1111111111111111,
              "#46039f"
             ],
             [
              0.2222222222222222,
              "#7201a8"
             ],
             [
              0.3333333333333333,
              "#9c179e"
             ],
             [
              0.4444444444444444,
              "#bd3786"
             ],
             [
              0.5555555555555556,
              "#d8576b"
             ],
             [
              0.6666666666666666,
              "#ed7953"
             ],
             [
              0.7777777777777778,
              "#fb9f3a"
             ],
             [
              0.8888888888888888,
              "#fdca26"
             ],
             [
              1,
              "#f0f921"
             ]
            ],
            "type": "histogram2dcontour"
           }
          ],
          "mesh3d": [
           {
            "colorbar": {
             "outlinewidth": 0,
             "ticks": ""
            },
            "type": "mesh3d"
           }
          ],
          "parcoords": [
           {
            "line": {
             "colorbar": {
              "outlinewidth": 0,
              "ticks": ""
             }
            },
            "type": "parcoords"
           }
          ],
          "pie": [
           {
            "automargin": true,
            "type": "pie"
           }
          ],
          "scatter": [
           {
            "marker": {
             "line": {
              "color": "#283442"
             }
            },
            "type": "scatter"
           }
          ],
          "scatter3d": [
           {
            "line": {
             "colorbar": {
              "outlinewidth": 0,
              "ticks": ""
             }
            },
            "marker": {
             "colorbar": {
              "outlinewidth": 0,
              "ticks": ""
             }
            },
            "type": "scatter3d"
           }
          ],
          "scattercarpet": [
           {
            "marker": {
             "colorbar": {
              "outlinewidth": 0,
              "ticks": ""
             }
            },
            "type": "scattercarpet"
           }
          ],
          "scattergeo": [
           {
            "marker": {
             "colorbar": {
              "outlinewidth": 0,
              "ticks": ""
             }
            },
            "type": "scattergeo"
           }
          ],
          "scattergl": [
           {
            "marker": {
             "line": {
              "color": "#283442"
             }
            },
            "type": "scattergl"
           }
          ],
          "scattermapbox": [
           {
            "marker": {
             "colorbar": {
              "outlinewidth": 0,
              "ticks": ""
             }
            },
            "type": "scattermapbox"
           }
          ],
          "scatterpolar": [
           {
            "marker": {
             "colorbar": {
              "outlinewidth": 0,
              "ticks": ""
             }
            },
            "type": "scatterpolar"
           }
          ],
          "scatterpolargl": [
           {
            "marker": {
             "colorbar": {
              "outlinewidth": 0,
              "ticks": ""
             }
            },
            "type": "scatterpolargl"
           }
          ],
          "scatterternary": [
           {
            "marker": {
             "colorbar": {
              "outlinewidth": 0,
              "ticks": ""
             }
            },
            "type": "scatterternary"
           }
          ],
          "surface": [
           {
            "colorbar": {
             "outlinewidth": 0,
             "ticks": ""
            },
            "colorscale": [
             [
              0,
              "#0d0887"
             ],
             [
              0.1111111111111111,
              "#46039f"
             ],
             [
              0.2222222222222222,
              "#7201a8"
             ],
             [
              0.3333333333333333,
              "#9c179e"
             ],
             [
              0.4444444444444444,
              "#bd3786"
             ],
             [
              0.5555555555555556,
              "#d8576b"
             ],
             [
              0.6666666666666666,
              "#ed7953"
             ],
             [
              0.7777777777777778,
              "#fb9f3a"
             ],
             [
              0.8888888888888888,
              "#fdca26"
             ],
             [
              1,
              "#f0f921"
             ]
            ],
            "type": "surface"
           }
          ],
          "table": [
           {
            "cells": {
             "fill": {
              "color": "#506784"
             },
             "line": {
              "color": "rgb(17,17,17)"
             }
            },
            "header": {
             "fill": {
              "color": "#2a3f5f"
             },
             "line": {
              "color": "rgb(17,17,17)"
             }
            },
            "type": "table"
           }
          ]
         },
         "layout": {
          "annotationdefaults": {
           "arrowcolor": "#f2f5fa",
           "arrowhead": 0,
           "arrowwidth": 1
          },
          "autotypenumbers": "strict",
          "coloraxis": {
           "colorbar": {
            "outlinewidth": 0,
            "ticks": ""
           }
          },
          "colorscale": {
           "diverging": [
            [
             0,
             "#8e0152"
            ],
            [
             0.1,
             "#c51b7d"
            ],
            [
             0.2,
             "#de77ae"
            ],
            [
             0.3,
             "#f1b6da"
            ],
            [
             0.4,
             "#fde0ef"
            ],
            [
             0.5,
             "#f7f7f7"
            ],
            [
             0.6,
             "#e6f5d0"
            ],
            [
             0.7,
             "#b8e186"
            ],
            [
             0.8,
             "#7fbc41"
            ],
            [
             0.9,
             "#4d9221"
            ],
            [
             1,
             "#276419"
            ]
           ],
           "sequential": [
            [
             0,
             "#0d0887"
            ],
            [
             0.1111111111111111,
             "#46039f"
            ],
            [
             0.2222222222222222,
             "#7201a8"
            ],
            [
             0.3333333333333333,
             "#9c179e"
            ],
            [
             0.4444444444444444,
             "#bd3786"
            ],
            [
             0.5555555555555556,
             "#d8576b"
            ],
            [
             0.6666666666666666,
             "#ed7953"
            ],
            [
             0.7777777777777778,
             "#fb9f3a"
            ],
            [
             0.8888888888888888,
             "#fdca26"
            ],
            [
             1,
             "#f0f921"
            ]
           ],
           "sequentialminus": [
            [
             0,
             "#0d0887"
            ],
            [
             0.1111111111111111,
             "#46039f"
            ],
            [
             0.2222222222222222,
             "#7201a8"
            ],
            [
             0.3333333333333333,
             "#9c179e"
            ],
            [
             0.4444444444444444,
             "#bd3786"
            ],
            [
             0.5555555555555556,
             "#d8576b"
            ],
            [
             0.6666666666666666,
             "#ed7953"
            ],
            [
             0.7777777777777778,
             "#fb9f3a"
            ],
            [
             0.8888888888888888,
             "#fdca26"
            ],
            [
             1,
             "#f0f921"
            ]
           ]
          },
          "colorway": [
           "#636efa",
           "#EF553B",
           "#00cc96",
           "#ab63fa",
           "#FFA15A",
           "#19d3f3",
           "#FF6692",
           "#B6E880",
           "#FF97FF",
           "#FECB52"
          ],
          "font": {
           "color": "#f2f5fa"
          },
          "geo": {
           "bgcolor": "rgb(17,17,17)",
           "lakecolor": "rgb(17,17,17)",
           "landcolor": "rgb(17,17,17)",
           "showlakes": true,
           "showland": true,
           "subunitcolor": "#506784"
          },
          "hoverlabel": {
           "align": "left"
          },
          "hovermode": "closest",
          "mapbox": {
           "style": "dark"
          },
          "paper_bgcolor": "rgb(17,17,17)",
          "plot_bgcolor": "rgb(17,17,17)",
          "polar": {
           "angularaxis": {
            "gridcolor": "#506784",
            "linecolor": "#506784",
            "ticks": ""
           },
           "bgcolor": "rgb(17,17,17)",
           "radialaxis": {
            "gridcolor": "#506784",
            "linecolor": "#506784",
            "ticks": ""
           }
          },
          "scene": {
           "xaxis": {
            "backgroundcolor": "rgb(17,17,17)",
            "gridcolor": "#506784",
            "gridwidth": 2,
            "linecolor": "#506784",
            "showbackground": true,
            "ticks": "",
            "zerolinecolor": "#C8D4E3"
           },
           "yaxis": {
            "backgroundcolor": "rgb(17,17,17)",
            "gridcolor": "#506784",
            "gridwidth": 2,
            "linecolor": "#506784",
            "showbackground": true,
            "ticks": "",
            "zerolinecolor": "#C8D4E3"
           },
           "zaxis": {
            "backgroundcolor": "rgb(17,17,17)",
            "gridcolor": "#506784",
            "gridwidth": 2,
            "linecolor": "#506784",
            "showbackground": true,
            "ticks": "",
            "zerolinecolor": "#C8D4E3"
           }
          },
          "shapedefaults": {
           "line": {
            "color": "#f2f5fa"
           }
          },
          "sliderdefaults": {
           "bgcolor": "#C8D4E3",
           "bordercolor": "rgb(17,17,17)",
           "borderwidth": 1,
           "tickwidth": 0
          },
          "ternary": {
           "aaxis": {
            "gridcolor": "#506784",
            "linecolor": "#506784",
            "ticks": ""
           },
           "baxis": {
            "gridcolor": "#506784",
            "linecolor": "#506784",
            "ticks": ""
           },
           "bgcolor": "rgb(17,17,17)",
           "caxis": {
            "gridcolor": "#506784",
            "linecolor": "#506784",
            "ticks": ""
           }
          },
          "title": {
           "x": 0.05
          },
          "updatemenudefaults": {
           "bgcolor": "#506784",
           "borderwidth": 0
          },
          "xaxis": {
           "automargin": true,
           "gridcolor": "#283442",
           "linecolor": "#506784",
           "ticks": "",
           "title": {
            "standoff": 15
           },
           "zerolinecolor": "#283442",
           "zerolinewidth": 2
          },
          "yaxis": {
           "automargin": true,
           "gridcolor": "#283442",
           "linecolor": "#506784",
           "ticks": "",
           "title": {
            "standoff": 15
           },
           "zerolinecolor": "#283442",
           "zerolinewidth": 2
          }
         }
        }
       }
      },
      "text/html": [
       "<div>                            <div id=\"1d8d9f39-f636-44d2-abc7-1e21960510c0\" class=\"plotly-graph-div\" style=\"height:525px; width:100%;\"></div>            <script type=\"text/javascript\">                require([\"plotly\"], function(Plotly) {                    window.PLOTLYENV=window.PLOTLYENV || {};                                    if (document.getElementById(\"1d8d9f39-f636-44d2-abc7-1e21960510c0\")) {                    Plotly.newPlot(                        \"1d8d9f39-f636-44d2-abc7-1e21960510c0\",                        [{\"fill\": \"toself\", \"name\": \"Cluster 0\", \"r\": [[0.2709356169651175, 0.2709356169651175, 0.2709356169651175], 0.6554757408832866, 0.05582739229444471, 0.6481163185557592, 0.01601407451578011, 0.47841532325079017, 0.18079538529721312, 0.8631190995586138, 0.5946069469835467, 0.11669477026960523, 0.5234081430439061, 0.7915904936015116, 0.5040954574318381, [0.2709356169651175, 0.2709356169651175, 0.2709356169651175], [0.2709356169651175, 0.2709356169651175, 0.2709356169651175], [0.2709356169651175, 0.2709356169651175, 0.2709356169651175], [0.2709356169651175, 0.2709356169651175, 0.2709356169651175]], \"theta\": [\"acousticness\", \"danceability\", \"duration_ms\", \"energy\", \"instrumentalness\", \"key\", \"liveness\", \"loudness\", \"mode\", \"speechiness\", \"tempo\", \"time_signature\", \"valence\", \"acousticness\", \"acousticness\", \"acousticness\"], \"type\": \"scatterpolar\"}, {\"fill\": \"toself\", \"name\": \"Cluster 1\", \"r\": [[0.10147339357429719, 0.10147339357429719, 0.10147339357429719], 0.65334008097166, 0.05313226701954455, 0.62825, 0.19796403242147922, 0.2954545454545454, 0.18934343434343434, 0.8595640468390151, 0.5, 0.07474120082815734, 0.4755558691970295, 0.8, 0.6594094094094094, [0.10147339357429719, 0.10147339357429719, 0.10147339357429719], [0.10147339357429719, 0.10147339357429719, 0.10147339357429719], [0.10147339357429719, 0.10147339357429719, 0.10147339357429719], [0.10147339357429719, 0.10147339357429719, 0.10147339357429719]], \"theta\": [\"acousticness\", \"danceability\", \"duration_ms\", \"energy\", \"instrumentalness\", \"key\", \"liveness\", \"loudness\", \"mode\", \"speechiness\", \"tempo\", \"time_signature\", \"valence\", \"acousticness\", \"acousticness\", \"acousticness\"], \"type\": \"scatterpolar\"}, {\"fill\": \"toself\", \"name\": \"Cluster 2\", \"r\": [[null, null, null], null, null, null, null, null, null, null, null, null, null, null, null, [null, null, null], [null, null, null], [null, null, null], [null, null, null]], \"theta\": [\"acousticness\", \"danceability\", \"duration_ms\", \"energy\", \"instrumentalness\", \"key\", \"liveness\", \"loudness\", \"mode\", \"speechiness\", \"tempo\", \"time_signature\", \"valence\", \"acousticness\", \"acousticness\", \"acousticness\"], \"type\": \"scatterpolar\"}, {\"fill\": \"toself\", \"name\": \"Cluster 3\", \"r\": [[null, null, null], null, null, null, null, null, null, null, null, null, null, null, null, [null, null, null], [null, null, null], [null, null, null], [null, null, null]], \"theta\": [\"acousticness\", \"danceability\", \"duration_ms\", \"energy\", \"instrumentalness\", \"key\", \"liveness\", \"loudness\", \"mode\", \"speechiness\", \"tempo\", \"time_signature\", \"valence\", \"acousticness\", \"acousticness\", \"acousticness\"], \"type\": \"scatterpolar\"}],                        {\"polar\": {\"radialaxis\": {\"range\": [0, 1], \"visible\": true}}, \"showlegend\": true, \"template\": {\"data\": {\"bar\": [{\"error_x\": {\"color\": \"#f2f5fa\"}, \"error_y\": {\"color\": \"#f2f5fa\"}, \"marker\": {\"line\": {\"color\": \"rgb(17,17,17)\", \"width\": 0.5}}, \"type\": \"bar\"}], \"barpolar\": [{\"marker\": {\"line\": {\"color\": \"rgb(17,17,17)\", \"width\": 0.5}}, \"type\": \"barpolar\"}], \"carpet\": [{\"aaxis\": {\"endlinecolor\": \"#A2B1C6\", \"gridcolor\": \"#506784\", \"linecolor\": \"#506784\", \"minorgridcolor\": \"#506784\", \"startlinecolor\": \"#A2B1C6\"}, \"baxis\": {\"endlinecolor\": \"#A2B1C6\", \"gridcolor\": \"#506784\", \"linecolor\": \"#506784\", \"minorgridcolor\": \"#506784\", \"startlinecolor\": \"#A2B1C6\"}, \"type\": \"carpet\"}], \"choropleth\": [{\"colorbar\": {\"outlinewidth\": 0, \"ticks\": \"\"}, \"type\": \"choropleth\"}], \"contour\": [{\"colorbar\": {\"outlinewidth\": 0, \"ticks\": \"\"}, \"colorscale\": [[0.0, \"#0d0887\"], [0.1111111111111111, \"#46039f\"], [0.2222222222222222, \"#7201a8\"], [0.3333333333333333, \"#9c179e\"], [0.4444444444444444, \"#bd3786\"], [0.5555555555555556, \"#d8576b\"], [0.6666666666666666, \"#ed7953\"], [0.7777777777777778, \"#fb9f3a\"], [0.8888888888888888, \"#fdca26\"], [1.0, \"#f0f921\"]], \"type\": \"contour\"}], \"contourcarpet\": [{\"colorbar\": {\"outlinewidth\": 0, \"ticks\": \"\"}, \"type\": \"contourcarpet\"}], \"heatmap\": [{\"colorbar\": {\"outlinewidth\": 0, \"ticks\": \"\"}, \"colorscale\": [[0.0, \"#0d0887\"], [0.1111111111111111, \"#46039f\"], [0.2222222222222222, \"#7201a8\"], [0.3333333333333333, \"#9c179e\"], [0.4444444444444444, \"#bd3786\"], [0.5555555555555556, \"#d8576b\"], [0.6666666666666666, \"#ed7953\"], [0.7777777777777778, \"#fb9f3a\"], [0.8888888888888888, \"#fdca26\"], [1.0, \"#f0f921\"]], \"type\": \"heatmap\"}], \"heatmapgl\": [{\"colorbar\": {\"outlinewidth\": 0, \"ticks\": \"\"}, \"colorscale\": [[0.0, \"#0d0887\"], [0.1111111111111111, \"#46039f\"], [0.2222222222222222, \"#7201a8\"], [0.3333333333333333, \"#9c179e\"], [0.4444444444444444, \"#bd3786\"], [0.5555555555555556, \"#d8576b\"], [0.6666666666666666, \"#ed7953\"], [0.7777777777777778, \"#fb9f3a\"], [0.8888888888888888, \"#fdca26\"], [1.0, \"#f0f921\"]], \"type\": \"heatmapgl\"}], \"histogram\": [{\"marker\": {\"colorbar\": {\"outlinewidth\": 0, \"ticks\": \"\"}}, \"type\": \"histogram\"}], \"histogram2d\": [{\"colorbar\": {\"outlinewidth\": 0, \"ticks\": \"\"}, \"colorscale\": [[0.0, \"#0d0887\"], [0.1111111111111111, \"#46039f\"], [0.2222222222222222, \"#7201a8\"], [0.3333333333333333, \"#9c179e\"], [0.4444444444444444, \"#bd3786\"], [0.5555555555555556, \"#d8576b\"], [0.6666666666666666, \"#ed7953\"], [0.7777777777777778, \"#fb9f3a\"], [0.8888888888888888, \"#fdca26\"], [1.0, \"#f0f921\"]], \"type\": \"histogram2d\"}], \"histogram2dcontour\": [{\"colorbar\": {\"outlinewidth\": 0, \"ticks\": \"\"}, \"colorscale\": [[0.0, \"#0d0887\"], [0.1111111111111111, \"#46039f\"], [0.2222222222222222, \"#7201a8\"], [0.3333333333333333, \"#9c179e\"], [0.4444444444444444, \"#bd3786\"], [0.5555555555555556, \"#d8576b\"], [0.6666666666666666, \"#ed7953\"], [0.7777777777777778, \"#fb9f3a\"], [0.8888888888888888, \"#fdca26\"], [1.0, \"#f0f921\"]], \"type\": \"histogram2dcontour\"}], \"mesh3d\": [{\"colorbar\": {\"outlinewidth\": 0, \"ticks\": \"\"}, \"type\": \"mesh3d\"}], \"parcoords\": [{\"line\": {\"colorbar\": {\"outlinewidth\": 0, \"ticks\": \"\"}}, \"type\": \"parcoords\"}], \"pie\": [{\"automargin\": true, \"type\": \"pie\"}], \"scatter\": [{\"marker\": {\"line\": {\"color\": \"#283442\"}}, \"type\": \"scatter\"}], \"scatter3d\": [{\"line\": {\"colorbar\": {\"outlinewidth\": 0, \"ticks\": \"\"}}, \"marker\": {\"colorbar\": {\"outlinewidth\": 0, \"ticks\": \"\"}}, \"type\": \"scatter3d\"}], \"scattercarpet\": [{\"marker\": {\"colorbar\": {\"outlinewidth\": 0, \"ticks\": \"\"}}, \"type\": \"scattercarpet\"}], \"scattergeo\": [{\"marker\": {\"colorbar\": {\"outlinewidth\": 0, \"ticks\": \"\"}}, \"type\": \"scattergeo\"}], \"scattergl\": [{\"marker\": {\"line\": {\"color\": \"#283442\"}}, \"type\": \"scattergl\"}], \"scattermapbox\": [{\"marker\": {\"colorbar\": {\"outlinewidth\": 0, \"ticks\": \"\"}}, \"type\": \"scattermapbox\"}], \"scatterpolar\": [{\"marker\": {\"colorbar\": {\"outlinewidth\": 0, \"ticks\": \"\"}}, \"type\": \"scatterpolar\"}], \"scatterpolargl\": [{\"marker\": {\"colorbar\": {\"outlinewidth\": 0, \"ticks\": \"\"}}, \"type\": \"scatterpolargl\"}], \"scatterternary\": [{\"marker\": {\"colorbar\": {\"outlinewidth\": 0, \"ticks\": \"\"}}, \"type\": \"scatterternary\"}], \"surface\": [{\"colorbar\": {\"outlinewidth\": 0, \"ticks\": \"\"}, \"colorscale\": [[0.0, \"#0d0887\"], [0.1111111111111111, \"#46039f\"], [0.2222222222222222, \"#7201a8\"], [0.3333333333333333, \"#9c179e\"], [0.4444444444444444, \"#bd3786\"], [0.5555555555555556, \"#d8576b\"], [0.6666666666666666, \"#ed7953\"], [0.7777777777777778, \"#fb9f3a\"], [0.8888888888888888, \"#fdca26\"], [1.0, \"#f0f921\"]], \"type\": \"surface\"}], \"table\": [{\"cells\": {\"fill\": {\"color\": \"#506784\"}, \"line\": {\"color\": \"rgb(17,17,17)\"}}, \"header\": {\"fill\": {\"color\": \"#2a3f5f\"}, \"line\": {\"color\": \"rgb(17,17,17)\"}}, \"type\": \"table\"}]}, \"layout\": {\"annotationdefaults\": {\"arrowcolor\": \"#f2f5fa\", \"arrowhead\": 0, \"arrowwidth\": 1}, \"autotypenumbers\": \"strict\", \"coloraxis\": {\"colorbar\": {\"outlinewidth\": 0, \"ticks\": \"\"}}, \"colorscale\": {\"diverging\": [[0, \"#8e0152\"], [0.1, \"#c51b7d\"], [0.2, \"#de77ae\"], [0.3, \"#f1b6da\"], [0.4, \"#fde0ef\"], [0.5, \"#f7f7f7\"], [0.6, \"#e6f5d0\"], [0.7, \"#b8e186\"], [0.8, \"#7fbc41\"], [0.9, \"#4d9221\"], [1, \"#276419\"]], \"sequential\": [[0.0, \"#0d0887\"], [0.1111111111111111, \"#46039f\"], [0.2222222222222222, \"#7201a8\"], [0.3333333333333333, \"#9c179e\"], [0.4444444444444444, \"#bd3786\"], [0.5555555555555556, \"#d8576b\"], [0.6666666666666666, \"#ed7953\"], [0.7777777777777778, \"#fb9f3a\"], [0.8888888888888888, \"#fdca26\"], [1.0, \"#f0f921\"]], \"sequentialminus\": [[0.0, \"#0d0887\"], [0.1111111111111111, \"#46039f\"], [0.2222222222222222, \"#7201a8\"], [0.3333333333333333, \"#9c179e\"], [0.4444444444444444, \"#bd3786\"], [0.5555555555555556, \"#d8576b\"], [0.6666666666666666, \"#ed7953\"], [0.7777777777777778, \"#fb9f3a\"], [0.8888888888888888, \"#fdca26\"], [1.0, \"#f0f921\"]]}, \"colorway\": [\"#636efa\", \"#EF553B\", \"#00cc96\", \"#ab63fa\", \"#FFA15A\", \"#19d3f3\", \"#FF6692\", \"#B6E880\", \"#FF97FF\", \"#FECB52\"], \"font\": {\"color\": \"#f2f5fa\"}, \"geo\": {\"bgcolor\": \"rgb(17,17,17)\", \"lakecolor\": \"rgb(17,17,17)\", \"landcolor\": \"rgb(17,17,17)\", \"showlakes\": true, \"showland\": true, \"subunitcolor\": \"#506784\"}, \"hoverlabel\": {\"align\": \"left\"}, \"hovermode\": \"closest\", \"mapbox\": {\"style\": \"dark\"}, \"paper_bgcolor\": \"rgb(17,17,17)\", \"plot_bgcolor\": \"rgb(17,17,17)\", \"polar\": {\"angularaxis\": {\"gridcolor\": \"#506784\", \"linecolor\": \"#506784\", \"ticks\": \"\"}, \"bgcolor\": \"rgb(17,17,17)\", \"radialaxis\": {\"gridcolor\": \"#506784\", \"linecolor\": \"#506784\", \"ticks\": \"\"}}, \"scene\": {\"xaxis\": {\"backgroundcolor\": \"rgb(17,17,17)\", \"gridcolor\": \"#506784\", \"gridwidth\": 2, \"linecolor\": \"#506784\", \"showbackground\": true, \"ticks\": \"\", \"zerolinecolor\": \"#C8D4E3\"}, \"yaxis\": {\"backgroundcolor\": \"rgb(17,17,17)\", \"gridcolor\": \"#506784\", \"gridwidth\": 2, \"linecolor\": \"#506784\", \"showbackground\": true, \"ticks\": \"\", \"zerolinecolor\": \"#C8D4E3\"}, \"zaxis\": {\"backgroundcolor\": \"rgb(17,17,17)\", \"gridcolor\": \"#506784\", \"gridwidth\": 2, \"linecolor\": \"#506784\", \"showbackground\": true, \"ticks\": \"\", \"zerolinecolor\": \"#C8D4E3\"}}, \"shapedefaults\": {\"line\": {\"color\": \"#f2f5fa\"}}, \"sliderdefaults\": {\"bgcolor\": \"#C8D4E3\", \"bordercolor\": \"rgb(17,17,17)\", \"borderwidth\": 1, \"tickwidth\": 0}, \"ternary\": {\"aaxis\": {\"gridcolor\": \"#506784\", \"linecolor\": \"#506784\", \"ticks\": \"\"}, \"baxis\": {\"gridcolor\": \"#506784\", \"linecolor\": \"#506784\", \"ticks\": \"\"}, \"bgcolor\": \"rgb(17,17,17)\", \"caxis\": {\"gridcolor\": \"#506784\", \"linecolor\": \"#506784\", \"ticks\": \"\"}}, \"title\": {\"x\": 0.05}, \"updatemenudefaults\": {\"bgcolor\": \"#506784\", \"borderwidth\": 0}, \"xaxis\": {\"automargin\": true, \"gridcolor\": \"#283442\", \"linecolor\": \"#506784\", \"ticks\": \"\", \"title\": {\"standoff\": 15}, \"zerolinecolor\": \"#283442\", \"zerolinewidth\": 2}, \"yaxis\": {\"automargin\": true, \"gridcolor\": \"#283442\", \"linecolor\": \"#506784\", \"ticks\": \"\", \"title\": {\"standoff\": 15}, \"zerolinecolor\": \"#283442\", \"zerolinewidth\": 2}}}},                        {\"responsive\": true}                    ).then(function(){\n",
       "                            \n",
       "var gd = document.getElementById('1d8d9f39-f636-44d2-abc7-1e21960510c0');\n",
       "var x = new MutationObserver(function (mutations, observer) {{\n",
       "        var display = window.getComputedStyle(gd).display;\n",
       "        if (!display || display === 'none') {{\n",
       "            console.log([gd, 'removed!']);\n",
       "            Plotly.purge(gd);\n",
       "            observer.disconnect();\n",
       "        }}\n",
       "}});\n",
       "\n",
       "// Listen for the removal of the full notebook cells\n",
       "var notebookContainer = gd.closest('#notebook-container');\n",
       "if (notebookContainer) {{\n",
       "    x.observe(notebookContainer, {childList: true});\n",
       "}}\n",
       "\n",
       "// Listen for the clearing of the current output cell\n",
       "var outputEl = gd.closest('.output');\n",
       "if (outputEl) {{\n",
       "    x.observe(outputEl, {childList: true});\n",
       "}}\n",
       "\n",
       "                        })                };                });            </script>        </div>"
      ]
     },
     "metadata": {},
     "output_type": "display_data"
    }
   ],
   "source": [
    "opt_clusters = 4\n",
    "\n",
    "\n",
    "fig = go.Figure()\n",
    "\n",
    "angles = feature_list\n",
    "angles.append(angles[0])\n",
    "layoutdict = dict(\n",
    "            radialaxis=dict(\n",
    "            visible=True,\n",
    "            range=[0, 1]\n",
    "            ))\n",
    "for i in range(opt_clusters):\n",
    "    subset = scaled_df[scaled_df['AC Cluster 4'] == i]\n",
    "    data = [np.mean(subset[col]) for col in feature_list]\n",
    "    data.append(data[0])\n",
    "    fig.add_trace(go.Scatterpolar(\n",
    "        r=data,\n",
    "        theta=angles,\n",
    "        fill='toself',\n",
    "        name=\"Cluster \" + str(i)))\n",
    "    \n",
    "fig.update_layout(\n",
    "        polar=layoutdict,\n",
    "        showlegend=True,template='plotly_dark'\n",
    "        )\n",
    "fig.show()"
   ]
  },
  {
   "cell_type": "code",
   "execution_count": null,
   "metadata": {},
   "outputs": [],
   "source": [
    "principalDF_sample['HC Cluster'] = hc.fit_predict(principalDF_sample.values)"
   ]
  },
  {
   "cell_type": "code",
   "execution_count": null,
   "metadata": {},
   "outputs": [],
   "source": [
    "music_features['HC Cluster'] = principalDF_sample['HC Cluster']"
   ]
  },
  {
   "cell_type": "markdown",
   "metadata": {},
   "source": [
    "## K Means Clustering"
   ]
  },
  {
   "cell_type": "code",
   "execution_count": 186,
   "metadata": {},
   "outputs": [
    {
     "name": "stdout",
     "output_type": "stream",
     "text": [
      "6\n"
     ]
    },
    {
     "data": {
      "image/png": "[encoded data removed]",
      "text/plain": [
       "<Figure size 1152x576 with 1 Axes>"
      ]
     },
     "metadata": {
      "needs_background": "light"
     },
     "output_type": "display_data"
    }
   ],
   "source": [
    "#Elbow method to select optimum number of clusters\n",
    "import matplotlib.pyplot as plt\n",
    "%matplotlib inline \n",
    "from sklearn.cluster import KMeans\n",
    "from sklearn import datasets\n",
    "\n",
    "\n",
    "distortions = []\n",
    "K = range(1,15)\n",
    "for k in K:\n",
    "    kmeanModel = KMeans(n_clusters=k)\n",
    "    kmeanModel.fit(principalDF)\n",
    "    distortions.append(kmeanModel.inertia_)\n",
    "\n",
    "from kneed import KneeLocator\n",
    "import matplotlib.pyplot as plt\n",
    "kn = KneeLocator(K, distortions, curve='convex', direction='decreasing')\n",
    "print(kn.elbow)\n",
    "\n",
    "plt.figure(figsize=(16,8))\n",
    "sb.lineplot(x = K,y = distortions)\n",
    "sb.despine()\n",
    "plt.xlabel('Number of Clusters', fontsize = 18)\n",
    "plt.ylabel('Distortion', fontsize = 18)\n",
    "plt.title('The Elbow Method Showing the Optimal Number of Clusters', fontsize = 20)\n",
    "plt.vlines(kn.elbow, plt.ylim()[0], plt.ylim()[1], linestyles='dashed')\n",
    "plt.show()"
   ]
  },
  {
   "cell_type": "code",
   "execution_count": null,
   "metadata": {},
   "outputs": [],
   "source": [
    "#Silhouette Method\n",
    "from sklearn.metrics import silhouette_score\n",
    "from sklearn.cluster import KMeans\n",
    "   \n",
    "for n_cluster in range(2, 15):\n",
    "    kmeans = KMeans(n_clusters=n_cluster).fit(principalDF)\n",
    "    label = kmeans.labels_\n",
    "    sil_coeff = silhouette_score(principalDF, label, metric='euclidean')\n",
    "    print(\"For n_clusters={}, The Silhouette Coefficient is {}\".format(n_cluster, sil_coeff))"
   ]
  },
  {
   "cell_type": "code",
   "execution_count": 187,
   "metadata": {},
   "outputs": [
    {
     "data": {
      "text/html": [
       "<div>\n",
       "<style scoped>\n",
       "    .dataframe tbody tr th:only-of-type {\n",
       "        vertical-align: middle;\n",
       "    }\n",
       "\n",
       "    .dataframe tbody tr th {\n",
       "        vertical-align: top;\n",
       "    }\n",
       "\n",
       "    .dataframe thead th {\n",
       "        text-align: right;\n",
       "    }\n",
       "</style>\n",
       "<table border=\"1\" class=\"dataframe\">\n",
       "  <thead>\n",
       "    <tr style=\"text-align: right;\">\n",
       "      <th></th>\n",
       "      <th>0</th>\n",
       "      <th>1</th>\n",
       "      <th>2</th>\n",
       "      <th>3</th>\n",
       "      <th>4</th>\n",
       "      <th>5</th>\n",
       "      <th>6</th>\n",
       "      <th>7</th>\n",
       "      <th>8</th>\n",
       "      <th>9</th>\n",
       "      <th>k_means</th>\n",
       "    </tr>\n",
       "  </thead>\n",
       "  <tbody>\n",
       "    <tr>\n",
       "      <th>0</th>\n",
       "      <td>-0.323942</td>\n",
       "      <td>-0.084281</td>\n",
       "      <td>-0.429661</td>\n",
       "      <td>0.539490</td>\n",
       "      <td>0.316716</td>\n",
       "      <td>-0.193799</td>\n",
       "      <td>-0.552014</td>\n",
       "      <td>-0.386483</td>\n",
       "      <td>-1.078083</td>\n",
       "      <td>-0.196367</td>\n",
       "      <td>2</td>\n",
       "    </tr>\n",
       "    <tr>\n",
       "      <th>1</th>\n",
       "      <td>0.378961</td>\n",
       "      <td>1.939718</td>\n",
       "      <td>-1.175013</td>\n",
       "      <td>-1.792848</td>\n",
       "      <td>-0.728229</td>\n",
       "      <td>-0.156206</td>\n",
       "      <td>0.386362</td>\n",
       "      <td>-1.590256</td>\n",
       "      <td>1.393964</td>\n",
       "      <td>-0.722652</td>\n",
       "      <td>2</td>\n",
       "    </tr>\n",
       "    <tr>\n",
       "      <th>2</th>\n",
       "      <td>-1.113958</td>\n",
       "      <td>-1.430243</td>\n",
       "      <td>-0.370018</td>\n",
       "      <td>-0.188560</td>\n",
       "      <td>-0.127277</td>\n",
       "      <td>0.513607</td>\n",
       "      <td>0.341231</td>\n",
       "      <td>0.172161</td>\n",
       "      <td>-1.670083</td>\n",
       "      <td>1.202473</td>\n",
       "      <td>2</td>\n",
       "    </tr>\n",
       "    <tr>\n",
       "      <th>3</th>\n",
       "      <td>-0.272934</td>\n",
       "      <td>-1.200805</td>\n",
       "      <td>-0.400036</td>\n",
       "      <td>-0.307038</td>\n",
       "      <td>0.730169</td>\n",
       "      <td>0.551727</td>\n",
       "      <td>0.424344</td>\n",
       "      <td>0.271747</td>\n",
       "      <td>-1.539700</td>\n",
       "      <td>0.879469</td>\n",
       "      <td>2</td>\n",
       "    </tr>\n",
       "    <tr>\n",
       "      <th>4</th>\n",
       "      <td>-0.370050</td>\n",
       "      <td>-0.649380</td>\n",
       "      <td>-0.404402</td>\n",
       "      <td>0.609033</td>\n",
       "      <td>0.219347</td>\n",
       "      <td>-0.063008</td>\n",
       "      <td>0.235505</td>\n",
       "      <td>1.458883</td>\n",
       "      <td>0.654913</td>\n",
       "      <td>-0.757454</td>\n",
       "      <td>0</td>\n",
       "    </tr>\n",
       "    <tr>\n",
       "      <th>...</th>\n",
       "      <td>...</td>\n",
       "      <td>...</td>\n",
       "      <td>...</td>\n",
       "      <td>...</td>\n",
       "      <td>...</td>\n",
       "      <td>...</td>\n",
       "      <td>...</td>\n",
       "      <td>...</td>\n",
       "      <td>...</td>\n",
       "      <td>...</td>\n",
       "      <td>...</td>\n",
       "    </tr>\n",
       "    <tr>\n",
       "      <th>88121</th>\n",
       "      <td>-1.826875</td>\n",
       "      <td>-0.471558</td>\n",
       "      <td>-0.708576</td>\n",
       "      <td>-0.523885</td>\n",
       "      <td>-0.791952</td>\n",
       "      <td>-0.073676</td>\n",
       "      <td>0.440258</td>\n",
       "      <td>-0.226395</td>\n",
       "      <td>-1.249119</td>\n",
       "      <td>0.216267</td>\n",
       "      <td>2</td>\n",
       "    </tr>\n",
       "    <tr>\n",
       "      <th>88122</th>\n",
       "      <td>3.154014</td>\n",
       "      <td>0.408757</td>\n",
       "      <td>-0.644953</td>\n",
       "      <td>0.079588</td>\n",
       "      <td>0.663705</td>\n",
       "      <td>0.639289</td>\n",
       "      <td>-0.108505</td>\n",
       "      <td>-0.735520</td>\n",
       "      <td>0.443957</td>\n",
       "      <td>-0.107262</td>\n",
       "      <td>1</td>\n",
       "    </tr>\n",
       "    <tr>\n",
       "      <th>88123</th>\n",
       "      <td>0.202027</td>\n",
       "      <td>0.831357</td>\n",
       "      <td>0.260427</td>\n",
       "      <td>1.191550</td>\n",
       "      <td>-0.650423</td>\n",
       "      <td>0.491968</td>\n",
       "      <td>-0.135471</td>\n",
       "      <td>-0.139160</td>\n",
       "      <td>-1.301201</td>\n",
       "      <td>0.165711</td>\n",
       "      <td>2</td>\n",
       "    </tr>\n",
       "    <tr>\n",
       "      <th>88124</th>\n",
       "      <td>-0.870366</td>\n",
       "      <td>-0.393651</td>\n",
       "      <td>1.689146</td>\n",
       "      <td>-0.287536</td>\n",
       "      <td>-0.359576</td>\n",
       "      <td>0.293314</td>\n",
       "      <td>-0.088890</td>\n",
       "      <td>-0.815770</td>\n",
       "      <td>0.235778</td>\n",
       "      <td>-0.083596</td>\n",
       "      <td>0</td>\n",
       "    </tr>\n",
       "    <tr>\n",
       "      <th>88125</th>\n",
       "      <td>-1.691105</td>\n",
       "      <td>-0.250521</td>\n",
       "      <td>1.233836</td>\n",
       "      <td>1.291002</td>\n",
       "      <td>0.253471</td>\n",
       "      <td>-0.208785</td>\n",
       "      <td>-1.453663</td>\n",
       "      <td>-0.715231</td>\n",
       "      <td>0.956299</td>\n",
       "      <td>0.744852</td>\n",
       "      <td>0</td>\n",
       "    </tr>\n",
       "  </tbody>\n",
       "</table>\n",
       "<p>88126 rows × 11 columns</p>\n",
       "</div>"
      ],
      "text/plain": [
       "              0         1         2         3         4         5         6  \\\n",
       "0     -0.323942 -0.084281 -0.429661  0.539490  0.316716 -0.193799 -0.552014   \n",
       "1      0.378961  1.939718 -1.175013 -1.792848 -0.728229 -0.156206  0.386362   \n",
       "2     -1.113958 -1.430243 -0.370018 -0.188560 -0.127277  0.513607  0.341231   \n",
       "3     -0.272934 -1.200805 -0.400036 -0.307038  0.730169  0.551727  0.424344   \n",
       "4     -0.370050 -0.649380 -0.404402  0.609033  0.219347 -0.063008  0.235505   \n",
       "...         ...       ...       ...       ...       ...       ...       ...   \n",
       "88121 -1.826875 -0.471558 -0.708576 -0.523885 -0.791952 -0.073676  0.440258   \n",
       "88122  3.154014  0.408757 -0.644953  0.079588  0.663705  0.639289 -0.108505   \n",
       "88123  0.202027  0.831357  0.260427  1.191550 -0.650423  0.491968 -0.135471   \n",
       "88124 -0.870366 -0.393651  1.689146 -0.287536 -0.359576  0.293314 -0.088890   \n",
       "88125 -1.691105 -0.250521  1.233836  1.291002  0.253471 -0.208785 -1.453663   \n",
       "\n",
       "              7         8         9  k_means  \n",
       "0     -0.386483 -1.078083 -0.196367        2  \n",
       "1     -1.590256  1.393964 -0.722652        2  \n",
       "2      0.172161 -1.670083  1.202473        2  \n",
       "3      0.271747 -1.539700  0.879469        2  \n",
       "4      1.458883  0.654913 -0.757454        0  \n",
       "...         ...       ...       ...      ...  \n",
       "88121 -0.226395 -1.249119  0.216267        2  \n",
       "88122 -0.735520  0.443957 -0.107262        1  \n",
       "88123 -0.139160 -1.301201  0.165711        2  \n",
       "88124 -0.815770  0.235778 -0.083596        0  \n",
       "88125 -0.715231  0.956299  0.744852        0  \n",
       "\n",
       "[88126 rows x 11 columns]"
      ]
     },
     "execution_count": 187,
     "metadata": {},
     "output_type": "execute_result"
    }
   ],
   "source": [
    "opt_clusters = 5\n",
    "kmeanModel = KMeans(n_clusters=opt_clusters)\n",
    "kmeanModel.fit(principalDF)\n",
    "principalDF['k_means']=kmeanModel.predict(principalDF)\n",
    "principalDF"
   ]
  },
  {
   "cell_type": "code",
   "execution_count": 188,
   "metadata": {},
   "outputs": [
    {
     "data": {
      "text/html": [
       "<div>\n",
       "<style scoped>\n",
       "    .dataframe tbody tr th:only-of-type {\n",
       "        vertical-align: middle;\n",
       "    }\n",
       "\n",
       "    .dataframe tbody tr th {\n",
       "        vertical-align: top;\n",
       "    }\n",
       "\n",
       "    .dataframe thead th {\n",
       "        text-align: right;\n",
       "    }\n",
       "</style>\n",
       "<table border=\"1\" class=\"dataframe\">\n",
       "  <thead>\n",
       "    <tr style=\"text-align: right;\">\n",
       "      <th></th>\n",
       "      <th>index</th>\n",
       "      <th>acousticness</th>\n",
       "      <th>danceability</th>\n",
       "      <th>duration_ms</th>\n",
       "      <th>energy</th>\n",
       "      <th>id</th>\n",
       "      <th>instrumentalness</th>\n",
       "      <th>key</th>\n",
       "      <th>liveness</th>\n",
       "      <th>mode</th>\n",
       "      <th>speechiness</th>\n",
       "      <th>tempo</th>\n",
       "      <th>time_signature</th>\n",
       "      <th>valence</th>\n",
       "      <th>k_means</th>\n",
       "    </tr>\n",
       "  </thead>\n",
       "  <tbody>\n",
       "    <tr>\n",
       "      <th>0</th>\n",
       "      <td>160541</td>\n",
       "      <td>0.131</td>\n",
       "      <td>0.748</td>\n",
       "      <td>188491.0</td>\n",
       "      <td>0.627</td>\n",
       "      <td>000xQL6tZNLJzIrtIgxqSl</td>\n",
       "      <td>0.000000</td>\n",
       "      <td>7.0</td>\n",
       "      <td>0.0852</td>\n",
       "      <td>1.0</td>\n",
       "      <td>0.0639</td>\n",
       "      <td>120.963</td>\n",
       "      <td>4.0</td>\n",
       "      <td>0.524</td>\n",
       "      <td>2</td>\n",
       "    </tr>\n",
       "    <tr>\n",
       "      <th>1</th>\n",
       "      <td>45268</td>\n",
       "      <td>0.684</td>\n",
       "      <td>0.509</td>\n",
       "      <td>187119.0</td>\n",
       "      <td>0.803</td>\n",
       "      <td>000xYdQfIZ4pDmBGzQalKU</td>\n",
       "      <td>0.000539</td>\n",
       "      <td>0.0</td>\n",
       "      <td>0.4630</td>\n",
       "      <td>1.0</td>\n",
       "      <td>0.0400</td>\n",
       "      <td>166.018</td>\n",
       "      <td>4.0</td>\n",
       "      <td>0.651</td>\n",
       "      <td>2</td>\n",
       "    </tr>\n",
       "    <tr>\n",
       "      <th>2</th>\n",
       "      <td>236479</td>\n",
       "      <td>0.105</td>\n",
       "      <td>0.772</td>\n",
       "      <td>167866.0</td>\n",
       "      <td>0.635</td>\n",
       "      <td>001b8t3bYPfnabpjpfG1Y4</td>\n",
       "      <td>0.000000</td>\n",
       "      <td>9.0</td>\n",
       "      <td>0.1170</td>\n",
       "      <td>1.0</td>\n",
       "      <td>0.3720</td>\n",
       "      <td>95.951</td>\n",
       "      <td>4.0</td>\n",
       "      <td>0.541</td>\n",
       "      <td>2</td>\n",
       "    </tr>\n",
       "    <tr>\n",
       "      <th>3</th>\n",
       "      <td>218937</td>\n",
       "      <td>0.145</td>\n",
       "      <td>0.807</td>\n",
       "      <td>188395.0</td>\n",
       "      <td>0.552</td>\n",
       "      <td>001cKCt7jEOzXjqgkn9DQf</td>\n",
       "      <td>0.000000</td>\n",
       "      <td>8.0</td>\n",
       "      <td>0.0999</td>\n",
       "      <td>1.0</td>\n",
       "      <td>0.3050</td>\n",
       "      <td>119.988</td>\n",
       "      <td>4.0</td>\n",
       "      <td>0.287</td>\n",
       "      <td>2</td>\n",
       "    </tr>\n",
       "    <tr>\n",
       "      <th>4</th>\n",
       "      <td>193090</td>\n",
       "      <td>0.159</td>\n",
       "      <td>0.683</td>\n",
       "      <td>180933.0</td>\n",
       "      <td>0.676</td>\n",
       "      <td>003F0rm5lqxcmhvJPKgfaJ</td>\n",
       "      <td>0.000000</td>\n",
       "      <td>1.0</td>\n",
       "      <td>0.0726</td>\n",
       "      <td>0.0</td>\n",
       "      <td>0.1470</td>\n",
       "      <td>98.992</td>\n",
       "      <td>4.0</td>\n",
       "      <td>0.434</td>\n",
       "      <td>0</td>\n",
       "    </tr>\n",
       "    <tr>\n",
       "      <th>...</th>\n",
       "      <td>...</td>\n",
       "      <td>...</td>\n",
       "      <td>...</td>\n",
       "      <td>...</td>\n",
       "      <td>...</td>\n",
       "      <td>...</td>\n",
       "      <td>...</td>\n",
       "      <td>...</td>\n",
       "      <td>...</td>\n",
       "      <td>...</td>\n",
       "      <td>...</td>\n",
       "      <td>...</td>\n",
       "      <td>...</td>\n",
       "      <td>...</td>\n",
       "      <td>...</td>\n",
       "    </tr>\n",
       "    <tr>\n",
       "      <th>88121</th>\n",
       "      <td>154441</td>\n",
       "      <td>0.036</td>\n",
       "      <td>0.850</td>\n",
       "      <td>136913.0</td>\n",
       "      <td>0.739</td>\n",
       "      <td>7zy0jQ2un779v9bmBrBVCV</td>\n",
       "      <td>0.000000</td>\n",
       "      <td>7.0</td>\n",
       "      <td>0.2890</td>\n",
       "      <td>1.0</td>\n",
       "      <td>0.2290</td>\n",
       "      <td>112.063</td>\n",
       "      <td>4.0</td>\n",
       "      <td>0.602</td>\n",
       "      <td>2</td>\n",
       "    </tr>\n",
       "    <tr>\n",
       "      <th>88122</th>\n",
       "      <td>155996</td>\n",
       "      <td>0.728</td>\n",
       "      <td>0.423</td>\n",
       "      <td>260573.0</td>\n",
       "      <td>0.360</td>\n",
       "      <td>7zyYmIdjqqiX6kLryb7QBx</td>\n",
       "      <td>0.000000</td>\n",
       "      <td>3.0</td>\n",
       "      <td>0.1050</td>\n",
       "      <td>1.0</td>\n",
       "      <td>0.0372</td>\n",
       "      <td>130.576</td>\n",
       "      <td>4.0</td>\n",
       "      <td>0.291</td>\n",
       "      <td>1</td>\n",
       "    </tr>\n",
       "    <tr>\n",
       "      <th>88123</th>\n",
       "      <td>101624</td>\n",
       "      <td>0.200</td>\n",
       "      <td>0.637</td>\n",
       "      <td>241564.0</td>\n",
       "      <td>0.741</td>\n",
       "      <td>7zyofXGhXgaqT8fhvLufdf</td>\n",
       "      <td>0.000000</td>\n",
       "      <td>9.0</td>\n",
       "      <td>0.1850</td>\n",
       "      <td>1.0</td>\n",
       "      <td>0.0300</td>\n",
       "      <td>89.982</td>\n",
       "      <td>4.0</td>\n",
       "      <td>0.419</td>\n",
       "      <td>2</td>\n",
       "    </tr>\n",
       "    <tr>\n",
       "      <th>88124</th>\n",
       "      <td>114871</td>\n",
       "      <td>0.353</td>\n",
       "      <td>0.819</td>\n",
       "      <td>208608.0</td>\n",
       "      <td>0.679</td>\n",
       "      <td>7zzI3SbctTJN6wDerZNZCD</td>\n",
       "      <td>0.000000</td>\n",
       "      <td>11.0</td>\n",
       "      <td>0.2910</td>\n",
       "      <td>0.0</td>\n",
       "      <td>0.1040</td>\n",
       "      <td>139.983</td>\n",
       "      <td>4.0</td>\n",
       "      <td>0.551</td>\n",
       "      <td>0</td>\n",
       "    </tr>\n",
       "    <tr>\n",
       "      <th>88125</th>\n",
       "      <td>207130</td>\n",
       "      <td>0.187</td>\n",
       "      <td>0.939</td>\n",
       "      <td>279467.0</td>\n",
       "      <td>0.700</td>\n",
       "      <td>7zzhknA0A39TH81meuX7WA</td>\n",
       "      <td>0.000000</td>\n",
       "      <td>9.0</td>\n",
       "      <td>0.0940</td>\n",
       "      <td>0.0</td>\n",
       "      <td>0.0519</td>\n",
       "      <td>132.004</td>\n",
       "      <td>4.0</td>\n",
       "      <td>0.886</td>\n",
       "      <td>0</td>\n",
       "    </tr>\n",
       "  </tbody>\n",
       "</table>\n",
       "<p>88126 rows × 15 columns</p>\n",
       "</div>"
      ],
      "text/plain": [
       "        index  acousticness  danceability  duration_ms  energy  \\\n",
       "0      160541         0.131         0.748     188491.0   0.627   \n",
       "1       45268         0.684         0.509     187119.0   0.803   \n",
       "2      236479         0.105         0.772     167866.0   0.635   \n",
       "3      218937         0.145         0.807     188395.0   0.552   \n",
       "4      193090         0.159         0.683     180933.0   0.676   \n",
       "...       ...           ...           ...          ...     ...   \n",
       "88121  154441         0.036         0.850     136913.0   0.739   \n",
       "88122  155996         0.728         0.423     260573.0   0.360   \n",
       "88123  101624         0.200         0.637     241564.0   0.741   \n",
       "88124  114871         0.353         0.819     208608.0   0.679   \n",
       "88125  207130         0.187         0.939     279467.0   0.700   \n",
       "\n",
       "                           id  instrumentalness   key  liveness  mode  \\\n",
       "0      000xQL6tZNLJzIrtIgxqSl          0.000000   7.0    0.0852   1.0   \n",
       "1      000xYdQfIZ4pDmBGzQalKU          0.000539   0.0    0.4630   1.0   \n",
       "2      001b8t3bYPfnabpjpfG1Y4          0.000000   9.0    0.1170   1.0   \n",
       "3      001cKCt7jEOzXjqgkn9DQf          0.000000   8.0    0.0999   1.0   \n",
       "4      003F0rm5lqxcmhvJPKgfaJ          0.000000   1.0    0.0726   0.0   \n",
       "...                       ...               ...   ...       ...   ...   \n",
       "88121  7zy0jQ2un779v9bmBrBVCV          0.000000   7.0    0.2890   1.0   \n",
       "88122  7zyYmIdjqqiX6kLryb7QBx          0.000000   3.0    0.1050   1.0   \n",
       "88123  7zyofXGhXgaqT8fhvLufdf          0.000000   9.0    0.1850   1.0   \n",
       "88124  7zzI3SbctTJN6wDerZNZCD          0.000000  11.0    0.2910   0.0   \n",
       "88125  7zzhknA0A39TH81meuX7WA          0.000000   9.0    0.0940   0.0   \n",
       "\n",
       "       speechiness    tempo  time_signature  valence  k_means  \n",
       "0           0.0639  120.963             4.0    0.524        2  \n",
       "1           0.0400  166.018             4.0    0.651        2  \n",
       "2           0.3720   95.951             4.0    0.541        2  \n",
       "3           0.3050  119.988             4.0    0.287        2  \n",
       "4           0.1470   98.992             4.0    0.434        0  \n",
       "...            ...      ...             ...      ...      ...  \n",
       "88121       0.2290  112.063             4.0    0.602        2  \n",
       "88122       0.0372  130.576             4.0    0.291        1  \n",
       "88123       0.0300   89.982             4.0    0.419        2  \n",
       "88124       0.1040  139.983             4.0    0.551        0  \n",
       "88125       0.0519  132.004             4.0    0.886        0  \n",
       "\n",
       "[88126 rows x 15 columns]"
      ]
     },
     "execution_count": 188,
     "metadata": {},
     "output_type": "execute_result"
    }
   ],
   "source": [
    "music_features.reset_index(inplace=True)\n",
    "music_features['k_means'] = principalDF['k_means']\n",
    "music_features"
   ]
  },
  {
   "cell_type": "markdown",
   "metadata": {},
   "source": [
    "### Compare Clustering Results "
   ]
  },
  {
   "cell_type": "code",
   "execution_count": null,
   "metadata": {},
   "outputs": [],
   "source": [
    "total_clustered = music_features[music_features['HC Cluster'].notnull()].size"
   ]
  },
  {
   "cell_type": "code",
   "execution_count": null,
   "metadata": {},
   "outputs": [],
   "source": [
    "clus_comp = music_features[music_features['HC Cluster'].notnull()]\n",
    "total_matching = clus_comp.loc[clus_comp['HC Cluster'] == clus_comp['k_means']].size"
   ]
  },
  {
   "cell_type": "code",
   "execution_count": null,
   "metadata": {},
   "outputs": [],
   "source": [
    "total_matching/total_clustered"
   ]
  },
  {
   "cell_type": "code",
   "execution_count": null,
   "metadata": {},
   "outputs": [],
   "source": [
    "#Plotting clusters between variables pairs.\n",
    "sns.pairplot(music_features, hue = 'k_means')"
   ]
  },
  {
   "cell_type": "code",
   "execution_count": 189,
   "metadata": {},
   "outputs": [
    {
     "data": {
      "text/html": [
       "<div>\n",
       "<style scoped>\n",
       "    .dataframe tbody tr th:only-of-type {\n",
       "        vertical-align: middle;\n",
       "    }\n",
       "\n",
       "    .dataframe tbody tr th {\n",
       "        vertical-align: top;\n",
       "    }\n",
       "\n",
       "    .dataframe thead th {\n",
       "        text-align: right;\n",
       "    }\n",
       "</style>\n",
       "<table border=\"1\" class=\"dataframe\">\n",
       "  <thead>\n",
       "    <tr style=\"text-align: right;\">\n",
       "      <th></th>\n",
       "      <th>acousticness</th>\n",
       "      <th>danceability</th>\n",
       "      <th>duration_ms</th>\n",
       "      <th>energy</th>\n",
       "      <th>instrumentalness</th>\n",
       "      <th>key</th>\n",
       "      <th>liveness</th>\n",
       "      <th>mode</th>\n",
       "      <th>speechiness</th>\n",
       "      <th>tempo</th>\n",
       "      <th>time_signature</th>\n",
       "      <th>valence</th>\n",
       "      <th>k_means</th>\n",
       "    </tr>\n",
       "  </thead>\n",
       "  <tbody>\n",
       "    <tr>\n",
       "      <th>0</th>\n",
       "      <td>0.131526</td>\n",
       "      <td>0.757085</td>\n",
       "      <td>0.047786</td>\n",
       "      <td>0.627</td>\n",
       "      <td>0.000000</td>\n",
       "      <td>0.636364</td>\n",
       "      <td>0.086061</td>\n",
       "      <td>1.0</td>\n",
       "      <td>0.066149</td>\n",
       "      <td>0.525309</td>\n",
       "      <td>0.8</td>\n",
       "      <td>0.524525</td>\n",
       "      <td>2</td>\n",
       "    </tr>\n",
       "    <tr>\n",
       "      <th>1</th>\n",
       "      <td>0.686747</td>\n",
       "      <td>0.515182</td>\n",
       "      <td>0.047436</td>\n",
       "      <td>0.803</td>\n",
       "      <td>0.000546</td>\n",
       "      <td>0.000000</td>\n",
       "      <td>0.467677</td>\n",
       "      <td>1.0</td>\n",
       "      <td>0.041408</td>\n",
       "      <td>0.720971</td>\n",
       "      <td>0.8</td>\n",
       "      <td>0.651652</td>\n",
       "      <td>2</td>\n",
       "    </tr>\n",
       "    <tr>\n",
       "      <th>2</th>\n",
       "      <td>0.105422</td>\n",
       "      <td>0.781377</td>\n",
       "      <td>0.042529</td>\n",
       "      <td>0.635</td>\n",
       "      <td>0.000000</td>\n",
       "      <td>0.818182</td>\n",
       "      <td>0.118182</td>\n",
       "      <td>1.0</td>\n",
       "      <td>0.385093</td>\n",
       "      <td>0.416689</td>\n",
       "      <td>0.8</td>\n",
       "      <td>0.541542</td>\n",
       "      <td>2</td>\n",
       "    </tr>\n",
       "    <tr>\n",
       "      <th>3</th>\n",
       "      <td>0.145582</td>\n",
       "      <td>0.816802</td>\n",
       "      <td>0.047762</td>\n",
       "      <td>0.552</td>\n",
       "      <td>0.000000</td>\n",
       "      <td>0.727273</td>\n",
       "      <td>0.100909</td>\n",
       "      <td>1.0</td>\n",
       "      <td>0.315735</td>\n",
       "      <td>0.521075</td>\n",
       "      <td>0.8</td>\n",
       "      <td>0.287287</td>\n",
       "      <td>2</td>\n",
       "    </tr>\n",
       "    <tr>\n",
       "      <th>4</th>\n",
       "      <td>0.159639</td>\n",
       "      <td>0.691296</td>\n",
       "      <td>0.045860</td>\n",
       "      <td>0.676</td>\n",
       "      <td>0.000000</td>\n",
       "      <td>0.090909</td>\n",
       "      <td>0.073333</td>\n",
       "      <td>0.0</td>\n",
       "      <td>0.152174</td>\n",
       "      <td>0.429895</td>\n",
       "      <td>0.8</td>\n",
       "      <td>0.434434</td>\n",
       "      <td>0</td>\n",
       "    </tr>\n",
       "    <tr>\n",
       "      <th>...</th>\n",
       "      <td>...</td>\n",
       "      <td>...</td>\n",
       "      <td>...</td>\n",
       "      <td>...</td>\n",
       "      <td>...</td>\n",
       "      <td>...</td>\n",
       "      <td>...</td>\n",
       "      <td>...</td>\n",
       "      <td>...</td>\n",
       "      <td>...</td>\n",
       "      <td>...</td>\n",
       "      <td>...</td>\n",
       "      <td>...</td>\n",
       "    </tr>\n",
       "    <tr>\n",
       "      <th>88121</th>\n",
       "      <td>0.036145</td>\n",
       "      <td>0.860324</td>\n",
       "      <td>0.034640</td>\n",
       "      <td>0.739</td>\n",
       "      <td>0.000000</td>\n",
       "      <td>0.636364</td>\n",
       "      <td>0.291919</td>\n",
       "      <td>1.0</td>\n",
       "      <td>0.237060</td>\n",
       "      <td>0.486659</td>\n",
       "      <td>0.8</td>\n",
       "      <td>0.602603</td>\n",
       "      <td>2</td>\n",
       "    </tr>\n",
       "    <tr>\n",
       "      <th>88122</th>\n",
       "      <td>0.730924</td>\n",
       "      <td>0.428138</td>\n",
       "      <td>0.066158</td>\n",
       "      <td>0.360</td>\n",
       "      <td>0.000000</td>\n",
       "      <td>0.272727</td>\n",
       "      <td>0.106061</td>\n",
       "      <td>1.0</td>\n",
       "      <td>0.038509</td>\n",
       "      <td>0.567056</td>\n",
       "      <td>0.8</td>\n",
       "      <td>0.291291</td>\n",
       "      <td>1</td>\n",
       "    </tr>\n",
       "    <tr>\n",
       "      <th>88123</th>\n",
       "      <td>0.200803</td>\n",
       "      <td>0.644737</td>\n",
       "      <td>0.061313</td>\n",
       "      <td>0.741</td>\n",
       "      <td>0.000000</td>\n",
       "      <td>0.818182</td>\n",
       "      <td>0.186869</td>\n",
       "      <td>1.0</td>\n",
       "      <td>0.031056</td>\n",
       "      <td>0.390767</td>\n",
       "      <td>0.8</td>\n",
       "      <td>0.419419</td>\n",
       "      <td>2</td>\n",
       "    </tr>\n",
       "    <tr>\n",
       "      <th>88124</th>\n",
       "      <td>0.354418</td>\n",
       "      <td>0.828947</td>\n",
       "      <td>0.052913</td>\n",
       "      <td>0.679</td>\n",
       "      <td>0.000000</td>\n",
       "      <td>1.000000</td>\n",
       "      <td>0.293939</td>\n",
       "      <td>0.0</td>\n",
       "      <td>0.107660</td>\n",
       "      <td>0.607908</td>\n",
       "      <td>0.8</td>\n",
       "      <td>0.551552</td>\n",
       "      <td>0</td>\n",
       "    </tr>\n",
       "    <tr>\n",
       "      <th>88125</th>\n",
       "      <td>0.187751</td>\n",
       "      <td>0.950405</td>\n",
       "      <td>0.070973</td>\n",
       "      <td>0.700</td>\n",
       "      <td>0.000000</td>\n",
       "      <td>0.818182</td>\n",
       "      <td>0.094949</td>\n",
       "      <td>0.0</td>\n",
       "      <td>0.053727</td>\n",
       "      <td>0.573257</td>\n",
       "      <td>0.8</td>\n",
       "      <td>0.886887</td>\n",
       "      <td>0</td>\n",
       "    </tr>\n",
       "  </tbody>\n",
       "</table>\n",
       "<p>88126 rows × 13 columns</p>\n",
       "</div>"
      ],
      "text/plain": [
       "       acousticness  danceability  duration_ms  energy  instrumentalness  \\\n",
       "0          0.131526      0.757085     0.047786   0.627          0.000000   \n",
       "1          0.686747      0.515182     0.047436   0.803          0.000546   \n",
       "2          0.105422      0.781377     0.042529   0.635          0.000000   \n",
       "3          0.145582      0.816802     0.047762   0.552          0.000000   \n",
       "4          0.159639      0.691296     0.045860   0.676          0.000000   \n",
       "...             ...           ...          ...     ...               ...   \n",
       "88121      0.036145      0.860324     0.034640   0.739          0.000000   \n",
       "88122      0.730924      0.428138     0.066158   0.360          0.000000   \n",
       "88123      0.200803      0.644737     0.061313   0.741          0.000000   \n",
       "88124      0.354418      0.828947     0.052913   0.679          0.000000   \n",
       "88125      0.187751      0.950405     0.070973   0.700          0.000000   \n",
       "\n",
       "            key  liveness  mode  speechiness     tempo  time_signature  \\\n",
       "0      0.636364  0.086061   1.0     0.066149  0.525309             0.8   \n",
       "1      0.000000  0.467677   1.0     0.041408  0.720971             0.8   \n",
       "2      0.818182  0.118182   1.0     0.385093  0.416689             0.8   \n",
       "3      0.727273  0.100909   1.0     0.315735  0.521075             0.8   \n",
       "4      0.090909  0.073333   0.0     0.152174  0.429895             0.8   \n",
       "...         ...       ...   ...          ...       ...             ...   \n",
       "88121  0.636364  0.291919   1.0     0.237060  0.486659             0.8   \n",
       "88122  0.272727  0.106061   1.0     0.038509  0.567056             0.8   \n",
       "88123  0.818182  0.186869   1.0     0.031056  0.390767             0.8   \n",
       "88124  1.000000  0.293939   0.0     0.107660  0.607908             0.8   \n",
       "88125  0.818182  0.094949   0.0     0.053727  0.573257             0.8   \n",
       "\n",
       "        valence  k_means  \n",
       "0      0.524525        2  \n",
       "1      0.651652        2  \n",
       "2      0.541542        2  \n",
       "3      0.287287        2  \n",
       "4      0.434434        0  \n",
       "...         ...      ...  \n",
       "88121  0.602603        2  \n",
       "88122  0.291291        1  \n",
       "88123  0.419419        2  \n",
       "88124  0.551552        0  \n",
       "88125  0.886887        0  \n",
       "\n",
       "[88126 rows x 13 columns]"
      ]
     },
     "execution_count": 189,
     "metadata": {},
     "output_type": "execute_result"
    }
   ],
   "source": [
    "from sklearn.preprocessing import MinMaxScaler\n",
    "\n",
    "\n",
    "scaled_df = music_features[features].copy()\n",
    "scaler = MinMaxScaler() \n",
    "scaled_values = scaler.fit_transform(scaled_df) \n",
    "scaled_df.loc[:,:] = scaled_values\n",
    "scaled_df['k_means'] = music_features[\"k_means\"]\n",
    "scaled_df"
   ]
  },
  {
   "cell_type": "code",
   "execution_count": 190,
   "metadata": {},
   "outputs": [
    {
     "data": {
      "application/vnd.plotly.v1+json": {
       "config": {
        "plotlyServerURL": "https://plot.ly"
       },
       "data": [
        {
         "fill": "toself",
         "name": "Cluster 0",
         "r": [
          0.21420079516307383,
          0.7180145923130853,
          0.050877075431811976,
          0.6864176070802835,
          0.004720858833230454,
          0.550779040327747,
          0.17745382600242943,
          0,
          0.15514695315217492,
          0.5296060962751655,
          0.8038301214276851,
          0.5512691662241568,
          0.21420079516307383,
          0.21420079516307383
         ],
         "theta": [
          "acousticness",
          "danceability",
          "duration_ms",
          "energy",
          "instrumentalness",
          "key",
          "liveness",
          "mode",
          "speechiness",
          "tempo",
          "time_signature",
          "valence",
          "acousticness"
         ],
         "type": "scatterpolar"
        },
        {
         "fill": "toself",
         "name": "Cluster 1",
         "r": [
          0.5886690407625486,
          0.5504865115989346,
          0.0594096413912215,
          0.43359022545380904,
          0.00698126955913071,
          0.46792508389107423,
          0.15217991371982756,
          0.7318307578109184,
          0.06383038561792584,
          0.5033284553664584,
          0.8051015588095,
          0.3297385110327961,
          0.5886690407625486,
          0.5886690407625486
         ],
         "theta": [
          "acousticness",
          "danceability",
          "duration_ms",
          "energy",
          "instrumentalness",
          "key",
          "liveness",
          "mode",
          "speechiness",
          "tempo",
          "time_signature",
          "valence",
          "acousticness"
         ],
         "type": "scatterpolar"
        },
        {
         "fill": "toself",
         "name": "Cluster 2",
         "r": [
          0.17642944505549285,
          0.7096492668005865,
          0.05126882507646896,
          0.7025101754282689,
          0.004835066135859648,
          0.42721439389483123,
          0.18941785548426063,
          1,
          0.14523059955359843,
          0.5351224728448424,
          0.802961087890277,
          0.5585231372539347,
          0.17642944505549285,
          0.17642944505549285
         ],
         "theta": [
          "acousticness",
          "danceability",
          "duration_ms",
          "energy",
          "instrumentalness",
          "key",
          "liveness",
          "mode",
          "speechiness",
          "tempo",
          "time_signature",
          "valence",
          "acousticness"
         ],
         "type": "scatterpolar"
        },
        {
         "fill": "toself",
         "name": "Cluster 3",
         "r": [
          0.37243022174940893,
          0.5959296200467433,
          0.053873152895316224,
          0.5116199800598207,
          0.7686636140211597,
          0.4854074141212735,
          0.17000196380555313,
          0.5149551345962113,
          0.07053952015588852,
          0.5271007189488128,
          0.7849451645064531,
          0.3991512399737726,
          0.37243022174940893,
          0.37243022174940893
         ],
         "theta": [
          "acousticness",
          "danceability",
          "duration_ms",
          "energy",
          "instrumentalness",
          "key",
          "liveness",
          "mode",
          "speechiness",
          "tempo",
          "time_signature",
          "valence",
          "acousticness"
         ],
         "type": "scatterpolar"
        },
        {
         "fill": "toself",
         "name": "Cluster 4",
         "r": [
          0.4530696558134928,
          0.536656173537556,
          0.05279704742297474,
          0.5166941601516224,
          0.010318187642863503,
          0.4691262303202622,
          0.17612545736923804,
          0.6226012793176973,
          0.12121383126759976,
          0.5451286365756653,
          0.5675432361999112,
          0.4330731110167268,
          0.4530696558134928,
          0.4530696558134928
         ],
         "theta": [
          "acousticness",
          "danceability",
          "duration_ms",
          "energy",
          "instrumentalness",
          "key",
          "liveness",
          "mode",
          "speechiness",
          "tempo",
          "time_signature",
          "valence",
          "acousticness"
         ],
         "type": "scatterpolar"
        }
       ],
       "layout": {
        "polar": {
         "radialaxis": {
          "range": [
           0,
           1
          ],
          "visible": true
         }
        },
        "showlegend": true,
        "template": {
         "data": {
          "bar": [
           {
            "error_x": {
             "color": "#f2f5fa"
            },
            "error_y": {
             "color": "#f2f5fa"
            },
            "marker": {
             "line": {
              "color": "rgb(17,17,17)",
              "width": 0.5
             }
            },
            "type": "bar"
           }
          ],
          "barpolar": [
           {
            "marker": {
             "line": {
              "color": "rgb(17,17,17)",
              "width": 0.5
             }
            },
            "type": "barpolar"
           }
          ],
          "carpet": [
           {
            "aaxis": {
             "endlinecolor": "#A2B1C6",
             "gridcolor": "#506784",
             "linecolor": "#506784",
             "minorgridcolor": "#506784",
             "startlinecolor": "#A2B1C6"
            },
            "baxis": {
             "endlinecolor": "#A2B1C6",
             "gridcolor": "#506784",
             "linecolor": "#506784",
             "minorgridcolor": "#506784",
             "startlinecolor": "#A2B1C6"
            },
            "type": "carpet"
           }
          ],
          "choropleth": [
           {
            "colorbar": {
             "outlinewidth": 0,
             "ticks": ""
            },
            "type": "choropleth"
           }
          ],
          "contour": [
           {
            "colorbar": {
             "outlinewidth": 0,
             "ticks": ""
            },
            "colorscale": [
             [
              0,
              "#0d0887"
             ],
             [
              0.1111111111111111,
              "#46039f"
             ],
             [
              0.2222222222222222,
              "#7201a8"
             ],
             [
              0.3333333333333333,
              "#9c179e"
             ],
             [
              0.4444444444444444,
              "#bd3786"
             ],
             [
              0.5555555555555556,
              "#d8576b"
             ],
             [
              0.6666666666666666,
              "#ed7953"
             ],
             [
              0.7777777777777778,
              "#fb9f3a"
             ],
             [
              0.8888888888888888,
              "#fdca26"
             ],
             [
              1,
              "#f0f921"
             ]
            ],
            "type": "contour"
           }
          ],
          "contourcarpet": [
           {
            "colorbar": {
             "outlinewidth": 0,
             "ticks": ""
            },
            "type": "contourcarpet"
           }
          ],
          "heatmap": [
           {
            "colorbar": {
             "outlinewidth": 0,
             "ticks": ""
            },
            "colorscale": [
             [
              0,
              "#0d0887"
             ],
             [
              0.1111111111111111,
              "#46039f"
             ],
             [
              0.2222222222222222,
              "#7201a8"
             ],
             [
              0.3333333333333333,
              "#9c179e"
             ],
             [
              0.4444444444444444,
              "#bd3786"
             ],
             [
              0.5555555555555556,
              "#d8576b"
             ],
             [
              0.6666666666666666,
              "#ed7953"
             ],
             [
              0.7777777777777778,
              "#fb9f3a"
             ],
             [
              0.8888888888888888,
              "#fdca26"
             ],
             [
              1,
              "#f0f921"
             ]
            ],
            "type": "heatmap"
           }
          ],
          "heatmapgl": [
           {
            "colorbar": {
             "outlinewidth": 0,
             "ticks": ""
            },
            "colorscale": [
             [
              0,
              "#0d0887"
             ],
             [
              0.1111111111111111,
              "#46039f"
             ],
             [
              0.2222222222222222,
              "#7201a8"
             ],
             [
              0.3333333333333333,
              "#9c179e"
             ],
             [
              0.4444444444444444,
              "#bd3786"
             ],
             [
              0.5555555555555556,
              "#d8576b"
             ],
             [
              0.6666666666666666,
              "#ed7953"
             ],
             [
              0.7777777777777778,
              "#fb9f3a"
             ],
             [
              0.8888888888888888,
              "#fdca26"
             ],
             [
              1,
              "#f0f921"
             ]
            ],
            "type": "heatmapgl"
           }
          ],
          "histogram": [
           {
            "marker": {
             "colorbar": {
              "outlinewidth": 0,
              "ticks": ""
             }
            },
            "type": "histogram"
           }
          ],
          "histogram2d": [
           {
            "colorbar": {
             "outlinewidth": 0,
             "ticks": ""
            },
            "colorscale": [
             [
              0,
              "#0d0887"
             ],
             [
              0.1111111111111111,
              "#46039f"
             ],
             [
              0.2222222222222222,
              "#7201a8"
             ],
             [
              0.3333333333333333,
              "#9c179e"
             ],
             [
              0.4444444444444444,
              "#bd3786"
             ],
             [
              0.5555555555555556,
              "#d8576b"
             ],
             [
              0.6666666666666666,
              "#ed7953"
             ],
             [
              0.7777777777777778,
              "#fb9f3a"
             ],
             [
              0.8888888888888888,
              "#fdca26"
             ],
             [
              1,
              "#f0f921"
             ]
            ],
            "type": "histogram2d"
           }
          ],
          "histogram2dcontour": [
           {
            "colorbar": {
             "outlinewidth": 0,
             "ticks": ""
            },
            "colorscale": [
             [
              0,
              "#0d0887"
             ],
             [
              0.1111111111111111,
              "#46039f"
             ],
             [
              0.2222222222222222,
              "#7201a8"
             ],
             [
              0.3333333333333333,
              "#9c179e"
             ],
             [
              0.4444444444444444,
              "#bd3786"
             ],
             [
              0.5555555555555556,
              "#d8576b"
             ],
             [
              0.6666666666666666,
              "#ed7953"
             ],
             [
              0.7777777777777778,
              "#fb9f3a"
             ],
             [
              0.8888888888888888,
              "#fdca26"
             ],
             [
              1,
              "#f0f921"
             ]
            ],
            "type": "histogram2dcontour"
           }
          ],
          "mesh3d": [
           {
            "colorbar": {
             "outlinewidth": 0,
             "ticks": ""
            },
            "type": "mesh3d"
           }
          ],
          "parcoords": [
           {
            "line": {
             "colorbar": {
              "outlinewidth": 0,
              "ticks": ""
             }
            },
            "type": "parcoords"
           }
          ],
          "pie": [
           {
            "automargin": true,
            "type": "pie"
           }
          ],
          "scatter": [
           {
            "marker": {
             "line": {
              "color": "#283442"
             }
            },
            "type": "scatter"
           }
          ],
          "scatter3d": [
           {
            "line": {
             "colorbar": {
              "outlinewidth": 0,
              "ticks": ""
             }
            },
            "marker": {
             "colorbar": {
              "outlinewidth": 0,
              "ticks": ""
             }
            },
            "type": "scatter3d"
           }
          ],
          "scattercarpet": [
           {
            "marker": {
             "colorbar": {
              "outlinewidth": 0,
              "ticks": ""
             }
            },
            "type": "scattercarpet"
           }
          ],
          "scattergeo": [
           {
            "marker": {
             "colorbar": {
              "outlinewidth": 0,
              "ticks": ""
             }
            },
            "type": "scattergeo"
           }
          ],
          "scattergl": [
           {
            "marker": {
             "line": {
              "color": "#283442"
             }
            },
            "type": "scattergl"
           }
          ],
          "scattermapbox": [
           {
            "marker": {
             "colorbar": {
              "outlinewidth": 0,
              "ticks": ""
             }
            },
            "type": "scattermapbox"
           }
          ],
          "scatterpolar": [
           {
            "marker": {
             "colorbar": {
              "outlinewidth": 0,
              "ticks": ""
             }
            },
            "type": "scatterpolar"
           }
          ],
          "scatterpolargl": [
           {
            "marker": {
             "colorbar": {
              "outlinewidth": 0,
              "ticks": ""
             }
            },
            "type": "scatterpolargl"
           }
          ],
          "scatterternary": [
           {
            "marker": {
             "colorbar": {
              "outlinewidth": 0,
              "ticks": ""
             }
            },
            "type": "scatterternary"
           }
          ],
          "surface": [
           {
            "colorbar": {
             "outlinewidth": 0,
             "ticks": ""
            },
            "colorscale": [
             [
              0,
              "#0d0887"
             ],
             [
              0.1111111111111111,
              "#46039f"
             ],
             [
              0.2222222222222222,
              "#7201a8"
             ],
             [
              0.3333333333333333,
              "#9c179e"
             ],
             [
              0.4444444444444444,
              "#bd3786"
             ],
             [
              0.5555555555555556,
              "#d8576b"
             ],
             [
              0.6666666666666666,
              "#ed7953"
             ],
             [
              0.7777777777777778,
              "#fb9f3a"
             ],
             [
              0.8888888888888888,
              "#fdca26"
             ],
             [
              1,
              "#f0f921"
             ]
            ],
            "type": "surface"
           }
          ],
          "table": [
           {
            "cells": {
             "fill": {
              "color": "#506784"
             },
             "line": {
              "color": "rgb(17,17,17)"
             }
            },
            "header": {
             "fill": {
              "color": "#2a3f5f"
             },
             "line": {
              "color": "rgb(17,17,17)"
             }
            },
            "type": "table"
           }
          ]
         },
         "layout": {
          "annotationdefaults": {
           "arrowcolor": "#f2f5fa",
           "arrowhead": 0,
           "arrowwidth": 1
          },
          "autotypenumbers": "strict",
          "coloraxis": {
           "colorbar": {
            "outlinewidth": 0,
            "ticks": ""
           }
          },
          "colorscale": {
           "diverging": [
            [
             0,
             "#8e0152"
            ],
            [
             0.1,
             "#c51b7d"
            ],
            [
             0.2,
             "#de77ae"
            ],
            [
             0.3,
             "#f1b6da"
            ],
            [
             0.4,
             "#fde0ef"
            ],
            [
             0.5,
             "#f7f7f7"
            ],
            [
             0.6,
             "#e6f5d0"
            ],
            [
             0.7,
             "#b8e186"
            ],
            [
             0.8,
             "#7fbc41"
            ],
            [
             0.9,
             "#4d9221"
            ],
            [
             1,
             "#276419"
            ]
           ],
           "sequential": [
            [
             0,
             "#0d0887"
            ],
            [
             0.1111111111111111,
             "#46039f"
            ],
            [
             0.2222222222222222,
             "#7201a8"
            ],
            [
             0.3333333333333333,
             "#9c179e"
            ],
            [
             0.4444444444444444,
             "#bd3786"
            ],
            [
             0.5555555555555556,
             "#d8576b"
            ],
            [
             0.6666666666666666,
             "#ed7953"
            ],
            [
             0.7777777777777778,
             "#fb9f3a"
            ],
            [
             0.8888888888888888,
             "#fdca26"
            ],
            [
             1,
             "#f0f921"
            ]
           ],
           "sequentialminus": [
            [
             0,
             "#0d0887"
            ],
            [
             0.1111111111111111,
             "#46039f"
            ],
            [
             0.2222222222222222,
             "#7201a8"
            ],
            [
             0.3333333333333333,
             "#9c179e"
            ],
            [
             0.4444444444444444,
             "#bd3786"
            ],
            [
             0.5555555555555556,
             "#d8576b"
            ],
            [
             0.6666666666666666,
             "#ed7953"
            ],
            [
             0.7777777777777778,
             "#fb9f3a"
            ],
            [
             0.8888888888888888,
             "#fdca26"
            ],
            [
             1,
             "#f0f921"
            ]
           ]
          },
          "colorway": [
           "#636efa",
           "#EF553B",
           "#00cc96",
           "#ab63fa",
           "#FFA15A",
           "#19d3f3",
           "#FF6692",
           "#B6E880",
           "#FF97FF",
           "#FECB52"
          ],
          "font": {
           "color": "#f2f5fa"
          },
          "geo": {
           "bgcolor": "rgb(17,17,17)",
           "lakecolor": "rgb(17,17,17)",
           "landcolor": "rgb(17,17,17)",
           "showlakes": true,
           "showland": true,
           "subunitcolor": "#506784"
          },
          "hoverlabel": {
           "align": "left"
          },
          "hovermode": "closest",
          "mapbox": {
           "style": "dark"
          },
          "paper_bgcolor": "rgb(17,17,17)",
          "plot_bgcolor": "rgb(17,17,17)",
          "polar": {
           "angularaxis": {
            "gridcolor": "#506784",
            "linecolor": "#506784",
            "ticks": ""
           },
           "bgcolor": "rgb(17,17,17)",
           "radialaxis": {
            "gridcolor": "#506784",
            "linecolor": "#506784",
            "ticks": ""
           }
          },
          "scene": {
           "xaxis": {
            "backgroundcolor": "rgb(17,17,17)",
            "gridcolor": "#506784",
            "gridwidth": 2,
            "linecolor": "#506784",
            "showbackground": true,
            "ticks": "",
            "zerolinecolor": "#C8D4E3"
           },
           "yaxis": {
            "backgroundcolor": "rgb(17,17,17)",
            "gridcolor": "#506784",
            "gridwidth": 2,
            "linecolor": "#506784",
            "showbackground": true,
            "ticks": "",
            "zerolinecolor": "#C8D4E3"
           },
           "zaxis": {
            "backgroundcolor": "rgb(17,17,17)",
            "gridcolor": "#506784",
            "gridwidth": 2,
            "linecolor": "#506784",
            "showbackground": true,
            "ticks": "",
            "zerolinecolor": "#C8D4E3"
           }
          },
          "shapedefaults": {
           "line": {
            "color": "#f2f5fa"
           }
          },
          "sliderdefaults": {
           "bgcolor": "#C8D4E3",
           "bordercolor": "rgb(17,17,17)",
           "borderwidth": 1,
           "tickwidth": 0
          },
          "ternary": {
           "aaxis": {
            "gridcolor": "#506784",
            "linecolor": "#506784",
            "ticks": ""
           },
           "baxis": {
            "gridcolor": "#506784",
            "linecolor": "#506784",
            "ticks": ""
           },
           "bgcolor": "rgb(17,17,17)",
           "caxis": {
            "gridcolor": "#506784",
            "linecolor": "#506784",
            "ticks": ""
           }
          },
          "title": {
           "x": 0.05
          },
          "updatemenudefaults": {
           "bgcolor": "#506784",
           "borderwidth": 0
          },
          "xaxis": {
           "automargin": true,
           "gridcolor": "#283442",
           "linecolor": "#506784",
           "ticks": "",
           "title": {
            "standoff": 15
           },
           "zerolinecolor": "#283442",
           "zerolinewidth": 2
          },
          "yaxis": {
           "automargin": true,
           "gridcolor": "#283442",
           "linecolor": "#506784",
           "ticks": "",
           "title": {
            "standoff": 15
           },
           "zerolinecolor": "#283442",
           "zerolinewidth": 2
          }
         }
        }
       }
      },
      "text/html": [
       "<div>                            <div id=\"2877f1f5-76ae-47c0-9c5e-6bd63e8eb6e4\" class=\"plotly-graph-div\" style=\"height:525px; width:100%;\"></div>            <script type=\"text/javascript\">                require([\"plotly\"], function(Plotly) {                    window.PLOTLYENV=window.PLOTLYENV || {};                                    if (document.getElementById(\"2877f1f5-76ae-47c0-9c5e-6bd63e8eb6e4\")) {                    Plotly.newPlot(                        \"2877f1f5-76ae-47c0-9c5e-6bd63e8eb6e4\",                        [{\"fill\": \"toself\", \"name\": \"Cluster 0\", \"r\": [0.21420079516307383, 0.7180145923130853, 0.050877075431811976, 0.6864176070802835, 0.004720858833230454, 0.550779040327747, 0.17745382600242943, 0.0, 0.15514695315217492, 0.5296060962751655, 0.8038301214276851, 0.5512691662241568, 0.21420079516307383, 0.21420079516307383], \"theta\": [\"acousticness\", \"danceability\", \"duration_ms\", \"energy\", \"instrumentalness\", \"key\", \"liveness\", \"mode\", \"speechiness\", \"tempo\", \"time_signature\", \"valence\", \"acousticness\"], \"type\": \"scatterpolar\"}, {\"fill\": \"toself\", \"name\": \"Cluster 1\", \"r\": [0.5886690407625486, 0.5504865115989346, 0.0594096413912215, 0.43359022545380904, 0.00698126955913071, 0.46792508389107423, 0.15217991371982756, 0.7318307578109184, 0.06383038561792584, 0.5033284553664584, 0.8051015588095, 0.3297385110327961, 0.5886690407625486, 0.5886690407625486], \"theta\": [\"acousticness\", \"danceability\", \"duration_ms\", \"energy\", \"instrumentalness\", \"key\", \"liveness\", \"mode\", \"speechiness\", \"tempo\", \"time_signature\", \"valence\", \"acousticness\"], \"type\": \"scatterpolar\"}, {\"fill\": \"toself\", \"name\": \"Cluster 2\", \"r\": [0.17642944505549285, 0.7096492668005865, 0.05126882507646896, 0.7025101754282689, 0.004835066135859648, 0.42721439389483123, 0.18941785548426063, 1.0, 0.14523059955359843, 0.5351224728448424, 0.802961087890277, 0.5585231372539347, 0.17642944505549285, 0.17642944505549285], \"theta\": [\"acousticness\", \"danceability\", \"duration_ms\", \"energy\", \"instrumentalness\", \"key\", \"liveness\", \"mode\", \"speechiness\", \"tempo\", \"time_signature\", \"valence\", \"acousticness\"], \"type\": \"scatterpolar\"}, {\"fill\": \"toself\", \"name\": \"Cluster 3\", \"r\": [0.37243022174940893, 0.5959296200467433, 0.053873152895316224, 0.5116199800598207, 0.7686636140211597, 0.4854074141212735, 0.17000196380555313, 0.5149551345962113, 0.07053952015588852, 0.5271007189488128, 0.7849451645064531, 0.3991512399737726, 0.37243022174940893, 0.37243022174940893], \"theta\": [\"acousticness\", \"danceability\", \"duration_ms\", \"energy\", \"instrumentalness\", \"key\", \"liveness\", \"mode\", \"speechiness\", \"tempo\", \"time_signature\", \"valence\", \"acousticness\"], \"type\": \"scatterpolar\"}, {\"fill\": \"toself\", \"name\": \"Cluster 4\", \"r\": [0.4530696558134928, 0.536656173537556, 0.05279704742297474, 0.5166941601516224, 0.010318187642863503, 0.4691262303202622, 0.17612545736923804, 0.6226012793176973, 0.12121383126759976, 0.5451286365756653, 0.5675432361999112, 0.4330731110167268, 0.4530696558134928, 0.4530696558134928], \"theta\": [\"acousticness\", \"danceability\", \"duration_ms\", \"energy\", \"instrumentalness\", \"key\", \"liveness\", \"mode\", \"speechiness\", \"tempo\", \"time_signature\", \"valence\", \"acousticness\"], \"type\": \"scatterpolar\"}],                        {\"polar\": {\"radialaxis\": {\"range\": [0, 1], \"visible\": true}}, \"showlegend\": true, \"template\": {\"data\": {\"bar\": [{\"error_x\": {\"color\": \"#f2f5fa\"}, \"error_y\": {\"color\": \"#f2f5fa\"}, \"marker\": {\"line\": {\"color\": \"rgb(17,17,17)\", \"width\": 0.5}}, \"type\": \"bar\"}], \"barpolar\": [{\"marker\": {\"line\": {\"color\": \"rgb(17,17,17)\", \"width\": 0.5}}, \"type\": \"barpolar\"}], \"carpet\": [{\"aaxis\": {\"endlinecolor\": \"#A2B1C6\", \"gridcolor\": \"#506784\", \"linecolor\": \"#506784\", \"minorgridcolor\": \"#506784\", \"startlinecolor\": \"#A2B1C6\"}, \"baxis\": {\"endlinecolor\": \"#A2B1C6\", \"gridcolor\": \"#506784\", \"linecolor\": \"#506784\", \"minorgridcolor\": \"#506784\", \"startlinecolor\": \"#A2B1C6\"}, \"type\": \"carpet\"}], \"choropleth\": [{\"colorbar\": {\"outlinewidth\": 0, \"ticks\": \"\"}, \"type\": \"choropleth\"}], \"contour\": [{\"colorbar\": {\"outlinewidth\": 0, \"ticks\": \"\"}, \"colorscale\": [[0.0, \"#0d0887\"], [0.1111111111111111, \"#46039f\"], [0.2222222222222222, \"#7201a8\"], [0.3333333333333333, \"#9c179e\"], [0.4444444444444444, \"#bd3786\"], [0.5555555555555556, \"#d8576b\"], [0.6666666666666666, \"#ed7953\"], [0.7777777777777778, \"#fb9f3a\"], [0.8888888888888888, \"#fdca26\"], [1.0, \"#f0f921\"]], \"type\": \"contour\"}], \"contourcarpet\": [{\"colorbar\": {\"outlinewidth\": 0, \"ticks\": \"\"}, \"type\": \"contourcarpet\"}], \"heatmap\": [{\"colorbar\": {\"outlinewidth\": 0, \"ticks\": \"\"}, \"colorscale\": [[0.0, \"#0d0887\"], [0.1111111111111111, \"#46039f\"], [0.2222222222222222, \"#7201a8\"], [0.3333333333333333, \"#9c179e\"], [0.4444444444444444, \"#bd3786\"], [0.5555555555555556, \"#d8576b\"], [0.6666666666666666, \"#ed7953\"], [0.7777777777777778, \"#fb9f3a\"], [0.8888888888888888, \"#fdca26\"], [1.0, \"#f0f921\"]], \"type\": \"heatmap\"}], \"heatmapgl\": [{\"colorbar\": {\"outlinewidth\": 0, \"ticks\": \"\"}, \"colorscale\": [[0.0, \"#0d0887\"], [0.1111111111111111, \"#46039f\"], [0.2222222222222222, \"#7201a8\"], [0.3333333333333333, \"#9c179e\"], [0.4444444444444444, \"#bd3786\"], [0.5555555555555556, \"#d8576b\"], [0.6666666666666666, \"#ed7953\"], [0.7777777777777778, \"#fb9f3a\"], [0.8888888888888888, \"#fdca26\"], [1.0, \"#f0f921\"]], \"type\": \"heatmapgl\"}], \"histogram\": [{\"marker\": {\"colorbar\": {\"outlinewidth\": 0, \"ticks\": \"\"}}, \"type\": \"histogram\"}], \"histogram2d\": [{\"colorbar\": {\"outlinewidth\": 0, \"ticks\": \"\"}, \"colorscale\": [[0.0, \"#0d0887\"], [0.1111111111111111, \"#46039f\"], [0.2222222222222222, \"#7201a8\"], [0.3333333333333333, \"#9c179e\"], [0.4444444444444444, \"#bd3786\"], [0.5555555555555556, \"#d8576b\"], [0.6666666666666666, \"#ed7953\"], [0.7777777777777778, \"#fb9f3a\"], [0.8888888888888888, \"#fdca26\"], [1.0, \"#f0f921\"]], \"type\": \"histogram2d\"}], \"histogram2dcontour\": [{\"colorbar\": {\"outlinewidth\": 0, \"ticks\": \"\"}, \"colorscale\": [[0.0, \"#0d0887\"], [0.1111111111111111, \"#46039f\"], [0.2222222222222222, \"#7201a8\"], [0.3333333333333333, \"#9c179e\"], [0.4444444444444444, \"#bd3786\"], [0.5555555555555556, \"#d8576b\"], [0.6666666666666666, \"#ed7953\"], [0.7777777777777778, \"#fb9f3a\"], [0.8888888888888888, \"#fdca26\"], [1.0, \"#f0f921\"]], \"type\": \"histogram2dcontour\"}], \"mesh3d\": [{\"colorbar\": {\"outlinewidth\": 0, \"ticks\": \"\"}, \"type\": \"mesh3d\"}], \"parcoords\": [{\"line\": {\"colorbar\": {\"outlinewidth\": 0, \"ticks\": \"\"}}, \"type\": \"parcoords\"}], \"pie\": [{\"automargin\": true, \"type\": \"pie\"}], \"scatter\": [{\"marker\": {\"line\": {\"color\": \"#283442\"}}, \"type\": \"scatter\"}], \"scatter3d\": [{\"line\": {\"colorbar\": {\"outlinewidth\": 0, \"ticks\": \"\"}}, \"marker\": {\"colorbar\": {\"outlinewidth\": 0, \"ticks\": \"\"}}, \"type\": \"scatter3d\"}], \"scattercarpet\": [{\"marker\": {\"colorbar\": {\"outlinewidth\": 0, \"ticks\": \"\"}}, \"type\": \"scattercarpet\"}], \"scattergeo\": [{\"marker\": {\"colorbar\": {\"outlinewidth\": 0, \"ticks\": \"\"}}, \"type\": \"scattergeo\"}], \"scattergl\": [{\"marker\": {\"line\": {\"color\": \"#283442\"}}, \"type\": \"scattergl\"}], \"scattermapbox\": [{\"marker\": {\"colorbar\": {\"outlinewidth\": 0, \"ticks\": \"\"}}, \"type\": \"scattermapbox\"}], \"scatterpolar\": [{\"marker\": {\"colorbar\": {\"outlinewidth\": 0, \"ticks\": \"\"}}, \"type\": \"scatterpolar\"}], \"scatterpolargl\": [{\"marker\": {\"colorbar\": {\"outlinewidth\": 0, \"ticks\": \"\"}}, \"type\": \"scatterpolargl\"}], \"scatterternary\": [{\"marker\": {\"colorbar\": {\"outlinewidth\": 0, \"ticks\": \"\"}}, \"type\": \"scatterternary\"}], \"surface\": [{\"colorbar\": {\"outlinewidth\": 0, \"ticks\": \"\"}, \"colorscale\": [[0.0, \"#0d0887\"], [0.1111111111111111, \"#46039f\"], [0.2222222222222222, \"#7201a8\"], [0.3333333333333333, \"#9c179e\"], [0.4444444444444444, \"#bd3786\"], [0.5555555555555556, \"#d8576b\"], [0.6666666666666666, \"#ed7953\"], [0.7777777777777778, \"#fb9f3a\"], [0.8888888888888888, \"#fdca26\"], [1.0, \"#f0f921\"]], \"type\": \"surface\"}], \"table\": [{\"cells\": {\"fill\": {\"color\": \"#506784\"}, \"line\": {\"color\": \"rgb(17,17,17)\"}}, \"header\": {\"fill\": {\"color\": \"#2a3f5f\"}, \"line\": {\"color\": \"rgb(17,17,17)\"}}, \"type\": \"table\"}]}, \"layout\": {\"annotationdefaults\": {\"arrowcolor\": \"#f2f5fa\", \"arrowhead\": 0, \"arrowwidth\": 1}, \"autotypenumbers\": \"strict\", \"coloraxis\": {\"colorbar\": {\"outlinewidth\": 0, \"ticks\": \"\"}}, \"colorscale\": {\"diverging\": [[0, \"#8e0152\"], [0.1, \"#c51b7d\"], [0.2, \"#de77ae\"], [0.3, \"#f1b6da\"], [0.4, \"#fde0ef\"], [0.5, \"#f7f7f7\"], [0.6, \"#e6f5d0\"], [0.7, \"#b8e186\"], [0.8, \"#7fbc41\"], [0.9, \"#4d9221\"], [1, \"#276419\"]], \"sequential\": [[0.0, \"#0d0887\"], [0.1111111111111111, \"#46039f\"], [0.2222222222222222, \"#7201a8\"], [0.3333333333333333, \"#9c179e\"], [0.4444444444444444, \"#bd3786\"], [0.5555555555555556, \"#d8576b\"], [0.6666666666666666, \"#ed7953\"], [0.7777777777777778, \"#fb9f3a\"], [0.8888888888888888, \"#fdca26\"], [1.0, \"#f0f921\"]], \"sequentialminus\": [[0.0, \"#0d0887\"], [0.1111111111111111, \"#46039f\"], [0.2222222222222222, \"#7201a8\"], [0.3333333333333333, \"#9c179e\"], [0.4444444444444444, \"#bd3786\"], [0.5555555555555556, \"#d8576b\"], [0.6666666666666666, \"#ed7953\"], [0.7777777777777778, \"#fb9f3a\"], [0.8888888888888888, \"#fdca26\"], [1.0, \"#f0f921\"]]}, \"colorway\": [\"#636efa\", \"#EF553B\", \"#00cc96\", \"#ab63fa\", \"#FFA15A\", \"#19d3f3\", \"#FF6692\", \"#B6E880\", \"#FF97FF\", \"#FECB52\"], \"font\": {\"color\": \"#f2f5fa\"}, \"geo\": {\"bgcolor\": \"rgb(17,17,17)\", \"lakecolor\": \"rgb(17,17,17)\", \"landcolor\": \"rgb(17,17,17)\", \"showlakes\": true, \"showland\": true, \"subunitcolor\": \"#506784\"}, \"hoverlabel\": {\"align\": \"left\"}, \"hovermode\": \"closest\", \"mapbox\": {\"style\": \"dark\"}, \"paper_bgcolor\": \"rgb(17,17,17)\", \"plot_bgcolor\": \"rgb(17,17,17)\", \"polar\": {\"angularaxis\": {\"gridcolor\": \"#506784\", \"linecolor\": \"#506784\", \"ticks\": \"\"}, \"bgcolor\": \"rgb(17,17,17)\", \"radialaxis\": {\"gridcolor\": \"#506784\", \"linecolor\": \"#506784\", \"ticks\": \"\"}}, \"scene\": {\"xaxis\": {\"backgroundcolor\": \"rgb(17,17,17)\", \"gridcolor\": \"#506784\", \"gridwidth\": 2, \"linecolor\": \"#506784\", \"showbackground\": true, \"ticks\": \"\", \"zerolinecolor\": \"#C8D4E3\"}, \"yaxis\": {\"backgroundcolor\": \"rgb(17,17,17)\", \"gridcolor\": \"#506784\", \"gridwidth\": 2, \"linecolor\": \"#506784\", \"showbackground\": true, \"ticks\": \"\", \"zerolinecolor\": \"#C8D4E3\"}, \"zaxis\": {\"backgroundcolor\": \"rgb(17,17,17)\", \"gridcolor\": \"#506784\", \"gridwidth\": 2, \"linecolor\": \"#506784\", \"showbackground\": true, \"ticks\": \"\", \"zerolinecolor\": \"#C8D4E3\"}}, \"shapedefaults\": {\"line\": {\"color\": \"#f2f5fa\"}}, \"sliderdefaults\": {\"bgcolor\": \"#C8D4E3\", \"bordercolor\": \"rgb(17,17,17)\", \"borderwidth\": 1, \"tickwidth\": 0}, \"ternary\": {\"aaxis\": {\"gridcolor\": \"#506784\", \"linecolor\": \"#506784\", \"ticks\": \"\"}, \"baxis\": {\"gridcolor\": \"#506784\", \"linecolor\": \"#506784\", \"ticks\": \"\"}, \"bgcolor\": \"rgb(17,17,17)\", \"caxis\": {\"gridcolor\": \"#506784\", \"linecolor\": \"#506784\", \"ticks\": \"\"}}, \"title\": {\"x\": 0.05}, \"updatemenudefaults\": {\"bgcolor\": \"#506784\", \"borderwidth\": 0}, \"xaxis\": {\"automargin\": true, \"gridcolor\": \"#283442\", \"linecolor\": \"#506784\", \"ticks\": \"\", \"title\": {\"standoff\": 15}, \"zerolinecolor\": \"#283442\", \"zerolinewidth\": 2}, \"yaxis\": {\"automargin\": true, \"gridcolor\": \"#283442\", \"linecolor\": \"#506784\", \"ticks\": \"\", \"title\": {\"standoff\": 15}, \"zerolinecolor\": \"#283442\", \"zerolinewidth\": 2}}}},                        {\"responsive\": true}                    ).then(function(){\n",
       "                            \n",
       "var gd = document.getElementById('2877f1f5-76ae-47c0-9c5e-6bd63e8eb6e4');\n",
       "var x = new MutationObserver(function (mutations, observer) {{\n",
       "        var display = window.getComputedStyle(gd).display;\n",
       "        if (!display || display === 'none') {{\n",
       "            console.log([gd, 'removed!']);\n",
       "            Plotly.purge(gd);\n",
       "            observer.disconnect();\n",
       "        }}\n",
       "}});\n",
       "\n",
       "// Listen for the removal of the full notebook cells\n",
       "var notebookContainer = gd.closest('#notebook-container');\n",
       "if (notebookContainer) {{\n",
       "    x.observe(notebookContainer, {childList: true});\n",
       "}}\n",
       "\n",
       "// Listen for the clearing of the current output cell\n",
       "var outputEl = gd.closest('.output');\n",
       "if (outputEl) {{\n",
       "    x.observe(outputEl, {childList: true});\n",
       "}}\n",
       "\n",
       "                        })                };                });            </script>        </div>"
      ]
     },
     "metadata": {},
     "output_type": "display_data"
    }
   ],
   "source": [
    "import plotly.graph_objects as go\n",
    "from IPython.display import clear_output\n",
    "import matplotlib.pyplot as plt\n",
    "\n",
    "fig = go.Figure()\n",
    "angles = features\n",
    "angles.append(angles[0])\n",
    "layoutdict = dict(\n",
    "            radialaxis=dict(\n",
    "            visible=True,\n",
    "            range=[0, 1]\n",
    "            ))\n",
    "for i in range(opt_clusters):\n",
    "    subset = scaled_df[scaled_df['k_means'] == i]\n",
    "    data = [np.mean(subset[col]) for col in features]\n",
    "    data.append(data[0])\n",
    "    fig.add_trace(go.Scatterpolar(\n",
    "        r=data,\n",
    "        theta=angles,\n",
    "        fill='toself',\n",
    "        name=\"Cluster \" + str(i)))\n",
    "    \n",
    "fig.update_layout(\n",
    "        polar=layoutdict,\n",
    "        showlegend=True,template='plotly_dark'\n",
    "        )\n",
    "fig.show()"
   ]
  },
  {
   "cell_type": "code",
   "execution_count": 191,
   "metadata": {},
   "outputs": [
    {
     "data": {
      "text/html": [
       "<div>\n",
       "<style scoped>\n",
       "    .dataframe tbody tr th:only-of-type {\n",
       "        vertical-align: middle;\n",
       "    }\n",
       "\n",
       "    .dataframe tbody tr th {\n",
       "        vertical-align: top;\n",
       "    }\n",
       "\n",
       "    .dataframe thead th {\n",
       "        text-align: right;\n",
       "    }\n",
       "</style>\n",
       "<table border=\"1\" class=\"dataframe\">\n",
       "  <thead>\n",
       "    <tr style=\"text-align: right;\">\n",
       "      <th></th>\n",
       "      <th>Songs</th>\n",
       "    </tr>\n",
       "  </thead>\n",
       "  <tbody>\n",
       "    <tr>\n",
       "      <th>0</th>\n",
       "      <td>33106</td>\n",
       "    </tr>\n",
       "    <tr>\n",
       "      <th>1</th>\n",
       "      <td>14819</td>\n",
       "    </tr>\n",
       "    <tr>\n",
       "      <th>2</th>\n",
       "      <td>33974</td>\n",
       "    </tr>\n",
       "    <tr>\n",
       "      <th>3</th>\n",
       "      <td>2006</td>\n",
       "    </tr>\n",
       "    <tr>\n",
       "      <th>4</th>\n",
       "      <td>4221</td>\n",
       "    </tr>\n",
       "  </tbody>\n",
       "</table>\n",
       "</div>"
      ],
      "text/plain": [
       "   Songs\n",
       "0  33106\n",
       "1  14819\n",
       "2  33974\n",
       "3   2006\n",
       "4   4221"
      ]
     },
     "execution_count": 191,
     "metadata": {},
     "output_type": "execute_result"
    }
   ],
   "source": [
    "scaled_qty = scaled_df.groupby([\"k_means\"])[\"k_means\"].count()\n",
    "scaled_qty_df = pd.DataFrame(scaled_qty)\n",
    "scaled_qty_df.index.name = None\n",
    "scaled_qty_df = scaled_qty_df.rename(columns = {'k_means': 'Songs'}, inplace = False)\n",
    "scaled_qty_df"
   ]
  },
  {
   "cell_type": "code",
   "execution_count": 192,
   "metadata": {},
   "outputs": [
    {
     "data": {
      "text/html": [
       "<div>\n",
       "<style scoped>\n",
       "    .dataframe tbody tr th:only-of-type {\n",
       "        vertical-align: middle;\n",
       "    }\n",
       "\n",
       "    .dataframe tbody tr th {\n",
       "        vertical-align: top;\n",
       "    }\n",
       "\n",
       "    .dataframe thead th {\n",
       "        text-align: right;\n",
       "    }\n",
       "</style>\n",
       "<table border=\"1\" class=\"dataframe\">\n",
       "  <thead>\n",
       "    <tr style=\"text-align: right;\">\n",
       "      <th></th>\n",
       "      <th>Cluster</th>\n",
       "      <th>Songs</th>\n",
       "    </tr>\n",
       "  </thead>\n",
       "  <tbody>\n",
       "    <tr>\n",
       "      <th>0</th>\n",
       "      <td>0</td>\n",
       "      <td>33106</td>\n",
       "    </tr>\n",
       "    <tr>\n",
       "      <th>1</th>\n",
       "      <td>1</td>\n",
       "      <td>14819</td>\n",
       "    </tr>\n",
       "    <tr>\n",
       "      <th>2</th>\n",
       "      <td>2</td>\n",
       "      <td>33974</td>\n",
       "    </tr>\n",
       "    <tr>\n",
       "      <th>3</th>\n",
       "      <td>3</td>\n",
       "      <td>2006</td>\n",
       "    </tr>\n",
       "    <tr>\n",
       "      <th>4</th>\n",
       "      <td>4</td>\n",
       "      <td>4221</td>\n",
       "    </tr>\n",
       "  </tbody>\n",
       "</table>\n",
       "</div>"
      ],
      "text/plain": [
       "   Cluster  Songs\n",
       "0        0  33106\n",
       "1        1  14819\n",
       "2        2  33974\n",
       "3        3   2006\n",
       "4        4   4221"
      ]
     },
     "execution_count": 192,
     "metadata": {},
     "output_type": "execute_result"
    }
   ],
   "source": [
    "#Plot bar of quantities\n",
    "scaled_qty_df = scaled_qty_df.reset_index(inplace = False)\n",
    "scaled_qty_df = scaled_qty_df.rename(columns = {'index': 'Cluster'}, inplace = False)\n",
    "scaled_qty_df"
   ]
  },
  {
   "cell_type": "code",
   "execution_count": 193,
   "metadata": {},
   "outputs": [
    {
     "data": {
      "image/png": "[encoded data removed]",
      "text/plain": [
       "<Figure size 432x288 with 1 Axes>"
      ]
     },
     "metadata": {
      "needs_background": "light"
     },
     "output_type": "display_data"
    }
   ],
   "source": [
    "sb.set_palette(\"Paired\")\n",
    "\n",
    "#sb.set_theme(style=\"whitegrid\")\n",
    "ax = sb.barplot(y = \"Songs\", x = \"Cluster\", data=scaled_qty_df)\n",
    "\n",
    "ax.set_title('Quantity of Songs per Cluster')\n",
    "# Turns off grid on the left Axis.\n",
    "ax.grid(False)\n",
    "\n",
    "# Save a palette to a variable:\n",
    "#palette = sb.color_palette(\"dense\")\n",
    " \n"
   ]
  },
  {
   "cell_type": "markdown",
   "metadata": {},
   "source": [
    "## Country rankings"
   ]
  },
  {
   "cell_type": "code",
   "execution_count": 194,
   "metadata": {},
   "outputs": [],
   "source": [
    "#Read music feature data into python\n",
    "file_name = 'top_tracks.csv'\n",
    "top_tracks = pd.read_csv(file_name)"
   ]
  },
  {
   "cell_type": "code",
   "execution_count": 195,
   "metadata": {},
   "outputs": [],
   "source": [
    "top_tracks = top_tracks.drop(columns=['Unnamed: 0'])"
   ]
  },
  {
   "cell_type": "code",
   "execution_count": 196,
   "metadata": {},
   "outputs": [
    {
     "data": {
      "text/html": [
       "<div>\n",
       "<style scoped>\n",
       "    .dataframe tbody tr th:only-of-type {\n",
       "        vertical-align: middle;\n",
       "    }\n",
       "\n",
       "    .dataframe tbody tr th {\n",
       "        vertical-align: top;\n",
       "    }\n",
       "\n",
       "    .dataframe thead th {\n",
       "        text-align: right;\n",
       "    }\n",
       "</style>\n",
       "<table border=\"1\" class=\"dataframe\">\n",
       "  <thead>\n",
       "    <tr style=\"text-align: right;\">\n",
       "      <th></th>\n",
       "      <th>id</th>\n",
       "      <th>k_means</th>\n",
       "    </tr>\n",
       "  </thead>\n",
       "  <tbody>\n",
       "    <tr>\n",
       "      <th>0</th>\n",
       "      <td>000xQL6tZNLJzIrtIgxqSl</td>\n",
       "      <td>2</td>\n",
       "    </tr>\n",
       "    <tr>\n",
       "      <th>1</th>\n",
       "      <td>000xYdQfIZ4pDmBGzQalKU</td>\n",
       "      <td>2</td>\n",
       "    </tr>\n",
       "    <tr>\n",
       "      <th>2</th>\n",
       "      <td>001b8t3bYPfnabpjpfG1Y4</td>\n",
       "      <td>2</td>\n",
       "    </tr>\n",
       "    <tr>\n",
       "      <th>3</th>\n",
       "      <td>001cKCt7jEOzXjqgkn9DQf</td>\n",
       "      <td>2</td>\n",
       "    </tr>\n",
       "    <tr>\n",
       "      <th>4</th>\n",
       "      <td>003F0rm5lqxcmhvJPKgfaJ</td>\n",
       "      <td>0</td>\n",
       "    </tr>\n",
       "    <tr>\n",
       "      <th>...</th>\n",
       "      <td>...</td>\n",
       "      <td>...</td>\n",
       "    </tr>\n",
       "    <tr>\n",
       "      <th>88121</th>\n",
       "      <td>7zy0jQ2un779v9bmBrBVCV</td>\n",
       "      <td>2</td>\n",
       "    </tr>\n",
       "    <tr>\n",
       "      <th>88122</th>\n",
       "      <td>7zyYmIdjqqiX6kLryb7QBx</td>\n",
       "      <td>1</td>\n",
       "    </tr>\n",
       "    <tr>\n",
       "      <th>88123</th>\n",
       "      <td>7zyofXGhXgaqT8fhvLufdf</td>\n",
       "      <td>2</td>\n",
       "    </tr>\n",
       "    <tr>\n",
       "      <th>88124</th>\n",
       "      <td>7zzI3SbctTJN6wDerZNZCD</td>\n",
       "      <td>0</td>\n",
       "    </tr>\n",
       "    <tr>\n",
       "      <th>88125</th>\n",
       "      <td>7zzhknA0A39TH81meuX7WA</td>\n",
       "      <td>0</td>\n",
       "    </tr>\n",
       "  </tbody>\n",
       "</table>\n",
       "<p>88126 rows × 2 columns</p>\n",
       "</div>"
      ],
      "text/plain": [
       "                           id  k_means\n",
       "0      000xQL6tZNLJzIrtIgxqSl        2\n",
       "1      000xYdQfIZ4pDmBGzQalKU        2\n",
       "2      001b8t3bYPfnabpjpfG1Y4        2\n",
       "3      001cKCt7jEOzXjqgkn9DQf        2\n",
       "4      003F0rm5lqxcmhvJPKgfaJ        0\n",
       "...                       ...      ...\n",
       "88121  7zy0jQ2un779v9bmBrBVCV        2\n",
       "88122  7zyYmIdjqqiX6kLryb7QBx        1\n",
       "88123  7zyofXGhXgaqT8fhvLufdf        2\n",
       "88124  7zzI3SbctTJN6wDerZNZCD        0\n",
       "88125  7zzhknA0A39TH81meuX7WA        0\n",
       "\n",
       "[88126 rows x 2 columns]"
      ]
     },
     "execution_count": 196,
     "metadata": {},
     "output_type": "execute_result"
    }
   ],
   "source": [
    "id_clusters_df = music_features[['id','k_means']].copy()\n",
    "id_clusters_df"
   ]
  },
  {
   "cell_type": "code",
   "execution_count": 197,
   "metadata": {},
   "outputs": [
    {
     "data": {
      "text/html": [
       "<div>\n",
       "<style scoped>\n",
       "    .dataframe tbody tr th:only-of-type {\n",
       "        vertical-align: middle;\n",
       "    }\n",
       "\n",
       "    .dataframe tbody tr th {\n",
       "        vertical-align: top;\n",
       "    }\n",
       "\n",
       "    .dataframe thead th {\n",
       "        text-align: right;\n",
       "    }\n",
       "</style>\n",
       "<table border=\"1\" class=\"dataframe\">\n",
       "  <thead>\n",
       "    <tr style=\"text-align: right;\">\n",
       "      <th></th>\n",
       "      <th>Position</th>\n",
       "      <th>Track Name</th>\n",
       "      <th>Artist</th>\n",
       "      <th>Streams</th>\n",
       "      <th>URL</th>\n",
       "      <th>Date</th>\n",
       "      <th>code</th>\n",
       "      <th>name</th>\n",
       "      <th>id</th>\n",
       "      <th>k_means</th>\n",
       "    </tr>\n",
       "  </thead>\n",
       "  <tbody>\n",
       "    <tr>\n",
       "      <th>0</th>\n",
       "      <td>1</td>\n",
       "      <td>Reggaetón Lento (Bailemos)</td>\n",
       "      <td>CNCO</td>\n",
       "      <td>6784</td>\n",
       "      <td>https://open.spotify.com/track/3AEZUABDXNtecAO...</td>\n",
       "      <td>2017-01-01</td>\n",
       "      <td>bo</td>\n",
       "      <td>Bolivia</td>\n",
       "      <td>3AEZUABDXNtecAOSC1qTfo</td>\n",
       "      <td>0</td>\n",
       "    </tr>\n",
       "    <tr>\n",
       "      <th>1</th>\n",
       "      <td>4</td>\n",
       "      <td>Reggaetón Lento (Bailemos)</td>\n",
       "      <td>CNCO</td>\n",
       "      <td>5760</td>\n",
       "      <td>https://open.spotify.com/track/3AEZUABDXNtecAO...</td>\n",
       "      <td>2017-01-01</td>\n",
       "      <td>hn</td>\n",
       "      <td>Honduras</td>\n",
       "      <td>3AEZUABDXNtecAOSC1qTfo</td>\n",
       "      <td>0</td>\n",
       "    </tr>\n",
       "    <tr>\n",
       "      <th>2</th>\n",
       "      <td>7</td>\n",
       "      <td>Reggaetón Lento (Bailemos)</td>\n",
       "      <td>CNCO</td>\n",
       "      <td>1846</td>\n",
       "      <td>https://open.spotify.com/track/3AEZUABDXNtecAO...</td>\n",
       "      <td>2017-01-01</td>\n",
       "      <td>ni</td>\n",
       "      <td>Nicaragua</td>\n",
       "      <td>3AEZUABDXNtecAOSC1qTfo</td>\n",
       "      <td>0</td>\n",
       "    </tr>\n",
       "    <tr>\n",
       "      <th>3</th>\n",
       "      <td>38</td>\n",
       "      <td>Reggaetón Lento (Bailemos)</td>\n",
       "      <td>CNCO</td>\n",
       "      <td>1116627</td>\n",
       "      <td>https://open.spotify.com/track/3AEZUABDXNtecAO...</td>\n",
       "      <td>2017-01-02</td>\n",
       "      <td>global</td>\n",
       "      <td>Global</td>\n",
       "      <td>3AEZUABDXNtecAOSC1qTfo</td>\n",
       "      <td>0</td>\n",
       "    </tr>\n",
       "    <tr>\n",
       "      <th>4</th>\n",
       "      <td>1</td>\n",
       "      <td>Reggaetón Lento (Bailemos)</td>\n",
       "      <td>CNCO</td>\n",
       "      <td>8163</td>\n",
       "      <td>https://open.spotify.com/track/3AEZUABDXNtecAO...</td>\n",
       "      <td>2017-01-02</td>\n",
       "      <td>gt</td>\n",
       "      <td>Guatemala</td>\n",
       "      <td>3AEZUABDXNtecAOSC1qTfo</td>\n",
       "      <td>0</td>\n",
       "    </tr>\n",
       "    <tr>\n",
       "      <th>...</th>\n",
       "      <td>...</td>\n",
       "      <td>...</td>\n",
       "      <td>...</td>\n",
       "      <td>...</td>\n",
       "      <td>...</td>\n",
       "      <td>...</td>\n",
       "      <td>...</td>\n",
       "      <td>...</td>\n",
       "      <td>...</td>\n",
       "      <td>...</td>\n",
       "    </tr>\n",
       "    <tr>\n",
       "      <th>9927871</th>\n",
       "      <td>108</td>\n",
       "      <td>GO! (with BIG30)</td>\n",
       "      <td>Moneybagg Yo</td>\n",
       "      <td>304622</td>\n",
       "      <td>https://open.spotify.com/track/4VYKA63F2fcQnsv...</td>\n",
       "      <td>2021-04-16</td>\n",
       "      <td>us</td>\n",
       "      <td>United States</td>\n",
       "      <td>4VYKA63F2fcQnsvfWUpzn9</td>\n",
       "      <td>2</td>\n",
       "    </tr>\n",
       "    <tr>\n",
       "      <th>9927872</th>\n",
       "      <td>154</td>\n",
       "      <td>That Go! (feat. T-Shyne)</td>\n",
       "      <td>Young Stoner Life</td>\n",
       "      <td>247931</td>\n",
       "      <td>https://open.spotify.com/track/6rUmUJ2drFemHTH...</td>\n",
       "      <td>2021-04-16</td>\n",
       "      <td>us</td>\n",
       "      <td>United States</td>\n",
       "      <td>6rUmUJ2drFemHTH73bFAKQ</td>\n",
       "      <td>2</td>\n",
       "    </tr>\n",
       "    <tr>\n",
       "      <th>9927873</th>\n",
       "      <td>95</td>\n",
       "      <td>Dejo Atrás</td>\n",
       "      <td>No Te Va Gustar</td>\n",
       "      <td>3194</td>\n",
       "      <td>https://open.spotify.com/track/60FasBAOZzjNCSo...</td>\n",
       "      <td>2021-04-16</td>\n",
       "      <td>uy</td>\n",
       "      <td>Uruguay</td>\n",
       "      <td>60FasBAOZzjNCSoljbbASM</td>\n",
       "      <td>2</td>\n",
       "    </tr>\n",
       "    <tr>\n",
       "      <th>9927874</th>\n",
       "      <td>113</td>\n",
       "      <td>Có Chàng Trai Viết Lên Cây</td>\n",
       "      <td>Phan Mạnh Quỳnh</td>\n",
       "      <td>6132</td>\n",
       "      <td>https://open.spotify.com/track/2NEzxeMKW0mk5pr...</td>\n",
       "      <td>2021-04-16</td>\n",
       "      <td>vn</td>\n",
       "      <td>Viet Nam</td>\n",
       "      <td>2NEzxeMKW0mk5pr7tcrvs2</td>\n",
       "      <td>1</td>\n",
       "    </tr>\n",
       "    <tr>\n",
       "      <th>9927875</th>\n",
       "      <td>115</td>\n",
       "      <td>Vrystaat Vlaktes</td>\n",
       "      <td>Reën</td>\n",
       "      <td>3841</td>\n",
       "      <td>https://open.spotify.com/track/6DbTFMOQARs5TDz...</td>\n",
       "      <td>2021-04-16</td>\n",
       "      <td>za</td>\n",
       "      <td>South Africa</td>\n",
       "      <td>6DbTFMOQARs5TDzKsMwYpn</td>\n",
       "      <td>2</td>\n",
       "    </tr>\n",
       "  </tbody>\n",
       "</table>\n",
       "<p>9927876 rows × 10 columns</p>\n",
       "</div>"
      ],
      "text/plain": [
       "         Position                  Track Name             Artist  Streams  \\\n",
       "0               1  Reggaetón Lento (Bailemos)               CNCO     6784   \n",
       "1               4  Reggaetón Lento (Bailemos)               CNCO     5760   \n",
       "2               7  Reggaetón Lento (Bailemos)               CNCO     1846   \n",
       "3              38  Reggaetón Lento (Bailemos)               CNCO  1116627   \n",
       "4               1  Reggaetón Lento (Bailemos)               CNCO     8163   \n",
       "...           ...                         ...                ...      ...   \n",
       "9927871       108            GO! (with BIG30)       Moneybagg Yo   304622   \n",
       "9927872       154    That Go! (feat. T-Shyne)  Young Stoner Life   247931   \n",
       "9927873        95                  Dejo Atrás    No Te Va Gustar     3194   \n",
       "9927874       113  Có Chàng Trai Viết Lên Cây    Phan Mạnh Quỳnh     6132   \n",
       "9927875       115            Vrystaat Vlaktes               Reën     3841   \n",
       "\n",
       "                                                       URL        Date  \\\n",
       "0        https://open.spotify.com/track/3AEZUABDXNtecAO...  2017-01-01   \n",
       "1        https://open.spotify.com/track/3AEZUABDXNtecAO...  2017-01-01   \n",
       "2        https://open.spotify.com/track/3AEZUABDXNtecAO...  2017-01-01   \n",
       "3        https://open.spotify.com/track/3AEZUABDXNtecAO...  2017-01-02   \n",
       "4        https://open.spotify.com/track/3AEZUABDXNtecAO...  2017-01-02   \n",
       "...                                                    ...         ...   \n",
       "9927871  https://open.spotify.com/track/4VYKA63F2fcQnsv...  2021-04-16   \n",
       "9927872  https://open.spotify.com/track/6rUmUJ2drFemHTH...  2021-04-16   \n",
       "9927873  https://open.spotify.com/track/60FasBAOZzjNCSo...  2021-04-16   \n",
       "9927874  https://open.spotify.com/track/2NEzxeMKW0mk5pr...  2021-04-16   \n",
       "9927875  https://open.spotify.com/track/6DbTFMOQARs5TDz...  2021-04-16   \n",
       "\n",
       "           code           name                      id  k_means  \n",
       "0            bo        Bolivia  3AEZUABDXNtecAOSC1qTfo        0  \n",
       "1            hn       Honduras  3AEZUABDXNtecAOSC1qTfo        0  \n",
       "2            ni      Nicaragua  3AEZUABDXNtecAOSC1qTfo        0  \n",
       "3        global         Global  3AEZUABDXNtecAOSC1qTfo        0  \n",
       "4            gt      Guatemala  3AEZUABDXNtecAOSC1qTfo        0  \n",
       "...         ...            ...                     ...      ...  \n",
       "9927871      us  United States  4VYKA63F2fcQnsvfWUpzn9        2  \n",
       "9927872      us  United States  6rUmUJ2drFemHTH73bFAKQ        2  \n",
       "9927873      uy        Uruguay  60FasBAOZzjNCSoljbbASM        2  \n",
       "9927874      vn       Viet Nam  2NEzxeMKW0mk5pr7tcrvs2        1  \n",
       "9927875      za   South Africa  6DbTFMOQARs5TDzKsMwYpn        2  \n",
       "\n",
       "[9927876 rows x 10 columns]"
      ]
     },
     "execution_count": 197,
     "metadata": {},
     "output_type": "execute_result"
    }
   ],
   "source": [
    "results = top_tracks.merge(id_clusters_df, on=\"id\")\n",
    "results"
   ]
  },
  {
   "cell_type": "code",
   "execution_count": 198,
   "metadata": {},
   "outputs": [
    {
     "data": {
      "text/html": [
       "<div>\n",
       "<style scoped>\n",
       "    .dataframe tbody tr th:only-of-type {\n",
       "        vertical-align: middle;\n",
       "    }\n",
       "\n",
       "    .dataframe tbody tr th {\n",
       "        vertical-align: top;\n",
       "    }\n",
       "\n",
       "    .dataframe thead th {\n",
       "        text-align: right;\n",
       "    }\n",
       "</style>\n",
       "<table border=\"1\" class=\"dataframe\">\n",
       "  <thead>\n",
       "    <tr style=\"text-align: right;\">\n",
       "      <th></th>\n",
       "      <th>Position</th>\n",
       "      <th>Streams</th>\n",
       "    </tr>\n",
       "    <tr>\n",
       "      <th>k_means</th>\n",
       "      <th></th>\n",
       "      <th></th>\n",
       "    </tr>\n",
       "  </thead>\n",
       "  <tbody>\n",
       "    <tr>\n",
       "      <th>0</th>\n",
       "      <td>348912416</td>\n",
       "      <td>211701925585</td>\n",
       "    </tr>\n",
       "    <tr>\n",
       "      <th>1</th>\n",
       "      <td>164911469</td>\n",
       "      <td>75023111854</td>\n",
       "    </tr>\n",
       "    <tr>\n",
       "      <th>2</th>\n",
       "      <td>406994440</td>\n",
       "      <td>245434717432</td>\n",
       "    </tr>\n",
       "    <tr>\n",
       "      <th>3</th>\n",
       "      <td>5581049</td>\n",
       "      <td>2366442372</td>\n",
       "    </tr>\n",
       "    <tr>\n",
       "      <th>4</th>\n",
       "      <td>32800347</td>\n",
       "      <td>15825823655</td>\n",
       "    </tr>\n",
       "  </tbody>\n",
       "</table>\n",
       "</div>"
      ],
      "text/plain": [
       "          Position       Streams\n",
       "k_means                         \n",
       "0        348912416  211701925585\n",
       "1        164911469   75023111854\n",
       "2        406994440  245434717432\n",
       "3          5581049    2366442372\n",
       "4         32800347   15825823655"
      ]
     },
     "execution_count": 198,
     "metadata": {},
     "output_type": "execute_result"
    }
   ],
   "source": [
    "results.groupby(by=[\"k_means\"]).sum()"
   ]
  },
  {
   "cell_type": "code",
   "execution_count": 199,
   "metadata": {},
   "outputs": [
    {
     "data": {
      "text/html": [
       "<div>\n",
       "<style scoped>\n",
       "    .dataframe tbody tr th:only-of-type {\n",
       "        vertical-align: middle;\n",
       "    }\n",
       "\n",
       "    .dataframe tbody tr th {\n",
       "        vertical-align: top;\n",
       "    }\n",
       "\n",
       "    .dataframe thead tr th {\n",
       "        text-align: left;\n",
       "    }\n",
       "\n",
       "    .dataframe thead tr:last-of-type th {\n",
       "        text-align: right;\n",
       "    }\n",
       "</style>\n",
       "<table border=\"1\" class=\"dataframe\">\n",
       "  <thead>\n",
       "    <tr>\n",
       "      <th></th>\n",
       "      <th></th>\n",
       "      <th>Streams</th>\n",
       "      <th>Position</th>\n",
       "    </tr>\n",
       "    <tr>\n",
       "      <th></th>\n",
       "      <th></th>\n",
       "      <th>sum</th>\n",
       "      <th>min</th>\n",
       "    </tr>\n",
       "    <tr>\n",
       "      <th>code</th>\n",
       "      <th>k_means</th>\n",
       "      <th></th>\n",
       "      <th></th>\n",
       "    </tr>\n",
       "  </thead>\n",
       "  <tbody>\n",
       "    <tr>\n",
       "      <th rowspan=\"5\" valign=\"top\">ae</th>\n",
       "      <th>0</th>\n",
       "      <td>42825695</td>\n",
       "      <td>1</td>\n",
       "    </tr>\n",
       "    <tr>\n",
       "      <th>1</th>\n",
       "      <td>19994442</td>\n",
       "      <td>1</td>\n",
       "    </tr>\n",
       "    <tr>\n",
       "      <th>2</th>\n",
       "      <td>38937630</td>\n",
       "      <td>1</td>\n",
       "    </tr>\n",
       "    <tr>\n",
       "      <th>3</th>\n",
       "      <td>614494</td>\n",
       "      <td>2</td>\n",
       "    </tr>\n",
       "    <tr>\n",
       "      <th>4</th>\n",
       "      <td>3428027</td>\n",
       "      <td>2</td>\n",
       "    </tr>\n",
       "    <tr>\n",
       "      <th>...</th>\n",
       "      <th>...</th>\n",
       "      <td>...</td>\n",
       "      <td>...</td>\n",
       "    </tr>\n",
       "    <tr>\n",
       "      <th rowspan=\"5\" valign=\"top\">za</th>\n",
       "      <th>0</th>\n",
       "      <td>116513904</td>\n",
       "      <td>1</td>\n",
       "    </tr>\n",
       "    <tr>\n",
       "      <th>1</th>\n",
       "      <td>50533956</td>\n",
       "      <td>1</td>\n",
       "    </tr>\n",
       "    <tr>\n",
       "      <th>2</th>\n",
       "      <td>126459593</td>\n",
       "      <td>1</td>\n",
       "    </tr>\n",
       "    <tr>\n",
       "      <th>3</th>\n",
       "      <td>6021708</td>\n",
       "      <td>2</td>\n",
       "    </tr>\n",
       "    <tr>\n",
       "      <th>4</th>\n",
       "      <td>8405985</td>\n",
       "      <td>1</td>\n",
       "    </tr>\n",
       "  </tbody>\n",
       "</table>\n",
       "<p>345 rows × 2 columns</p>\n",
       "</div>"
      ],
      "text/plain": [
       "                Streams Position\n",
       "                    sum      min\n",
       "code k_means                    \n",
       "ae   0         42825695        1\n",
       "     1         19994442        1\n",
       "     2         38937630        1\n",
       "     3           614494        2\n",
       "     4          3428027        2\n",
       "...                 ...      ...\n",
       "za   0        116513904        1\n",
       "     1         50533956        1\n",
       "     2        126459593        1\n",
       "     3          6021708        2\n",
       "     4          8405985        1\n",
       "\n",
       "[345 rows x 2 columns]"
      ]
     },
     "execution_count": 199,
     "metadata": {},
     "output_type": "execute_result"
    }
   ],
   "source": [
    "cluster_country_streams = results.groupby(['code', 'k_means']).agg({'Streams': ['sum'], 'Position': ['mean'], 'Position': ['min']})\n",
    "cluster_country_streams"
   ]
  },
  {
   "cell_type": "code",
   "execution_count": 200,
   "metadata": {},
   "outputs": [
    {
     "data": {
      "text/html": [
       "<div>\n",
       "<style scoped>\n",
       "    .dataframe tbody tr th:only-of-type {\n",
       "        vertical-align: middle;\n",
       "    }\n",
       "\n",
       "    .dataframe tbody tr th {\n",
       "        vertical-align: top;\n",
       "    }\n",
       "\n",
       "    .dataframe thead th {\n",
       "        text-align: right;\n",
       "    }\n",
       "</style>\n",
       "<table border=\"1\" class=\"dataframe\">\n",
       "  <thead>\n",
       "    <tr style=\"text-align: right;\">\n",
       "      <th></th>\n",
       "      <th></th>\n",
       "      <th>Streams</th>\n",
       "    </tr>\n",
       "    <tr>\n",
       "      <th>name</th>\n",
       "      <th>k_means</th>\n",
       "      <th></th>\n",
       "    </tr>\n",
       "  </thead>\n",
       "  <tbody>\n",
       "    <tr>\n",
       "      <th rowspan=\"5\" valign=\"top\">Argentina</th>\n",
       "      <th>0</th>\n",
       "      <td>3739533330</td>\n",
       "    </tr>\n",
       "    <tr>\n",
       "      <th>1</th>\n",
       "      <td>430785711</td>\n",
       "    </tr>\n",
       "    <tr>\n",
       "      <th>2</th>\n",
       "      <td>4327762446</td>\n",
       "    </tr>\n",
       "    <tr>\n",
       "      <th>3</th>\n",
       "      <td>9832853</td>\n",
       "    </tr>\n",
       "    <tr>\n",
       "      <th>4</th>\n",
       "      <td>201364716</td>\n",
       "    </tr>\n",
       "    <tr>\n",
       "      <th>...</th>\n",
       "      <th>...</th>\n",
       "      <td>...</td>\n",
       "    </tr>\n",
       "    <tr>\n",
       "      <th rowspan=\"5\" valign=\"top\">Viet Nam</th>\n",
       "      <th>0</th>\n",
       "      <td>160995525</td>\n",
       "    </tr>\n",
       "    <tr>\n",
       "      <th>1</th>\n",
       "      <td>204830663</td>\n",
       "    </tr>\n",
       "    <tr>\n",
       "      <th>2</th>\n",
       "      <td>158930818</td>\n",
       "    </tr>\n",
       "    <tr>\n",
       "      <th>3</th>\n",
       "      <td>3667415</td>\n",
       "    </tr>\n",
       "    <tr>\n",
       "      <th>4</th>\n",
       "      <td>30332081</td>\n",
       "    </tr>\n",
       "  </tbody>\n",
       "</table>\n",
       "<p>345 rows × 1 columns</p>\n",
       "</div>"
      ],
      "text/plain": [
       "                      Streams\n",
       "name      k_means            \n",
       "Argentina 0        3739533330\n",
       "          1         430785711\n",
       "          2        4327762446\n",
       "          3           9832853\n",
       "          4         201364716\n",
       "...                       ...\n",
       "Viet Nam  0         160995525\n",
       "          1         204830663\n",
       "          2         158930818\n",
       "          3           3667415\n",
       "          4          30332081\n",
       "\n",
       "[345 rows x 1 columns]"
      ]
     },
     "execution_count": 200,
     "metadata": {},
     "output_type": "execute_result"
    }
   ],
   "source": [
    "#Grouping by country\n",
    "cluster_country = results.groupby(['name', 'k_means']).agg({'Streams': ['sum']})\n",
    "cluster_country.columns = cluster_country.columns.droplevel(1)\n",
    "cluster_country"
   ]
  },
  {
   "cell_type": "code",
   "execution_count": 201,
   "metadata": {},
   "outputs": [
    {
     "data": {
      "text/html": [
       "<div>\n",
       "<style scoped>\n",
       "    .dataframe tbody tr th:only-of-type {\n",
       "        vertical-align: middle;\n",
       "    }\n",
       "\n",
       "    .dataframe tbody tr th {\n",
       "        vertical-align: top;\n",
       "    }\n",
       "\n",
       "    .dataframe thead th {\n",
       "        text-align: right;\n",
       "    }\n",
       "</style>\n",
       "<table border=\"1\" class=\"dataframe\">\n",
       "  <thead>\n",
       "    <tr style=\"text-align: right;\">\n",
       "      <th></th>\n",
       "      <th>name</th>\n",
       "      <th>k_means</th>\n",
       "      <th>Streams</th>\n",
       "    </tr>\n",
       "  </thead>\n",
       "  <tbody>\n",
       "    <tr>\n",
       "      <th>0</th>\n",
       "      <td>Argentina</td>\n",
       "      <td>0</td>\n",
       "      <td>0.429373</td>\n",
       "    </tr>\n",
       "    <tr>\n",
       "      <th>1</th>\n",
       "      <td>Argentina</td>\n",
       "      <td>1</td>\n",
       "      <td>0.049463</td>\n",
       "    </tr>\n",
       "    <tr>\n",
       "      <th>2</th>\n",
       "      <td>Argentina</td>\n",
       "      <td>2</td>\n",
       "      <td>0.496914</td>\n",
       "    </tr>\n",
       "    <tr>\n",
       "      <th>3</th>\n",
       "      <td>Argentina</td>\n",
       "      <td>3</td>\n",
       "      <td>0.001129</td>\n",
       "    </tr>\n",
       "    <tr>\n",
       "      <th>4</th>\n",
       "      <td>Argentina</td>\n",
       "      <td>4</td>\n",
       "      <td>0.023121</td>\n",
       "    </tr>\n",
       "    <tr>\n",
       "      <th>...</th>\n",
       "      <td>...</td>\n",
       "      <td>...</td>\n",
       "      <td>...</td>\n",
       "    </tr>\n",
       "    <tr>\n",
       "      <th>340</th>\n",
       "      <td>Viet Nam</td>\n",
       "      <td>0</td>\n",
       "      <td>0.288132</td>\n",
       "    </tr>\n",
       "    <tr>\n",
       "      <th>341</th>\n",
       "      <td>Viet Nam</td>\n",
       "      <td>1</td>\n",
       "      <td>0.366583</td>\n",
       "    </tr>\n",
       "    <tr>\n",
       "      <th>342</th>\n",
       "      <td>Viet Nam</td>\n",
       "      <td>2</td>\n",
       "      <td>0.284437</td>\n",
       "    </tr>\n",
       "    <tr>\n",
       "      <th>343</th>\n",
       "      <td>Viet Nam</td>\n",
       "      <td>3</td>\n",
       "      <td>0.006564</td>\n",
       "    </tr>\n",
       "    <tr>\n",
       "      <th>344</th>\n",
       "      <td>Viet Nam</td>\n",
       "      <td>4</td>\n",
       "      <td>0.054285</td>\n",
       "    </tr>\n",
       "  </tbody>\n",
       "</table>\n",
       "<p>345 rows × 3 columns</p>\n",
       "</div>"
      ],
      "text/plain": [
       "          name  k_means   Streams\n",
       "0    Argentina        0  0.429373\n",
       "1    Argentina        1  0.049463\n",
       "2    Argentina        2  0.496914\n",
       "3    Argentina        3  0.001129\n",
       "4    Argentina        4  0.023121\n",
       "..         ...      ...       ...\n",
       "340   Viet Nam        0  0.288132\n",
       "341   Viet Nam        1  0.366583\n",
       "342   Viet Nam        2  0.284437\n",
       "343   Viet Nam        3  0.006564\n",
       "344   Viet Nam        4  0.054285\n",
       "\n",
       "[345 rows x 3 columns]"
      ]
     },
     "execution_count": 201,
     "metadata": {},
     "output_type": "execute_result"
    }
   ],
   "source": [
    "#Grouping by country\n",
    "cluster_country\n",
    "cluster_country_pcts = cluster_country.groupby(level=0).apply(lambda x:\n",
    "                                                 x / float(x.sum()))\n",
    "cluster_country_pcts.reset_index(inplace = True)\n",
    "cluster_country_pcts\n",
    "\n",
    "#cluster_country_pcts.to_excel(\"cluster_country_pcts.xlsx\")"
   ]
  },
  {
   "cell_type": "code",
   "execution_count": 202,
   "metadata": {},
   "outputs": [
    {
     "data": {
      "text/html": [
       "<div>\n",
       "<style scoped>\n",
       "    .dataframe tbody tr th:only-of-type {\n",
       "        vertical-align: middle;\n",
       "    }\n",
       "\n",
       "    .dataframe tbody tr th {\n",
       "        vertical-align: top;\n",
       "    }\n",
       "\n",
       "    .dataframe thead th {\n",
       "        text-align: right;\n",
       "    }\n",
       "</style>\n",
       "<table border=\"1\" class=\"dataframe\">\n",
       "  <thead>\n",
       "    <tr style=\"text-align: right;\">\n",
       "      <th></th>\n",
       "      <th>Position</th>\n",
       "      <th>Track Name</th>\n",
       "      <th>Artist</th>\n",
       "      <th>Streams</th>\n",
       "      <th>URL</th>\n",
       "      <th>Date</th>\n",
       "      <th>code</th>\n",
       "      <th>name</th>\n",
       "      <th>id</th>\n",
       "      <th>k_means</th>\n",
       "    </tr>\n",
       "  </thead>\n",
       "  <tbody>\n",
       "    <tr>\n",
       "      <th>0</th>\n",
       "      <td>1</td>\n",
       "      <td>Reggaetón Lento (Bailemos)</td>\n",
       "      <td>CNCO</td>\n",
       "      <td>6784</td>\n",
       "      <td>https://open.spotify.com/track/3AEZUABDXNtecAO...</td>\n",
       "      <td>2017-01-01</td>\n",
       "      <td>bo</td>\n",
       "      <td>Bolivia</td>\n",
       "      <td>3AEZUABDXNtecAOSC1qTfo</td>\n",
       "      <td>0</td>\n",
       "    </tr>\n",
       "    <tr>\n",
       "      <th>1</th>\n",
       "      <td>4</td>\n",
       "      <td>Reggaetón Lento (Bailemos)</td>\n",
       "      <td>CNCO</td>\n",
       "      <td>5760</td>\n",
       "      <td>https://open.spotify.com/track/3AEZUABDXNtecAO...</td>\n",
       "      <td>2017-01-01</td>\n",
       "      <td>hn</td>\n",
       "      <td>Honduras</td>\n",
       "      <td>3AEZUABDXNtecAOSC1qTfo</td>\n",
       "      <td>0</td>\n",
       "    </tr>\n",
       "    <tr>\n",
       "      <th>2</th>\n",
       "      <td>7</td>\n",
       "      <td>Reggaetón Lento (Bailemos)</td>\n",
       "      <td>CNCO</td>\n",
       "      <td>1846</td>\n",
       "      <td>https://open.spotify.com/track/3AEZUABDXNtecAO...</td>\n",
       "      <td>2017-01-01</td>\n",
       "      <td>ni</td>\n",
       "      <td>Nicaragua</td>\n",
       "      <td>3AEZUABDXNtecAOSC1qTfo</td>\n",
       "      <td>0</td>\n",
       "    </tr>\n",
       "    <tr>\n",
       "      <th>3</th>\n",
       "      <td>38</td>\n",
       "      <td>Reggaetón Lento (Bailemos)</td>\n",
       "      <td>CNCO</td>\n",
       "      <td>1116627</td>\n",
       "      <td>https://open.spotify.com/track/3AEZUABDXNtecAO...</td>\n",
       "      <td>2017-01-02</td>\n",
       "      <td>global</td>\n",
       "      <td>Global</td>\n",
       "      <td>3AEZUABDXNtecAOSC1qTfo</td>\n",
       "      <td>0</td>\n",
       "    </tr>\n",
       "    <tr>\n",
       "      <th>4</th>\n",
       "      <td>1</td>\n",
       "      <td>Reggaetón Lento (Bailemos)</td>\n",
       "      <td>CNCO</td>\n",
       "      <td>8163</td>\n",
       "      <td>https://open.spotify.com/track/3AEZUABDXNtecAO...</td>\n",
       "      <td>2017-01-02</td>\n",
       "      <td>gt</td>\n",
       "      <td>Guatemala</td>\n",
       "      <td>3AEZUABDXNtecAOSC1qTfo</td>\n",
       "      <td>0</td>\n",
       "    </tr>\n",
       "    <tr>\n",
       "      <th>...</th>\n",
       "      <td>...</td>\n",
       "      <td>...</td>\n",
       "      <td>...</td>\n",
       "      <td>...</td>\n",
       "      <td>...</td>\n",
       "      <td>...</td>\n",
       "      <td>...</td>\n",
       "      <td>...</td>\n",
       "      <td>...</td>\n",
       "      <td>...</td>\n",
       "    </tr>\n",
       "    <tr>\n",
       "      <th>9927871</th>\n",
       "      <td>108</td>\n",
       "      <td>GO! (with BIG30)</td>\n",
       "      <td>Moneybagg Yo</td>\n",
       "      <td>304622</td>\n",
       "      <td>https://open.spotify.com/track/4VYKA63F2fcQnsv...</td>\n",
       "      <td>2021-04-16</td>\n",
       "      <td>us</td>\n",
       "      <td>United States</td>\n",
       "      <td>4VYKA63F2fcQnsvfWUpzn9</td>\n",
       "      <td>2</td>\n",
       "    </tr>\n",
       "    <tr>\n",
       "      <th>9927872</th>\n",
       "      <td>154</td>\n",
       "      <td>That Go! (feat. T-Shyne)</td>\n",
       "      <td>Young Stoner Life</td>\n",
       "      <td>247931</td>\n",
       "      <td>https://open.spotify.com/track/6rUmUJ2drFemHTH...</td>\n",
       "      <td>2021-04-16</td>\n",
       "      <td>us</td>\n",
       "      <td>United States</td>\n",
       "      <td>6rUmUJ2drFemHTH73bFAKQ</td>\n",
       "      <td>2</td>\n",
       "    </tr>\n",
       "    <tr>\n",
       "      <th>9927873</th>\n",
       "      <td>95</td>\n",
       "      <td>Dejo Atrás</td>\n",
       "      <td>No Te Va Gustar</td>\n",
       "      <td>3194</td>\n",
       "      <td>https://open.spotify.com/track/60FasBAOZzjNCSo...</td>\n",
       "      <td>2021-04-16</td>\n",
       "      <td>uy</td>\n",
       "      <td>Uruguay</td>\n",
       "      <td>60FasBAOZzjNCSoljbbASM</td>\n",
       "      <td>2</td>\n",
       "    </tr>\n",
       "    <tr>\n",
       "      <th>9927874</th>\n",
       "      <td>113</td>\n",
       "      <td>Có Chàng Trai Viết Lên Cây</td>\n",
       "      <td>Phan Mạnh Quỳnh</td>\n",
       "      <td>6132</td>\n",
       "      <td>https://open.spotify.com/track/2NEzxeMKW0mk5pr...</td>\n",
       "      <td>2021-04-16</td>\n",
       "      <td>vn</td>\n",
       "      <td>Viet Nam</td>\n",
       "      <td>2NEzxeMKW0mk5pr7tcrvs2</td>\n",
       "      <td>1</td>\n",
       "    </tr>\n",
       "    <tr>\n",
       "      <th>9927875</th>\n",
       "      <td>115</td>\n",
       "      <td>Vrystaat Vlaktes</td>\n",
       "      <td>Reën</td>\n",
       "      <td>3841</td>\n",
       "      <td>https://open.spotify.com/track/6DbTFMOQARs5TDz...</td>\n",
       "      <td>2021-04-16</td>\n",
       "      <td>za</td>\n",
       "      <td>South Africa</td>\n",
       "      <td>6DbTFMOQARs5TDzKsMwYpn</td>\n",
       "      <td>2</td>\n",
       "    </tr>\n",
       "  </tbody>\n",
       "</table>\n",
       "<p>9927876 rows × 10 columns</p>\n",
       "</div>"
      ],
      "text/plain": [
       "         Position                  Track Name             Artist  Streams  \\\n",
       "0               1  Reggaetón Lento (Bailemos)               CNCO     6784   \n",
       "1               4  Reggaetón Lento (Bailemos)               CNCO     5760   \n",
       "2               7  Reggaetón Lento (Bailemos)               CNCO     1846   \n",
       "3              38  Reggaetón Lento (Bailemos)               CNCO  1116627   \n",
       "4               1  Reggaetón Lento (Bailemos)               CNCO     8163   \n",
       "...           ...                         ...                ...      ...   \n",
       "9927871       108            GO! (with BIG30)       Moneybagg Yo   304622   \n",
       "9927872       154    That Go! (feat. T-Shyne)  Young Stoner Life   247931   \n",
       "9927873        95                  Dejo Atrás    No Te Va Gustar     3194   \n",
       "9927874       113  Có Chàng Trai Viết Lên Cây    Phan Mạnh Quỳnh     6132   \n",
       "9927875       115            Vrystaat Vlaktes               Reën     3841   \n",
       "\n",
       "                                                       URL        Date  \\\n",
       "0        https://open.spotify.com/track/3AEZUABDXNtecAO...  2017-01-01   \n",
       "1        https://open.spotify.com/track/3AEZUABDXNtecAO...  2017-01-01   \n",
       "2        https://open.spotify.com/track/3AEZUABDXNtecAO...  2017-01-01   \n",
       "3        https://open.spotify.com/track/3AEZUABDXNtecAO...  2017-01-02   \n",
       "4        https://open.spotify.com/track/3AEZUABDXNtecAO...  2017-01-02   \n",
       "...                                                    ...         ...   \n",
       "9927871  https://open.spotify.com/track/4VYKA63F2fcQnsv...  2021-04-16   \n",
       "9927872  https://open.spotify.com/track/6rUmUJ2drFemHTH...  2021-04-16   \n",
       "9927873  https://open.spotify.com/track/60FasBAOZzjNCSo...  2021-04-16   \n",
       "9927874  https://open.spotify.com/track/2NEzxeMKW0mk5pr...  2021-04-16   \n",
       "9927875  https://open.spotify.com/track/6DbTFMOQARs5TDz...  2021-04-16   \n",
       "\n",
       "           code           name                      id  k_means  \n",
       "0            bo        Bolivia  3AEZUABDXNtecAOSC1qTfo        0  \n",
       "1            hn       Honduras  3AEZUABDXNtecAOSC1qTfo        0  \n",
       "2            ni      Nicaragua  3AEZUABDXNtecAOSC1qTfo        0  \n",
       "3        global         Global  3AEZUABDXNtecAOSC1qTfo        0  \n",
       "4            gt      Guatemala  3AEZUABDXNtecAOSC1qTfo        0  \n",
       "...         ...            ...                     ...      ...  \n",
       "9927871      us  United States  4VYKA63F2fcQnsvfWUpzn9        2  \n",
       "9927872      us  United States  6rUmUJ2drFemHTH73bFAKQ        2  \n",
       "9927873      uy        Uruguay  60FasBAOZzjNCSoljbbASM        2  \n",
       "9927874      vn       Viet Nam  2NEzxeMKW0mk5pr7tcrvs2        1  \n",
       "9927875      za   South Africa  6DbTFMOQARs5TDzKsMwYpn        2  \n",
       "\n",
       "[9927876 rows x 10 columns]"
      ]
     },
     "execution_count": 202,
     "metadata": {},
     "output_type": "execute_result"
    }
   ],
   "source": [
    "#Creating a dataframe depending on the year\n",
    "my_year = \"\"\n",
    "\n",
    "#Activate if searching for specific year\n",
    "#results_year = results.loc[top_tracks['Date'].str.contains(my_year)]\n",
    "\n",
    "#Activate if looking for all years\n",
    "results_year = results.copy()\n",
    "\n",
    "results_year"
   ]
  },
  {
   "cell_type": "code",
   "execution_count": 203,
   "metadata": {},
   "outputs": [
    {
     "data": {
      "text/html": [
       "<div>\n",
       "<style scoped>\n",
       "    .dataframe tbody tr th:only-of-type {\n",
       "        vertical-align: middle;\n",
       "    }\n",
       "\n",
       "    .dataframe tbody tr th {\n",
       "        vertical-align: top;\n",
       "    }\n",
       "\n",
       "    .dataframe thead th {\n",
       "        text-align: right;\n",
       "    }\n",
       "</style>\n",
       "<table border=\"1\" class=\"dataframe\">\n",
       "  <thead>\n",
       "    <tr style=\"text-align: right;\">\n",
       "      <th></th>\n",
       "      <th>Position</th>\n",
       "      <th>Track Name</th>\n",
       "      <th>Artist</th>\n",
       "      <th>Streams</th>\n",
       "      <th>URL</th>\n",
       "      <th>Date</th>\n",
       "      <th>code</th>\n",
       "      <th>name</th>\n",
       "      <th>id</th>\n",
       "    </tr>\n",
       "  </thead>\n",
       "  <tbody>\n",
       "    <tr>\n",
       "      <th>4055</th>\n",
       "      <td>1</td>\n",
       "      <td>Closer</td>\n",
       "      <td>The Chainsmokers</td>\n",
       "      <td>9162</td>\n",
       "      <td>https://open.spotify.com/track/7BKLCZ1jbUBVqRi...</td>\n",
       "      <td>2017-01-04</td>\n",
       "      <td>jp</td>\n",
       "      <td>Japan</td>\n",
       "      <td>7BKLCZ1jbUBVqRi2FVlTVw</td>\n",
       "    </tr>\n",
       "    <tr>\n",
       "      <th>4056</th>\n",
       "      <td>2</td>\n",
       "      <td>Let Me Love You</td>\n",
       "      <td>DJ Snake</td>\n",
       "      <td>7447</td>\n",
       "      <td>https://open.spotify.com/track/4pdPtRcBmOSQDlJ...</td>\n",
       "      <td>2017-01-04</td>\n",
       "      <td>jp</td>\n",
       "      <td>Japan</td>\n",
       "      <td>4pdPtRcBmOSQDlJ3Fk945m</td>\n",
       "    </tr>\n",
       "    <tr>\n",
       "      <th>4057</th>\n",
       "      <td>3</td>\n",
       "      <td>Don't Wanna Know</td>\n",
       "      <td>Maroon 5</td>\n",
       "      <td>7122</td>\n",
       "      <td>https://open.spotify.com/track/5MFzQMkrl1FOOng...</td>\n",
       "      <td>2017-01-04</td>\n",
       "      <td>jp</td>\n",
       "      <td>Japan</td>\n",
       "      <td>5MFzQMkrl1FOOng9tq6R9r</td>\n",
       "    </tr>\n",
       "    <tr>\n",
       "      <th>4058</th>\n",
       "      <td>4</td>\n",
       "      <td>24K Magic</td>\n",
       "      <td>Bruno Mars</td>\n",
       "      <td>6599</td>\n",
       "      <td>https://open.spotify.com/track/6b8Be6ljOzmkOmF...</td>\n",
       "      <td>2017-01-04</td>\n",
       "      <td>jp</td>\n",
       "      <td>Japan</td>\n",
       "      <td>6b8Be6ljOzmkOmFslEb23P</td>\n",
       "    </tr>\n",
       "    <tr>\n",
       "      <th>4059</th>\n",
       "      <td>5</td>\n",
       "      <td>I Don’t Wanna Live Forever (Fifty Shades Darke...</td>\n",
       "      <td>ZAYN</td>\n",
       "      <td>6473</td>\n",
       "      <td>https://open.spotify.com/track/3NdDpSvN911VPGi...</td>\n",
       "      <td>2017-01-04</td>\n",
       "      <td>jp</td>\n",
       "      <td>Japan</td>\n",
       "      <td>3NdDpSvN911VPGivFlV5d0</td>\n",
       "    </tr>\n",
       "    <tr>\n",
       "      <th>4060</th>\n",
       "      <td>6</td>\n",
       "      <td>Starboy</td>\n",
       "      <td>The Weeknd</td>\n",
       "      <td>6433</td>\n",
       "      <td>https://open.spotify.com/track/5aAx2yezTd8zXrk...</td>\n",
       "      <td>2017-01-04</td>\n",
       "      <td>jp</td>\n",
       "      <td>Japan</td>\n",
       "      <td>5aAx2yezTd8zXrkmtKl66Z</td>\n",
       "    </tr>\n",
       "    <tr>\n",
       "      <th>4061</th>\n",
       "      <td>7</td>\n",
       "      <td>I Feel It Coming</td>\n",
       "      <td>The Weeknd</td>\n",
       "      <td>6288</td>\n",
       "      <td>https://open.spotify.com/track/5GXAXm5YOmYT0kL...</td>\n",
       "      <td>2017-01-04</td>\n",
       "      <td>jp</td>\n",
       "      <td>Japan</td>\n",
       "      <td>5GXAXm5YOmYT0kL5jHvYBt</td>\n",
       "    </tr>\n",
       "    <tr>\n",
       "      <th>4062</th>\n",
       "      <td>8</td>\n",
       "      <td>Call On Me - Ryan Riback Extended Remix</td>\n",
       "      <td>Starley</td>\n",
       "      <td>6090</td>\n",
       "      <td>https://open.spotify.com/track/78rIJddV4X0HkNA...</td>\n",
       "      <td>2017-01-04</td>\n",
       "      <td>jp</td>\n",
       "      <td>Japan</td>\n",
       "      <td>78rIJddV4X0HkNAInEcYde</td>\n",
       "    </tr>\n",
       "    <tr>\n",
       "      <th>4063</th>\n",
       "      <td>9</td>\n",
       "      <td>Cold Water (feat. Justin Bieber &amp; MØ)</td>\n",
       "      <td>Major Lazer</td>\n",
       "      <td>5621</td>\n",
       "      <td>https://open.spotify.com/track/6DNtNfH8hXkqOX1...</td>\n",
       "      <td>2017-01-04</td>\n",
       "      <td>jp</td>\n",
       "      <td>Japan</td>\n",
       "      <td>6DNtNfH8hXkqOX1sjqmI7p</td>\n",
       "    </tr>\n",
       "    <tr>\n",
       "      <th>4064</th>\n",
       "      <td>10</td>\n",
       "      <td>Say You Won't Let Go</td>\n",
       "      <td>James Arthur</td>\n",
       "      <td>5565</td>\n",
       "      <td>https://open.spotify.com/track/5uCax9HTNlzGybI...</td>\n",
       "      <td>2017-01-04</td>\n",
       "      <td>jp</td>\n",
       "      <td>Japan</td>\n",
       "      <td>5uCax9HTNlzGybIStD3vDh</td>\n",
       "    </tr>\n",
       "    <tr>\n",
       "      <th>4065</th>\n",
       "      <td>11</td>\n",
       "      <td>Just Hold On</td>\n",
       "      <td>Steve Aoki</td>\n",
       "      <td>5423</td>\n",
       "      <td>https://open.spotify.com/track/3EmmCZoqpWOTY1g...</td>\n",
       "      <td>2017-01-04</td>\n",
       "      <td>jp</td>\n",
       "      <td>Japan</td>\n",
       "      <td>3EmmCZoqpWOTY1g2GBwJoR</td>\n",
       "    </tr>\n",
       "    <tr>\n",
       "      <th>4066</th>\n",
       "      <td>12</td>\n",
       "      <td>Rockabye (feat. Sean Paul &amp; Anne-Marie)</td>\n",
       "      <td>Clean Bandit</td>\n",
       "      <td>5271</td>\n",
       "      <td>https://open.spotify.com/track/5knuzwU65gJK7IF...</td>\n",
       "      <td>2017-01-04</td>\n",
       "      <td>jp</td>\n",
       "      <td>Japan</td>\n",
       "      <td>5knuzwU65gJK7IF5yJsuaW</td>\n",
       "    </tr>\n",
       "    <tr>\n",
       "      <th>4067</th>\n",
       "      <td>13</td>\n",
       "      <td>Side To Side</td>\n",
       "      <td>Ariana Grande</td>\n",
       "      <td>5246</td>\n",
       "      <td>https://open.spotify.com/track/4pLwZjInHj3SimI...</td>\n",
       "      <td>2017-01-04</td>\n",
       "      <td>jp</td>\n",
       "      <td>Japan</td>\n",
       "      <td>4pLwZjInHj3SimIyN9SnOz</td>\n",
       "    </tr>\n",
       "    <tr>\n",
       "      <th>4068</th>\n",
       "      <td>14</td>\n",
       "      <td>All We Know</td>\n",
       "      <td>The Chainsmokers</td>\n",
       "      <td>5033</td>\n",
       "      <td>https://open.spotify.com/track/2rizacJSyD9S1IQ...</td>\n",
       "      <td>2017-01-04</td>\n",
       "      <td>jp</td>\n",
       "      <td>Japan</td>\n",
       "      <td>2rizacJSyD9S1IQUxUxnsK</td>\n",
       "    </tr>\n",
       "    <tr>\n",
       "      <th>4069</th>\n",
       "      <td>15</td>\n",
       "      <td>In the Name of Love</td>\n",
       "      <td>Martin Garrix</td>\n",
       "      <td>4958</td>\n",
       "      <td>https://open.spotify.com/track/04DwTuZ2VBdJCCC...</td>\n",
       "      <td>2017-01-04</td>\n",
       "      <td>jp</td>\n",
       "      <td>Japan</td>\n",
       "      <td>04DwTuZ2VBdJCCC5TROn7L</td>\n",
       "    </tr>\n",
       "    <tr>\n",
       "      <th>4070</th>\n",
       "      <td>16</td>\n",
       "      <td>Bad Things (with Camila Cabello)</td>\n",
       "      <td>Machine Gun Kelly</td>\n",
       "      <td>4951</td>\n",
       "      <td>https://open.spotify.com/track/1PSBzsahR2AKwLJ...</td>\n",
       "      <td>2017-01-04</td>\n",
       "      <td>jp</td>\n",
       "      <td>Japan</td>\n",
       "      <td>1PSBzsahR2AKwLJgx8ehBj</td>\n",
       "    </tr>\n",
       "    <tr>\n",
       "      <th>4071</th>\n",
       "      <td>17</td>\n",
       "      <td>My Boo</td>\n",
       "      <td>Shota Shimizu</td>\n",
       "      <td>4881</td>\n",
       "      <td>https://open.spotify.com/track/2gasr6aemUqZIBB...</td>\n",
       "      <td>2017-01-04</td>\n",
       "      <td>jp</td>\n",
       "      <td>Japan</td>\n",
       "      <td>2gasr6aemUqZIBBN05EO03</td>\n",
       "    </tr>\n",
       "    <tr>\n",
       "      <th>4072</th>\n",
       "      <td>18</td>\n",
       "      <td>原宿いやほい</td>\n",
       "      <td>Kyary Pamyu Pamyu</td>\n",
       "      <td>4838</td>\n",
       "      <td>https://open.spotify.com/track/4M2ft0utYYfDoUk...</td>\n",
       "      <td>2017-01-04</td>\n",
       "      <td>jp</td>\n",
       "      <td>Japan</td>\n",
       "      <td>4M2ft0utYYfDoUkIcupHSq</td>\n",
       "    </tr>\n",
       "    <tr>\n",
       "      <th>4073</th>\n",
       "      <td>19</td>\n",
       "      <td>Shed a Light</td>\n",
       "      <td>Robin Schulz</td>\n",
       "      <td>4798</td>\n",
       "      <td>https://open.spotify.com/track/1cG0umU5TKStygK...</td>\n",
       "      <td>2017-01-04</td>\n",
       "      <td>jp</td>\n",
       "      <td>Japan</td>\n",
       "      <td>1cG0umU5TKStygKsPFZ9pY</td>\n",
       "    </tr>\n",
       "    <tr>\n",
       "      <th>4074</th>\n",
       "      <td>20</td>\n",
       "      <td>Starving</td>\n",
       "      <td>Hailee Steinfeld</td>\n",
       "      <td>4731</td>\n",
       "      <td>https://open.spotify.com/track/1qOLh0tI7trd1zd...</td>\n",
       "      <td>2017-01-04</td>\n",
       "      <td>jp</td>\n",
       "      <td>Japan</td>\n",
       "      <td>1qOLh0tI7trd1zdDKxYZTe</td>\n",
       "    </tr>\n",
       "  </tbody>\n",
       "</table>\n",
       "</div>"
      ],
      "text/plain": [
       "      Position                                         Track Name  \\\n",
       "4055         1                                             Closer   \n",
       "4056         2                                    Let Me Love You   \n",
       "4057         3                                   Don't Wanna Know   \n",
       "4058         4                                          24K Magic   \n",
       "4059         5  I Don’t Wanna Live Forever (Fifty Shades Darke...   \n",
       "4060         6                                            Starboy   \n",
       "4061         7                                   I Feel It Coming   \n",
       "4062         8            Call On Me - Ryan Riback Extended Remix   \n",
       "4063         9              Cold Water (feat. Justin Bieber & MØ)   \n",
       "4064        10                               Say You Won't Let Go   \n",
       "4065        11                                       Just Hold On   \n",
       "4066        12            Rockabye (feat. Sean Paul & Anne-Marie)   \n",
       "4067        13                                       Side To Side   \n",
       "4068        14                                        All We Know   \n",
       "4069        15                                In the Name of Love   \n",
       "4070        16                   Bad Things (with Camila Cabello)   \n",
       "4071        17                                             My Boo   \n",
       "4072        18                                             原宿いやほい   \n",
       "4073        19                                       Shed a Light   \n",
       "4074        20                                           Starving   \n",
       "\n",
       "                 Artist  Streams  \\\n",
       "4055   The Chainsmokers     9162   \n",
       "4056           DJ Snake     7447   \n",
       "4057           Maroon 5     7122   \n",
       "4058         Bruno Mars     6599   \n",
       "4059               ZAYN     6473   \n",
       "4060         The Weeknd     6433   \n",
       "4061         The Weeknd     6288   \n",
       "4062            Starley     6090   \n",
       "4063        Major Lazer     5621   \n",
       "4064       James Arthur     5565   \n",
       "4065         Steve Aoki     5423   \n",
       "4066       Clean Bandit     5271   \n",
       "4067      Ariana Grande     5246   \n",
       "4068   The Chainsmokers     5033   \n",
       "4069      Martin Garrix     4958   \n",
       "4070  Machine Gun Kelly     4951   \n",
       "4071      Shota Shimizu     4881   \n",
       "4072  Kyary Pamyu Pamyu     4838   \n",
       "4073       Robin Schulz     4798   \n",
       "4074   Hailee Steinfeld     4731   \n",
       "\n",
       "                                                    URL        Date code  \\\n",
       "4055  https://open.spotify.com/track/7BKLCZ1jbUBVqRi...  2017-01-04   jp   \n",
       "4056  https://open.spotify.com/track/4pdPtRcBmOSQDlJ...  2017-01-04   jp   \n",
       "4057  https://open.spotify.com/track/5MFzQMkrl1FOOng...  2017-01-04   jp   \n",
       "4058  https://open.spotify.com/track/6b8Be6ljOzmkOmF...  2017-01-04   jp   \n",
       "4059  https://open.spotify.com/track/3NdDpSvN911VPGi...  2017-01-04   jp   \n",
       "4060  https://open.spotify.com/track/5aAx2yezTd8zXrk...  2017-01-04   jp   \n",
       "4061  https://open.spotify.com/track/5GXAXm5YOmYT0kL...  2017-01-04   jp   \n",
       "4062  https://open.spotify.com/track/78rIJddV4X0HkNA...  2017-01-04   jp   \n",
       "4063  https://open.spotify.com/track/6DNtNfH8hXkqOX1...  2017-01-04   jp   \n",
       "4064  https://open.spotify.com/track/5uCax9HTNlzGybI...  2017-01-04   jp   \n",
       "4065  https://open.spotify.com/track/3EmmCZoqpWOTY1g...  2017-01-04   jp   \n",
       "4066  https://open.spotify.com/track/5knuzwU65gJK7IF...  2017-01-04   jp   \n",
       "4067  https://open.spotify.com/track/4pLwZjInHj3SimI...  2017-01-04   jp   \n",
       "4068  https://open.spotify.com/track/2rizacJSyD9S1IQ...  2017-01-04   jp   \n",
       "4069  https://open.spotify.com/track/04DwTuZ2VBdJCCC...  2017-01-04   jp   \n",
       "4070  https://open.spotify.com/track/1PSBzsahR2AKwLJ...  2017-01-04   jp   \n",
       "4071  https://open.spotify.com/track/2gasr6aemUqZIBB...  2017-01-04   jp   \n",
       "4072  https://open.spotify.com/track/4M2ft0utYYfDoUk...  2017-01-04   jp   \n",
       "4073  https://open.spotify.com/track/1cG0umU5TKStygK...  2017-01-04   jp   \n",
       "4074  https://open.spotify.com/track/1qOLh0tI7trd1zd...  2017-01-04   jp   \n",
       "\n",
       "       name                      id  \n",
       "4055  Japan  7BKLCZ1jbUBVqRi2FVlTVw  \n",
       "4056  Japan  4pdPtRcBmOSQDlJ3Fk945m  \n",
       "4057  Japan  5MFzQMkrl1FOOng9tq6R9r  \n",
       "4058  Japan  6b8Be6ljOzmkOmFslEb23P  \n",
       "4059  Japan  3NdDpSvN911VPGivFlV5d0  \n",
       "4060  Japan  5aAx2yezTd8zXrkmtKl66Z  \n",
       "4061  Japan  5GXAXm5YOmYT0kL5jHvYBt  \n",
       "4062  Japan  78rIJddV4X0HkNAInEcYde  \n",
       "4063  Japan  6DNtNfH8hXkqOX1sjqmI7p  \n",
       "4064  Japan  5uCax9HTNlzGybIStD3vDh  \n",
       "4065  Japan  3EmmCZoqpWOTY1g2GBwJoR  \n",
       "4066  Japan  5knuzwU65gJK7IF5yJsuaW  \n",
       "4067  Japan  4pLwZjInHj3SimIyN9SnOz  \n",
       "4068  Japan  2rizacJSyD9S1IQUxUxnsK  \n",
       "4069  Japan  04DwTuZ2VBdJCCC5TROn7L  \n",
       "4070  Japan  1PSBzsahR2AKwLJgx8ehBj  \n",
       "4071  Japan  2gasr6aemUqZIBBN05EO03  \n",
       "4072  Japan  4M2ft0utYYfDoUkIcupHSq  \n",
       "4073  Japan  1cG0umU5TKStygKsPFZ9pY  \n",
       "4074  Japan  1qOLh0tI7trd1zdDKxYZTe  "
      ]
     },
     "execution_count": 203,
     "metadata": {},
     "output_type": "execute_result"
    }
   ],
   "source": [
    "songs_by_conutry = top_tracks.loc[top_tracks['code'] == \"jp\"]\n",
    "songs_by_conutry.head(20)"
   ]
  },
  {
   "cell_type": "code",
   "execution_count": 204,
   "metadata": {},
   "outputs": [
    {
     "data": {
      "text/html": [
       "<div>\n",
       "<style scoped>\n",
       "    .dataframe tbody tr th:only-of-type {\n",
       "        vertical-align: middle;\n",
       "    }\n",
       "\n",
       "    .dataframe tbody tr th {\n",
       "        vertical-align: top;\n",
       "    }\n",
       "\n",
       "    .dataframe thead th {\n",
       "        text-align: right;\n",
       "    }\n",
       "</style>\n",
       "<table border=\"1\" class=\"dataframe\">\n",
       "  <thead>\n",
       "    <tr style=\"text-align: right;\">\n",
       "      <th></th>\n",
       "      <th>k_means</th>\n",
       "      <th>code</th>\n",
       "      <th>Streams</th>\n",
       "    </tr>\n",
       "  </thead>\n",
       "  <tbody>\n",
       "    <tr>\n",
       "      <th>0</th>\n",
       "      <td>0</td>\n",
       "      <td>ae</td>\n",
       "      <td>0.000202</td>\n",
       "    </tr>\n",
       "    <tr>\n",
       "      <th>1</th>\n",
       "      <td>0</td>\n",
       "      <td>ar</td>\n",
       "      <td>0.017664</td>\n",
       "    </tr>\n",
       "    <tr>\n",
       "      <th>2</th>\n",
       "      <td>0</td>\n",
       "      <td>at</td>\n",
       "      <td>0.002772</td>\n",
       "    </tr>\n",
       "    <tr>\n",
       "      <th>3</th>\n",
       "      <td>0</td>\n",
       "      <td>au</td>\n",
       "      <td>0.016286</td>\n",
       "    </tr>\n",
       "    <tr>\n",
       "      <th>4</th>\n",
       "      <td>0</td>\n",
       "      <td>be</td>\n",
       "      <td>0.003442</td>\n",
       "    </tr>\n",
       "    <tr>\n",
       "      <th>...</th>\n",
       "      <td>...</td>\n",
       "      <td>...</td>\n",
       "      <td>...</td>\n",
       "    </tr>\n",
       "    <tr>\n",
       "      <th>340</th>\n",
       "      <td>4</td>\n",
       "      <td>ua</td>\n",
       "      <td>0.000181</td>\n",
       "    </tr>\n",
       "    <tr>\n",
       "      <th>341</th>\n",
       "      <td>4</td>\n",
       "      <td>us</td>\n",
       "      <td>0.127737</td>\n",
       "    </tr>\n",
       "    <tr>\n",
       "      <th>342</th>\n",
       "      <td>4</td>\n",
       "      <td>uy</td>\n",
       "      <td>0.000894</td>\n",
       "    </tr>\n",
       "    <tr>\n",
       "      <th>343</th>\n",
       "      <td>4</td>\n",
       "      <td>vn</td>\n",
       "      <td>0.001917</td>\n",
       "    </tr>\n",
       "    <tr>\n",
       "      <th>344</th>\n",
       "      <td>4</td>\n",
       "      <td>za</td>\n",
       "      <td>0.000531</td>\n",
       "    </tr>\n",
       "  </tbody>\n",
       "</table>\n",
       "<p>345 rows × 3 columns</p>\n",
       "</div>"
      ],
      "text/plain": [
       "     k_means code   Streams\n",
       "0          0   ae  0.000202\n",
       "1          0   ar  0.017664\n",
       "2          0   at  0.002772\n",
       "3          0   au  0.016286\n",
       "4          0   be  0.003442\n",
       "..       ...  ...       ...\n",
       "340        4   ua  0.000181\n",
       "341        4   us  0.127737\n",
       "342        4   uy  0.000894\n",
       "343        4   vn  0.001917\n",
       "344        4   za  0.000531\n",
       "\n",
       "[345 rows x 3 columns]"
      ]
     },
     "execution_count": 204,
     "metadata": {},
     "output_type": "execute_result"
    }
   ],
   "source": [
    "#Grouping by cluster and country\n",
    "cluster_country_cluster = results_year.groupby(['k_means','code']).agg({'Streams': ['sum']})\n",
    "cluster_country_cluster\n",
    "\n",
    "cluster_country_cluster_pcts = cluster_country_cluster.groupby(level=0).apply(lambda x:\n",
    "                                                 x / float(x.sum()))\n",
    "cluster_country_cluster_pcts.columns = cluster_country_cluster_pcts.columns.droplevel(1)\n",
    "\n",
    "cluster_country_cluster_pcts.reset_index(inplace = True)\n",
    "cluster_country_cluster_pcts"
   ]
  },
  {
   "cell_type": "code",
   "execution_count": 205,
   "metadata": {},
   "outputs": [
    {
     "data": {
      "text/html": [
       "<div>\n",
       "<style scoped>\n",
       "    .dataframe tbody tr th:only-of-type {\n",
       "        vertical-align: middle;\n",
       "    }\n",
       "\n",
       "    .dataframe tbody tr th {\n",
       "        vertical-align: top;\n",
       "    }\n",
       "\n",
       "    .dataframe thead th {\n",
       "        text-align: right;\n",
       "    }\n",
       "</style>\n",
       "<table border=\"1\" class=\"dataframe\">\n",
       "  <thead>\n",
       "    <tr style=\"text-align: right;\">\n",
       "      <th></th>\n",
       "      <th>k_means</th>\n",
       "      <th>code</th>\n",
       "      <th>Streams</th>\n",
       "    </tr>\n",
       "  </thead>\n",
       "  <tbody>\n",
       "    <tr>\n",
       "      <th>0</th>\n",
       "      <td>0</td>\n",
       "      <td>ae</td>\n",
       "      <td>0.000202</td>\n",
       "    </tr>\n",
       "    <tr>\n",
       "      <th>1</th>\n",
       "      <td>0</td>\n",
       "      <td>ar</td>\n",
       "      <td>0.017664</td>\n",
       "    </tr>\n",
       "    <tr>\n",
       "      <th>2</th>\n",
       "      <td>0</td>\n",
       "      <td>at</td>\n",
       "      <td>0.002772</td>\n",
       "    </tr>\n",
       "    <tr>\n",
       "      <th>3</th>\n",
       "      <td>0</td>\n",
       "      <td>au</td>\n",
       "      <td>0.016286</td>\n",
       "    </tr>\n",
       "    <tr>\n",
       "      <th>4</th>\n",
       "      <td>0</td>\n",
       "      <td>be</td>\n",
       "      <td>0.003442</td>\n",
       "    </tr>\n",
       "    <tr>\n",
       "      <th>...</th>\n",
       "      <td>...</td>\n",
       "      <td>...</td>\n",
       "      <td>...</td>\n",
       "    </tr>\n",
       "    <tr>\n",
       "      <th>340</th>\n",
       "      <td>4</td>\n",
       "      <td>ua</td>\n",
       "      <td>0.000181</td>\n",
       "    </tr>\n",
       "    <tr>\n",
       "      <th>341</th>\n",
       "      <td>4</td>\n",
       "      <td>us</td>\n",
       "      <td>0.127737</td>\n",
       "    </tr>\n",
       "    <tr>\n",
       "      <th>342</th>\n",
       "      <td>4</td>\n",
       "      <td>uy</td>\n",
       "      <td>0.000894</td>\n",
       "    </tr>\n",
       "    <tr>\n",
       "      <th>343</th>\n",
       "      <td>4</td>\n",
       "      <td>vn</td>\n",
       "      <td>0.001917</td>\n",
       "    </tr>\n",
       "    <tr>\n",
       "      <th>344</th>\n",
       "      <td>4</td>\n",
       "      <td>za</td>\n",
       "      <td>0.000531</td>\n",
       "    </tr>\n",
       "  </tbody>\n",
       "</table>\n",
       "<p>340 rows × 3 columns</p>\n",
       "</div>"
      ],
      "text/plain": [
       "     k_means code   Streams\n",
       "0          0   ae  0.000202\n",
       "1          0   ar  0.017664\n",
       "2          0   at  0.002772\n",
       "3          0   au  0.016286\n",
       "4          0   be  0.003442\n",
       "..       ...  ...       ...\n",
       "340        4   ua  0.000181\n",
       "341        4   us  0.127737\n",
       "342        4   uy  0.000894\n",
       "343        4   vn  0.001917\n",
       "344        4   za  0.000531\n",
       "\n",
       "[340 rows x 3 columns]"
      ]
     },
     "execution_count": 205,
     "metadata": {},
     "output_type": "execute_result"
    }
   ],
   "source": [
    "#Erase global\n",
    "cluster_country_cluster_pcts = cluster_country_cluster_pcts[cluster_country_cluster_pcts.code != \"global\"]\n",
    "cluster_country_cluster_pcts"
   ]
  },
  {
   "cell_type": "code",
   "execution_count": 206,
   "metadata": {},
   "outputs": [
    {
     "name": "stderr",
     "output_type": "stream",
     "text": [
      "<ipython-input-206-67c09c7252c3>:6: SettingWithCopyWarning:\n",
      "\n",
      "\n",
      "A value is trying to be set on a copy of a slice from a DataFrame.\n",
      "Try using .loc[row_indexer,col_indexer] = value instead\n",
      "\n",
      "See the caveats in the documentation: https://pandas.pydata.org/pandas-docs/stable/user_guide/indexing.html#returning-a-view-versus-a-copy\n",
      "\n",
      "<ipython-input-206-67c09c7252c3>:8: SettingWithCopyWarning:\n",
      "\n",
      "\n",
      "A value is trying to be set on a copy of a slice from a DataFrame.\n",
      "Try using .loc[row_indexer,col_indexer] = value instead\n",
      "\n",
      "See the caveats in the documentation: https://pandas.pydata.org/pandas-docs/stable/user_guide/indexing.html#returning-a-view-versus-a-copy\n",
      "\n"
     ]
    },
    {
     "data": {
      "text/html": [
       "<div>\n",
       "<style scoped>\n",
       "    .dataframe tbody tr th:only-of-type {\n",
       "        vertical-align: middle;\n",
       "    }\n",
       "\n",
       "    .dataframe tbody tr th {\n",
       "        vertical-align: top;\n",
       "    }\n",
       "\n",
       "    .dataframe thead th {\n",
       "        text-align: right;\n",
       "    }\n",
       "</style>\n",
       "<table border=\"1\" class=\"dataframe\">\n",
       "  <thead>\n",
       "    <tr style=\"text-align: right;\">\n",
       "      <th></th>\n",
       "      <th>k_means</th>\n",
       "      <th>code</th>\n",
       "      <th>Streams</th>\n",
       "      <th>country code</th>\n",
       "      <th>country name</th>\n",
       "    </tr>\n",
       "  </thead>\n",
       "  <tbody>\n",
       "    <tr>\n",
       "      <th>0</th>\n",
       "      <td>0</td>\n",
       "      <td>ae</td>\n",
       "      <td>0.000202</td>\n",
       "      <td>ARE</td>\n",
       "      <td>United Arab Emirates</td>\n",
       "    </tr>\n",
       "    <tr>\n",
       "      <th>1</th>\n",
       "      <td>0</td>\n",
       "      <td>ar</td>\n",
       "      <td>0.017664</td>\n",
       "      <td>ARG</td>\n",
       "      <td>Argentina</td>\n",
       "    </tr>\n",
       "    <tr>\n",
       "      <th>2</th>\n",
       "      <td>0</td>\n",
       "      <td>at</td>\n",
       "      <td>0.002772</td>\n",
       "      <td>AUT</td>\n",
       "      <td>Austria</td>\n",
       "    </tr>\n",
       "    <tr>\n",
       "      <th>3</th>\n",
       "      <td>0</td>\n",
       "      <td>au</td>\n",
       "      <td>0.016286</td>\n",
       "      <td>AUS</td>\n",
       "      <td>Australia</td>\n",
       "    </tr>\n",
       "    <tr>\n",
       "      <th>4</th>\n",
       "      <td>0</td>\n",
       "      <td>be</td>\n",
       "      <td>0.003442</td>\n",
       "      <td>BEL</td>\n",
       "      <td>Belgium</td>\n",
       "    </tr>\n",
       "    <tr>\n",
       "      <th>...</th>\n",
       "      <td>...</td>\n",
       "      <td>...</td>\n",
       "      <td>...</td>\n",
       "      <td>...</td>\n",
       "      <td>...</td>\n",
       "    </tr>\n",
       "    <tr>\n",
       "      <th>340</th>\n",
       "      <td>4</td>\n",
       "      <td>ua</td>\n",
       "      <td>0.000181</td>\n",
       "      <td>UKR</td>\n",
       "      <td>Ukraine</td>\n",
       "    </tr>\n",
       "    <tr>\n",
       "      <th>341</th>\n",
       "      <td>4</td>\n",
       "      <td>us</td>\n",
       "      <td>0.127737</td>\n",
       "      <td>USA</td>\n",
       "      <td>United States</td>\n",
       "    </tr>\n",
       "    <tr>\n",
       "      <th>342</th>\n",
       "      <td>4</td>\n",
       "      <td>uy</td>\n",
       "      <td>0.000894</td>\n",
       "      <td>URY</td>\n",
       "      <td>Uruguay</td>\n",
       "    </tr>\n",
       "    <tr>\n",
       "      <th>343</th>\n",
       "      <td>4</td>\n",
       "      <td>vn</td>\n",
       "      <td>0.001917</td>\n",
       "      <td>VNM</td>\n",
       "      <td>Vietnam</td>\n",
       "    </tr>\n",
       "    <tr>\n",
       "      <th>344</th>\n",
       "      <td>4</td>\n",
       "      <td>za</td>\n",
       "      <td>0.000531</td>\n",
       "      <td>ZAF</td>\n",
       "      <td>South Africa</td>\n",
       "    </tr>\n",
       "  </tbody>\n",
       "</table>\n",
       "<p>340 rows × 5 columns</p>\n",
       "</div>"
      ],
      "text/plain": [
       "     k_means code   Streams country code          country name\n",
       "0          0   ae  0.000202          ARE  United Arab Emirates\n",
       "1          0   ar  0.017664          ARG             Argentina\n",
       "2          0   at  0.002772          AUT               Austria\n",
       "3          0   au  0.016286          AUS             Australia\n",
       "4          0   be  0.003442          BEL               Belgium\n",
       "..       ...  ...       ...          ...                   ...\n",
       "340        4   ua  0.000181          UKR               Ukraine\n",
       "341        4   us  0.127737          USA         United States\n",
       "342        4   uy  0.000894          URY               Uruguay\n",
       "343        4   vn  0.001917          VNM               Vietnam\n",
       "344        4   za  0.000531          ZAF          South Africa\n",
       "\n",
       "[340 rows x 5 columns]"
      ]
     },
     "execution_count": 206,
     "metadata": {},
     "output_type": "execute_result"
    }
   ],
   "source": [
    "#Adding iso3 country codes\n",
    "import country_converter as coco\n",
    "import plotly.express as px\n",
    "\n",
    "iso2_codes = cluster_country_cluster_pcts['code']\n",
    "cluster_country_cluster_pcts['country code'] = coco.convert(names=iso2_codes, to='ISO3')\n",
    "# add country name by applying the convert method\n",
    "cluster_country_cluster_pcts['country name'] = cluster_country_cluster_pcts.code.apply(lambda x: coco.convert(names=x, to='name_short', not_found=None))\n",
    "cluster_country_cluster_pcts"
   ]
  },
  {
   "cell_type": "code",
   "execution_count": 207,
   "metadata": {},
   "outputs": [
    {
     "data": {
      "text/html": [
       "<div>\n",
       "<style scoped>\n",
       "    .dataframe tbody tr th:only-of-type {\n",
       "        vertical-align: middle;\n",
       "    }\n",
       "\n",
       "    .dataframe tbody tr th {\n",
       "        vertical-align: top;\n",
       "    }\n",
       "\n",
       "    .dataframe thead th {\n",
       "        text-align: right;\n",
       "    }\n",
       "</style>\n",
       "<table border=\"1\" class=\"dataframe\">\n",
       "  <thead>\n",
       "    <tr style=\"text-align: right;\">\n",
       "      <th></th>\n",
       "      <th>k_means</th>\n",
       "      <th>code</th>\n",
       "      <th>Streams</th>\n",
       "      <th>country code</th>\n",
       "      <th>country name</th>\n",
       "    </tr>\n",
       "  </thead>\n",
       "  <tbody>\n",
       "    <tr>\n",
       "      <th>341</th>\n",
       "      <td>4</td>\n",
       "      <td>us</td>\n",
       "      <td>0.127737</td>\n",
       "      <td>USA</td>\n",
       "      <td>United States</td>\n",
       "    </tr>\n",
       "    <tr>\n",
       "      <th>318</th>\n",
       "      <td>4</td>\n",
       "      <td>mx</td>\n",
       "      <td>0.072741</td>\n",
       "      <td>MEX</td>\n",
       "      <td>Mexico</td>\n",
       "    </tr>\n",
       "    <tr>\n",
       "      <th>283</th>\n",
       "      <td>4</td>\n",
       "      <td>br</td>\n",
       "      <td>0.040606</td>\n",
       "      <td>BRA</td>\n",
       "      <td>Brazil</td>\n",
       "    </tr>\n",
       "    <tr>\n",
       "      <th>299</th>\n",
       "      <td>4</td>\n",
       "      <td>gb</td>\n",
       "      <td>0.035773</td>\n",
       "      <td>GBR</td>\n",
       "      <td>United Kingdom</td>\n",
       "    </tr>\n",
       "    <tr>\n",
       "      <th>298</th>\n",
       "      <td>4</td>\n",
       "      <td>fr</td>\n",
       "      <td>0.029467</td>\n",
       "      <td>FRA</td>\n",
       "      <td>France</td>\n",
       "    </tr>\n",
       "    <tr>\n",
       "      <th>311</th>\n",
       "      <td>4</td>\n",
       "      <td>it</td>\n",
       "      <td>0.029261</td>\n",
       "      <td>ITA</td>\n",
       "      <td>Italy</td>\n",
       "    </tr>\n",
       "    <tr>\n",
       "      <th>306</th>\n",
       "      <td>4</td>\n",
       "      <td>id</td>\n",
       "      <td>0.026348</td>\n",
       "      <td>IDN</td>\n",
       "      <td>Indonesia</td>\n",
       "    </tr>\n",
       "    <tr>\n",
       "      <th>326</th>\n",
       "      <td>4</td>\n",
       "      <td>ph</td>\n",
       "      <td>0.025085</td>\n",
       "      <td>PHL</td>\n",
       "      <td>Philippines</td>\n",
       "    </tr>\n",
       "    <tr>\n",
       "      <th>290</th>\n",
       "      <td>4</td>\n",
       "      <td>de</td>\n",
       "      <td>0.022863</td>\n",
       "      <td>DEU</td>\n",
       "      <td>Germany</td>\n",
       "    </tr>\n",
       "    <tr>\n",
       "      <th>333</th>\n",
       "      <td>4</td>\n",
       "      <td>se</td>\n",
       "      <td>0.019487</td>\n",
       "      <td>SWE</td>\n",
       "      <td>Sweden</td>\n",
       "    </tr>\n",
       "  </tbody>\n",
       "</table>\n",
       "</div>"
      ],
      "text/plain": [
       "     k_means code   Streams country code    country name\n",
       "341        4   us  0.127737          USA   United States\n",
       "318        4   mx  0.072741          MEX          Mexico\n",
       "283        4   br  0.040606          BRA          Brazil\n",
       "299        4   gb  0.035773          GBR  United Kingdom\n",
       "298        4   fr  0.029467          FRA          France\n",
       "311        4   it  0.029261          ITA           Italy\n",
       "306        4   id  0.026348          IDN       Indonesia\n",
       "326        4   ph  0.025085          PHL     Philippines\n",
       "290        4   de  0.022863          DEU         Germany\n",
       "333        4   se  0.019487          SWE          Sweden"
      ]
     },
     "execution_count": 207,
     "metadata": {},
     "output_type": "execute_result"
    }
   ],
   "source": [
    "#Obtaining sepecific cluster\n",
    "sp_cluster = 4\n",
    "ranking_cluster = cluster_country_cluster_pcts.loc[cluster_country_cluster_pcts['k_means'] == sp_cluster]\n",
    "ranking_cluster.sort_values(by=['Streams'], ascending=False).head(10)\n"
   ]
  },
  {
   "cell_type": "code",
   "execution_count": 208,
   "metadata": {},
   "outputs": [
    {
     "data": {
      "application/vnd.plotly.v1+json": {
       "config": {
        "plotlyServerURL": "https://plot.ly"
       },
       "data": [
        {
         "coloraxis": "coloraxis",
         "geo": "geo",
         "hovertemplate": "<b>%{hovertext}</b><br><br>country code=%{location}<br>Streams=%{z}<extra></extra>",
         "hovertext": [
          "United Arab Emirates",
          "Argentina",
          "Austria",
          "Australia",
          "Belgium",
          "Bulgaria",
          "Bolivia",
          "Brazil",
          "Canada",
          "Switzerland",
          "Chile",
          "Colombia",
          "Costa Rica",
          "Czech Republic",
          "Germany",
          "Denmark",
          "Dominican Republic",
          "Ecuador",
          "Estonia",
          "Egypt",
          "Spain",
          "Finland",
          "France",
          "United Kingdom",
          "Greece",
          "Guatemala",
          "Hong Kong",
          "Honduras",
          "Hungary",
          "Indonesia",
          "Ireland",
          "Israel",
          "India",
          "Iceland",
          "Italy",
          "Japan",
          "South Korea",
          "Lithuania",
          "Luxembourg",
          "Latvia",
          "Morocco",
          "Mexico",
          "Malaysia",
          "Nicaragua",
          "Netherlands",
          "Norway",
          "New Zealand",
          "Panama",
          "Peru",
          "Philippines",
          "Poland",
          "Portugal",
          "Paraguay",
          "Romania",
          "Russia",
          "Saudi Arabia",
          "Sweden",
          "Singapore",
          "Slovakia",
          "El Salvador",
          "Thailand",
          "Turkey",
          "Taiwan",
          "Ukraine",
          "United States",
          "Uruguay",
          "Vietnam",
          "South Africa"
         ],
         "locations": [
          "ARE",
          "ARG",
          "AUT",
          "AUS",
          "BEL",
          "BGR",
          "BOL",
          "BRA",
          "CAN",
          "CHE",
          "CHL",
          "COL",
          "CRI",
          "CZE",
          "DEU",
          "DNK",
          "DOM",
          "ECU",
          "EST",
          "EGY",
          "ESP",
          "FIN",
          "FRA",
          "GBR",
          "GRC",
          "GTM",
          "HKG",
          "HND",
          "HUN",
          "IDN",
          "IRL",
          "ISR",
          "IND",
          "ISL",
          "ITA",
          "JPN",
          "KOR",
          "LTU",
          "LUX",
          "LVA",
          "MAR",
          "MEX",
          "MYS",
          "NIC",
          "NLD",
          "NOR",
          "NZL",
          "PAN",
          "PER",
          "PHL",
          "POL",
          "PRT",
          "PRY",
          "ROU",
          "RUS",
          "SAU",
          "SWE",
          "SGP",
          "SVK",
          "SLV",
          "THA",
          "TUR",
          "TWN",
          "UKR",
          "USA",
          "URY",
          "VNM",
          "ZAF"
         ],
         "name": "",
         "type": "choropleth",
         "z": [
          0.00021660970542389124,
          0.012723806380616466,
          0.0016866166704421048,
          0.01784779081060726,
          0.0035519724107528606,
          5.3263641651515674e-05,
          0.0006833766277044997,
          0.04060624761207729,
          0.017078461500144904,
          0.0023459234608791046,
          0.008978905306777222,
          0.00308743684152975,
          0.0013624651373634936,
          0.0015417152706798565,
          0.022862931363808375,
          0.00666703637675533,
          0.0002918974140433135,
          0.0011264526503407446,
          0.00013648376521101834,
          0.00011860513809067841,
          0.013888088910339876,
          0.004415562028452288,
          0.02946708779057225,
          0.03577315527720633,
          0.0007601451439274236,
          0.0017707588313197339,
          0.0015871273146699297,
          0.0004312320261349456,
          0.0008823979278694927,
          0.026348433995614366,
          0.004400385756731092,
          0.0016111852726189118,
          0.009432260415263675,
          0.0008280705817077424,
          0.029260568807974625,
          0.003371863996673606,
          5.297316703861629e-05,
          0.00022484858150657815,
          9.466173973995289e-06,
          0.0002115965698216293,
          0.0005417838077129768,
          0.07274088907443978,
          0.008059159686118719,
          0.00011105090251936084,
          0.016011554060249004,
          0.011195021242640026,
          0.004101286758587985,
          0.00038309399448442166,
          0.0029641481557378065,
          0.025084571561909016,
          0.00656721547425836,
          0.0020456262312623374,
          0.0005665559149060289,
          0.0005871497245619979,
          0.0009603448345766368,
          0.0015719236826034252,
          0.01948675113048958,
          0.0048045311673858655,
          0.0004808692530575275,
          0.00046294001245775917,
          0.004403953912248999,
          0.005338895961557458,
          0.0025033878086644203,
          0.00018107373508453262,
          0.12773741753158693,
          0.0008941847393534602,
          0.0019166194228644083,
          0.0005311562407902997
         ]
        }
       ],
       "layout": {
        "coloraxis": {
         "colorbar": {
          "title": {
           "text": "Streams"
          }
         },
         "colorscale": [
          [
           0,
           "rgb(165,0,38)"
          ],
          [
           0.1,
           "rgb(215,48,39)"
          ],
          [
           0.2,
           "rgb(244,109,67)"
          ],
          [
           0.3,
           "rgb(253,174,97)"
          ],
          [
           0.4,
           "rgb(254,224,139)"
          ],
          [
           0.5,
           "rgb(255,255,191)"
          ],
          [
           0.6,
           "rgb(217,239,139)"
          ],
          [
           0.7,
           "rgb(166,217,106)"
          ],
          [
           0.8,
           "rgb(102,189,99)"
          ],
          [
           0.9,
           "rgb(26,152,80)"
          ],
          [
           1,
           "rgb(0,104,55)"
          ]
         ]
        },
        "geo": {
         "center": {},
         "domain": {
          "x": [
           0,
           1
          ],
          "y": [
           0,
           1
          ]
         }
        },
        "legend": {
         "tracegroupgap": 0
        },
        "template": {
         "data": {
          "bar": [
           {
            "error_x": {
             "color": "#2a3f5f"
            },
            "error_y": {
             "color": "#2a3f5f"
            },
            "marker": {
             "line": {
              "color": "#E5ECF6",
              "width": 0.5
             }
            },
            "type": "bar"
           }
          ],
          "barpolar": [
           {
            "marker": {
             "line": {
              "color": "#E5ECF6",
              "width": 0.5
             }
            },
            "type": "barpolar"
           }
          ],
          "carpet": [
           {
            "aaxis": {
             "endlinecolor": "#2a3f5f",
             "gridcolor": "white",
             "linecolor": "white",
             "minorgridcolor": "white",
             "startlinecolor": "#2a3f5f"
            },
            "baxis": {
             "endlinecolor": "#2a3f5f",
             "gridcolor": "white",
             "linecolor": "white",
             "minorgridcolor": "white",
             "startlinecolor": "#2a3f5f"
            },
            "type": "carpet"
           }
          ],
          "choropleth": [
           {
            "colorbar": {
             "outlinewidth": 0,
             "ticks": ""
            },
            "type": "choropleth"
           }
          ],
          "contour": [
           {
            "colorbar": {
             "outlinewidth": 0,
             "ticks": ""
            },
            "colorscale": [
             [
              0,
              "#0d0887"
             ],
             [
              0.1111111111111111,
              "#46039f"
             ],
             [
              0.2222222222222222,
              "#7201a8"
             ],
             [
              0.3333333333333333,
              "#9c179e"
             ],
             [
              0.4444444444444444,
              "#bd3786"
             ],
             [
              0.5555555555555556,
              "#d8576b"
             ],
             [
              0.6666666666666666,
              "#ed7953"
             ],
             [
              0.7777777777777778,
              "#fb9f3a"
             ],
             [
              0.8888888888888888,
              "#fdca26"
             ],
             [
              1,
              "#f0f921"
             ]
            ],
            "type": "contour"
           }
          ],
          "contourcarpet": [
           {
            "colorbar": {
             "outlinewidth": 0,
             "ticks": ""
            },
            "type": "contourcarpet"
           }
          ],
          "heatmap": [
           {
            "colorbar": {
             "outlinewidth": 0,
             "ticks": ""
            },
            "colorscale": [
             [
              0,
              "#0d0887"
             ],
             [
              0.1111111111111111,
              "#46039f"
             ],
             [
              0.2222222222222222,
              "#7201a8"
             ],
             [
              0.3333333333333333,
              "#9c179e"
             ],
             [
              0.4444444444444444,
              "#bd3786"
             ],
             [
              0.5555555555555556,
              "#d8576b"
             ],
             [
              0.6666666666666666,
              "#ed7953"
             ],
             [
              0.7777777777777778,
              "#fb9f3a"
             ],
             [
              0.8888888888888888,
              "#fdca26"
             ],
             [
              1,
              "#f0f921"
             ]
            ],
            "type": "heatmap"
           }
          ],
          "heatmapgl": [
           {
            "colorbar": {
             "outlinewidth": 0,
             "ticks": ""
            },
            "colorscale": [
             [
              0,
              "#0d0887"
             ],
             [
              0.1111111111111111,
              "#46039f"
             ],
             [
              0.2222222222222222,
              "#7201a8"
             ],
             [
              0.3333333333333333,
              "#9c179e"
             ],
             [
              0.4444444444444444,
              "#bd3786"
             ],
             [
              0.5555555555555556,
              "#d8576b"
             ],
             [
              0.6666666666666666,
              "#ed7953"
             ],
             [
              0.7777777777777778,
              "#fb9f3a"
             ],
             [
              0.8888888888888888,
              "#fdca26"
             ],
             [
              1,
              "#f0f921"
             ]
            ],
            "type": "heatmapgl"
           }
          ],
          "histogram": [
           {
            "marker": {
             "colorbar": {
              "outlinewidth": 0,
              "ticks": ""
             }
            },
            "type": "histogram"
           }
          ],
          "histogram2d": [
           {
            "colorbar": {
             "outlinewidth": 0,
             "ticks": ""
            },
            "colorscale": [
             [
              0,
              "#0d0887"
             ],
             [
              0.1111111111111111,
              "#46039f"
             ],
             [
              0.2222222222222222,
              "#7201a8"
             ],
             [
              0.3333333333333333,
              "#9c179e"
             ],
             [
              0.4444444444444444,
              "#bd3786"
             ],
             [
              0.5555555555555556,
              "#d8576b"
             ],
             [
              0.6666666666666666,
              "#ed7953"
             ],
             [
              0.7777777777777778,
              "#fb9f3a"
             ],
             [
              0.8888888888888888,
              "#fdca26"
             ],
             [
              1,
              "#f0f921"
             ]
            ],
            "type": "histogram2d"
           }
          ],
          "histogram2dcontour": [
           {
            "colorbar": {
             "outlinewidth": 0,
             "ticks": ""
            },
            "colorscale": [
             [
              0,
              "#0d0887"
             ],
             [
              0.1111111111111111,
              "#46039f"
             ],
             [
              0.2222222222222222,
              "#7201a8"
             ],
             [
              0.3333333333333333,
              "#9c179e"
             ],
             [
              0.4444444444444444,
              "#bd3786"
             ],
             [
              0.5555555555555556,
              "#d8576b"
             ],
             [
              0.6666666666666666,
              "#ed7953"
             ],
             [
              0.7777777777777778,
              "#fb9f3a"
             ],
             [
              0.8888888888888888,
              "#fdca26"
             ],
             [
              1,
              "#f0f921"
             ]
            ],
            "type": "histogram2dcontour"
           }
          ],
          "mesh3d": [
           {
            "colorbar": {
             "outlinewidth": 0,
             "ticks": ""
            },
            "type": "mesh3d"
           }
          ],
          "parcoords": [
           {
            "line": {
             "colorbar": {
              "outlinewidth": 0,
              "ticks": ""
             }
            },
            "type": "parcoords"
           }
          ],
          "pie": [
           {
            "automargin": true,
            "type": "pie"
           }
          ],
          "scatter": [
           {
            "marker": {
             "colorbar": {
              "outlinewidth": 0,
              "ticks": ""
             }
            },
            "type": "scatter"
           }
          ],
          "scatter3d": [
           {
            "line": {
             "colorbar": {
              "outlinewidth": 0,
              "ticks": ""
             }
            },
            "marker": {
             "colorbar": {
              "outlinewidth": 0,
              "ticks": ""
             }
            },
            "type": "scatter3d"
           }
          ],
          "scattercarpet": [
           {
            "marker": {
             "colorbar": {
              "outlinewidth": 0,
              "ticks": ""
             }
            },
            "type": "scattercarpet"
           }
          ],
          "scattergeo": [
           {
            "marker": {
             "colorbar": {
              "outlinewidth": 0,
              "ticks": ""
             }
            },
            "type": "scattergeo"
           }
          ],
          "scattergl": [
           {
            "marker": {
             "colorbar": {
              "outlinewidth": 0,
              "ticks": ""
             }
            },
            "type": "scattergl"
           }
          ],
          "scattermapbox": [
           {
            "marker": {
             "colorbar": {
              "outlinewidth": 0,
              "ticks": ""
             }
            },
            "type": "scattermapbox"
           }
          ],
          "scatterpolar": [
           {
            "marker": {
             "colorbar": {
              "outlinewidth": 0,
              "ticks": ""
             }
            },
            "type": "scatterpolar"
           }
          ],
          "scatterpolargl": [
           {
            "marker": {
             "colorbar": {
              "outlinewidth": 0,
              "ticks": ""
             }
            },
            "type": "scatterpolargl"
           }
          ],
          "scatterternary": [
           {
            "marker": {
             "colorbar": {
              "outlinewidth": 0,
              "ticks": ""
             }
            },
            "type": "scatterternary"
           }
          ],
          "surface": [
           {
            "colorbar": {
             "outlinewidth": 0,
             "ticks": ""
            },
            "colorscale": [
             [
              0,
              "#0d0887"
             ],
             [
              0.1111111111111111,
              "#46039f"
             ],
             [
              0.2222222222222222,
              "#7201a8"
             ],
             [
              0.3333333333333333,
              "#9c179e"
             ],
             [
              0.4444444444444444,
              "#bd3786"
             ],
             [
              0.5555555555555556,
              "#d8576b"
             ],
             [
              0.6666666666666666,
              "#ed7953"
             ],
             [
              0.7777777777777778,
              "#fb9f3a"
             ],
             [
              0.8888888888888888,
              "#fdca26"
             ],
             [
              1,
              "#f0f921"
             ]
            ],
            "type": "surface"
           }
          ],
          "table": [
           {
            "cells": {
             "fill": {
              "color": "#EBF0F8"
             },
             "line": {
              "color": "white"
             }
            },
            "header": {
             "fill": {
              "color": "#C8D4E3"
             },
             "line": {
              "color": "white"
             }
            },
            "type": "table"
           }
          ]
         },
         "layout": {
          "annotationdefaults": {
           "arrowcolor": "#2a3f5f",
           "arrowhead": 0,
           "arrowwidth": 1
          },
          "autotypenumbers": "strict",
          "coloraxis": {
           "colorbar": {
            "outlinewidth": 0,
            "ticks": ""
           }
          },
          "colorscale": {
           "diverging": [
            [
             0,
             "#8e0152"
            ],
            [
             0.1,
             "#c51b7d"
            ],
            [
             0.2,
             "#de77ae"
            ],
            [
             0.3,
             "#f1b6da"
            ],
            [
             0.4,
             "#fde0ef"
            ],
            [
             0.5,
             "#f7f7f7"
            ],
            [
             0.6,
             "#e6f5d0"
            ],
            [
             0.7,
             "#b8e186"
            ],
            [
             0.8,
             "#7fbc41"
            ],
            [
             0.9,
             "#4d9221"
            ],
            [
             1,
             "#276419"
            ]
           ],
           "sequential": [
            [
             0,
             "#0d0887"
            ],
            [
             0.1111111111111111,
             "#46039f"
            ],
            [
             0.2222222222222222,
             "#7201a8"
            ],
            [
             0.3333333333333333,
             "#9c179e"
            ],
            [
             0.4444444444444444,
             "#bd3786"
            ],
            [
             0.5555555555555556,
             "#d8576b"
            ],
            [
             0.6666666666666666,
             "#ed7953"
            ],
            [
             0.7777777777777778,
             "#fb9f3a"
            ],
            [
             0.8888888888888888,
             "#fdca26"
            ],
            [
             1,
             "#f0f921"
            ]
           ],
           "sequentialminus": [
            [
             0,
             "#0d0887"
            ],
            [
             0.1111111111111111,
             "#46039f"
            ],
            [
             0.2222222222222222,
             "#7201a8"
            ],
            [
             0.3333333333333333,
             "#9c179e"
            ],
            [
             0.4444444444444444,
             "#bd3786"
            ],
            [
             0.5555555555555556,
             "#d8576b"
            ],
            [
             0.6666666666666666,
             "#ed7953"
            ],
            [
             0.7777777777777778,
             "#fb9f3a"
            ],
            [
             0.8888888888888888,
             "#fdca26"
            ],
            [
             1,
             "#f0f921"
            ]
           ]
          },
          "colorway": [
           "#636efa",
           "#EF553B",
           "#00cc96",
           "#ab63fa",
           "#FFA15A",
           "#19d3f3",
           "#FF6692",
           "#B6E880",
           "#FF97FF",
           "#FECB52"
          ],
          "font": {
           "color": "#2a3f5f"
          },
          "geo": {
           "bgcolor": "white",
           "lakecolor": "white",
           "landcolor": "#E5ECF6",
           "showlakes": true,
           "showland": true,
           "subunitcolor": "white"
          },
          "hoverlabel": {
           "align": "left"
          },
          "hovermode": "closest",
          "mapbox": {
           "style": "light"
          },
          "paper_bgcolor": "white",
          "plot_bgcolor": "#E5ECF6",
          "polar": {
           "angularaxis": {
            "gridcolor": "white",
            "linecolor": "white",
            "ticks": ""
           },
           "bgcolor": "#E5ECF6",
           "radialaxis": {
            "gridcolor": "white",
            "linecolor": "white",
            "ticks": ""
           }
          },
          "scene": {
           "xaxis": {
            "backgroundcolor": "#E5ECF6",
            "gridcolor": "white",
            "gridwidth": 2,
            "linecolor": "white",
            "showbackground": true,
            "ticks": "",
            "zerolinecolor": "white"
           },
           "yaxis": {
            "backgroundcolor": "#E5ECF6",
            "gridcolor": "white",
            "gridwidth": 2,
            "linecolor": "white",
            "showbackground": true,
            "ticks": "",
            "zerolinecolor": "white"
           },
           "zaxis": {
            "backgroundcolor": "#E5ECF6",
            "gridcolor": "white",
            "gridwidth": 2,
            "linecolor": "white",
            "showbackground": true,
            "ticks": "",
            "zerolinecolor": "white"
           }
          },
          "shapedefaults": {
           "line": {
            "color": "#2a3f5f"
           }
          },
          "ternary": {
           "aaxis": {
            "gridcolor": "white",
            "linecolor": "white",
            "ticks": ""
           },
           "baxis": {
            "gridcolor": "white",
            "linecolor": "white",
            "ticks": ""
           },
           "bgcolor": "#E5ECF6",
           "caxis": {
            "gridcolor": "white",
            "linecolor": "white",
            "ticks": ""
           }
          },
          "title": {
           "x": 0.05
          },
          "xaxis": {
           "automargin": true,
           "gridcolor": "white",
           "linecolor": "white",
           "ticks": "",
           "title": {
            "standoff": 15
           },
           "zerolinecolor": "white",
           "zerolinewidth": 2
          },
          "yaxis": {
           "automargin": true,
           "gridcolor": "white",
           "linecolor": "white",
           "ticks": "",
           "title": {
            "standoff": 15
           },
           "zerolinecolor": "white",
           "zerolinewidth": 2
          }
         }
        },
        "title": {
         "text": "Cluster 4"
        }
       }
      },
      "text/html": [
       "<div>                            <div id=\"f0fd4db2-aa6b-4335-9393-948768221670\" class=\"plotly-graph-div\" style=\"height:525px; width:100%;\"></div>            <script type=\"text/javascript\">                require([\"plotly\"], function(Plotly) {                    window.PLOTLYENV=window.PLOTLYENV || {};                                    if (document.getElementById(\"f0fd4db2-aa6b-4335-9393-948768221670\")) {                    Plotly.newPlot(                        \"f0fd4db2-aa6b-4335-9393-948768221670\",                        [{\"coloraxis\": \"coloraxis\", \"geo\": \"geo\", \"hovertemplate\": \"<b>%{hovertext}</b><br><br>country code=%{location}<br>Streams=%{z}<extra></extra>\", \"hovertext\": [\"United Arab Emirates\", \"Argentina\", \"Austria\", \"Australia\", \"Belgium\", \"Bulgaria\", \"Bolivia\", \"Brazil\", \"Canada\", \"Switzerland\", \"Chile\", \"Colombia\", \"Costa Rica\", \"Czech Republic\", \"Germany\", \"Denmark\", \"Dominican Republic\", \"Ecuador\", \"Estonia\", \"Egypt\", \"Spain\", \"Finland\", \"France\", \"United Kingdom\", \"Greece\", \"Guatemala\", \"Hong Kong\", \"Honduras\", \"Hungary\", \"Indonesia\", \"Ireland\", \"Israel\", \"India\", \"Iceland\", \"Italy\", \"Japan\", \"South Korea\", \"Lithuania\", \"Luxembourg\", \"Latvia\", \"Morocco\", \"Mexico\", \"Malaysia\", \"Nicaragua\", \"Netherlands\", \"Norway\", \"New Zealand\", \"Panama\", \"Peru\", \"Philippines\", \"Poland\", \"Portugal\", \"Paraguay\", \"Romania\", \"Russia\", \"Saudi Arabia\", \"Sweden\", \"Singapore\", \"Slovakia\", \"El Salvador\", \"Thailand\", \"Turkey\", \"Taiwan\", \"Ukraine\", \"United States\", \"Uruguay\", \"Vietnam\", \"South Africa\"], \"locations\": [\"ARE\", \"ARG\", \"AUT\", \"AUS\", \"BEL\", \"BGR\", \"BOL\", \"BRA\", \"CAN\", \"CHE\", \"CHL\", \"COL\", \"CRI\", \"CZE\", \"DEU\", \"DNK\", \"DOM\", \"ECU\", \"EST\", \"EGY\", \"ESP\", \"FIN\", \"FRA\", \"GBR\", \"GRC\", \"GTM\", \"HKG\", \"HND\", \"HUN\", \"IDN\", \"IRL\", \"ISR\", \"IND\", \"ISL\", \"ITA\", \"JPN\", \"KOR\", \"LTU\", \"LUX\", \"LVA\", \"MAR\", \"MEX\", \"MYS\", \"NIC\", \"NLD\", \"NOR\", \"NZL\", \"PAN\", \"PER\", \"PHL\", \"POL\", \"PRT\", \"PRY\", \"ROU\", \"RUS\", \"SAU\", \"SWE\", \"SGP\", \"SVK\", \"SLV\", \"THA\", \"TUR\", \"TWN\", \"UKR\", \"USA\", \"URY\", \"VNM\", \"ZAF\"], \"name\": \"\", \"type\": \"choropleth\", \"z\": [0.00021660970542389124, 0.012723806380616466, 0.0016866166704421048, 0.01784779081060726, 0.0035519724107528606, 5.3263641651515674e-05, 0.0006833766277044997, 0.04060624761207729, 0.017078461500144904, 0.0023459234608791046, 0.008978905306777222, 0.00308743684152975, 0.0013624651373634936, 0.0015417152706798565, 0.022862931363808375, 0.00666703637675533, 0.0002918974140433135, 0.0011264526503407446, 0.00013648376521101834, 0.00011860513809067841, 0.013888088910339876, 0.004415562028452288, 0.02946708779057225, 0.03577315527720633, 0.0007601451439274236, 0.0017707588313197339, 0.0015871273146699297, 0.0004312320261349456, 0.0008823979278694927, 0.026348433995614366, 0.004400385756731092, 0.0016111852726189118, 0.009432260415263675, 0.0008280705817077424, 0.029260568807974625, 0.003371863996673606, 5.297316703861629e-05, 0.00022484858150657815, 9.466173973995289e-06, 0.0002115965698216293, 0.0005417838077129768, 0.07274088907443978, 0.008059159686118719, 0.00011105090251936084, 0.016011554060249004, 0.011195021242640026, 0.004101286758587985, 0.00038309399448442166, 0.0029641481557378065, 0.025084571561909016, 0.00656721547425836, 0.0020456262312623374, 0.0005665559149060289, 0.0005871497245619979, 0.0009603448345766368, 0.0015719236826034252, 0.01948675113048958, 0.0048045311673858655, 0.0004808692530575275, 0.00046294001245775917, 0.004403953912248999, 0.005338895961557458, 0.0025033878086644203, 0.00018107373508453262, 0.12773741753158693, 0.0008941847393534602, 0.0019166194228644083, 0.0005311562407902997]}],                        {\"coloraxis\": {\"colorbar\": {\"title\": {\"text\": \"Streams\"}}, \"colorscale\": [[0.0, \"rgb(165,0,38)\"], [0.1, \"rgb(215,48,39)\"], [0.2, \"rgb(244,109,67)\"], [0.3, \"rgb(253,174,97)\"], [0.4, \"rgb(254,224,139)\"], [0.5, \"rgb(255,255,191)\"], [0.6, \"rgb(217,239,139)\"], [0.7, \"rgb(166,217,106)\"], [0.8, \"rgb(102,189,99)\"], [0.9, \"rgb(26,152,80)\"], [1.0, \"rgb(0,104,55)\"]]}, \"geo\": {\"center\": {}, \"domain\": {\"x\": [0.0, 1.0], \"y\": [0.0, 1.0]}}, \"legend\": {\"tracegroupgap\": 0}, \"template\": {\"data\": {\"bar\": [{\"error_x\": {\"color\": \"#2a3f5f\"}, \"error_y\": {\"color\": \"#2a3f5f\"}, \"marker\": {\"line\": {\"color\": \"#E5ECF6\", \"width\": 0.5}}, \"type\": \"bar\"}], \"barpolar\": [{\"marker\": {\"line\": {\"color\": \"#E5ECF6\", \"width\": 0.5}}, \"type\": \"barpolar\"}], \"carpet\": [{\"aaxis\": {\"endlinecolor\": \"#2a3f5f\", \"gridcolor\": \"white\", \"linecolor\": \"white\", \"minorgridcolor\": \"white\", \"startlinecolor\": \"#2a3f5f\"}, \"baxis\": {\"endlinecolor\": \"#2a3f5f\", \"gridcolor\": \"white\", \"linecolor\": \"white\", \"minorgridcolor\": \"white\", \"startlinecolor\": \"#2a3f5f\"}, \"type\": \"carpet\"}], \"choropleth\": [{\"colorbar\": {\"outlinewidth\": 0, \"ticks\": \"\"}, \"type\": \"choropleth\"}], \"contour\": [{\"colorbar\": {\"outlinewidth\": 0, \"ticks\": \"\"}, \"colorscale\": [[0.0, \"#0d0887\"], [0.1111111111111111, \"#46039f\"], [0.2222222222222222, \"#7201a8\"], [0.3333333333333333, \"#9c179e\"], [0.4444444444444444, \"#bd3786\"], [0.5555555555555556, \"#d8576b\"], [0.6666666666666666, \"#ed7953\"], [0.7777777777777778, \"#fb9f3a\"], [0.8888888888888888, \"#fdca26\"], [1.0, \"#f0f921\"]], \"type\": \"contour\"}], \"contourcarpet\": [{\"colorbar\": {\"outlinewidth\": 0, \"ticks\": \"\"}, \"type\": \"contourcarpet\"}], \"heatmap\": [{\"colorbar\": {\"outlinewidth\": 0, \"ticks\": \"\"}, \"colorscale\": [[0.0, \"#0d0887\"], [0.1111111111111111, \"#46039f\"], [0.2222222222222222, \"#7201a8\"], [0.3333333333333333, \"#9c179e\"], [0.4444444444444444, \"#bd3786\"], [0.5555555555555556, \"#d8576b\"], [0.6666666666666666, \"#ed7953\"], [0.7777777777777778, \"#fb9f3a\"], [0.8888888888888888, \"#fdca26\"], [1.0, \"#f0f921\"]], \"type\": \"heatmap\"}], \"heatmapgl\": [{\"colorbar\": {\"outlinewidth\": 0, \"ticks\": \"\"}, \"colorscale\": [[0.0, \"#0d0887\"], [0.1111111111111111, \"#46039f\"], [0.2222222222222222, \"#7201a8\"], [0.3333333333333333, \"#9c179e\"], [0.4444444444444444, \"#bd3786\"], [0.5555555555555556, \"#d8576b\"], [0.6666666666666666, \"#ed7953\"], [0.7777777777777778, \"#fb9f3a\"], [0.8888888888888888, \"#fdca26\"], [1.0, \"#f0f921\"]], \"type\": \"heatmapgl\"}], \"histogram\": [{\"marker\": {\"colorbar\": {\"outlinewidth\": 0, \"ticks\": \"\"}}, \"type\": \"histogram\"}], \"histogram2d\": [{\"colorbar\": {\"outlinewidth\": 0, \"ticks\": \"\"}, \"colorscale\": [[0.0, \"#0d0887\"], [0.1111111111111111, \"#46039f\"], [0.2222222222222222, \"#7201a8\"], [0.3333333333333333, \"#9c179e\"], [0.4444444444444444, \"#bd3786\"], [0.5555555555555556, \"#d8576b\"], [0.6666666666666666, \"#ed7953\"], [0.7777777777777778, \"#fb9f3a\"], [0.8888888888888888, \"#fdca26\"], [1.0, \"#f0f921\"]], \"type\": \"histogram2d\"}], \"histogram2dcontour\": [{\"colorbar\": {\"outlinewidth\": 0, \"ticks\": \"\"}, \"colorscale\": [[0.0, \"#0d0887\"], [0.1111111111111111, \"#46039f\"], [0.2222222222222222, \"#7201a8\"], [0.3333333333333333, \"#9c179e\"], [0.4444444444444444, \"#bd3786\"], [0.5555555555555556, \"#d8576b\"], [0.6666666666666666, \"#ed7953\"], [0.7777777777777778, \"#fb9f3a\"], [0.8888888888888888, \"#fdca26\"], [1.0, \"#f0f921\"]], \"type\": \"histogram2dcontour\"}], \"mesh3d\": [{\"colorbar\": {\"outlinewidth\": 0, \"ticks\": \"\"}, \"type\": \"mesh3d\"}], \"parcoords\": [{\"line\": {\"colorbar\": {\"outlinewidth\": 0, \"ticks\": \"\"}}, \"type\": \"parcoords\"}], \"pie\": [{\"automargin\": true, \"type\": \"pie\"}], \"scatter\": [{\"marker\": {\"colorbar\": {\"outlinewidth\": 0, \"ticks\": \"\"}}, \"type\": \"scatter\"}], \"scatter3d\": [{\"line\": {\"colorbar\": {\"outlinewidth\": 0, \"ticks\": \"\"}}, \"marker\": {\"colorbar\": {\"outlinewidth\": 0, \"ticks\": \"\"}}, \"type\": \"scatter3d\"}], \"scattercarpet\": [{\"marker\": {\"colorbar\": {\"outlinewidth\": 0, \"ticks\": \"\"}}, \"type\": \"scattercarpet\"}], \"scattergeo\": [{\"marker\": {\"colorbar\": {\"outlinewidth\": 0, \"ticks\": \"\"}}, \"type\": \"scattergeo\"}], \"scattergl\": [{\"marker\": {\"colorbar\": {\"outlinewidth\": 0, \"ticks\": \"\"}}, \"type\": \"scattergl\"}], \"scattermapbox\": [{\"marker\": {\"colorbar\": {\"outlinewidth\": 0, \"ticks\": \"\"}}, \"type\": \"scattermapbox\"}], \"scatterpolar\": [{\"marker\": {\"colorbar\": {\"outlinewidth\": 0, \"ticks\": \"\"}}, \"type\": \"scatterpolar\"}], \"scatterpolargl\": [{\"marker\": {\"colorbar\": {\"outlinewidth\": 0, \"ticks\": \"\"}}, \"type\": \"scatterpolargl\"}], \"scatterternary\": [{\"marker\": {\"colorbar\": {\"outlinewidth\": 0, \"ticks\": \"\"}}, \"type\": \"scatterternary\"}], \"surface\": [{\"colorbar\": {\"outlinewidth\": 0, \"ticks\": \"\"}, \"colorscale\": [[0.0, \"#0d0887\"], [0.1111111111111111, \"#46039f\"], [0.2222222222222222, \"#7201a8\"], [0.3333333333333333, \"#9c179e\"], [0.4444444444444444, \"#bd3786\"], [0.5555555555555556, \"#d8576b\"], [0.6666666666666666, \"#ed7953\"], [0.7777777777777778, \"#fb9f3a\"], [0.8888888888888888, \"#fdca26\"], [1.0, \"#f0f921\"]], \"type\": \"surface\"}], \"table\": [{\"cells\": {\"fill\": {\"color\": \"#EBF0F8\"}, \"line\": {\"color\": \"white\"}}, \"header\": {\"fill\": {\"color\": \"#C8D4E3\"}, \"line\": {\"color\": \"white\"}}, \"type\": \"table\"}]}, \"layout\": {\"annotationdefaults\": {\"arrowcolor\": \"#2a3f5f\", \"arrowhead\": 0, \"arrowwidth\": 1}, \"autotypenumbers\": \"strict\", \"coloraxis\": {\"colorbar\": {\"outlinewidth\": 0, \"ticks\": \"\"}}, \"colorscale\": {\"diverging\": [[0, \"#8e0152\"], [0.1, \"#c51b7d\"], [0.2, \"#de77ae\"], [0.3, \"#f1b6da\"], [0.4, \"#fde0ef\"], [0.5, \"#f7f7f7\"], [0.6, \"#e6f5d0\"], [0.7, \"#b8e186\"], [0.8, \"#7fbc41\"], [0.9, \"#4d9221\"], [1, \"#276419\"]], \"sequential\": [[0.0, \"#0d0887\"], [0.1111111111111111, \"#46039f\"], [0.2222222222222222, \"#7201a8\"], [0.3333333333333333, \"#9c179e\"], [0.4444444444444444, \"#bd3786\"], [0.5555555555555556, \"#d8576b\"], [0.6666666666666666, \"#ed7953\"], [0.7777777777777778, \"#fb9f3a\"], [0.8888888888888888, \"#fdca26\"], [1.0, \"#f0f921\"]], \"sequentialminus\": [[0.0, \"#0d0887\"], [0.1111111111111111, \"#46039f\"], [0.2222222222222222, \"#7201a8\"], [0.3333333333333333, \"#9c179e\"], [0.4444444444444444, \"#bd3786\"], [0.5555555555555556, \"#d8576b\"], [0.6666666666666666, \"#ed7953\"], [0.7777777777777778, \"#fb9f3a\"], [0.8888888888888888, \"#fdca26\"], [1.0, \"#f0f921\"]]}, \"colorway\": [\"#636efa\", \"#EF553B\", \"#00cc96\", \"#ab63fa\", \"#FFA15A\", \"#19d3f3\", \"#FF6692\", \"#B6E880\", \"#FF97FF\", \"#FECB52\"], \"font\": {\"color\": \"#2a3f5f\"}, \"geo\": {\"bgcolor\": \"white\", \"lakecolor\": \"white\", \"landcolor\": \"#E5ECF6\", \"showlakes\": true, \"showland\": true, \"subunitcolor\": \"white\"}, \"hoverlabel\": {\"align\": \"left\"}, \"hovermode\": \"closest\", \"mapbox\": {\"style\": \"light\"}, \"paper_bgcolor\": \"white\", \"plot_bgcolor\": \"#E5ECF6\", \"polar\": {\"angularaxis\": {\"gridcolor\": \"white\", \"linecolor\": \"white\", \"ticks\": \"\"}, \"bgcolor\": \"#E5ECF6\", \"radialaxis\": {\"gridcolor\": \"white\", \"linecolor\": \"white\", \"ticks\": \"\"}}, \"scene\": {\"xaxis\": {\"backgroundcolor\": \"#E5ECF6\", \"gridcolor\": \"white\", \"gridwidth\": 2, \"linecolor\": \"white\", \"showbackground\": true, \"ticks\": \"\", \"zerolinecolor\": \"white\"}, \"yaxis\": {\"backgroundcolor\": \"#E5ECF6\", \"gridcolor\": \"white\", \"gridwidth\": 2, \"linecolor\": \"white\", \"showbackground\": true, \"ticks\": \"\", \"zerolinecolor\": \"white\"}, \"zaxis\": {\"backgroundcolor\": \"#E5ECF6\", \"gridcolor\": \"white\", \"gridwidth\": 2, \"linecolor\": \"white\", \"showbackground\": true, \"ticks\": \"\", \"zerolinecolor\": \"white\"}}, \"shapedefaults\": {\"line\": {\"color\": \"#2a3f5f\"}}, \"ternary\": {\"aaxis\": {\"gridcolor\": \"white\", \"linecolor\": \"white\", \"ticks\": \"\"}, \"baxis\": {\"gridcolor\": \"white\", \"linecolor\": \"white\", \"ticks\": \"\"}, \"bgcolor\": \"#E5ECF6\", \"caxis\": {\"gridcolor\": \"white\", \"linecolor\": \"white\", \"ticks\": \"\"}}, \"title\": {\"x\": 0.05}, \"xaxis\": {\"automargin\": true, \"gridcolor\": \"white\", \"linecolor\": \"white\", \"ticks\": \"\", \"title\": {\"standoff\": 15}, \"zerolinecolor\": \"white\", \"zerolinewidth\": 2}, \"yaxis\": {\"automargin\": true, \"gridcolor\": \"white\", \"linecolor\": \"white\", \"ticks\": \"\", \"title\": {\"standoff\": 15}, \"zerolinecolor\": \"white\", \"zerolinewidth\": 2}}}, \"title\": {\"text\": \"Cluster 4\"}},                        {\"responsive\": true}                    ).then(function(){\n",
       "                            \n",
       "var gd = document.getElementById('f0fd4db2-aa6b-4335-9393-948768221670');\n",
       "var x = new MutationObserver(function (mutations, observer) {{\n",
       "        var display = window.getComputedStyle(gd).display;\n",
       "        if (!display || display === 'none') {{\n",
       "            console.log([gd, 'removed!']);\n",
       "            Plotly.purge(gd);\n",
       "            observer.disconnect();\n",
       "        }}\n",
       "}});\n",
       "\n",
       "// Listen for the removal of the full notebook cells\n",
       "var notebookContainer = gd.closest('#notebook-container');\n",
       "if (notebookContainer) {{\n",
       "    x.observe(notebookContainer, {childList: true});\n",
       "}}\n",
       "\n",
       "// Listen for the clearing of the current output cell\n",
       "var outputEl = gd.closest('.output');\n",
       "if (outputEl) {{\n",
       "    x.observe(outputEl, {childList: true});\n",
       "}}\n",
       "\n",
       "                        })                };                });            </script>        </div>"
      ]
     },
     "metadata": {},
     "output_type": "display_data"
    }
   ],
   "source": [
    "#Plotting map\n",
    "\n",
    "map_title = \"Cluster \" + str(sp_cluster) \n",
    "fig = px.choropleth(ranking_cluster, locations=\"country code\",\n",
    "                    color=\"Streams\", # lifeExp is a column of gapminder\n",
    "                    hover_name=\"country name\", # column to add to hover information\n",
    "                    color_continuous_scale=px.colors.diverging.RdYlGn,\n",
    "                    title = map_title\n",
    "                   )\n",
    "fig.show()"
   ]
  },
  {
   "cell_type": "code",
   "execution_count": 209,
   "metadata": {},
   "outputs": [
    {
     "name": "stderr",
     "output_type": "stream",
     "text": [
      "<ipython-input-209-5f59ba575a43>:4: UserWarning:\n",
      "\n",
      "Boolean Series key will be reindexed to match DataFrame index.\n",
      "\n"
     ]
    },
    {
     "data": {
      "text/html": [
       "<div>\n",
       "<style scoped>\n",
       "    .dataframe tbody tr th:only-of-type {\n",
       "        vertical-align: middle;\n",
       "    }\n",
       "\n",
       "    .dataframe tbody tr th {\n",
       "        vertical-align: top;\n",
       "    }\n",
       "\n",
       "    .dataframe thead th {\n",
       "        text-align: right;\n",
       "    }\n",
       "</style>\n",
       "<table border=\"1\" class=\"dataframe\">\n",
       "  <thead>\n",
       "    <tr style=\"text-align: right;\">\n",
       "      <th></th>\n",
       "      <th>k_means</th>\n",
       "      <th>code</th>\n",
       "      <th>Streams</th>\n",
       "      <th>country code</th>\n",
       "      <th>country name</th>\n",
       "    </tr>\n",
       "  </thead>\n",
       "  <tbody>\n",
       "    <tr>\n",
       "      <th>14</th>\n",
       "      <td>0</td>\n",
       "      <td>de</td>\n",
       "      <td>0.047126</td>\n",
       "      <td>DEU</td>\n",
       "      <td>Germany</td>\n",
       "    </tr>\n",
       "    <tr>\n",
       "      <th>7</th>\n",
       "      <td>0</td>\n",
       "      <td>br</td>\n",
       "      <td>0.043494</td>\n",
       "      <td>BRA</td>\n",
       "      <td>Brazil</td>\n",
       "    </tr>\n",
       "    <tr>\n",
       "      <th>42</th>\n",
       "      <td>0</td>\n",
       "      <td>mx</td>\n",
       "      <td>0.037186</td>\n",
       "      <td>MEX</td>\n",
       "      <td>Mexico</td>\n",
       "    </tr>\n",
       "    <tr>\n",
       "      <th>23</th>\n",
       "      <td>0</td>\n",
       "      <td>gb</td>\n",
       "      <td>0.032112</td>\n",
       "      <td>GBR</td>\n",
       "      <td>United Kingdom</td>\n",
       "    </tr>\n",
       "    <tr>\n",
       "      <th>22</th>\n",
       "      <td>0</td>\n",
       "      <td>fr</td>\n",
       "      <td>0.028176</td>\n",
       "      <td>FRA</td>\n",
       "      <td>France</td>\n",
       "    </tr>\n",
       "    <tr>\n",
       "      <th>20</th>\n",
       "      <td>0</td>\n",
       "      <td>es</td>\n",
       "      <td>0.025789</td>\n",
       "      <td>ESP</td>\n",
       "      <td>Spain</td>\n",
       "    </tr>\n",
       "    <tr>\n",
       "      <th>35</th>\n",
       "      <td>0</td>\n",
       "      <td>it</td>\n",
       "      <td>0.025445</td>\n",
       "      <td>ITA</td>\n",
       "      <td>Italy</td>\n",
       "    </tr>\n",
       "    <tr>\n",
       "      <th>45</th>\n",
       "      <td>0</td>\n",
       "      <td>nl</td>\n",
       "      <td>0.018428</td>\n",
       "      <td>NLD</td>\n",
       "      <td>Netherlands</td>\n",
       "    </tr>\n",
       "    <tr>\n",
       "      <th>1</th>\n",
       "      <td>0</td>\n",
       "      <td>ar</td>\n",
       "      <td>0.017664</td>\n",
       "      <td>ARG</td>\n",
       "      <td>Argentina</td>\n",
       "    </tr>\n",
       "    <tr>\n",
       "      <th>8</th>\n",
       "      <td>0</td>\n",
       "      <td>ca</td>\n",
       "      <td>0.016585</td>\n",
       "      <td>CAN</td>\n",
       "      <td>Canada</td>\n",
       "    </tr>\n",
       "  </tbody>\n",
       "</table>\n",
       "</div>"
      ],
      "text/plain": [
       "    k_means code   Streams country code    country name\n",
       "14        0   de  0.047126          DEU         Germany\n",
       "7         0   br  0.043494          BRA          Brazil\n",
       "42        0   mx  0.037186          MEX          Mexico\n",
       "23        0   gb  0.032112          GBR  United Kingdom\n",
       "22        0   fr  0.028176          FRA          France\n",
       "20        0   es  0.025789          ESP           Spain\n",
       "35        0   it  0.025445          ITA           Italy\n",
       "45        0   nl  0.018428          NLD     Netherlands\n",
       "1         0   ar  0.017664          ARG       Argentina\n",
       "8         0   ca  0.016585          CAN          Canada"
      ]
     },
     "execution_count": 209,
     "metadata": {},
     "output_type": "execute_result"
    }
   ],
   "source": [
    "#Obtain sepecific cluster\n",
    "ranking_cluster_nousa = cluster_country_cluster_pcts.loc[cluster_country_cluster_pcts['k_means'] == 0]\n",
    "#Erase USA\n",
    "ranking_cluster_nousa = ranking_cluster_nousa[cluster_country_cluster_pcts.code != \"us\"]\n",
    "ranking_cluster_nousa.sort_values(by=['Streams'], ascending=False).head(10)"
   ]
  },
  {
   "cell_type": "code",
   "execution_count": 210,
   "metadata": {},
   "outputs": [
    {
     "data": {
      "application/vnd.plotly.v1+json": {
       "config": {
        "plotlyServerURL": "https://plot.ly"
       },
       "data": [
        {
         "coloraxis": "coloraxis",
         "geo": "geo",
         "hovertemplate": "<b>%{hovertext}</b><br><br>country code=%{location}<br>Streams=%{z}<extra></extra>",
         "hovertext": [
          "United Arab Emirates",
          "Argentina",
          "Austria",
          "Australia",
          "Belgium",
          "Bulgaria",
          "Bolivia",
          "Brazil",
          "Canada",
          "Switzerland",
          "Chile",
          "Colombia",
          "Costa Rica",
          "Czech Republic",
          "Germany",
          "Denmark",
          "Dominican Republic",
          "Ecuador",
          "Estonia",
          "Egypt",
          "Spain",
          "Finland",
          "France",
          "United Kingdom",
          "Greece",
          "Guatemala",
          "Hong Kong",
          "Honduras",
          "Hungary",
          "Indonesia",
          "Ireland",
          "Israel",
          "India",
          "Iceland",
          "Italy",
          "Japan",
          "South Korea",
          "Lithuania",
          "Luxembourg",
          "Latvia",
          "Morocco",
          "Mexico",
          "Malaysia",
          "Nicaragua",
          "Netherlands",
          "Norway",
          "New Zealand",
          "Panama",
          "Peru",
          "Philippines",
          "Poland",
          "Portugal",
          "Paraguay",
          "Romania",
          "Russia",
          "Saudi Arabia",
          "Sweden",
          "Singapore",
          "Slovakia",
          "El Salvador",
          "Thailand",
          "Turkey",
          "Taiwan",
          "Ukraine",
          "Uruguay",
          "Vietnam",
          "South Africa"
         ],
         "locations": [
          "ARE",
          "ARG",
          "AUT",
          "AUS",
          "BEL",
          "BGR",
          "BOL",
          "BRA",
          "CAN",
          "CHE",
          "CHL",
          "COL",
          "CRI",
          "CZE",
          "DEU",
          "DNK",
          "DOM",
          "ECU",
          "EST",
          "EGY",
          "ESP",
          "FIN",
          "FRA",
          "GBR",
          "GRC",
          "GTM",
          "HKG",
          "HND",
          "HUN",
          "IDN",
          "IRL",
          "ISR",
          "IND",
          "ISL",
          "ITA",
          "JPN",
          "KOR",
          "LTU",
          "LUX",
          "LVA",
          "MAR",
          "MEX",
          "MYS",
          "NIC",
          "NLD",
          "NOR",
          "NZL",
          "PAN",
          "PER",
          "PHL",
          "POL",
          "PRT",
          "PRY",
          "ROU",
          "RUS",
          "SAU",
          "SWE",
          "SGP",
          "SVK",
          "SLV",
          "THA",
          "TUR",
          "TWN",
          "UKR",
          "URY",
          "VNM",
          "ZAF"
         ],
         "name": "",
         "type": "choropleth",
         "z": [
          0.00020229242073098265,
          0.017664144148271093,
          0.00277243164122446,
          0.016286409155100743,
          0.0034418012258818445,
          0.0001404871255554952,
          0.0009711156780076389,
          0.04349433187986276,
          0.016584762657675,
          0.0034001615810102127,
          0.016061675918175613,
          0.005198211522918586,
          0.0018841303870892232,
          0.0016239987664257692,
          0.047126431096132154,
          0.00711959096656792,
          0.0010833869572334717,
          0.002335514831212441,
          0.00017471204334959853,
          0.0002296610003222612,
          0.025788948687705437,
          0.0057113374130106165,
          0.0281761985844811,
          0.032112175674427035,
          0.0011040405388573404,
          0.0016593156062671625,
          0.0008289709860458377,
          0.0006842279095937681,
          0.0011486168976879124,
          0.006945597121692803,
          0.0031536832938816937,
          0.0009871169117736487,
          0.0057990036963886035,
          0.0003790983940189842,
          0.025445197369436106,
          0.004221436548252736,
          3.5074971469820796e-05,
          0.00022971927093064565,
          1.1681570647816647e-05,
          0.00022896989654700876,
          0.00038225719381805123,
          0.03718608961749468,
          0.002780853373785811,
          0.00015724736517162182,
          0.018428163542771395,
          0.007522444694819708,
          0.0032836034111597807,
          0.001004427713221832,
          0.007062725583946889,
          0.008506663928651577,
          0.008294651308190178,
          0.002750521023325344,
          0.001804201203860297,
          0.000633264466676627,
          0.0012533411978506827,
          0.00043915949627331774,
          0.01273144489617704,
          0.002772804316153051,
          0.0006002560139632657,
          0.0008243369091601926,
          0.001600288018466679,
          0.012971387980585145,
          0.001723573892829313,
          0.0002504705606879801,
          0.0012810836757888057,
          0.000760482100269603,
          0.0005503677100623194
         ]
        }
       ],
       "layout": {
        "coloraxis": {
         "colorbar": {
          "title": {
           "text": "Streams"
          }
         },
         "colorscale": [
          [
           0,
           "rgb(165,0,38)"
          ],
          [
           0.1,
           "rgb(215,48,39)"
          ],
          [
           0.2,
           "rgb(244,109,67)"
          ],
          [
           0.3,
           "rgb(253,174,97)"
          ],
          [
           0.4,
           "rgb(254,224,139)"
          ],
          [
           0.5,
           "rgb(255,255,191)"
          ],
          [
           0.6,
           "rgb(217,239,139)"
          ],
          [
           0.7,
           "rgb(166,217,106)"
          ],
          [
           0.8,
           "rgb(102,189,99)"
          ],
          [
           0.9,
           "rgb(26,152,80)"
          ],
          [
           1,
           "rgb(0,104,55)"
          ]
         ]
        },
        "geo": {
         "center": {},
         "domain": {
          "x": [
           0,
           1
          ],
          "y": [
           0,
           1
          ]
         }
        },
        "legend": {
         "tracegroupgap": 0
        },
        "margin": {
         "t": 60
        },
        "template": {
         "data": {
          "bar": [
           {
            "error_x": {
             "color": "#2a3f5f"
            },
            "error_y": {
             "color": "#2a3f5f"
            },
            "marker": {
             "line": {
              "color": "#E5ECF6",
              "width": 0.5
             }
            },
            "type": "bar"
           }
          ],
          "barpolar": [
           {
            "marker": {
             "line": {
              "color": "#E5ECF6",
              "width": 0.5
             }
            },
            "type": "barpolar"
           }
          ],
          "carpet": [
           {
            "aaxis": {
             "endlinecolor": "#2a3f5f",
             "gridcolor": "white",
             "linecolor": "white",
             "minorgridcolor": "white",
             "startlinecolor": "#2a3f5f"
            },
            "baxis": {
             "endlinecolor": "#2a3f5f",
             "gridcolor": "white",
             "linecolor": "white",
             "minorgridcolor": "white",
             "startlinecolor": "#2a3f5f"
            },
            "type": "carpet"
           }
          ],
          "choropleth": [
           {
            "colorbar": {
             "outlinewidth": 0,
             "ticks": ""
            },
            "type": "choropleth"
           }
          ],
          "contour": [
           {
            "colorbar": {
             "outlinewidth": 0,
             "ticks": ""
            },
            "colorscale": [
             [
              0,
              "#0d0887"
             ],
             [
              0.1111111111111111,
              "#46039f"
             ],
             [
              0.2222222222222222,
              "#7201a8"
             ],
             [
              0.3333333333333333,
              "#9c179e"
             ],
             [
              0.4444444444444444,
              "#bd3786"
             ],
             [
              0.5555555555555556,
              "#d8576b"
             ],
             [
              0.6666666666666666,
              "#ed7953"
             ],
             [
              0.7777777777777778,
              "#fb9f3a"
             ],
             [
              0.8888888888888888,
              "#fdca26"
             ],
             [
              1,
              "#f0f921"
             ]
            ],
            "type": "contour"
           }
          ],
          "contourcarpet": [
           {
            "colorbar": {
             "outlinewidth": 0,
             "ticks": ""
            },
            "type": "contourcarpet"
           }
          ],
          "heatmap": [
           {
            "colorbar": {
             "outlinewidth": 0,
             "ticks": ""
            },
            "colorscale": [
             [
              0,
              "#0d0887"
             ],
             [
              0.1111111111111111,
              "#46039f"
             ],
             [
              0.2222222222222222,
              "#7201a8"
             ],
             [
              0.3333333333333333,
              "#9c179e"
             ],
             [
              0.4444444444444444,
              "#bd3786"
             ],
             [
              0.5555555555555556,
              "#d8576b"
             ],
             [
              0.6666666666666666,
              "#ed7953"
             ],
             [
              0.7777777777777778,
              "#fb9f3a"
             ],
             [
              0.8888888888888888,
              "#fdca26"
             ],
             [
              1,
              "#f0f921"
             ]
            ],
            "type": "heatmap"
           }
          ],
          "heatmapgl": [
           {
            "colorbar": {
             "outlinewidth": 0,
             "ticks": ""
            },
            "colorscale": [
             [
              0,
              "#0d0887"
             ],
             [
              0.1111111111111111,
              "#46039f"
             ],
             [
              0.2222222222222222,
              "#7201a8"
             ],
             [
              0.3333333333333333,
              "#9c179e"
             ],
             [
              0.4444444444444444,
              "#bd3786"
             ],
             [
              0.5555555555555556,
              "#d8576b"
             ],
             [
              0.6666666666666666,
              "#ed7953"
             ],
             [
              0.7777777777777778,
              "#fb9f3a"
             ],
             [
              0.8888888888888888,
              "#fdca26"
             ],
             [
              1,
              "#f0f921"
             ]
            ],
            "type": "heatmapgl"
           }
          ],
          "histogram": [
           {
            "marker": {
             "colorbar": {
              "outlinewidth": 0,
              "ticks": ""
             }
            },
            "type": "histogram"
           }
          ],
          "histogram2d": [
           {
            "colorbar": {
             "outlinewidth": 0,
             "ticks": ""
            },
            "colorscale": [
             [
              0,
              "#0d0887"
             ],
             [
              0.1111111111111111,
              "#46039f"
             ],
             [
              0.2222222222222222,
              "#7201a8"
             ],
             [
              0.3333333333333333,
              "#9c179e"
             ],
             [
              0.4444444444444444,
              "#bd3786"
             ],
             [
              0.5555555555555556,
              "#d8576b"
             ],
             [
              0.6666666666666666,
              "#ed7953"
             ],
             [
              0.7777777777777778,
              "#fb9f3a"
             ],
             [
              0.8888888888888888,
              "#fdca26"
             ],
             [
              1,
              "#f0f921"
             ]
            ],
            "type": "histogram2d"
           }
          ],
          "histogram2dcontour": [
           {
            "colorbar": {
             "outlinewidth": 0,
             "ticks": ""
            },
            "colorscale": [
             [
              0,
              "#0d0887"
             ],
             [
              0.1111111111111111,
              "#46039f"
             ],
             [
              0.2222222222222222,
              "#7201a8"
             ],
             [
              0.3333333333333333,
              "#9c179e"
             ],
             [
              0.4444444444444444,
              "#bd3786"
             ],
             [
              0.5555555555555556,
              "#d8576b"
             ],
             [
              0.6666666666666666,
              "#ed7953"
             ],
             [
              0.7777777777777778,
              "#fb9f3a"
             ],
             [
              0.8888888888888888,
              "#fdca26"
             ],
             [
              1,
              "#f0f921"
             ]
            ],
            "type": "histogram2dcontour"
           }
          ],
          "mesh3d": [
           {
            "colorbar": {
             "outlinewidth": 0,
             "ticks": ""
            },
            "type": "mesh3d"
           }
          ],
          "parcoords": [
           {
            "line": {
             "colorbar": {
              "outlinewidth": 0,
              "ticks": ""
             }
            },
            "type": "parcoords"
           }
          ],
          "pie": [
           {
            "automargin": true,
            "type": "pie"
           }
          ],
          "scatter": [
           {
            "marker": {
             "colorbar": {
              "outlinewidth": 0,
              "ticks": ""
             }
            },
            "type": "scatter"
           }
          ],
          "scatter3d": [
           {
            "line": {
             "colorbar": {
              "outlinewidth": 0,
              "ticks": ""
             }
            },
            "marker": {
             "colorbar": {
              "outlinewidth": 0,
              "ticks": ""
             }
            },
            "type": "scatter3d"
           }
          ],
          "scattercarpet": [
           {
            "marker": {
             "colorbar": {
              "outlinewidth": 0,
              "ticks": ""
             }
            },
            "type": "scattercarpet"
           }
          ],
          "scattergeo": [
           {
            "marker": {
             "colorbar": {
              "outlinewidth": 0,
              "ticks": ""
             }
            },
            "type": "scattergeo"
           }
          ],
          "scattergl": [
           {
            "marker": {
             "colorbar": {
              "outlinewidth": 0,
              "ticks": ""
             }
            },
            "type": "scattergl"
           }
          ],
          "scattermapbox": [
           {
            "marker": {
             "colorbar": {
              "outlinewidth": 0,
              "ticks": ""
             }
            },
            "type": "scattermapbox"
           }
          ],
          "scatterpolar": [
           {
            "marker": {
             "colorbar": {
              "outlinewidth": 0,
              "ticks": ""
             }
            },
            "type": "scatterpolar"
           }
          ],
          "scatterpolargl": [
           {
            "marker": {
             "colorbar": {
              "outlinewidth": 0,
              "ticks": ""
             }
            },
            "type": "scatterpolargl"
           }
          ],
          "scatterternary": [
           {
            "marker": {
             "colorbar": {
              "outlinewidth": 0,
              "ticks": ""
             }
            },
            "type": "scatterternary"
           }
          ],
          "surface": [
           {
            "colorbar": {
             "outlinewidth": 0,
             "ticks": ""
            },
            "colorscale": [
             [
              0,
              "#0d0887"
             ],
             [
              0.1111111111111111,
              "#46039f"
             ],
             [
              0.2222222222222222,
              "#7201a8"
             ],
             [
              0.3333333333333333,
              "#9c179e"
             ],
             [
              0.4444444444444444,
              "#bd3786"
             ],
             [
              0.5555555555555556,
              "#d8576b"
             ],
             [
              0.6666666666666666,
              "#ed7953"
             ],
             [
              0.7777777777777778,
              "#fb9f3a"
             ],
             [
              0.8888888888888888,
              "#fdca26"
             ],
             [
              1,
              "#f0f921"
             ]
            ],
            "type": "surface"
           }
          ],
          "table": [
           {
            "cells": {
             "fill": {
              "color": "#EBF0F8"
             },
             "line": {
              "color": "white"
             }
            },
            "header": {
             "fill": {
              "color": "#C8D4E3"
             },
             "line": {
              "color": "white"
             }
            },
            "type": "table"
           }
          ]
         },
         "layout": {
          "annotationdefaults": {
           "arrowcolor": "#2a3f5f",
           "arrowhead": 0,
           "arrowwidth": 1
          },
          "autotypenumbers": "strict",
          "coloraxis": {
           "colorbar": {
            "outlinewidth": 0,
            "ticks": ""
           }
          },
          "colorscale": {
           "diverging": [
            [
             0,
             "#8e0152"
            ],
            [
             0.1,
             "#c51b7d"
            ],
            [
             0.2,
             "#de77ae"
            ],
            [
             0.3,
             "#f1b6da"
            ],
            [
             0.4,
             "#fde0ef"
            ],
            [
             0.5,
             "#f7f7f7"
            ],
            [
             0.6,
             "#e6f5d0"
            ],
            [
             0.7,
             "#b8e186"
            ],
            [
             0.8,
             "#7fbc41"
            ],
            [
             0.9,
             "#4d9221"
            ],
            [
             1,
             "#276419"
            ]
           ],
           "sequential": [
            [
             0,
             "#0d0887"
            ],
            [
             0.1111111111111111,
             "#46039f"
            ],
            [
             0.2222222222222222,
             "#7201a8"
            ],
            [
             0.3333333333333333,
             "#9c179e"
            ],
            [
             0.4444444444444444,
             "#bd3786"
            ],
            [
             0.5555555555555556,
             "#d8576b"
            ],
            [
             0.6666666666666666,
             "#ed7953"
            ],
            [
             0.7777777777777778,
             "#fb9f3a"
            ],
            [
             0.8888888888888888,
             "#fdca26"
            ],
            [
             1,
             "#f0f921"
            ]
           ],
           "sequentialminus": [
            [
             0,
             "#0d0887"
            ],
            [
             0.1111111111111111,
             "#46039f"
            ],
            [
             0.2222222222222222,
             "#7201a8"
            ],
            [
             0.3333333333333333,
             "#9c179e"
            ],
            [
             0.4444444444444444,
             "#bd3786"
            ],
            [
             0.5555555555555556,
             "#d8576b"
            ],
            [
             0.6666666666666666,
             "#ed7953"
            ],
            [
             0.7777777777777778,
             "#fb9f3a"
            ],
            [
             0.8888888888888888,
             "#fdca26"
            ],
            [
             1,
             "#f0f921"
            ]
           ]
          },
          "colorway": [
           "#636efa",
           "#EF553B",
           "#00cc96",
           "#ab63fa",
           "#FFA15A",
           "#19d3f3",
           "#FF6692",
           "#B6E880",
           "#FF97FF",
           "#FECB52"
          ],
          "font": {
           "color": "#2a3f5f"
          },
          "geo": {
           "bgcolor": "white",
           "lakecolor": "white",
           "landcolor": "#E5ECF6",
           "showlakes": true,
           "showland": true,
           "subunitcolor": "white"
          },
          "hoverlabel": {
           "align": "left"
          },
          "hovermode": "closest",
          "mapbox": {
           "style": "light"
          },
          "paper_bgcolor": "white",
          "plot_bgcolor": "#E5ECF6",
          "polar": {
           "angularaxis": {
            "gridcolor": "white",
            "linecolor": "white",
            "ticks": ""
           },
           "bgcolor": "#E5ECF6",
           "radialaxis": {
            "gridcolor": "white",
            "linecolor": "white",
            "ticks": ""
           }
          },
          "scene": {
           "xaxis": {
            "backgroundcolor": "#E5ECF6",
            "gridcolor": "white",
            "gridwidth": 2,
            "linecolor": "white",
            "showbackground": true,
            "ticks": "",
            "zerolinecolor": "white"
           },
           "yaxis": {
            "backgroundcolor": "#E5ECF6",
            "gridcolor": "white",
            "gridwidth": 2,
            "linecolor": "white",
            "showbackground": true,
            "ticks": "",
            "zerolinecolor": "white"
           },
           "zaxis": {
            "backgroundcolor": "#E5ECF6",
            "gridcolor": "white",
            "gridwidth": 2,
            "linecolor": "white",
            "showbackground": true,
            "ticks": "",
            "zerolinecolor": "white"
           }
          },
          "shapedefaults": {
           "line": {
            "color": "#2a3f5f"
           }
          },
          "ternary": {
           "aaxis": {
            "gridcolor": "white",
            "linecolor": "white",
            "ticks": ""
           },
           "baxis": {
            "gridcolor": "white",
            "linecolor": "white",
            "ticks": ""
           },
           "bgcolor": "#E5ECF6",
           "caxis": {
            "gridcolor": "white",
            "linecolor": "white",
            "ticks": ""
           }
          },
          "title": {
           "x": 0.05
          },
          "xaxis": {
           "automargin": true,
           "gridcolor": "white",
           "linecolor": "white",
           "ticks": "",
           "title": {
            "standoff": 15
           },
           "zerolinecolor": "white",
           "zerolinewidth": 2
          },
          "yaxis": {
           "automargin": true,
           "gridcolor": "white",
           "linecolor": "white",
           "ticks": "",
           "title": {
            "standoff": 15
           },
           "zerolinecolor": "white",
           "zerolinewidth": 2
          }
         }
        }
       }
      },
      "text/html": [
       "<div>                            <div id=\"5b4ff615-9c66-4ae3-87f3-827b775db518\" class=\"plotly-graph-div\" style=\"height:525px; width:100%;\"></div>            <script type=\"text/javascript\">                require([\"plotly\"], function(Plotly) {                    window.PLOTLYENV=window.PLOTLYENV || {};                                    if (document.getElementById(\"5b4ff615-9c66-4ae3-87f3-827b775db518\")) {                    Plotly.newPlot(                        \"5b4ff615-9c66-4ae3-87f3-827b775db518\",                        [{\"coloraxis\": \"coloraxis\", \"geo\": \"geo\", \"hovertemplate\": \"<b>%{hovertext}</b><br><br>country code=%{location}<br>Streams=%{z}<extra></extra>\", \"hovertext\": [\"United Arab Emirates\", \"Argentina\", \"Austria\", \"Australia\", \"Belgium\", \"Bulgaria\", \"Bolivia\", \"Brazil\", \"Canada\", \"Switzerland\", \"Chile\", \"Colombia\", \"Costa Rica\", \"Czech Republic\", \"Germany\", \"Denmark\", \"Dominican Republic\", \"Ecuador\", \"Estonia\", \"Egypt\", \"Spain\", \"Finland\", \"France\", \"United Kingdom\", \"Greece\", \"Guatemala\", \"Hong Kong\", \"Honduras\", \"Hungary\", \"Indonesia\", \"Ireland\", \"Israel\", \"India\", \"Iceland\", \"Italy\", \"Japan\", \"South Korea\", \"Lithuania\", \"Luxembourg\", \"Latvia\", \"Morocco\", \"Mexico\", \"Malaysia\", \"Nicaragua\", \"Netherlands\", \"Norway\", \"New Zealand\", \"Panama\", \"Peru\", \"Philippines\", \"Poland\", \"Portugal\", \"Paraguay\", \"Romania\", \"Russia\", \"Saudi Arabia\", \"Sweden\", \"Singapore\", \"Slovakia\", \"El Salvador\", \"Thailand\", \"Turkey\", \"Taiwan\", \"Ukraine\", \"Uruguay\", \"Vietnam\", \"South Africa\"], \"locations\": [\"ARE\", \"ARG\", \"AUT\", \"AUS\", \"BEL\", \"BGR\", \"BOL\", \"BRA\", \"CAN\", \"CHE\", \"CHL\", \"COL\", \"CRI\", \"CZE\", \"DEU\", \"DNK\", \"DOM\", \"ECU\", \"EST\", \"EGY\", \"ESP\", \"FIN\", \"FRA\", \"GBR\", \"GRC\", \"GTM\", \"HKG\", \"HND\", \"HUN\", \"IDN\", \"IRL\", \"ISR\", \"IND\", \"ISL\", \"ITA\", \"JPN\", \"KOR\", \"LTU\", \"LUX\", \"LVA\", \"MAR\", \"MEX\", \"MYS\", \"NIC\", \"NLD\", \"NOR\", \"NZL\", \"PAN\", \"PER\", \"PHL\", \"POL\", \"PRT\", \"PRY\", \"ROU\", \"RUS\", \"SAU\", \"SWE\", \"SGP\", \"SVK\", \"SLV\", \"THA\", \"TUR\", \"TWN\", \"UKR\", \"URY\", \"VNM\", \"ZAF\"], \"name\": \"\", \"type\": \"choropleth\", \"z\": [0.00020229242073098265, 0.017664144148271093, 0.00277243164122446, 0.016286409155100743, 0.0034418012258818445, 0.0001404871255554952, 0.0009711156780076389, 0.04349433187986276, 0.016584762657675, 0.0034001615810102127, 0.016061675918175613, 0.005198211522918586, 0.0018841303870892232, 0.0016239987664257692, 0.047126431096132154, 0.00711959096656792, 0.0010833869572334717, 0.002335514831212441, 0.00017471204334959853, 0.0002296610003222612, 0.025788948687705437, 0.0057113374130106165, 0.0281761985844811, 0.032112175674427035, 0.0011040405388573404, 0.0016593156062671625, 0.0008289709860458377, 0.0006842279095937681, 0.0011486168976879124, 0.006945597121692803, 0.0031536832938816937, 0.0009871169117736487, 0.0057990036963886035, 0.0003790983940189842, 0.025445197369436106, 0.004221436548252736, 3.5074971469820796e-05, 0.00022971927093064565, 1.1681570647816647e-05, 0.00022896989654700876, 0.00038225719381805123, 0.03718608961749468, 0.002780853373785811, 0.00015724736517162182, 0.018428163542771395, 0.007522444694819708, 0.0032836034111597807, 0.001004427713221832, 0.007062725583946889, 0.008506663928651577, 0.008294651308190178, 0.002750521023325344, 0.001804201203860297, 0.000633264466676627, 0.0012533411978506827, 0.00043915949627331774, 0.01273144489617704, 0.002772804316153051, 0.0006002560139632657, 0.0008243369091601926, 0.001600288018466679, 0.012971387980585145, 0.001723573892829313, 0.0002504705606879801, 0.0012810836757888057, 0.000760482100269603, 0.0005503677100623194]}],                        {\"coloraxis\": {\"colorbar\": {\"title\": {\"text\": \"Streams\"}}, \"colorscale\": [[0.0, \"rgb(165,0,38)\"], [0.1, \"rgb(215,48,39)\"], [0.2, \"rgb(244,109,67)\"], [0.3, \"rgb(253,174,97)\"], [0.4, \"rgb(254,224,139)\"], [0.5, \"rgb(255,255,191)\"], [0.6, \"rgb(217,239,139)\"], [0.7, \"rgb(166,217,106)\"], [0.8, \"rgb(102,189,99)\"], [0.9, \"rgb(26,152,80)\"], [1.0, \"rgb(0,104,55)\"]]}, \"geo\": {\"center\": {}, \"domain\": {\"x\": [0.0, 1.0], \"y\": [0.0, 1.0]}}, \"legend\": {\"tracegroupgap\": 0}, \"margin\": {\"t\": 60}, \"template\": {\"data\": {\"bar\": [{\"error_x\": {\"color\": \"#2a3f5f\"}, \"error_y\": {\"color\": \"#2a3f5f\"}, \"marker\": {\"line\": {\"color\": \"#E5ECF6\", \"width\": 0.5}}, \"type\": \"bar\"}], \"barpolar\": [{\"marker\": {\"line\": {\"color\": \"#E5ECF6\", \"width\": 0.5}}, \"type\": \"barpolar\"}], \"carpet\": [{\"aaxis\": {\"endlinecolor\": \"#2a3f5f\", \"gridcolor\": \"white\", \"linecolor\": \"white\", \"minorgridcolor\": \"white\", \"startlinecolor\": \"#2a3f5f\"}, \"baxis\": {\"endlinecolor\": \"#2a3f5f\", \"gridcolor\": \"white\", \"linecolor\": \"white\", \"minorgridcolor\": \"white\", \"startlinecolor\": \"#2a3f5f\"}, \"type\": \"carpet\"}], \"choropleth\": [{\"colorbar\": {\"outlinewidth\": 0, \"ticks\": \"\"}, \"type\": \"choropleth\"}], \"contour\": [{\"colorbar\": {\"outlinewidth\": 0, \"ticks\": \"\"}, \"colorscale\": [[0.0, \"#0d0887\"], [0.1111111111111111, \"#46039f\"], [0.2222222222222222, \"#7201a8\"], [0.3333333333333333, \"#9c179e\"], [0.4444444444444444, \"#bd3786\"], [0.5555555555555556, \"#d8576b\"], [0.6666666666666666, \"#ed7953\"], [0.7777777777777778, \"#fb9f3a\"], [0.8888888888888888, \"#fdca26\"], [1.0, \"#f0f921\"]], \"type\": \"contour\"}], \"contourcarpet\": [{\"colorbar\": {\"outlinewidth\": 0, \"ticks\": \"\"}, \"type\": \"contourcarpet\"}], \"heatmap\": [{\"colorbar\": {\"outlinewidth\": 0, \"ticks\": \"\"}, \"colorscale\": [[0.0, \"#0d0887\"], [0.1111111111111111, \"#46039f\"], [0.2222222222222222, \"#7201a8\"], [0.3333333333333333, \"#9c179e\"], [0.4444444444444444, \"#bd3786\"], [0.5555555555555556, \"#d8576b\"], [0.6666666666666666, \"#ed7953\"], [0.7777777777777778, \"#fb9f3a\"], [0.8888888888888888, \"#fdca26\"], [1.0, \"#f0f921\"]], \"type\": \"heatmap\"}], \"heatmapgl\": [{\"colorbar\": {\"outlinewidth\": 0, \"ticks\": \"\"}, \"colorscale\": [[0.0, \"#0d0887\"], [0.1111111111111111, \"#46039f\"], [0.2222222222222222, \"#7201a8\"], [0.3333333333333333, \"#9c179e\"], [0.4444444444444444, \"#bd3786\"], [0.5555555555555556, \"#d8576b\"], [0.6666666666666666, \"#ed7953\"], [0.7777777777777778, \"#fb9f3a\"], [0.8888888888888888, \"#fdca26\"], [1.0, \"#f0f921\"]], \"type\": \"heatmapgl\"}], \"histogram\": [{\"marker\": {\"colorbar\": {\"outlinewidth\": 0, \"ticks\": \"\"}}, \"type\": \"histogram\"}], \"histogram2d\": [{\"colorbar\": {\"outlinewidth\": 0, \"ticks\": \"\"}, \"colorscale\": [[0.0, \"#0d0887\"], [0.1111111111111111, \"#46039f\"], [0.2222222222222222, \"#7201a8\"], [0.3333333333333333, \"#9c179e\"], [0.4444444444444444, \"#bd3786\"], [0.5555555555555556, \"#d8576b\"], [0.6666666666666666, \"#ed7953\"], [0.7777777777777778, \"#fb9f3a\"], [0.8888888888888888, \"#fdca26\"], [1.0, \"#f0f921\"]], \"type\": \"histogram2d\"}], \"histogram2dcontour\": [{\"colorbar\": {\"outlinewidth\": 0, \"ticks\": \"\"}, \"colorscale\": [[0.0, \"#0d0887\"], [0.1111111111111111, \"#46039f\"], [0.2222222222222222, \"#7201a8\"], [0.3333333333333333, \"#9c179e\"], [0.4444444444444444, \"#bd3786\"], [0.5555555555555556, \"#d8576b\"], [0.6666666666666666, \"#ed7953\"], [0.7777777777777778, \"#fb9f3a\"], [0.8888888888888888, \"#fdca26\"], [1.0, \"#f0f921\"]], \"type\": \"histogram2dcontour\"}], \"mesh3d\": [{\"colorbar\": {\"outlinewidth\": 0, \"ticks\": \"\"}, \"type\": \"mesh3d\"}], \"parcoords\": [{\"line\": {\"colorbar\": {\"outlinewidth\": 0, \"ticks\": \"\"}}, \"type\": \"parcoords\"}], \"pie\": [{\"automargin\": true, \"type\": \"pie\"}], \"scatter\": [{\"marker\": {\"colorbar\": {\"outlinewidth\": 0, \"ticks\": \"\"}}, \"type\": \"scatter\"}], \"scatter3d\": [{\"line\": {\"colorbar\": {\"outlinewidth\": 0, \"ticks\": \"\"}}, \"marker\": {\"colorbar\": {\"outlinewidth\": 0, \"ticks\": \"\"}}, \"type\": \"scatter3d\"}], \"scattercarpet\": [{\"marker\": {\"colorbar\": {\"outlinewidth\": 0, \"ticks\": \"\"}}, \"type\": \"scattercarpet\"}], \"scattergeo\": [{\"marker\": {\"colorbar\": {\"outlinewidth\": 0, \"ticks\": \"\"}}, \"type\": \"scattergeo\"}], \"scattergl\": [{\"marker\": {\"colorbar\": {\"outlinewidth\": 0, \"ticks\": \"\"}}, \"type\": \"scattergl\"}], \"scattermapbox\": [{\"marker\": {\"colorbar\": {\"outlinewidth\": 0, \"ticks\": \"\"}}, \"type\": \"scattermapbox\"}], \"scatterpolar\": [{\"marker\": {\"colorbar\": {\"outlinewidth\": 0, \"ticks\": \"\"}}, \"type\": \"scatterpolar\"}], \"scatterpolargl\": [{\"marker\": {\"colorbar\": {\"outlinewidth\": 0, \"ticks\": \"\"}}, \"type\": \"scatterpolargl\"}], \"scatterternary\": [{\"marker\": {\"colorbar\": {\"outlinewidth\": 0, \"ticks\": \"\"}}, \"type\": \"scatterternary\"}], \"surface\": [{\"colorbar\": {\"outlinewidth\": 0, \"ticks\": \"\"}, \"colorscale\": [[0.0, \"#0d0887\"], [0.1111111111111111, \"#46039f\"], [0.2222222222222222, \"#7201a8\"], [0.3333333333333333, \"#9c179e\"], [0.4444444444444444, \"#bd3786\"], [0.5555555555555556, \"#d8576b\"], [0.6666666666666666, \"#ed7953\"], [0.7777777777777778, \"#fb9f3a\"], [0.8888888888888888, \"#fdca26\"], [1.0, \"#f0f921\"]], \"type\": \"surface\"}], \"table\": [{\"cells\": {\"fill\": {\"color\": \"#EBF0F8\"}, \"line\": {\"color\": \"white\"}}, \"header\": {\"fill\": {\"color\": \"#C8D4E3\"}, \"line\": {\"color\": \"white\"}}, \"type\": \"table\"}]}, \"layout\": {\"annotationdefaults\": {\"arrowcolor\": \"#2a3f5f\", \"arrowhead\": 0, \"arrowwidth\": 1}, \"autotypenumbers\": \"strict\", \"coloraxis\": {\"colorbar\": {\"outlinewidth\": 0, \"ticks\": \"\"}}, \"colorscale\": {\"diverging\": [[0, \"#8e0152\"], [0.1, \"#c51b7d\"], [0.2, \"#de77ae\"], [0.3, \"#f1b6da\"], [0.4, \"#fde0ef\"], [0.5, \"#f7f7f7\"], [0.6, \"#e6f5d0\"], [0.7, \"#b8e186\"], [0.8, \"#7fbc41\"], [0.9, \"#4d9221\"], [1, \"#276419\"]], \"sequential\": [[0.0, \"#0d0887\"], [0.1111111111111111, \"#46039f\"], [0.2222222222222222, \"#7201a8\"], [0.3333333333333333, \"#9c179e\"], [0.4444444444444444, \"#bd3786\"], [0.5555555555555556, \"#d8576b\"], [0.6666666666666666, \"#ed7953\"], [0.7777777777777778, \"#fb9f3a\"], [0.8888888888888888, \"#fdca26\"], [1.0, \"#f0f921\"]], \"sequentialminus\": [[0.0, \"#0d0887\"], [0.1111111111111111, \"#46039f\"], [0.2222222222222222, \"#7201a8\"], [0.3333333333333333, \"#9c179e\"], [0.4444444444444444, \"#bd3786\"], [0.5555555555555556, \"#d8576b\"], [0.6666666666666666, \"#ed7953\"], [0.7777777777777778, \"#fb9f3a\"], [0.8888888888888888, \"#fdca26\"], [1.0, \"#f0f921\"]]}, \"colorway\": [\"#636efa\", \"#EF553B\", \"#00cc96\", \"#ab63fa\", \"#FFA15A\", \"#19d3f3\", \"#FF6692\", \"#B6E880\", \"#FF97FF\", \"#FECB52\"], \"font\": {\"color\": \"#2a3f5f\"}, \"geo\": {\"bgcolor\": \"white\", \"lakecolor\": \"white\", \"landcolor\": \"#E5ECF6\", \"showlakes\": true, \"showland\": true, \"subunitcolor\": \"white\"}, \"hoverlabel\": {\"align\": \"left\"}, \"hovermode\": \"closest\", \"mapbox\": {\"style\": \"light\"}, \"paper_bgcolor\": \"white\", \"plot_bgcolor\": \"#E5ECF6\", \"polar\": {\"angularaxis\": {\"gridcolor\": \"white\", \"linecolor\": \"white\", \"ticks\": \"\"}, \"bgcolor\": \"#E5ECF6\", \"radialaxis\": {\"gridcolor\": \"white\", \"linecolor\": \"white\", \"ticks\": \"\"}}, \"scene\": {\"xaxis\": {\"backgroundcolor\": \"#E5ECF6\", \"gridcolor\": \"white\", \"gridwidth\": 2, \"linecolor\": \"white\", \"showbackground\": true, \"ticks\": \"\", \"zerolinecolor\": \"white\"}, \"yaxis\": {\"backgroundcolor\": \"#E5ECF6\", \"gridcolor\": \"white\", \"gridwidth\": 2, \"linecolor\": \"white\", \"showbackground\": true, \"ticks\": \"\", \"zerolinecolor\": \"white\"}, \"zaxis\": {\"backgroundcolor\": \"#E5ECF6\", \"gridcolor\": \"white\", \"gridwidth\": 2, \"linecolor\": \"white\", \"showbackground\": true, \"ticks\": \"\", \"zerolinecolor\": \"white\"}}, \"shapedefaults\": {\"line\": {\"color\": \"#2a3f5f\"}}, \"ternary\": {\"aaxis\": {\"gridcolor\": \"white\", \"linecolor\": \"white\", \"ticks\": \"\"}, \"baxis\": {\"gridcolor\": \"white\", \"linecolor\": \"white\", \"ticks\": \"\"}, \"bgcolor\": \"#E5ECF6\", \"caxis\": {\"gridcolor\": \"white\", \"linecolor\": \"white\", \"ticks\": \"\"}}, \"title\": {\"x\": 0.05}, \"xaxis\": {\"automargin\": true, \"gridcolor\": \"white\", \"linecolor\": \"white\", \"ticks\": \"\", \"title\": {\"standoff\": 15}, \"zerolinecolor\": \"white\", \"zerolinewidth\": 2}, \"yaxis\": {\"automargin\": true, \"gridcolor\": \"white\", \"linecolor\": \"white\", \"ticks\": \"\", \"title\": {\"standoff\": 15}, \"zerolinecolor\": \"white\", \"zerolinewidth\": 2}}}},                        {\"responsive\": true}                    ).then(function(){\n",
       "                            \n",
       "var gd = document.getElementById('5b4ff615-9c66-4ae3-87f3-827b775db518');\n",
       "var x = new MutationObserver(function (mutations, observer) {{\n",
       "        var display = window.getComputedStyle(gd).display;\n",
       "        if (!display || display === 'none') {{\n",
       "            console.log([gd, 'removed!']);\n",
       "            Plotly.purge(gd);\n",
       "            observer.disconnect();\n",
       "        }}\n",
       "}});\n",
       "\n",
       "// Listen for the removal of the full notebook cells\n",
       "var notebookContainer = gd.closest('#notebook-container');\n",
       "if (notebookContainer) {{\n",
       "    x.observe(notebookContainer, {childList: true});\n",
       "}}\n",
       "\n",
       "// Listen for the clearing of the current output cell\n",
       "var outputEl = gd.closest('.output');\n",
       "if (outputEl) {{\n",
       "    x.observe(outputEl, {childList: true});\n",
       "}}\n",
       "\n",
       "                        })                };                });            </script>        </div>"
      ]
     },
     "metadata": {},
     "output_type": "display_data"
    }
   ],
   "source": [
    "#Plotting map\n",
    "fig = px.choropleth(ranking_cluster_nousa, locations=\"country code\",\n",
    "                    color=\"Streams\", # lifeExp is a column of gapminder\n",
    "                    hover_name=\"country name\", # column to add to hover information\n",
    "                    color_continuous_scale=px.colors.diverging.RdYlGn)\n",
    "#                    color_continuous_scale=px.colors.sequential.Tealgrn)\n",
    "fig.show()"
   ]
  },
  {
   "cell_type": "code",
   "execution_count": 211,
   "metadata": {},
   "outputs": [
    {
     "data": {
      "text/html": [
       "<div>\n",
       "<style scoped>\n",
       "    .dataframe tbody tr th:only-of-type {\n",
       "        vertical-align: middle;\n",
       "    }\n",
       "\n",
       "    .dataframe tbody tr th {\n",
       "        vertical-align: top;\n",
       "    }\n",
       "\n",
       "    .dataframe thead th {\n",
       "        text-align: right;\n",
       "    }\n",
       "</style>\n",
       "<table border=\"1\" class=\"dataframe\">\n",
       "  <thead>\n",
       "    <tr style=\"text-align: right;\">\n",
       "      <th></th>\n",
       "      <th>k_means</th>\n",
       "      <th>code</th>\n",
       "      <th>Streams</th>\n",
       "      <th>country code</th>\n",
       "      <th>country name</th>\n",
       "    </tr>\n",
       "  </thead>\n",
       "  <tbody>\n",
       "    <tr>\n",
       "      <th>65</th>\n",
       "      <td>0</td>\n",
       "      <td>us</td>\n",
       "      <td>0.121710</td>\n",
       "      <td>USA</td>\n",
       "      <td>United States</td>\n",
       "    </tr>\n",
       "    <tr>\n",
       "      <th>14</th>\n",
       "      <td>0</td>\n",
       "      <td>de</td>\n",
       "      <td>0.047126</td>\n",
       "      <td>DEU</td>\n",
       "      <td>Germany</td>\n",
       "    </tr>\n",
       "    <tr>\n",
       "      <th>7</th>\n",
       "      <td>0</td>\n",
       "      <td>br</td>\n",
       "      <td>0.043494</td>\n",
       "      <td>BRA</td>\n",
       "      <td>Brazil</td>\n",
       "    </tr>\n",
       "    <tr>\n",
       "      <th>42</th>\n",
       "      <td>0</td>\n",
       "      <td>mx</td>\n",
       "      <td>0.037186</td>\n",
       "      <td>MEX</td>\n",
       "      <td>Mexico</td>\n",
       "    </tr>\n",
       "    <tr>\n",
       "      <th>23</th>\n",
       "      <td>0</td>\n",
       "      <td>gb</td>\n",
       "      <td>0.032112</td>\n",
       "      <td>GBR</td>\n",
       "      <td>United Kingdom</td>\n",
       "    </tr>\n",
       "    <tr>\n",
       "      <th>22</th>\n",
       "      <td>0</td>\n",
       "      <td>fr</td>\n",
       "      <td>0.028176</td>\n",
       "      <td>FRA</td>\n",
       "      <td>France</td>\n",
       "    </tr>\n",
       "    <tr>\n",
       "      <th>20</th>\n",
       "      <td>0</td>\n",
       "      <td>es</td>\n",
       "      <td>0.025789</td>\n",
       "      <td>ESP</td>\n",
       "      <td>Spain</td>\n",
       "    </tr>\n",
       "    <tr>\n",
       "      <th>35</th>\n",
       "      <td>0</td>\n",
       "      <td>it</td>\n",
       "      <td>0.025445</td>\n",
       "      <td>ITA</td>\n",
       "      <td>Italy</td>\n",
       "    </tr>\n",
       "    <tr>\n",
       "      <th>45</th>\n",
       "      <td>0</td>\n",
       "      <td>nl</td>\n",
       "      <td>0.018428</td>\n",
       "      <td>NLD</td>\n",
       "      <td>Netherlands</td>\n",
       "    </tr>\n",
       "    <tr>\n",
       "      <th>1</th>\n",
       "      <td>0</td>\n",
       "      <td>ar</td>\n",
       "      <td>0.017664</td>\n",
       "      <td>ARG</td>\n",
       "      <td>Argentina</td>\n",
       "    </tr>\n",
       "    <tr>\n",
       "      <th>134</th>\n",
       "      <td>1</td>\n",
       "      <td>us</td>\n",
       "      <td>0.132861</td>\n",
       "      <td>USA</td>\n",
       "      <td>United States</td>\n",
       "    </tr>\n",
       "    <tr>\n",
       "      <th>119</th>\n",
       "      <td>1</td>\n",
       "      <td>ph</td>\n",
       "      <td>0.049064</td>\n",
       "      <td>PHL</td>\n",
       "      <td>Philippines</td>\n",
       "    </tr>\n",
       "    <tr>\n",
       "      <th>99</th>\n",
       "      <td>1</td>\n",
       "      <td>id</td>\n",
       "      <td>0.040290</td>\n",
       "      <td>IDN</td>\n",
       "      <td>Indonesia</td>\n",
       "    </tr>\n",
       "    <tr>\n",
       "      <th>92</th>\n",
       "      <td>1</td>\n",
       "      <td>gb</td>\n",
       "      <td>0.031203</td>\n",
       "      <td>GBR</td>\n",
       "      <td>United Kingdom</td>\n",
       "    </tr>\n",
       "    <tr>\n",
       "      <th>76</th>\n",
       "      <td>1</td>\n",
       "      <td>br</td>\n",
       "      <td>0.031193</td>\n",
       "      <td>BRA</td>\n",
       "      <td>Brazil</td>\n",
       "    </tr>\n",
       "    <tr>\n",
       "      <th>111</th>\n",
       "      <td>1</td>\n",
       "      <td>mx</td>\n",
       "      <td>0.027658</td>\n",
       "      <td>MEX</td>\n",
       "      <td>Mexico</td>\n",
       "    </tr>\n",
       "    <tr>\n",
       "      <th>72</th>\n",
       "      <td>1</td>\n",
       "      <td>au</td>\n",
       "      <td>0.021814</td>\n",
       "      <td>AUS</td>\n",
       "      <td>Australia</td>\n",
       "    </tr>\n",
       "    <tr>\n",
       "      <th>77</th>\n",
       "      <td>1</td>\n",
       "      <td>ca</td>\n",
       "      <td>0.018114</td>\n",
       "      <td>CAN</td>\n",
       "      <td>Canada</td>\n",
       "    </tr>\n",
       "    <tr>\n",
       "      <th>83</th>\n",
       "      <td>1</td>\n",
       "      <td>de</td>\n",
       "      <td>0.017237</td>\n",
       "      <td>DEU</td>\n",
       "      <td>Germany</td>\n",
       "    </tr>\n",
       "    <tr>\n",
       "      <th>126</th>\n",
       "      <td>1</td>\n",
       "      <td>se</td>\n",
       "      <td>0.016988</td>\n",
       "      <td>SWE</td>\n",
       "      <td>Sweden</td>\n",
       "    </tr>\n",
       "    <tr>\n",
       "      <th>203</th>\n",
       "      <td>2</td>\n",
       "      <td>us</td>\n",
       "      <td>0.130566</td>\n",
       "      <td>USA</td>\n",
       "      <td>United States</td>\n",
       "    </tr>\n",
       "    <tr>\n",
       "      <th>145</th>\n",
       "      <td>2</td>\n",
       "      <td>br</td>\n",
       "      <td>0.052980</td>\n",
       "      <td>BRA</td>\n",
       "      <td>Brazil</td>\n",
       "    </tr>\n",
       "    <tr>\n",
       "      <th>180</th>\n",
       "      <td>2</td>\n",
       "      <td>mx</td>\n",
       "      <td>0.041586</td>\n",
       "      <td>MEX</td>\n",
       "      <td>Mexico</td>\n",
       "    </tr>\n",
       "    <tr>\n",
       "      <th>161</th>\n",
       "      <td>2</td>\n",
       "      <td>gb</td>\n",
       "      <td>0.033003</td>\n",
       "      <td>GBR</td>\n",
       "      <td>United Kingdom</td>\n",
       "    </tr>\n",
       "    <tr>\n",
       "      <th>152</th>\n",
       "      <td>2</td>\n",
       "      <td>de</td>\n",
       "      <td>0.031979</td>\n",
       "      <td>DEU</td>\n",
       "      <td>Germany</td>\n",
       "    </tr>\n",
       "    <tr>\n",
       "      <th>158</th>\n",
       "      <td>2</td>\n",
       "      <td>es</td>\n",
       "      <td>0.025693</td>\n",
       "      <td>ESP</td>\n",
       "      <td>Spain</td>\n",
       "    </tr>\n",
       "    <tr>\n",
       "      <th>173</th>\n",
       "      <td>2</td>\n",
       "      <td>it</td>\n",
       "      <td>0.022774</td>\n",
       "      <td>ITA</td>\n",
       "      <td>Italy</td>\n",
       "    </tr>\n",
       "    <tr>\n",
       "      <th>141</th>\n",
       "      <td>2</td>\n",
       "      <td>au</td>\n",
       "      <td>0.018183</td>\n",
       "      <td>AUS</td>\n",
       "      <td>Australia</td>\n",
       "    </tr>\n",
       "    <tr>\n",
       "      <th>139</th>\n",
       "      <td>2</td>\n",
       "      <td>ar</td>\n",
       "      <td>0.017633</td>\n",
       "      <td>ARG</td>\n",
       "      <td>Argentina</td>\n",
       "    </tr>\n",
       "    <tr>\n",
       "      <th>146</th>\n",
       "      <td>2</td>\n",
       "      <td>ca</td>\n",
       "      <td>0.017570</td>\n",
       "      <td>CAN</td>\n",
       "      <td>Canada</td>\n",
       "    </tr>\n",
       "    <tr>\n",
       "      <th>272</th>\n",
       "      <td>3</td>\n",
       "      <td>us</td>\n",
       "      <td>0.120465</td>\n",
       "      <td>USA</td>\n",
       "      <td>United States</td>\n",
       "    </tr>\n",
       "    <tr>\n",
       "      <th>269</th>\n",
       "      <td>3</td>\n",
       "      <td>tr</td>\n",
       "      <td>0.075272</td>\n",
       "      <td>TUR</td>\n",
       "      <td>Turkey</td>\n",
       "    </tr>\n",
       "    <tr>\n",
       "      <th>221</th>\n",
       "      <td>3</td>\n",
       "      <td>de</td>\n",
       "      <td>0.060870</td>\n",
       "      <td>DEU</td>\n",
       "      <td>Germany</td>\n",
       "    </tr>\n",
       "    <tr>\n",
       "      <th>230</th>\n",
       "      <td>3</td>\n",
       "      <td>gb</td>\n",
       "      <td>0.035563</td>\n",
       "      <td>GBR</td>\n",
       "      <td>United Kingdom</td>\n",
       "    </tr>\n",
       "    <tr>\n",
       "      <th>237</th>\n",
       "      <td>3</td>\n",
       "      <td>id</td>\n",
       "      <td>0.033357</td>\n",
       "      <td>IDN</td>\n",
       "      <td>Indonesia</td>\n",
       "    </tr>\n",
       "    <tr>\n",
       "      <th>249</th>\n",
       "      <td>3</td>\n",
       "      <td>mx</td>\n",
       "      <td>0.031890</td>\n",
       "      <td>MEX</td>\n",
       "      <td>Mexico</td>\n",
       "    </tr>\n",
       "    <tr>\n",
       "      <th>210</th>\n",
       "      <td>3</td>\n",
       "      <td>au</td>\n",
       "      <td>0.028428</td>\n",
       "      <td>AUS</td>\n",
       "      <td>Australia</td>\n",
       "    </tr>\n",
       "    <tr>\n",
       "      <th>214</th>\n",
       "      <td>3</td>\n",
       "      <td>br</td>\n",
       "      <td>0.027472</td>\n",
       "      <td>BRA</td>\n",
       "      <td>Brazil</td>\n",
       "    </tr>\n",
       "    <tr>\n",
       "      <th>229</th>\n",
       "      <td>3</td>\n",
       "      <td>fr</td>\n",
       "      <td>0.026339</td>\n",
       "      <td>FRA</td>\n",
       "      <td>France</td>\n",
       "    </tr>\n",
       "    <tr>\n",
       "      <th>215</th>\n",
       "      <td>3</td>\n",
       "      <td>ca</td>\n",
       "      <td>0.015416</td>\n",
       "      <td>CAN</td>\n",
       "      <td>Canada</td>\n",
       "    </tr>\n",
       "    <tr>\n",
       "      <th>341</th>\n",
       "      <td>4</td>\n",
       "      <td>us</td>\n",
       "      <td>0.127737</td>\n",
       "      <td>USA</td>\n",
       "      <td>United States</td>\n",
       "    </tr>\n",
       "    <tr>\n",
       "      <th>318</th>\n",
       "      <td>4</td>\n",
       "      <td>mx</td>\n",
       "      <td>0.072741</td>\n",
       "      <td>MEX</td>\n",
       "      <td>Mexico</td>\n",
       "    </tr>\n",
       "    <tr>\n",
       "      <th>283</th>\n",
       "      <td>4</td>\n",
       "      <td>br</td>\n",
       "      <td>0.040606</td>\n",
       "      <td>BRA</td>\n",
       "      <td>Brazil</td>\n",
       "    </tr>\n",
       "    <tr>\n",
       "      <th>299</th>\n",
       "      <td>4</td>\n",
       "      <td>gb</td>\n",
       "      <td>0.035773</td>\n",
       "      <td>GBR</td>\n",
       "      <td>United Kingdom</td>\n",
       "    </tr>\n",
       "    <tr>\n",
       "      <th>298</th>\n",
       "      <td>4</td>\n",
       "      <td>fr</td>\n",
       "      <td>0.029467</td>\n",
       "      <td>FRA</td>\n",
       "      <td>France</td>\n",
       "    </tr>\n",
       "    <tr>\n",
       "      <th>311</th>\n",
       "      <td>4</td>\n",
       "      <td>it</td>\n",
       "      <td>0.029261</td>\n",
       "      <td>ITA</td>\n",
       "      <td>Italy</td>\n",
       "    </tr>\n",
       "    <tr>\n",
       "      <th>306</th>\n",
       "      <td>4</td>\n",
       "      <td>id</td>\n",
       "      <td>0.026348</td>\n",
       "      <td>IDN</td>\n",
       "      <td>Indonesia</td>\n",
       "    </tr>\n",
       "    <tr>\n",
       "      <th>326</th>\n",
       "      <td>4</td>\n",
       "      <td>ph</td>\n",
       "      <td>0.025085</td>\n",
       "      <td>PHL</td>\n",
       "      <td>Philippines</td>\n",
       "    </tr>\n",
       "    <tr>\n",
       "      <th>290</th>\n",
       "      <td>4</td>\n",
       "      <td>de</td>\n",
       "      <td>0.022863</td>\n",
       "      <td>DEU</td>\n",
       "      <td>Germany</td>\n",
       "    </tr>\n",
       "    <tr>\n",
       "      <th>333</th>\n",
       "      <td>4</td>\n",
       "      <td>se</td>\n",
       "      <td>0.019487</td>\n",
       "      <td>SWE</td>\n",
       "      <td>Sweden</td>\n",
       "    </tr>\n",
       "  </tbody>\n",
       "</table>\n",
       "</div>"
      ],
      "text/plain": [
       "     k_means code   Streams country code    country name\n",
       "65         0   us  0.121710          USA   United States\n",
       "14         0   de  0.047126          DEU         Germany\n",
       "7          0   br  0.043494          BRA          Brazil\n",
       "42         0   mx  0.037186          MEX          Mexico\n",
       "23         0   gb  0.032112          GBR  United Kingdom\n",
       "22         0   fr  0.028176          FRA          France\n",
       "20         0   es  0.025789          ESP           Spain\n",
       "35         0   it  0.025445          ITA           Italy\n",
       "45         0   nl  0.018428          NLD     Netherlands\n",
       "1          0   ar  0.017664          ARG       Argentina\n",
       "134        1   us  0.132861          USA   United States\n",
       "119        1   ph  0.049064          PHL     Philippines\n",
       "99         1   id  0.040290          IDN       Indonesia\n",
       "92         1   gb  0.031203          GBR  United Kingdom\n",
       "76         1   br  0.031193          BRA          Brazil\n",
       "111        1   mx  0.027658          MEX          Mexico\n",
       "72         1   au  0.021814          AUS       Australia\n",
       "77         1   ca  0.018114          CAN          Canada\n",
       "83         1   de  0.017237          DEU         Germany\n",
       "126        1   se  0.016988          SWE          Sweden\n",
       "203        2   us  0.130566          USA   United States\n",
       "145        2   br  0.052980          BRA          Brazil\n",
       "180        2   mx  0.041586          MEX          Mexico\n",
       "161        2   gb  0.033003          GBR  United Kingdom\n",
       "152        2   de  0.031979          DEU         Germany\n",
       "158        2   es  0.025693          ESP           Spain\n",
       "173        2   it  0.022774          ITA           Italy\n",
       "141        2   au  0.018183          AUS       Australia\n",
       "139        2   ar  0.017633          ARG       Argentina\n",
       "146        2   ca  0.017570          CAN          Canada\n",
       "272        3   us  0.120465          USA   United States\n",
       "269        3   tr  0.075272          TUR          Turkey\n",
       "221        3   de  0.060870          DEU         Germany\n",
       "230        3   gb  0.035563          GBR  United Kingdom\n",
       "237        3   id  0.033357          IDN       Indonesia\n",
       "249        3   mx  0.031890          MEX          Mexico\n",
       "210        3   au  0.028428          AUS       Australia\n",
       "214        3   br  0.027472          BRA          Brazil\n",
       "229        3   fr  0.026339          FRA          France\n",
       "215        3   ca  0.015416          CAN          Canada\n",
       "341        4   us  0.127737          USA   United States\n",
       "318        4   mx  0.072741          MEX          Mexico\n",
       "283        4   br  0.040606          BRA          Brazil\n",
       "299        4   gb  0.035773          GBR  United Kingdom\n",
       "298        4   fr  0.029467          FRA          France\n",
       "311        4   it  0.029261          ITA           Italy\n",
       "306        4   id  0.026348          IDN       Indonesia\n",
       "326        4   ph  0.025085          PHL     Philippines\n",
       "290        4   de  0.022863          DEU         Germany\n",
       "333        4   se  0.019487          SWE          Sweden"
      ]
     },
     "execution_count": 211,
     "metadata": {},
     "output_type": "execute_result"
    }
   ],
   "source": [
    "#Merging top 10 countries of each cluster\n",
    "appended_data = []\n",
    "for x in range(opt_clusters):\n",
    "    ranking_cluster = cluster_country_cluster_pcts.loc[cluster_country_cluster_pcts['k_means'] == x]\n",
    "    list_cluster = ranking_cluster.sort_values(by=['Streams'], ascending=False).head(10)\n",
    "    # store DataFrame in list\n",
    "    appended_data.append(list_cluster)\n",
    "# see pd.concat documentation for more info\n",
    "appended_data = pd.concat(appended_data)\n",
    "appended_data"
   ]
  },
  {
   "cell_type": "code",
   "execution_count": 212,
   "metadata": {},
   "outputs": [
    {
     "data": {
      "text/html": [
       "<div>\n",
       "<style scoped>\n",
       "    .dataframe tbody tr th:only-of-type {\n",
       "        vertical-align: middle;\n",
       "    }\n",
       "\n",
       "    .dataframe tbody tr th {\n",
       "        vertical-align: top;\n",
       "    }\n",
       "\n",
       "    .dataframe thead tr th {\n",
       "        text-align: left;\n",
       "    }\n",
       "\n",
       "    .dataframe thead tr:last-of-type th {\n",
       "        text-align: right;\n",
       "    }\n",
       "</style>\n",
       "<table border=\"1\" class=\"dataframe\">\n",
       "  <thead>\n",
       "    <tr>\n",
       "      <th></th>\n",
       "      <th colspan=\"5\" halign=\"left\">Streams</th>\n",
       "    </tr>\n",
       "    <tr>\n",
       "      <th>k_means</th>\n",
       "      <th>0</th>\n",
       "      <th>1</th>\n",
       "      <th>2</th>\n",
       "      <th>3</th>\n",
       "      <th>4</th>\n",
       "    </tr>\n",
       "    <tr>\n",
       "      <th>country code</th>\n",
       "      <th></th>\n",
       "      <th></th>\n",
       "      <th></th>\n",
       "      <th></th>\n",
       "      <th></th>\n",
       "    </tr>\n",
       "  </thead>\n",
       "  <tbody>\n",
       "    <tr>\n",
       "      <th>ARG</th>\n",
       "      <td>0.017664</td>\n",
       "      <td>NaN</td>\n",
       "      <td>0.017633</td>\n",
       "      <td>NaN</td>\n",
       "      <td>NaN</td>\n",
       "    </tr>\n",
       "    <tr>\n",
       "      <th>AUS</th>\n",
       "      <td>NaN</td>\n",
       "      <td>0.021814</td>\n",
       "      <td>0.018183</td>\n",
       "      <td>0.028428</td>\n",
       "      <td>NaN</td>\n",
       "    </tr>\n",
       "    <tr>\n",
       "      <th>BRA</th>\n",
       "      <td>0.043494</td>\n",
       "      <td>0.031193</td>\n",
       "      <td>0.052980</td>\n",
       "      <td>0.027472</td>\n",
       "      <td>0.040606</td>\n",
       "    </tr>\n",
       "    <tr>\n",
       "      <th>CAN</th>\n",
       "      <td>NaN</td>\n",
       "      <td>0.018114</td>\n",
       "      <td>0.017570</td>\n",
       "      <td>0.015416</td>\n",
       "      <td>NaN</td>\n",
       "    </tr>\n",
       "    <tr>\n",
       "      <th>DEU</th>\n",
       "      <td>0.047126</td>\n",
       "      <td>0.017237</td>\n",
       "      <td>0.031979</td>\n",
       "      <td>0.060870</td>\n",
       "      <td>0.022863</td>\n",
       "    </tr>\n",
       "    <tr>\n",
       "      <th>ESP</th>\n",
       "      <td>0.025789</td>\n",
       "      <td>NaN</td>\n",
       "      <td>0.025693</td>\n",
       "      <td>NaN</td>\n",
       "      <td>NaN</td>\n",
       "    </tr>\n",
       "    <tr>\n",
       "      <th>FRA</th>\n",
       "      <td>0.028176</td>\n",
       "      <td>NaN</td>\n",
       "      <td>NaN</td>\n",
       "      <td>0.026339</td>\n",
       "      <td>0.029467</td>\n",
       "    </tr>\n",
       "    <tr>\n",
       "      <th>GBR</th>\n",
       "      <td>0.032112</td>\n",
       "      <td>0.031203</td>\n",
       "      <td>0.033003</td>\n",
       "      <td>0.035563</td>\n",
       "      <td>0.035773</td>\n",
       "    </tr>\n",
       "    <tr>\n",
       "      <th>IDN</th>\n",
       "      <td>NaN</td>\n",
       "      <td>0.040290</td>\n",
       "      <td>NaN</td>\n",
       "      <td>0.033357</td>\n",
       "      <td>0.026348</td>\n",
       "    </tr>\n",
       "    <tr>\n",
       "      <th>ITA</th>\n",
       "      <td>0.025445</td>\n",
       "      <td>NaN</td>\n",
       "      <td>0.022774</td>\n",
       "      <td>NaN</td>\n",
       "      <td>0.029261</td>\n",
       "    </tr>\n",
       "    <tr>\n",
       "      <th>MEX</th>\n",
       "      <td>0.037186</td>\n",
       "      <td>0.027658</td>\n",
       "      <td>0.041586</td>\n",
       "      <td>0.031890</td>\n",
       "      <td>0.072741</td>\n",
       "    </tr>\n",
       "    <tr>\n",
       "      <th>NLD</th>\n",
       "      <td>0.018428</td>\n",
       "      <td>NaN</td>\n",
       "      <td>NaN</td>\n",
       "      <td>NaN</td>\n",
       "      <td>NaN</td>\n",
       "    </tr>\n",
       "    <tr>\n",
       "      <th>PHL</th>\n",
       "      <td>NaN</td>\n",
       "      <td>0.049064</td>\n",
       "      <td>NaN</td>\n",
       "      <td>NaN</td>\n",
       "      <td>0.025085</td>\n",
       "    </tr>\n",
       "    <tr>\n",
       "      <th>SWE</th>\n",
       "      <td>NaN</td>\n",
       "      <td>0.016988</td>\n",
       "      <td>NaN</td>\n",
       "      <td>NaN</td>\n",
       "      <td>0.019487</td>\n",
       "    </tr>\n",
       "    <tr>\n",
       "      <th>TUR</th>\n",
       "      <td>NaN</td>\n",
       "      <td>NaN</td>\n",
       "      <td>NaN</td>\n",
       "      <td>0.075272</td>\n",
       "      <td>NaN</td>\n",
       "    </tr>\n",
       "    <tr>\n",
       "      <th>USA</th>\n",
       "      <td>0.121710</td>\n",
       "      <td>0.132861</td>\n",
       "      <td>0.130566</td>\n",
       "      <td>0.120465</td>\n",
       "      <td>0.127737</td>\n",
       "    </tr>\n",
       "  </tbody>\n",
       "</table>\n",
       "</div>"
      ],
      "text/plain": [
       "               Streams                                        \n",
       "k_means              0         1         2         3         4\n",
       "country code                                                  \n",
       "ARG           0.017664       NaN  0.017633       NaN       NaN\n",
       "AUS                NaN  0.021814  0.018183  0.028428       NaN\n",
       "BRA           0.043494  0.031193  0.052980  0.027472  0.040606\n",
       "CAN                NaN  0.018114  0.017570  0.015416       NaN\n",
       "DEU           0.047126  0.017237  0.031979  0.060870  0.022863\n",
       "ESP           0.025789       NaN  0.025693       NaN       NaN\n",
       "FRA           0.028176       NaN       NaN  0.026339  0.029467\n",
       "GBR           0.032112  0.031203  0.033003  0.035563  0.035773\n",
       "IDN                NaN  0.040290       NaN  0.033357  0.026348\n",
       "ITA           0.025445       NaN  0.022774       NaN  0.029261\n",
       "MEX           0.037186  0.027658  0.041586  0.031890  0.072741\n",
       "NLD           0.018428       NaN       NaN       NaN       NaN\n",
       "PHL                NaN  0.049064       NaN       NaN  0.025085\n",
       "SWE                NaN  0.016988       NaN       NaN  0.019487\n",
       "TUR                NaN       NaN       NaN  0.075272       NaN\n",
       "USA           0.121710  0.132861  0.130566  0.120465  0.127737"
      ]
     },
     "execution_count": 212,
     "metadata": {},
     "output_type": "execute_result"
    }
   ],
   "source": [
    "countries_matrix = appended_data.pivot_table(index=['country code'], columns=['k_means'])\n",
    "countries_matrix\n"
   ]
  },
  {
   "cell_type": "code",
   "execution_count": 213,
   "metadata": {},
   "outputs": [
    {
     "data": {
      "text/html": [
       "<div>\n",
       "<style scoped>\n",
       "    .dataframe tbody tr th:only-of-type {\n",
       "        vertical-align: middle;\n",
       "    }\n",
       "\n",
       "    .dataframe tbody tr th {\n",
       "        vertical-align: top;\n",
       "    }\n",
       "\n",
       "    .dataframe thead th {\n",
       "        text-align: right;\n",
       "    }\n",
       "</style>\n",
       "<table border=\"1\" class=\"dataframe\">\n",
       "  <thead>\n",
       "    <tr style=\"text-align: right;\">\n",
       "      <th>Index</th>\n",
       "      <th>Country</th>\n",
       "      <th>0</th>\n",
       "      <th>1</th>\n",
       "      <th>2</th>\n",
       "      <th>3</th>\n",
       "      <th>4</th>\n",
       "    </tr>\n",
       "  </thead>\n",
       "  <tbody>\n",
       "    <tr>\n",
       "      <th>0</th>\n",
       "      <td>ARG</td>\n",
       "      <td>0.018</td>\n",
       "      <td>NaN</td>\n",
       "      <td>0.018</td>\n",
       "      <td>NaN</td>\n",
       "      <td>NaN</td>\n",
       "    </tr>\n",
       "    <tr>\n",
       "      <th>1</th>\n",
       "      <td>AUS</td>\n",
       "      <td>NaN</td>\n",
       "      <td>0.022</td>\n",
       "      <td>0.018</td>\n",
       "      <td>0.028</td>\n",
       "      <td>NaN</td>\n",
       "    </tr>\n",
       "    <tr>\n",
       "      <th>2</th>\n",
       "      <td>BRA</td>\n",
       "      <td>0.043</td>\n",
       "      <td>0.031</td>\n",
       "      <td>0.053</td>\n",
       "      <td>0.027</td>\n",
       "      <td>0.041</td>\n",
       "    </tr>\n",
       "    <tr>\n",
       "      <th>3</th>\n",
       "      <td>CAN</td>\n",
       "      <td>NaN</td>\n",
       "      <td>0.018</td>\n",
       "      <td>0.018</td>\n",
       "      <td>0.015</td>\n",
       "      <td>NaN</td>\n",
       "    </tr>\n",
       "    <tr>\n",
       "      <th>4</th>\n",
       "      <td>DEU</td>\n",
       "      <td>0.047</td>\n",
       "      <td>0.017</td>\n",
       "      <td>0.032</td>\n",
       "      <td>0.061</td>\n",
       "      <td>0.023</td>\n",
       "    </tr>\n",
       "    <tr>\n",
       "      <th>5</th>\n",
       "      <td>ESP</td>\n",
       "      <td>0.026</td>\n",
       "      <td>NaN</td>\n",
       "      <td>0.026</td>\n",
       "      <td>NaN</td>\n",
       "      <td>NaN</td>\n",
       "    </tr>\n",
       "    <tr>\n",
       "      <th>6</th>\n",
       "      <td>FRA</td>\n",
       "      <td>0.028</td>\n",
       "      <td>NaN</td>\n",
       "      <td>NaN</td>\n",
       "      <td>0.026</td>\n",
       "      <td>0.029</td>\n",
       "    </tr>\n",
       "    <tr>\n",
       "      <th>7</th>\n",
       "      <td>GBR</td>\n",
       "      <td>0.032</td>\n",
       "      <td>0.031</td>\n",
       "      <td>0.033</td>\n",
       "      <td>0.036</td>\n",
       "      <td>0.036</td>\n",
       "    </tr>\n",
       "    <tr>\n",
       "      <th>8</th>\n",
       "      <td>IDN</td>\n",
       "      <td>NaN</td>\n",
       "      <td>0.040</td>\n",
       "      <td>NaN</td>\n",
       "      <td>0.033</td>\n",
       "      <td>0.026</td>\n",
       "    </tr>\n",
       "    <tr>\n",
       "      <th>9</th>\n",
       "      <td>ITA</td>\n",
       "      <td>0.025</td>\n",
       "      <td>NaN</td>\n",
       "      <td>0.023</td>\n",
       "      <td>NaN</td>\n",
       "      <td>0.029</td>\n",
       "    </tr>\n",
       "    <tr>\n",
       "      <th>10</th>\n",
       "      <td>MEX</td>\n",
       "      <td>0.037</td>\n",
       "      <td>0.028</td>\n",
       "      <td>0.042</td>\n",
       "      <td>0.032</td>\n",
       "      <td>0.073</td>\n",
       "    </tr>\n",
       "    <tr>\n",
       "      <th>11</th>\n",
       "      <td>NLD</td>\n",
       "      <td>0.018</td>\n",
       "      <td>NaN</td>\n",
       "      <td>NaN</td>\n",
       "      <td>NaN</td>\n",
       "      <td>NaN</td>\n",
       "    </tr>\n",
       "    <tr>\n",
       "      <th>12</th>\n",
       "      <td>PHL</td>\n",
       "      <td>NaN</td>\n",
       "      <td>0.049</td>\n",
       "      <td>NaN</td>\n",
       "      <td>NaN</td>\n",
       "      <td>0.025</td>\n",
       "    </tr>\n",
       "    <tr>\n",
       "      <th>13</th>\n",
       "      <td>SWE</td>\n",
       "      <td>NaN</td>\n",
       "      <td>0.017</td>\n",
       "      <td>NaN</td>\n",
       "      <td>NaN</td>\n",
       "      <td>0.019</td>\n",
       "    </tr>\n",
       "    <tr>\n",
       "      <th>14</th>\n",
       "      <td>TUR</td>\n",
       "      <td>NaN</td>\n",
       "      <td>NaN</td>\n",
       "      <td>NaN</td>\n",
       "      <td>0.075</td>\n",
       "      <td>NaN</td>\n",
       "    </tr>\n",
       "    <tr>\n",
       "      <th>15</th>\n",
       "      <td>USA</td>\n",
       "      <td>0.122</td>\n",
       "      <td>0.133</td>\n",
       "      <td>0.131</td>\n",
       "      <td>0.120</td>\n",
       "      <td>0.128</td>\n",
       "    </tr>\n",
       "  </tbody>\n",
       "</table>\n",
       "</div>"
      ],
      "text/plain": [
       "Index Country      0      1      2      3      4\n",
       "0         ARG  0.018    NaN  0.018    NaN    NaN\n",
       "1         AUS    NaN  0.022  0.018  0.028    NaN\n",
       "2         BRA  0.043  0.031  0.053  0.027  0.041\n",
       "3         CAN    NaN  0.018  0.018  0.015    NaN\n",
       "4         DEU  0.047  0.017  0.032  0.061  0.023\n",
       "5         ESP  0.026    NaN  0.026    NaN    NaN\n",
       "6         FRA  0.028    NaN    NaN  0.026  0.029\n",
       "7         GBR  0.032  0.031  0.033  0.036  0.036\n",
       "8         IDN    NaN  0.040    NaN  0.033  0.026\n",
       "9         ITA  0.025    NaN  0.023    NaN  0.029\n",
       "10        MEX  0.037  0.028  0.042  0.032  0.073\n",
       "11        NLD  0.018    NaN    NaN    NaN    NaN\n",
       "12        PHL    NaN  0.049    NaN    NaN  0.025\n",
       "13        SWE    NaN  0.017    NaN    NaN  0.019\n",
       "14        TUR    NaN    NaN    NaN  0.075    NaN\n",
       "15        USA  0.122  0.133  0.131  0.120  0.128"
      ]
     },
     "execution_count": 213,
     "metadata": {},
     "output_type": "execute_result"
    }
   ],
   "source": [
    "countries_all_clusters = countries_matrix.copy()\n",
    "countries_all_clusters.columns = countries_all_clusters.columns.droplevel(0)\n",
    "countries_all_clusters.reset_index(inplace = True)\n",
    "countries_all_clusters.columns.name = \"Index\"\n",
    "columns_names = countries_all_clusters.columns\n",
    "\n",
    "countries_all_clusters = countries_matrix.copy()\n",
    "countries_all_clusters.columns = countries_all_clusters.columns.droplevel(1)\n",
    "countries_all_clusters.reset_index(inplace = True)\n",
    "countries_all_clusters.columns = columns_names\n",
    "countries_all_clusters = countries_all_clusters.rename(columns = {'country code': 'Country'}, inplace = False)\n",
    "countries_all_clusters = countries_all_clusters.round(3)\n",
    "countries_all_clusters\n",
    "#countries_all_clusters.reset_index(inplace = True)"
   ]
  },
  {
   "cell_type": "code",
   "execution_count": 214,
   "metadata": {},
   "outputs": [
    {
     "data": {
      "text/html": [
       "<div>\n",
       "<style scoped>\n",
       "    .dataframe tbody tr th:only-of-type {\n",
       "        vertical-align: middle;\n",
       "    }\n",
       "\n",
       "    .dataframe tbody tr th {\n",
       "        vertical-align: top;\n",
       "    }\n",
       "\n",
       "    .dataframe thead th {\n",
       "        text-align: right;\n",
       "    }\n",
       "</style>\n",
       "<table border=\"1\" class=\"dataframe\">\n",
       "  <thead>\n",
       "    <tr style=\"text-align: right;\">\n",
       "      <th>Index</th>\n",
       "      <th>Country</th>\n",
       "      <th>0</th>\n",
       "      <th>1</th>\n",
       "      <th>2</th>\n",
       "      <th>3</th>\n",
       "      <th>4</th>\n",
       "    </tr>\n",
       "  </thead>\n",
       "  <tbody>\n",
       "    <tr>\n",
       "      <th>2</th>\n",
       "      <td>BRA</td>\n",
       "      <td>0.043</td>\n",
       "      <td>0.031</td>\n",
       "      <td>0.053</td>\n",
       "      <td>0.027</td>\n",
       "      <td>0.041</td>\n",
       "    </tr>\n",
       "    <tr>\n",
       "      <th>4</th>\n",
       "      <td>DEU</td>\n",
       "      <td>0.047</td>\n",
       "      <td>0.017</td>\n",
       "      <td>0.032</td>\n",
       "      <td>0.061</td>\n",
       "      <td>0.023</td>\n",
       "    </tr>\n",
       "    <tr>\n",
       "      <th>7</th>\n",
       "      <td>GBR</td>\n",
       "      <td>0.032</td>\n",
       "      <td>0.031</td>\n",
       "      <td>0.033</td>\n",
       "      <td>0.036</td>\n",
       "      <td>0.036</td>\n",
       "    </tr>\n",
       "    <tr>\n",
       "      <th>10</th>\n",
       "      <td>MEX</td>\n",
       "      <td>0.037</td>\n",
       "      <td>0.028</td>\n",
       "      <td>0.042</td>\n",
       "      <td>0.032</td>\n",
       "      <td>0.073</td>\n",
       "    </tr>\n",
       "    <tr>\n",
       "      <th>15</th>\n",
       "      <td>USA</td>\n",
       "      <td>0.122</td>\n",
       "      <td>0.133</td>\n",
       "      <td>0.131</td>\n",
       "      <td>0.120</td>\n",
       "      <td>0.128</td>\n",
       "    </tr>\n",
       "  </tbody>\n",
       "</table>\n",
       "</div>"
      ],
      "text/plain": [
       "Index Country      0      1      2      3      4\n",
       "2         BRA  0.043  0.031  0.053  0.027  0.041\n",
       "4         DEU  0.047  0.017  0.032  0.061  0.023\n",
       "7         GBR  0.032  0.031  0.033  0.036  0.036\n",
       "10        MEX  0.037  0.028  0.042  0.032  0.073\n",
       "15        USA  0.122  0.133  0.131  0.120  0.128"
      ]
     },
     "execution_count": 214,
     "metadata": {},
     "output_type": "execute_result"
    }
   ],
   "source": [
    "#Countries with presence in all clusters\n",
    "countries_all_clusters_nan = countries_all_clusters.dropna()\n",
    "countries_all_clusters_nan = countries_all_clusters_nan.round(3)\n",
    "countries_all_clusters_nan"
   ]
  },
  {
   "cell_type": "code",
   "execution_count": 215,
   "metadata": {},
   "outputs": [
    {
     "data": {
      "text/html": [
       "<div>\n",
       "<style scoped>\n",
       "    .dataframe tbody tr th:only-of-type {\n",
       "        vertical-align: middle;\n",
       "    }\n",
       "\n",
       "    .dataframe tbody tr th {\n",
       "        vertical-align: top;\n",
       "    }\n",
       "\n",
       "    .dataframe thead th {\n",
       "        text-align: right;\n",
       "    }\n",
       "</style>\n",
       "<table border=\"1\" class=\"dataframe\">\n",
       "  <thead>\n",
       "    <tr style=\"text-align: right;\">\n",
       "      <th></th>\n",
       "      <th>Country</th>\n",
       "      <th>Best Cluster</th>\n",
       "    </tr>\n",
       "  </thead>\n",
       "  <tbody>\n",
       "    <tr>\n",
       "      <th>0</th>\n",
       "      <td>ARG</td>\n",
       "      <td>0</td>\n",
       "    </tr>\n",
       "    <tr>\n",
       "      <th>5</th>\n",
       "      <td>ESP</td>\n",
       "      <td>0</td>\n",
       "    </tr>\n",
       "    <tr>\n",
       "      <th>11</th>\n",
       "      <td>NLD</td>\n",
       "      <td>0</td>\n",
       "    </tr>\n",
       "    <tr>\n",
       "      <th>3</th>\n",
       "      <td>CAN</td>\n",
       "      <td>1</td>\n",
       "    </tr>\n",
       "    <tr>\n",
       "      <th>8</th>\n",
       "      <td>IDN</td>\n",
       "      <td>1</td>\n",
       "    </tr>\n",
       "    <tr>\n",
       "      <th>12</th>\n",
       "      <td>PHL</td>\n",
       "      <td>1</td>\n",
       "    </tr>\n",
       "    <tr>\n",
       "      <th>15</th>\n",
       "      <td>USA</td>\n",
       "      <td>1</td>\n",
       "    </tr>\n",
       "    <tr>\n",
       "      <th>2</th>\n",
       "      <td>BRA</td>\n",
       "      <td>2</td>\n",
       "    </tr>\n",
       "    <tr>\n",
       "      <th>1</th>\n",
       "      <td>AUS</td>\n",
       "      <td>3</td>\n",
       "    </tr>\n",
       "    <tr>\n",
       "      <th>4</th>\n",
       "      <td>DEU</td>\n",
       "      <td>3</td>\n",
       "    </tr>\n",
       "    <tr>\n",
       "      <th>7</th>\n",
       "      <td>GBR</td>\n",
       "      <td>3</td>\n",
       "    </tr>\n",
       "    <tr>\n",
       "      <th>14</th>\n",
       "      <td>TUR</td>\n",
       "      <td>3</td>\n",
       "    </tr>\n",
       "    <tr>\n",
       "      <th>6</th>\n",
       "      <td>FRA</td>\n",
       "      <td>4</td>\n",
       "    </tr>\n",
       "    <tr>\n",
       "      <th>9</th>\n",
       "      <td>ITA</td>\n",
       "      <td>4</td>\n",
       "    </tr>\n",
       "    <tr>\n",
       "      <th>10</th>\n",
       "      <td>MEX</td>\n",
       "      <td>4</td>\n",
       "    </tr>\n",
       "    <tr>\n",
       "      <th>13</th>\n",
       "      <td>SWE</td>\n",
       "      <td>4</td>\n",
       "    </tr>\n",
       "  </tbody>\n",
       "</table>\n",
       "</div>"
      ],
      "text/plain": [
       "   Country Best Cluster\n",
       "0      ARG            0\n",
       "5      ESP            0\n",
       "11     NLD            0\n",
       "3      CAN            1\n",
       "8      IDN            1\n",
       "12     PHL            1\n",
       "15     USA            1\n",
       "2      BRA            2\n",
       "1      AUS            3\n",
       "4      DEU            3\n",
       "7      GBR            3\n",
       "14     TUR            3\n",
       "6      FRA            4\n",
       "9      ITA            4\n",
       "10     MEX            4\n",
       "13     SWE            4"
      ]
     },
     "execution_count": 215,
     "metadata": {},
     "output_type": "execute_result"
    }
   ],
   "source": [
    "countries_values = countries_all_clusters.set_index('Country')\n",
    "maxValueIndex = countries_values.idxmax(axis = 1)\n",
    "countries_best_cluster = pd.DataFrame(maxValueIndex)\n",
    "countries_best_cluster.reset_index(inplace = True)\n",
    "countries_best_cluster = countries_best_cluster.rename(columns = {0: 'Best Cluster'}, inplace = False)\n",
    "countries_best_cluster = countries_best_cluster.sort_values(by=['Best Cluster'], ascending=True)\n",
    "countries_best_cluster['Best Cluster']= countries_best_cluster['Best Cluster'].astype(str)\n",
    "countries_best_cluster"
   ]
  },
  {
   "cell_type": "code",
   "execution_count": 216,
   "metadata": {},
   "outputs": [
    {
     "data": {
      "application/vnd.plotly.v1+json": {
       "config": {
        "plotlyServerURL": "https://plot.ly"
       },
       "data": [
        {
         "colorscale": [
          [
           0,
           "#636efa"
          ],
          [
           1,
           "#636efa"
          ]
         ],
         "geo": "geo",
         "hovertemplate": "<b>%{hovertext}</b><br><br>Best Cluster=0<br>Country=%{location}<extra></extra>",
         "hovertext": [
          "ARG",
          "ESP",
          "NLD"
         ],
         "locations": [
          "ARG",
          "ESP",
          "NLD"
         ],
         "name": "0",
         "showlegend": true,
         "showscale": false,
         "type": "choropleth",
         "z": [
          1,
          1,
          1
         ]
        },
        {
         "colorscale": [
          [
           0,
           "#EF553B"
          ],
          [
           1,
           "#EF553B"
          ]
         ],
         "geo": "geo",
         "hovertemplate": "<b>%{hovertext}</b><br><br>Best Cluster=1<br>Country=%{location}<extra></extra>",
         "hovertext": [
          "CAN",
          "IDN",
          "PHL",
          "USA"
         ],
         "locations": [
          "CAN",
          "IDN",
          "PHL",
          "USA"
         ],
         "name": "1",
         "showlegend": true,
         "showscale": false,
         "type": "choropleth",
         "z": [
          1,
          1,
          1,
          1
         ]
        },
        {
         "colorscale": [
          [
           0,
           "#00cc96"
          ],
          [
           1,
           "#00cc96"
          ]
         ],
         "geo": "geo",
         "hovertemplate": "<b>%{hovertext}</b><br><br>Best Cluster=2<br>Country=%{location}<extra></extra>",
         "hovertext": [
          "BRA"
         ],
         "locations": [
          "BRA"
         ],
         "name": "2",
         "showlegend": true,
         "showscale": false,
         "type": "choropleth",
         "z": [
          1
         ]
        },
        {
         "colorscale": [
          [
           0,
           "#ab63fa"
          ],
          [
           1,
           "#ab63fa"
          ]
         ],
         "geo": "geo",
         "hovertemplate": "<b>%{hovertext}</b><br><br>Best Cluster=3<br>Country=%{location}<extra></extra>",
         "hovertext": [
          "AUS",
          "DEU",
          "GBR",
          "TUR"
         ],
         "locations": [
          "AUS",
          "DEU",
          "GBR",
          "TUR"
         ],
         "name": "3",
         "showlegend": true,
         "showscale": false,
         "type": "choropleth",
         "z": [
          1,
          1,
          1,
          1
         ]
        },
        {
         "colorscale": [
          [
           0,
           "#FFA15A"
          ],
          [
           1,
           "#FFA15A"
          ]
         ],
         "geo": "geo",
         "hovertemplate": "<b>%{hovertext}</b><br><br>Best Cluster=4<br>Country=%{location}<extra></extra>",
         "hovertext": [
          "FRA",
          "ITA",
          "MEX",
          "SWE"
         ],
         "locations": [
          "FRA",
          "ITA",
          "MEX",
          "SWE"
         ],
         "name": "4",
         "showlegend": true,
         "showscale": false,
         "type": "choropleth",
         "z": [
          1,
          1,
          1,
          1
         ]
        }
       ],
       "layout": {
        "geo": {
         "center": {},
         "domain": {
          "x": [
           0,
           1
          ],
          "y": [
           0,
           1
          ]
         }
        },
        "legend": {
         "title": {
          "text": "Best Cluster"
         },
         "tracegroupgap": 0
        },
        "template": {
         "data": {
          "bar": [
           {
            "error_x": {
             "color": "#2a3f5f"
            },
            "error_y": {
             "color": "#2a3f5f"
            },
            "marker": {
             "line": {
              "color": "#E5ECF6",
              "width": 0.5
             }
            },
            "type": "bar"
           }
          ],
          "barpolar": [
           {
            "marker": {
             "line": {
              "color": "#E5ECF6",
              "width": 0.5
             }
            },
            "type": "barpolar"
           }
          ],
          "carpet": [
           {
            "aaxis": {
             "endlinecolor": "#2a3f5f",
             "gridcolor": "white",
             "linecolor": "white",
             "minorgridcolor": "white",
             "startlinecolor": "#2a3f5f"
            },
            "baxis": {
             "endlinecolor": "#2a3f5f",
             "gridcolor": "white",
             "linecolor": "white",
             "minorgridcolor": "white",
             "startlinecolor": "#2a3f5f"
            },
            "type": "carpet"
           }
          ],
          "choropleth": [
           {
            "colorbar": {
             "outlinewidth": 0,
             "ticks": ""
            },
            "type": "choropleth"
           }
          ],
          "contour": [
           {
            "colorbar": {
             "outlinewidth": 0,
             "ticks": ""
            },
            "colorscale": [
             [
              0,
              "#0d0887"
             ],
             [
              0.1111111111111111,
              "#46039f"
             ],
             [
              0.2222222222222222,
              "#7201a8"
             ],
             [
              0.3333333333333333,
              "#9c179e"
             ],
             [
              0.4444444444444444,
              "#bd3786"
             ],
             [
              0.5555555555555556,
              "#d8576b"
             ],
             [
              0.6666666666666666,
              "#ed7953"
             ],
             [
              0.7777777777777778,
              "#fb9f3a"
             ],
             [
              0.8888888888888888,
              "#fdca26"
             ],
             [
              1,
              "#f0f921"
             ]
            ],
            "type": "contour"
           }
          ],
          "contourcarpet": [
           {
            "colorbar": {
             "outlinewidth": 0,
             "ticks": ""
            },
            "type": "contourcarpet"
           }
          ],
          "heatmap": [
           {
            "colorbar": {
             "outlinewidth": 0,
             "ticks": ""
            },
            "colorscale": [
             [
              0,
              "#0d0887"
             ],
             [
              0.1111111111111111,
              "#46039f"
             ],
             [
              0.2222222222222222,
              "#7201a8"
             ],
             [
              0.3333333333333333,
              "#9c179e"
             ],
             [
              0.4444444444444444,
              "#bd3786"
             ],
             [
              0.5555555555555556,
              "#d8576b"
             ],
             [
              0.6666666666666666,
              "#ed7953"
             ],
             [
              0.7777777777777778,
              "#fb9f3a"
             ],
             [
              0.8888888888888888,
              "#fdca26"
             ],
             [
              1,
              "#f0f921"
             ]
            ],
            "type": "heatmap"
           }
          ],
          "heatmapgl": [
           {
            "colorbar": {
             "outlinewidth": 0,
             "ticks": ""
            },
            "colorscale": [
             [
              0,
              "#0d0887"
             ],
             [
              0.1111111111111111,
              "#46039f"
             ],
             [
              0.2222222222222222,
              "#7201a8"
             ],
             [
              0.3333333333333333,
              "#9c179e"
             ],
             [
              0.4444444444444444,
              "#bd3786"
             ],
             [
              0.5555555555555556,
              "#d8576b"
             ],
             [
              0.6666666666666666,
              "#ed7953"
             ],
             [
              0.7777777777777778,
              "#fb9f3a"
             ],
             [
              0.8888888888888888,
              "#fdca26"
             ],
             [
              1,
              "#f0f921"
             ]
            ],
            "type": "heatmapgl"
           }
          ],
          "histogram": [
           {
            "marker": {
             "colorbar": {
              "outlinewidth": 0,
              "ticks": ""
             }
            },
            "type": "histogram"
           }
          ],
          "histogram2d": [
           {
            "colorbar": {
             "outlinewidth": 0,
             "ticks": ""
            },
            "colorscale": [
             [
              0,
              "#0d0887"
             ],
             [
              0.1111111111111111,
              "#46039f"
             ],
             [
              0.2222222222222222,
              "#7201a8"
             ],
             [
              0.3333333333333333,
              "#9c179e"
             ],
             [
              0.4444444444444444,
              "#bd3786"
             ],
             [
              0.5555555555555556,
              "#d8576b"
             ],
             [
              0.6666666666666666,
              "#ed7953"
             ],
             [
              0.7777777777777778,
              "#fb9f3a"
             ],
             [
              0.8888888888888888,
              "#fdca26"
             ],
             [
              1,
              "#f0f921"
             ]
            ],
            "type": "histogram2d"
           }
          ],
          "histogram2dcontour": [
           {
            "colorbar": {
             "outlinewidth": 0,
             "ticks": ""
            },
            "colorscale": [
             [
              0,
              "#0d0887"
             ],
             [
              0.1111111111111111,
              "#46039f"
             ],
             [
              0.2222222222222222,
              "#7201a8"
             ],
             [
              0.3333333333333333,
              "#9c179e"
             ],
             [
              0.4444444444444444,
              "#bd3786"
             ],
             [
              0.5555555555555556,
              "#d8576b"
             ],
             [
              0.6666666666666666,
              "#ed7953"
             ],
             [
              0.7777777777777778,
              "#fb9f3a"
             ],
             [
              0.8888888888888888,
              "#fdca26"
             ],
             [
              1,
              "#f0f921"
             ]
            ],
            "type": "histogram2dcontour"
           }
          ],
          "mesh3d": [
           {
            "colorbar": {
             "outlinewidth": 0,
             "ticks": ""
            },
            "type": "mesh3d"
           }
          ],
          "parcoords": [
           {
            "line": {
             "colorbar": {
              "outlinewidth": 0,
              "ticks": ""
             }
            },
            "type": "parcoords"
           }
          ],
          "pie": [
           {
            "automargin": true,
            "type": "pie"
           }
          ],
          "scatter": [
           {
            "marker": {
             "colorbar": {
              "outlinewidth": 0,
              "ticks": ""
             }
            },
            "type": "scatter"
           }
          ],
          "scatter3d": [
           {
            "line": {
             "colorbar": {
              "outlinewidth": 0,
              "ticks": ""
             }
            },
            "marker": {
             "colorbar": {
              "outlinewidth": 0,
              "ticks": ""
             }
            },
            "type": "scatter3d"
           }
          ],
          "scattercarpet": [
           {
            "marker": {
             "colorbar": {
              "outlinewidth": 0,
              "ticks": ""
             }
            },
            "type": "scattercarpet"
           }
          ],
          "scattergeo": [
           {
            "marker": {
             "colorbar": {
              "outlinewidth": 0,
              "ticks": ""
             }
            },
            "type": "scattergeo"
           }
          ],
          "scattergl": [
           {
            "marker": {
             "colorbar": {
              "outlinewidth": 0,
              "ticks": ""
             }
            },
            "type": "scattergl"
           }
          ],
          "scattermapbox": [
           {
            "marker": {
             "colorbar": {
              "outlinewidth": 0,
              "ticks": ""
             }
            },
            "type": "scattermapbox"
           }
          ],
          "scatterpolar": [
           {
            "marker": {
             "colorbar": {
              "outlinewidth": 0,
              "ticks": ""
             }
            },
            "type": "scatterpolar"
           }
          ],
          "scatterpolargl": [
           {
            "marker": {
             "colorbar": {
              "outlinewidth": 0,
              "ticks": ""
             }
            },
            "type": "scatterpolargl"
           }
          ],
          "scatterternary": [
           {
            "marker": {
             "colorbar": {
              "outlinewidth": 0,
              "ticks": ""
             }
            },
            "type": "scatterternary"
           }
          ],
          "surface": [
           {
            "colorbar": {
             "outlinewidth": 0,
             "ticks": ""
            },
            "colorscale": [
             [
              0,
              "#0d0887"
             ],
             [
              0.1111111111111111,
              "#46039f"
             ],
             [
              0.2222222222222222,
              "#7201a8"
             ],
             [
              0.3333333333333333,
              "#9c179e"
             ],
             [
              0.4444444444444444,
              "#bd3786"
             ],
             [
              0.5555555555555556,
              "#d8576b"
             ],
             [
              0.6666666666666666,
              "#ed7953"
             ],
             [
              0.7777777777777778,
              "#fb9f3a"
             ],
             [
              0.8888888888888888,
              "#fdca26"
             ],
             [
              1,
              "#f0f921"
             ]
            ],
            "type": "surface"
           }
          ],
          "table": [
           {
            "cells": {
             "fill": {
              "color": "#EBF0F8"
             },
             "line": {
              "color": "white"
             }
            },
            "header": {
             "fill": {
              "color": "#C8D4E3"
             },
             "line": {
              "color": "white"
             }
            },
            "type": "table"
           }
          ]
         },
         "layout": {
          "annotationdefaults": {
           "arrowcolor": "#2a3f5f",
           "arrowhead": 0,
           "arrowwidth": 1
          },
          "autotypenumbers": "strict",
          "coloraxis": {
           "colorbar": {
            "outlinewidth": 0,
            "ticks": ""
           }
          },
          "colorscale": {
           "diverging": [
            [
             0,
             "#8e0152"
            ],
            [
             0.1,
             "#c51b7d"
            ],
            [
             0.2,
             "#de77ae"
            ],
            [
             0.3,
             "#f1b6da"
            ],
            [
             0.4,
             "#fde0ef"
            ],
            [
             0.5,
             "#f7f7f7"
            ],
            [
             0.6,
             "#e6f5d0"
            ],
            [
             0.7,
             "#b8e186"
            ],
            [
             0.8,
             "#7fbc41"
            ],
            [
             0.9,
             "#4d9221"
            ],
            [
             1,
             "#276419"
            ]
           ],
           "sequential": [
            [
             0,
             "#0d0887"
            ],
            [
             0.1111111111111111,
             "#46039f"
            ],
            [
             0.2222222222222222,
             "#7201a8"
            ],
            [
             0.3333333333333333,
             "#9c179e"
            ],
            [
             0.4444444444444444,
             "#bd3786"
            ],
            [
             0.5555555555555556,
             "#d8576b"
            ],
            [
             0.6666666666666666,
             "#ed7953"
            ],
            [
             0.7777777777777778,
             "#fb9f3a"
            ],
            [
             0.8888888888888888,
             "#fdca26"
            ],
            [
             1,
             "#f0f921"
            ]
           ],
           "sequentialminus": [
            [
             0,
             "#0d0887"
            ],
            [
             0.1111111111111111,
             "#46039f"
            ],
            [
             0.2222222222222222,
             "#7201a8"
            ],
            [
             0.3333333333333333,
             "#9c179e"
            ],
            [
             0.4444444444444444,
             "#bd3786"
            ],
            [
             0.5555555555555556,
             "#d8576b"
            ],
            [
             0.6666666666666666,
             "#ed7953"
            ],
            [
             0.7777777777777778,
             "#fb9f3a"
            ],
            [
             0.8888888888888888,
             "#fdca26"
            ],
            [
             1,
             "#f0f921"
            ]
           ]
          },
          "colorway": [
           "#636efa",
           "#EF553B",
           "#00cc96",
           "#ab63fa",
           "#FFA15A",
           "#19d3f3",
           "#FF6692",
           "#B6E880",
           "#FF97FF",
           "#FECB52"
          ],
          "font": {
           "color": "#2a3f5f"
          },
          "geo": {
           "bgcolor": "white",
           "lakecolor": "white",
           "landcolor": "#E5ECF6",
           "showlakes": true,
           "showland": true,
           "subunitcolor": "white"
          },
          "hoverlabel": {
           "align": "left"
          },
          "hovermode": "closest",
          "mapbox": {
           "style": "light"
          },
          "paper_bgcolor": "white",
          "plot_bgcolor": "#E5ECF6",
          "polar": {
           "angularaxis": {
            "gridcolor": "white",
            "linecolor": "white",
            "ticks": ""
           },
           "bgcolor": "#E5ECF6",
           "radialaxis": {
            "gridcolor": "white",
            "linecolor": "white",
            "ticks": ""
           }
          },
          "scene": {
           "xaxis": {
            "backgroundcolor": "#E5ECF6",
            "gridcolor": "white",
            "gridwidth": 2,
            "linecolor": "white",
            "showbackground": true,
            "ticks": "",
            "zerolinecolor": "white"
           },
           "yaxis": {
            "backgroundcolor": "#E5ECF6",
            "gridcolor": "white",
            "gridwidth": 2,
            "linecolor": "white",
            "showbackground": true,
            "ticks": "",
            "zerolinecolor": "white"
           },
           "zaxis": {
            "backgroundcolor": "#E5ECF6",
            "gridcolor": "white",
            "gridwidth": 2,
            "linecolor": "white",
            "showbackground": true,
            "ticks": "",
            "zerolinecolor": "white"
           }
          },
          "shapedefaults": {
           "line": {
            "color": "#2a3f5f"
           }
          },
          "ternary": {
           "aaxis": {
            "gridcolor": "white",
            "linecolor": "white",
            "ticks": ""
           },
           "baxis": {
            "gridcolor": "white",
            "linecolor": "white",
            "ticks": ""
           },
           "bgcolor": "#E5ECF6",
           "caxis": {
            "gridcolor": "white",
            "linecolor": "white",
            "ticks": ""
           }
          },
          "title": {
           "x": 0.05
          },
          "xaxis": {
           "automargin": true,
           "gridcolor": "white",
           "linecolor": "white",
           "ticks": "",
           "title": {
            "standoff": 15
           },
           "zerolinecolor": "white",
           "zerolinewidth": 2
          },
          "yaxis": {
           "automargin": true,
           "gridcolor": "white",
           "linecolor": "white",
           "ticks": "",
           "title": {
            "standoff": 15
           },
           "zerolinecolor": "white",
           "zerolinewidth": 2
          }
         }
        },
        "title": {
         "text": "Cluster with the Highest Quantity of Streams Per Country"
        }
       }
      },
      "text/html": [
       "<div>                            <div id=\"2f7c6811-915f-481a-8158-81dbf33aac67\" class=\"plotly-graph-div\" style=\"height:525px; width:100%;\"></div>            <script type=\"text/javascript\">                require([\"plotly\"], function(Plotly) {                    window.PLOTLYENV=window.PLOTLYENV || {};                                    if (document.getElementById(\"2f7c6811-915f-481a-8158-81dbf33aac67\")) {                    Plotly.newPlot(                        \"2f7c6811-915f-481a-8158-81dbf33aac67\",                        [{\"colorscale\": [[0.0, \"#636efa\"], [1.0, \"#636efa\"]], \"geo\": \"geo\", \"hovertemplate\": \"<b>%{hovertext}</b><br><br>Best Cluster=0<br>Country=%{location}<extra></extra>\", \"hovertext\": [\"ARG\", \"ESP\", \"NLD\"], \"locations\": [\"ARG\", \"ESP\", \"NLD\"], \"name\": \"0\", \"showlegend\": true, \"showscale\": false, \"type\": \"choropleth\", \"z\": [1, 1, 1]}, {\"colorscale\": [[0.0, \"#EF553B\"], [1.0, \"#EF553B\"]], \"geo\": \"geo\", \"hovertemplate\": \"<b>%{hovertext}</b><br><br>Best Cluster=1<br>Country=%{location}<extra></extra>\", \"hovertext\": [\"CAN\", \"IDN\", \"PHL\", \"USA\"], \"locations\": [\"CAN\", \"IDN\", \"PHL\", \"USA\"], \"name\": \"1\", \"showlegend\": true, \"showscale\": false, \"type\": \"choropleth\", \"z\": [1, 1, 1, 1]}, {\"colorscale\": [[0.0, \"#00cc96\"], [1.0, \"#00cc96\"]], \"geo\": \"geo\", \"hovertemplate\": \"<b>%{hovertext}</b><br><br>Best Cluster=2<br>Country=%{location}<extra></extra>\", \"hovertext\": [\"BRA\"], \"locations\": [\"BRA\"], \"name\": \"2\", \"showlegend\": true, \"showscale\": false, \"type\": \"choropleth\", \"z\": [1]}, {\"colorscale\": [[0.0, \"#ab63fa\"], [1.0, \"#ab63fa\"]], \"geo\": \"geo\", \"hovertemplate\": \"<b>%{hovertext}</b><br><br>Best Cluster=3<br>Country=%{location}<extra></extra>\", \"hovertext\": [\"AUS\", \"DEU\", \"GBR\", \"TUR\"], \"locations\": [\"AUS\", \"DEU\", \"GBR\", \"TUR\"], \"name\": \"3\", \"showlegend\": true, \"showscale\": false, \"type\": \"choropleth\", \"z\": [1, 1, 1, 1]}, {\"colorscale\": [[0.0, \"#FFA15A\"], [1.0, \"#FFA15A\"]], \"geo\": \"geo\", \"hovertemplate\": \"<b>%{hovertext}</b><br><br>Best Cluster=4<br>Country=%{location}<extra></extra>\", \"hovertext\": [\"FRA\", \"ITA\", \"MEX\", \"SWE\"], \"locations\": [\"FRA\", \"ITA\", \"MEX\", \"SWE\"], \"name\": \"4\", \"showlegend\": true, \"showscale\": false, \"type\": \"choropleth\", \"z\": [1, 1, 1, 1]}],                        {\"geo\": {\"center\": {}, \"domain\": {\"x\": [0.0, 1.0], \"y\": [0.0, 1.0]}}, \"legend\": {\"title\": {\"text\": \"Best Cluster\"}, \"tracegroupgap\": 0}, \"template\": {\"data\": {\"bar\": [{\"error_x\": {\"color\": \"#2a3f5f\"}, \"error_y\": {\"color\": \"#2a3f5f\"}, \"marker\": {\"line\": {\"color\": \"#E5ECF6\", \"width\": 0.5}}, \"type\": \"bar\"}], \"barpolar\": [{\"marker\": {\"line\": {\"color\": \"#E5ECF6\", \"width\": 0.5}}, \"type\": \"barpolar\"}], \"carpet\": [{\"aaxis\": {\"endlinecolor\": \"#2a3f5f\", \"gridcolor\": \"white\", \"linecolor\": \"white\", \"minorgridcolor\": \"white\", \"startlinecolor\": \"#2a3f5f\"}, \"baxis\": {\"endlinecolor\": \"#2a3f5f\", \"gridcolor\": \"white\", \"linecolor\": \"white\", \"minorgridcolor\": \"white\", \"startlinecolor\": \"#2a3f5f\"}, \"type\": \"carpet\"}], \"choropleth\": [{\"colorbar\": {\"outlinewidth\": 0, \"ticks\": \"\"}, \"type\": \"choropleth\"}], \"contour\": [{\"colorbar\": {\"outlinewidth\": 0, \"ticks\": \"\"}, \"colorscale\": [[0.0, \"#0d0887\"], [0.1111111111111111, \"#46039f\"], [0.2222222222222222, \"#7201a8\"], [0.3333333333333333, \"#9c179e\"], [0.4444444444444444, \"#bd3786\"], [0.5555555555555556, \"#d8576b\"], [0.6666666666666666, \"#ed7953\"], [0.7777777777777778, \"#fb9f3a\"], [0.8888888888888888, \"#fdca26\"], [1.0, \"#f0f921\"]], \"type\": \"contour\"}], \"contourcarpet\": [{\"colorbar\": {\"outlinewidth\": 0, \"ticks\": \"\"}, \"type\": \"contourcarpet\"}], \"heatmap\": [{\"colorbar\": {\"outlinewidth\": 0, \"ticks\": \"\"}, \"colorscale\": [[0.0, \"#0d0887\"], [0.1111111111111111, \"#46039f\"], [0.2222222222222222, \"#7201a8\"], [0.3333333333333333, \"#9c179e\"], [0.4444444444444444, \"#bd3786\"], [0.5555555555555556, \"#d8576b\"], [0.6666666666666666, \"#ed7953\"], [0.7777777777777778, \"#fb9f3a\"], [0.8888888888888888, \"#fdca26\"], [1.0, \"#f0f921\"]], \"type\": \"heatmap\"}], \"heatmapgl\": [{\"colorbar\": {\"outlinewidth\": 0, \"ticks\": \"\"}, \"colorscale\": [[0.0, \"#0d0887\"], [0.1111111111111111, \"#46039f\"], [0.2222222222222222, \"#7201a8\"], [0.3333333333333333, \"#9c179e\"], [0.4444444444444444, \"#bd3786\"], [0.5555555555555556, \"#d8576b\"], [0.6666666666666666, \"#ed7953\"], [0.7777777777777778, \"#fb9f3a\"], [0.8888888888888888, \"#fdca26\"], [1.0, \"#f0f921\"]], \"type\": \"heatmapgl\"}], \"histogram\": [{\"marker\": {\"colorbar\": {\"outlinewidth\": 0, \"ticks\": \"\"}}, \"type\": \"histogram\"}], \"histogram2d\": [{\"colorbar\": {\"outlinewidth\": 0, \"ticks\": \"\"}, \"colorscale\": [[0.0, \"#0d0887\"], [0.1111111111111111, \"#46039f\"], [0.2222222222222222, \"#7201a8\"], [0.3333333333333333, \"#9c179e\"], [0.4444444444444444, \"#bd3786\"], [0.5555555555555556, \"#d8576b\"], [0.6666666666666666, \"#ed7953\"], [0.7777777777777778, \"#fb9f3a\"], [0.8888888888888888, \"#fdca26\"], [1.0, \"#f0f921\"]], \"type\": \"histogram2d\"}], \"histogram2dcontour\": [{\"colorbar\": {\"outlinewidth\": 0, \"ticks\": \"\"}, \"colorscale\": [[0.0, \"#0d0887\"], [0.1111111111111111, \"#46039f\"], [0.2222222222222222, \"#7201a8\"], [0.3333333333333333, \"#9c179e\"], [0.4444444444444444, \"#bd3786\"], [0.5555555555555556, \"#d8576b\"], [0.6666666666666666, \"#ed7953\"], [0.7777777777777778, \"#fb9f3a\"], [0.8888888888888888, \"#fdca26\"], [1.0, \"#f0f921\"]], \"type\": \"histogram2dcontour\"}], \"mesh3d\": [{\"colorbar\": {\"outlinewidth\": 0, \"ticks\": \"\"}, \"type\": \"mesh3d\"}], \"parcoords\": [{\"line\": {\"colorbar\": {\"outlinewidth\": 0, \"ticks\": \"\"}}, \"type\": \"parcoords\"}], \"pie\": [{\"automargin\": true, \"type\": \"pie\"}], \"scatter\": [{\"marker\": {\"colorbar\": {\"outlinewidth\": 0, \"ticks\": \"\"}}, \"type\": \"scatter\"}], \"scatter3d\": [{\"line\": {\"colorbar\": {\"outlinewidth\": 0, \"ticks\": \"\"}}, \"marker\": {\"colorbar\": {\"outlinewidth\": 0, \"ticks\": \"\"}}, \"type\": \"scatter3d\"}], \"scattercarpet\": [{\"marker\": {\"colorbar\": {\"outlinewidth\": 0, \"ticks\": \"\"}}, \"type\": \"scattercarpet\"}], \"scattergeo\": [{\"marker\": {\"colorbar\": {\"outlinewidth\": 0, \"ticks\": \"\"}}, \"type\": \"scattergeo\"}], \"scattergl\": [{\"marker\": {\"colorbar\": {\"outlinewidth\": 0, \"ticks\": \"\"}}, \"type\": \"scattergl\"}], \"scattermapbox\": [{\"marker\": {\"colorbar\": {\"outlinewidth\": 0, \"ticks\": \"\"}}, \"type\": \"scattermapbox\"}], \"scatterpolar\": [{\"marker\": {\"colorbar\": {\"outlinewidth\": 0, \"ticks\": \"\"}}, \"type\": \"scatterpolar\"}], \"scatterpolargl\": [{\"marker\": {\"colorbar\": {\"outlinewidth\": 0, \"ticks\": \"\"}}, \"type\": \"scatterpolargl\"}], \"scatterternary\": [{\"marker\": {\"colorbar\": {\"outlinewidth\": 0, \"ticks\": \"\"}}, \"type\": \"scatterternary\"}], \"surface\": [{\"colorbar\": {\"outlinewidth\": 0, \"ticks\": \"\"}, \"colorscale\": [[0.0, \"#0d0887\"], [0.1111111111111111, \"#46039f\"], [0.2222222222222222, \"#7201a8\"], [0.3333333333333333, \"#9c179e\"], [0.4444444444444444, \"#bd3786\"], [0.5555555555555556, \"#d8576b\"], [0.6666666666666666, \"#ed7953\"], [0.7777777777777778, \"#fb9f3a\"], [0.8888888888888888, \"#fdca26\"], [1.0, \"#f0f921\"]], \"type\": \"surface\"}], \"table\": [{\"cells\": {\"fill\": {\"color\": \"#EBF0F8\"}, \"line\": {\"color\": \"white\"}}, \"header\": {\"fill\": {\"color\": \"#C8D4E3\"}, \"line\": {\"color\": \"white\"}}, \"type\": \"table\"}]}, \"layout\": {\"annotationdefaults\": {\"arrowcolor\": \"#2a3f5f\", \"arrowhead\": 0, \"arrowwidth\": 1}, \"autotypenumbers\": \"strict\", \"coloraxis\": {\"colorbar\": {\"outlinewidth\": 0, \"ticks\": \"\"}}, \"colorscale\": {\"diverging\": [[0, \"#8e0152\"], [0.1, \"#c51b7d\"], [0.2, \"#de77ae\"], [0.3, \"#f1b6da\"], [0.4, \"#fde0ef\"], [0.5, \"#f7f7f7\"], [0.6, \"#e6f5d0\"], [0.7, \"#b8e186\"], [0.8, \"#7fbc41\"], [0.9, \"#4d9221\"], [1, \"#276419\"]], \"sequential\": [[0.0, \"#0d0887\"], [0.1111111111111111, \"#46039f\"], [0.2222222222222222, \"#7201a8\"], [0.3333333333333333, \"#9c179e\"], [0.4444444444444444, \"#bd3786\"], [0.5555555555555556, \"#d8576b\"], [0.6666666666666666, \"#ed7953\"], [0.7777777777777778, \"#fb9f3a\"], [0.8888888888888888, \"#fdca26\"], [1.0, \"#f0f921\"]], \"sequentialminus\": [[0.0, \"#0d0887\"], [0.1111111111111111, \"#46039f\"], [0.2222222222222222, \"#7201a8\"], [0.3333333333333333, \"#9c179e\"], [0.4444444444444444, \"#bd3786\"], [0.5555555555555556, \"#d8576b\"], [0.6666666666666666, \"#ed7953\"], [0.7777777777777778, \"#fb9f3a\"], [0.8888888888888888, \"#fdca26\"], [1.0, \"#f0f921\"]]}, \"colorway\": [\"#636efa\", \"#EF553B\", \"#00cc96\", \"#ab63fa\", \"#FFA15A\", \"#19d3f3\", \"#FF6692\", \"#B6E880\", \"#FF97FF\", \"#FECB52\"], \"font\": {\"color\": \"#2a3f5f\"}, \"geo\": {\"bgcolor\": \"white\", \"lakecolor\": \"white\", \"landcolor\": \"#E5ECF6\", \"showlakes\": true, \"showland\": true, \"subunitcolor\": \"white\"}, \"hoverlabel\": {\"align\": \"left\"}, \"hovermode\": \"closest\", \"mapbox\": {\"style\": \"light\"}, \"paper_bgcolor\": \"white\", \"plot_bgcolor\": \"#E5ECF6\", \"polar\": {\"angularaxis\": {\"gridcolor\": \"white\", \"linecolor\": \"white\", \"ticks\": \"\"}, \"bgcolor\": \"#E5ECF6\", \"radialaxis\": {\"gridcolor\": \"white\", \"linecolor\": \"white\", \"ticks\": \"\"}}, \"scene\": {\"xaxis\": {\"backgroundcolor\": \"#E5ECF6\", \"gridcolor\": \"white\", \"gridwidth\": 2, \"linecolor\": \"white\", \"showbackground\": true, \"ticks\": \"\", \"zerolinecolor\": \"white\"}, \"yaxis\": {\"backgroundcolor\": \"#E5ECF6\", \"gridcolor\": \"white\", \"gridwidth\": 2, \"linecolor\": \"white\", \"showbackground\": true, \"ticks\": \"\", \"zerolinecolor\": \"white\"}, \"zaxis\": {\"backgroundcolor\": \"#E5ECF6\", \"gridcolor\": \"white\", \"gridwidth\": 2, \"linecolor\": \"white\", \"showbackground\": true, \"ticks\": \"\", \"zerolinecolor\": \"white\"}}, \"shapedefaults\": {\"line\": {\"color\": \"#2a3f5f\"}}, \"ternary\": {\"aaxis\": {\"gridcolor\": \"white\", \"linecolor\": \"white\", \"ticks\": \"\"}, \"baxis\": {\"gridcolor\": \"white\", \"linecolor\": \"white\", \"ticks\": \"\"}, \"bgcolor\": \"#E5ECF6\", \"caxis\": {\"gridcolor\": \"white\", \"linecolor\": \"white\", \"ticks\": \"\"}}, \"title\": {\"x\": 0.05}, \"xaxis\": {\"automargin\": true, \"gridcolor\": \"white\", \"linecolor\": \"white\", \"ticks\": \"\", \"title\": {\"standoff\": 15}, \"zerolinecolor\": \"white\", \"zerolinewidth\": 2}, \"yaxis\": {\"automargin\": true, \"gridcolor\": \"white\", \"linecolor\": \"white\", \"ticks\": \"\", \"title\": {\"standoff\": 15}, \"zerolinecolor\": \"white\", \"zerolinewidth\": 2}}}, \"title\": {\"text\": \"Cluster with the Highest Quantity of Streams Per Country\"}},                        {\"responsive\": true}                    ).then(function(){\n",
       "                            \n",
       "var gd = document.getElementById('2f7c6811-915f-481a-8158-81dbf33aac67');\n",
       "var x = new MutationObserver(function (mutations, observer) {{\n",
       "        var display = window.getComputedStyle(gd).display;\n",
       "        if (!display || display === 'none') {{\n",
       "            console.log([gd, 'removed!']);\n",
       "            Plotly.purge(gd);\n",
       "            observer.disconnect();\n",
       "        }}\n",
       "}});\n",
       "\n",
       "// Listen for the removal of the full notebook cells\n",
       "var notebookContainer = gd.closest('#notebook-container');\n",
       "if (notebookContainer) {{\n",
       "    x.observe(notebookContainer, {childList: true});\n",
       "}}\n",
       "\n",
       "// Listen for the clearing of the current output cell\n",
       "var outputEl = gd.closest('.output');\n",
       "if (outputEl) {{\n",
       "    x.observe(outputEl, {childList: true});\n",
       "}}\n",
       "\n",
       "                        })                };                });            </script>        </div>"
      ]
     },
     "metadata": {},
     "output_type": "display_data"
    }
   ],
   "source": [
    "#Plotting map\n",
    "fig = px.choropleth(countries_best_cluster, locations=\"Country\",\n",
    "                    color=\"Best Cluster\", # lifeExp is a column of gapminder\n",
    "                    hover_name=\"Country\", title = \"Cluster with the Highest Quantity of Streams Per Country\" # column to add to hover information\n",
    "#                    color_continuous_scale=px.colors.sequential.Tealgrn)\n",
    "#                    color_discrete_sequence=\"viridis\")\n",
    "#                    color_discrete_sequence=px.colors.diverging.RdYlGn[::-1])\n",
    "#                    color_continuous_scale=\"dense\"\n",
    "                   )\n",
    "fig.show()"
   ]
  },
  {
   "cell_type": "code",
   "execution_count": 217,
   "metadata": {},
   "outputs": [
    {
     "data": {
      "text/html": [
       "<div>\n",
       "<style scoped>\n",
       "    .dataframe tbody tr th:only-of-type {\n",
       "        vertical-align: middle;\n",
       "    }\n",
       "\n",
       "    .dataframe tbody tr th {\n",
       "        vertical-align: top;\n",
       "    }\n",
       "\n",
       "    .dataframe thead th {\n",
       "        text-align: right;\n",
       "    }\n",
       "</style>\n",
       "<table border=\"1\" class=\"dataframe\">\n",
       "  <thead>\n",
       "    <tr style=\"text-align: right;\">\n",
       "      <th>Index</th>\n",
       "      <th>Country</th>\n",
       "      <th>0</th>\n",
       "      <th>1</th>\n",
       "      <th>2</th>\n",
       "      <th>3</th>\n",
       "      <th>4</th>\n",
       "    </tr>\n",
       "  </thead>\n",
       "  <tbody>\n",
       "    <tr>\n",
       "      <th>0</th>\n",
       "      <td>ARG</td>\n",
       "      <td>0.018</td>\n",
       "      <td>NaN</td>\n",
       "      <td>0.018</td>\n",
       "      <td>NaN</td>\n",
       "      <td>NaN</td>\n",
       "    </tr>\n",
       "    <tr>\n",
       "      <th>1</th>\n",
       "      <td>AUS</td>\n",
       "      <td>NaN</td>\n",
       "      <td>0.022</td>\n",
       "      <td>0.018</td>\n",
       "      <td>0.028</td>\n",
       "      <td>NaN</td>\n",
       "    </tr>\n",
       "    <tr>\n",
       "      <th>2</th>\n",
       "      <td>BRA</td>\n",
       "      <td>0.043</td>\n",
       "      <td>0.031</td>\n",
       "      <td>0.053</td>\n",
       "      <td>0.027</td>\n",
       "      <td>0.041</td>\n",
       "    </tr>\n",
       "    <tr>\n",
       "      <th>3</th>\n",
       "      <td>CAN</td>\n",
       "      <td>NaN</td>\n",
       "      <td>0.018</td>\n",
       "      <td>0.018</td>\n",
       "      <td>0.015</td>\n",
       "      <td>NaN</td>\n",
       "    </tr>\n",
       "    <tr>\n",
       "      <th>4</th>\n",
       "      <td>DEU</td>\n",
       "      <td>0.047</td>\n",
       "      <td>0.017</td>\n",
       "      <td>0.032</td>\n",
       "      <td>0.061</td>\n",
       "      <td>0.023</td>\n",
       "    </tr>\n",
       "    <tr>\n",
       "      <th>5</th>\n",
       "      <td>ESP</td>\n",
       "      <td>0.026</td>\n",
       "      <td>NaN</td>\n",
       "      <td>0.026</td>\n",
       "      <td>NaN</td>\n",
       "      <td>NaN</td>\n",
       "    </tr>\n",
       "    <tr>\n",
       "      <th>6</th>\n",
       "      <td>FRA</td>\n",
       "      <td>0.028</td>\n",
       "      <td>NaN</td>\n",
       "      <td>NaN</td>\n",
       "      <td>0.026</td>\n",
       "      <td>0.029</td>\n",
       "    </tr>\n",
       "    <tr>\n",
       "      <th>7</th>\n",
       "      <td>GBR</td>\n",
       "      <td>0.032</td>\n",
       "      <td>0.031</td>\n",
       "      <td>0.033</td>\n",
       "      <td>0.036</td>\n",
       "      <td>0.036</td>\n",
       "    </tr>\n",
       "    <tr>\n",
       "      <th>8</th>\n",
       "      <td>IDN</td>\n",
       "      <td>NaN</td>\n",
       "      <td>0.040</td>\n",
       "      <td>NaN</td>\n",
       "      <td>0.033</td>\n",
       "      <td>0.026</td>\n",
       "    </tr>\n",
       "    <tr>\n",
       "      <th>9</th>\n",
       "      <td>ITA</td>\n",
       "      <td>0.025</td>\n",
       "      <td>NaN</td>\n",
       "      <td>0.023</td>\n",
       "      <td>NaN</td>\n",
       "      <td>0.029</td>\n",
       "    </tr>\n",
       "    <tr>\n",
       "      <th>10</th>\n",
       "      <td>MEX</td>\n",
       "      <td>0.037</td>\n",
       "      <td>0.028</td>\n",
       "      <td>0.042</td>\n",
       "      <td>0.032</td>\n",
       "      <td>0.073</td>\n",
       "    </tr>\n",
       "    <tr>\n",
       "      <th>11</th>\n",
       "      <td>NLD</td>\n",
       "      <td>0.018</td>\n",
       "      <td>NaN</td>\n",
       "      <td>NaN</td>\n",
       "      <td>NaN</td>\n",
       "      <td>NaN</td>\n",
       "    </tr>\n",
       "    <tr>\n",
       "      <th>12</th>\n",
       "      <td>PHL</td>\n",
       "      <td>NaN</td>\n",
       "      <td>0.049</td>\n",
       "      <td>NaN</td>\n",
       "      <td>NaN</td>\n",
       "      <td>0.025</td>\n",
       "    </tr>\n",
       "    <tr>\n",
       "      <th>13</th>\n",
       "      <td>SWE</td>\n",
       "      <td>NaN</td>\n",
       "      <td>0.017</td>\n",
       "      <td>NaN</td>\n",
       "      <td>NaN</td>\n",
       "      <td>0.019</td>\n",
       "    </tr>\n",
       "    <tr>\n",
       "      <th>14</th>\n",
       "      <td>TUR</td>\n",
       "      <td>NaN</td>\n",
       "      <td>NaN</td>\n",
       "      <td>NaN</td>\n",
       "      <td>0.075</td>\n",
       "      <td>NaN</td>\n",
       "    </tr>\n",
       "    <tr>\n",
       "      <th>15</th>\n",
       "      <td>USA</td>\n",
       "      <td>0.122</td>\n",
       "      <td>0.133</td>\n",
       "      <td>0.131</td>\n",
       "      <td>0.120</td>\n",
       "      <td>0.128</td>\n",
       "    </tr>\n",
       "  </tbody>\n",
       "</table>\n",
       "</div>"
      ],
      "text/plain": [
       "Index Country      0      1      2      3      4\n",
       "0         ARG  0.018    NaN  0.018    NaN    NaN\n",
       "1         AUS    NaN  0.022  0.018  0.028    NaN\n",
       "2         BRA  0.043  0.031  0.053  0.027  0.041\n",
       "3         CAN    NaN  0.018  0.018  0.015    NaN\n",
       "4         DEU  0.047  0.017  0.032  0.061  0.023\n",
       "5         ESP  0.026    NaN  0.026    NaN    NaN\n",
       "6         FRA  0.028    NaN    NaN  0.026  0.029\n",
       "7         GBR  0.032  0.031  0.033  0.036  0.036\n",
       "8         IDN    NaN  0.040    NaN  0.033  0.026\n",
       "9         ITA  0.025    NaN  0.023    NaN  0.029\n",
       "10        MEX  0.037  0.028  0.042  0.032  0.073\n",
       "11        NLD  0.018    NaN    NaN    NaN    NaN\n",
       "12        PHL    NaN  0.049    NaN    NaN  0.025\n",
       "13        SWE    NaN  0.017    NaN    NaN  0.019\n",
       "14        TUR    NaN    NaN    NaN  0.075    NaN\n",
       "15        USA  0.122  0.133  0.131  0.120  0.128"
      ]
     },
     "execution_count": 217,
     "metadata": {},
     "output_type": "execute_result"
    }
   ],
   "source": [
    "\n",
    "countries_all_clusters.set_index('Country')\n",
    "countries_all_clusters"
   ]
  },
  {
   "cell_type": "code",
   "execution_count": 218,
   "metadata": {},
   "outputs": [
    {
     "data": {
      "text/html": [
       "<div>\n",
       "<style scoped>\n",
       "    .dataframe tbody tr th:only-of-type {\n",
       "        vertical-align: middle;\n",
       "    }\n",
       "\n",
       "    .dataframe tbody tr th {\n",
       "        vertical-align: top;\n",
       "    }\n",
       "\n",
       "    .dataframe thead th {\n",
       "        text-align: right;\n",
       "    }\n",
       "</style>\n",
       "<table border=\"1\" class=\"dataframe\">\n",
       "  <thead>\n",
       "    <tr style=\"text-align: right;\">\n",
       "      <th>Index</th>\n",
       "      <th>Country</th>\n",
       "      <th>0</th>\n",
       "      <th>1</th>\n",
       "      <th>2</th>\n",
       "      <th>3</th>\n",
       "      <th>4</th>\n",
       "    </tr>\n",
       "  </thead>\n",
       "  <tbody>\n",
       "    <tr>\n",
       "      <th>0</th>\n",
       "      <td>ARG</td>\n",
       "      <td>10.0</td>\n",
       "      <td>NaN</td>\n",
       "      <td>9.0</td>\n",
       "      <td>NaN</td>\n",
       "      <td>NaN</td>\n",
       "    </tr>\n",
       "    <tr>\n",
       "      <th>1</th>\n",
       "      <td>AUS</td>\n",
       "      <td>NaN</td>\n",
       "      <td>7.0</td>\n",
       "      <td>9.0</td>\n",
       "      <td>7.0</td>\n",
       "      <td>NaN</td>\n",
       "    </tr>\n",
       "    <tr>\n",
       "      <th>2</th>\n",
       "      <td>BRA</td>\n",
       "      <td>3.0</td>\n",
       "      <td>4.0</td>\n",
       "      <td>2.0</td>\n",
       "      <td>8.0</td>\n",
       "      <td>3.0</td>\n",
       "    </tr>\n",
       "    <tr>\n",
       "      <th>3</th>\n",
       "      <td>CAN</td>\n",
       "      <td>NaN</td>\n",
       "      <td>8.0</td>\n",
       "      <td>9.0</td>\n",
       "      <td>10.0</td>\n",
       "      <td>NaN</td>\n",
       "    </tr>\n",
       "    <tr>\n",
       "      <th>4</th>\n",
       "      <td>DEU</td>\n",
       "      <td>2.0</td>\n",
       "      <td>10.0</td>\n",
       "      <td>5.0</td>\n",
       "      <td>3.0</td>\n",
       "      <td>9.0</td>\n",
       "    </tr>\n",
       "    <tr>\n",
       "      <th>5</th>\n",
       "      <td>ESP</td>\n",
       "      <td>7.0</td>\n",
       "      <td>NaN</td>\n",
       "      <td>6.0</td>\n",
       "      <td>NaN</td>\n",
       "      <td>NaN</td>\n",
       "    </tr>\n",
       "    <tr>\n",
       "      <th>6</th>\n",
       "      <td>FRA</td>\n",
       "      <td>6.0</td>\n",
       "      <td>NaN</td>\n",
       "      <td>NaN</td>\n",
       "      <td>9.0</td>\n",
       "      <td>6.0</td>\n",
       "    </tr>\n",
       "    <tr>\n",
       "      <th>7</th>\n",
       "      <td>GBR</td>\n",
       "      <td>5.0</td>\n",
       "      <td>4.0</td>\n",
       "      <td>4.0</td>\n",
       "      <td>4.0</td>\n",
       "      <td>4.0</td>\n",
       "    </tr>\n",
       "    <tr>\n",
       "      <th>8</th>\n",
       "      <td>IDN</td>\n",
       "      <td>NaN</td>\n",
       "      <td>3.0</td>\n",
       "      <td>NaN</td>\n",
       "      <td>5.0</td>\n",
       "      <td>7.0</td>\n",
       "    </tr>\n",
       "    <tr>\n",
       "      <th>9</th>\n",
       "      <td>ITA</td>\n",
       "      <td>8.0</td>\n",
       "      <td>NaN</td>\n",
       "      <td>7.0</td>\n",
       "      <td>NaN</td>\n",
       "      <td>6.0</td>\n",
       "    </tr>\n",
       "    <tr>\n",
       "      <th>10</th>\n",
       "      <td>MEX</td>\n",
       "      <td>4.0</td>\n",
       "      <td>6.0</td>\n",
       "      <td>3.0</td>\n",
       "      <td>6.0</td>\n",
       "      <td>2.0</td>\n",
       "    </tr>\n",
       "    <tr>\n",
       "      <th>11</th>\n",
       "      <td>NLD</td>\n",
       "      <td>10.0</td>\n",
       "      <td>NaN</td>\n",
       "      <td>NaN</td>\n",
       "      <td>NaN</td>\n",
       "      <td>NaN</td>\n",
       "    </tr>\n",
       "    <tr>\n",
       "      <th>12</th>\n",
       "      <td>PHL</td>\n",
       "      <td>NaN</td>\n",
       "      <td>2.0</td>\n",
       "      <td>NaN</td>\n",
       "      <td>NaN</td>\n",
       "      <td>8.0</td>\n",
       "    </tr>\n",
       "    <tr>\n",
       "      <th>13</th>\n",
       "      <td>SWE</td>\n",
       "      <td>NaN</td>\n",
       "      <td>10.0</td>\n",
       "      <td>NaN</td>\n",
       "      <td>NaN</td>\n",
       "      <td>10.0</td>\n",
       "    </tr>\n",
       "    <tr>\n",
       "      <th>14</th>\n",
       "      <td>TUR</td>\n",
       "      <td>NaN</td>\n",
       "      <td>NaN</td>\n",
       "      <td>NaN</td>\n",
       "      <td>2.0</td>\n",
       "      <td>NaN</td>\n",
       "    </tr>\n",
       "    <tr>\n",
       "      <th>15</th>\n",
       "      <td>USA</td>\n",
       "      <td>1.0</td>\n",
       "      <td>1.0</td>\n",
       "      <td>1.0</td>\n",
       "      <td>1.0</td>\n",
       "      <td>1.0</td>\n",
       "    </tr>\n",
       "  </tbody>\n",
       "</table>\n",
       "</div>"
      ],
      "text/plain": [
       "Index Country     0     1    2     3     4\n",
       "0         ARG  10.0   NaN  9.0   NaN   NaN\n",
       "1         AUS   NaN   7.0  9.0   7.0   NaN\n",
       "2         BRA   3.0   4.0  2.0   8.0   3.0\n",
       "3         CAN   NaN   8.0  9.0  10.0   NaN\n",
       "4         DEU   2.0  10.0  5.0   3.0   9.0\n",
       "5         ESP   7.0   NaN  6.0   NaN   NaN\n",
       "6         FRA   6.0   NaN  NaN   9.0   6.0\n",
       "7         GBR   5.0   4.0  4.0   4.0   4.0\n",
       "8         IDN   NaN   3.0  NaN   5.0   7.0\n",
       "9         ITA   8.0   NaN  7.0   NaN   6.0\n",
       "10        MEX   4.0   6.0  3.0   6.0   2.0\n",
       "11        NLD  10.0   NaN  NaN   NaN   NaN\n",
       "12        PHL   NaN   2.0  NaN   NaN   8.0\n",
       "13        SWE   NaN  10.0  NaN   NaN  10.0\n",
       "14        TUR   NaN   NaN  NaN   2.0   NaN\n",
       "15        USA   1.0   1.0  1.0   1.0   1.0"
      ]
     },
     "execution_count": 218,
     "metadata": {},
     "output_type": "execute_result"
    }
   ],
   "source": [
    "#Ranking per cluster per country\n",
    "result_rank = countries_all_clusters.rank(ascending=False)\n",
    "countries = countries_all_clusters['Country']\n",
    "result_rank = result_rank.drop(columns=[\"Country\"])\n",
    "result_rank.insert(0, 'Country', countries)\n",
    "result_rank = result_rank.round(0)\n",
    "#result_rank = result_rank.astype(str)\n",
    "result_rank"
   ]
  },
  {
   "cell_type": "code",
   "execution_count": null,
   "metadata": {},
   "outputs": [],
   "source": []
  },
  {
   "cell_type": "code",
   "execution_count": 219,
   "metadata": {},
   "outputs": [
    {
     "data": {
      "text/html": [
       "<div>\n",
       "<style scoped>\n",
       "    .dataframe tbody tr th:only-of-type {\n",
       "        vertical-align: middle;\n",
       "    }\n",
       "\n",
       "    .dataframe tbody tr th {\n",
       "        vertical-align: top;\n",
       "    }\n",
       "\n",
       "    .dataframe thead th {\n",
       "        text-align: right;\n",
       "    }\n",
       "</style>\n",
       "<table border=\"1\" class=\"dataframe\">\n",
       "  <thead>\n",
       "    <tr style=\"text-align: right;\">\n",
       "      <th>Index</th>\n",
       "      <th>Country</th>\n",
       "      <th>0</th>\n",
       "      <th>1</th>\n",
       "      <th>2</th>\n",
       "      <th>3</th>\n",
       "      <th>4</th>\n",
       "    </tr>\n",
       "  </thead>\n",
       "  <tbody>\n",
       "    <tr>\n",
       "      <th>0</th>\n",
       "      <td>ARG</td>\n",
       "      <td>10</td>\n",
       "      <td>0</td>\n",
       "      <td>9</td>\n",
       "      <td>0</td>\n",
       "      <td>0</td>\n",
       "    </tr>\n",
       "    <tr>\n",
       "      <th>1</th>\n",
       "      <td>AUS</td>\n",
       "      <td>0</td>\n",
       "      <td>7</td>\n",
       "      <td>9</td>\n",
       "      <td>7</td>\n",
       "      <td>0</td>\n",
       "    </tr>\n",
       "    <tr>\n",
       "      <th>2</th>\n",
       "      <td>BRA</td>\n",
       "      <td>3</td>\n",
       "      <td>4</td>\n",
       "      <td>2</td>\n",
       "      <td>8</td>\n",
       "      <td>3</td>\n",
       "    </tr>\n",
       "    <tr>\n",
       "      <th>3</th>\n",
       "      <td>CAN</td>\n",
       "      <td>0</td>\n",
       "      <td>8</td>\n",
       "      <td>9</td>\n",
       "      <td>10</td>\n",
       "      <td>0</td>\n",
       "    </tr>\n",
       "    <tr>\n",
       "      <th>4</th>\n",
       "      <td>DEU</td>\n",
       "      <td>2</td>\n",
       "      <td>10</td>\n",
       "      <td>5</td>\n",
       "      <td>3</td>\n",
       "      <td>9</td>\n",
       "    </tr>\n",
       "    <tr>\n",
       "      <th>5</th>\n",
       "      <td>ESP</td>\n",
       "      <td>7</td>\n",
       "      <td>0</td>\n",
       "      <td>6</td>\n",
       "      <td>0</td>\n",
       "      <td>0</td>\n",
       "    </tr>\n",
       "    <tr>\n",
       "      <th>6</th>\n",
       "      <td>FRA</td>\n",
       "      <td>6</td>\n",
       "      <td>0</td>\n",
       "      <td>0</td>\n",
       "      <td>9</td>\n",
       "      <td>6</td>\n",
       "    </tr>\n",
       "    <tr>\n",
       "      <th>7</th>\n",
       "      <td>GBR</td>\n",
       "      <td>5</td>\n",
       "      <td>4</td>\n",
       "      <td>4</td>\n",
       "      <td>4</td>\n",
       "      <td>4</td>\n",
       "    </tr>\n",
       "    <tr>\n",
       "      <th>8</th>\n",
       "      <td>IDN</td>\n",
       "      <td>0</td>\n",
       "      <td>3</td>\n",
       "      <td>0</td>\n",
       "      <td>5</td>\n",
       "      <td>7</td>\n",
       "    </tr>\n",
       "    <tr>\n",
       "      <th>9</th>\n",
       "      <td>ITA</td>\n",
       "      <td>8</td>\n",
       "      <td>0</td>\n",
       "      <td>7</td>\n",
       "      <td>0</td>\n",
       "      <td>6</td>\n",
       "    </tr>\n",
       "    <tr>\n",
       "      <th>10</th>\n",
       "      <td>MEX</td>\n",
       "      <td>4</td>\n",
       "      <td>6</td>\n",
       "      <td>3</td>\n",
       "      <td>6</td>\n",
       "      <td>2</td>\n",
       "    </tr>\n",
       "    <tr>\n",
       "      <th>11</th>\n",
       "      <td>NLD</td>\n",
       "      <td>10</td>\n",
       "      <td>0</td>\n",
       "      <td>0</td>\n",
       "      <td>0</td>\n",
       "      <td>0</td>\n",
       "    </tr>\n",
       "    <tr>\n",
       "      <th>12</th>\n",
       "      <td>PHL</td>\n",
       "      <td>0</td>\n",
       "      <td>2</td>\n",
       "      <td>0</td>\n",
       "      <td>0</td>\n",
       "      <td>8</td>\n",
       "    </tr>\n",
       "    <tr>\n",
       "      <th>13</th>\n",
       "      <td>SWE</td>\n",
       "      <td>0</td>\n",
       "      <td>10</td>\n",
       "      <td>0</td>\n",
       "      <td>0</td>\n",
       "      <td>10</td>\n",
       "    </tr>\n",
       "    <tr>\n",
       "      <th>14</th>\n",
       "      <td>TUR</td>\n",
       "      <td>0</td>\n",
       "      <td>0</td>\n",
       "      <td>0</td>\n",
       "      <td>2</td>\n",
       "      <td>0</td>\n",
       "    </tr>\n",
       "    <tr>\n",
       "      <th>15</th>\n",
       "      <td>USA</td>\n",
       "      <td>1</td>\n",
       "      <td>1</td>\n",
       "      <td>1</td>\n",
       "      <td>1</td>\n",
       "      <td>1</td>\n",
       "    </tr>\n",
       "  </tbody>\n",
       "</table>\n",
       "</div>"
      ],
      "text/plain": [
       "Index Country   0   1  2   3   4\n",
       "0         ARG  10   0  9   0   0\n",
       "1         AUS   0   7  9   7   0\n",
       "2         BRA   3   4  2   8   3\n",
       "3         CAN   0   8  9  10   0\n",
       "4         DEU   2  10  5   3   9\n",
       "5         ESP   7   0  6   0   0\n",
       "6         FRA   6   0  0   9   6\n",
       "7         GBR   5   4  4   4   4\n",
       "8         IDN   0   3  0   5   7\n",
       "9         ITA   8   0  7   0   6\n",
       "10        MEX   4   6  3   6   2\n",
       "11        NLD  10   0  0   0   0\n",
       "12        PHL   0   2  0   0   8\n",
       "13        SWE   0  10  0   0  10\n",
       "14        TUR   0   0  0   2   0\n",
       "15        USA   1   1  1   1   1"
      ]
     },
     "execution_count": 219,
     "metadata": {},
     "output_type": "execute_result"
    }
   ],
   "source": [
    "result_rank_int = result_rank.copy()\n",
    "result_rank_int = result_rank_int.fillna(0)\n",
    "result_rank_int.iloc[:,1:6] = result_rank_int.iloc[:,1:6].astype(int)\n",
    "result_rank_int"
   ]
  },
  {
   "cell_type": "code",
   "execution_count": 220,
   "metadata": {},
   "outputs": [
    {
     "data": {
      "text/html": [
       "<div>\n",
       "<style scoped>\n",
       "    .dataframe tbody tr th:only-of-type {\n",
       "        vertical-align: middle;\n",
       "    }\n",
       "\n",
       "    .dataframe tbody tr th {\n",
       "        vertical-align: top;\n",
       "    }\n",
       "\n",
       "    .dataframe thead th {\n",
       "        text-align: right;\n",
       "    }\n",
       "</style>\n",
       "<table border=\"1\" class=\"dataframe\">\n",
       "  <thead>\n",
       "    <tr style=\"text-align: right;\">\n",
       "      <th>Index</th>\n",
       "      <th>Country</th>\n",
       "      <th>0</th>\n",
       "      <th>1</th>\n",
       "      <th>2</th>\n",
       "      <th>3</th>\n",
       "      <th>4</th>\n",
       "    </tr>\n",
       "  </thead>\n",
       "  <tbody>\n",
       "    <tr>\n",
       "      <th>2</th>\n",
       "      <td>BRA</td>\n",
       "      <td>3</td>\n",
       "      <td>4</td>\n",
       "      <td>2</td>\n",
       "      <td>8</td>\n",
       "      <td>3</td>\n",
       "    </tr>\n",
       "    <tr>\n",
       "      <th>4</th>\n",
       "      <td>DEU</td>\n",
       "      <td>2</td>\n",
       "      <td>10</td>\n",
       "      <td>5</td>\n",
       "      <td>3</td>\n",
       "      <td>9</td>\n",
       "    </tr>\n",
       "    <tr>\n",
       "      <th>7</th>\n",
       "      <td>GBR</td>\n",
       "      <td>5</td>\n",
       "      <td>4</td>\n",
       "      <td>4</td>\n",
       "      <td>4</td>\n",
       "      <td>4</td>\n",
       "    </tr>\n",
       "    <tr>\n",
       "      <th>10</th>\n",
       "      <td>MEX</td>\n",
       "      <td>4</td>\n",
       "      <td>6</td>\n",
       "      <td>3</td>\n",
       "      <td>6</td>\n",
       "      <td>2</td>\n",
       "    </tr>\n",
       "    <tr>\n",
       "      <th>15</th>\n",
       "      <td>USA</td>\n",
       "      <td>1</td>\n",
       "      <td>1</td>\n",
       "      <td>1</td>\n",
       "      <td>1</td>\n",
       "      <td>1</td>\n",
       "    </tr>\n",
       "  </tbody>\n",
       "</table>\n",
       "</div>"
      ],
      "text/plain": [
       "Index Country  0   1  2  3  4\n",
       "2         BRA  3   4  2  8  3\n",
       "4         DEU  2  10  5  3  9\n",
       "7         GBR  5   4  4  4  4\n",
       "10        MEX  4   6  3  6  2\n",
       "15        USA  1   1  1  1  1"
      ]
     },
     "execution_count": 220,
     "metadata": {},
     "output_type": "execute_result"
    }
   ],
   "source": [
    "result_rank_int_nan = result_rank.dropna()\n",
    "result_rank_int_nan = result_rank_int_nan.round(3)\n",
    "result_rank_int_nan.iloc[:,1:6] = result_rank_int_nan.iloc[:,1:6].astype(int)\n",
    "result_rank_int_nan"
   ]
  },
  {
   "cell_type": "code",
   "execution_count": 221,
   "metadata": {
    "scrolled": true
   },
   "outputs": [
    {
     "data": {
      "application/vnd.plotly.v1+json": {
       "config": {
        "plotlyServerURL": "https://plot.ly"
       },
       "data": [
        {
         "coloraxis": "coloraxis",
         "geo": "geo",
         "hovertemplate": "<b>%{hovertext}</b><br><br>Country=%{location}<br>0=%{z}<extra></extra>",
         "hovertext": [
          "ARG",
          "AUS",
          "BRA",
          "CAN",
          "DEU",
          "ESP",
          "FRA",
          "GBR",
          "IDN",
          "ITA",
          "MEX",
          "NLD",
          "PHL",
          "SWE",
          "TUR",
          "USA"
         ],
         "locations": [
          "ARG",
          "AUS",
          "BRA",
          "CAN",
          "DEU",
          "ESP",
          "FRA",
          "GBR",
          "IDN",
          "ITA",
          "MEX",
          "NLD",
          "PHL",
          "SWE",
          "TUR",
          "USA"
         ],
         "name": "",
         "type": "choropleth",
         "z": [
          10,
          null,
          3,
          null,
          2,
          7,
          6,
          5,
          null,
          8,
          4,
          10,
          null,
          null,
          null,
          1
         ]
        }
       ],
       "layout": {
        "coloraxis": {
         "colorbar": {
          "title": {
           "text": "0"
          }
         },
         "colorscale": [
          [
           0,
           "rgb(0,104,55)"
          ],
          [
           0.1,
           "rgb(26,152,80)"
          ],
          [
           0.2,
           "rgb(102,189,99)"
          ],
          [
           0.3,
           "rgb(166,217,106)"
          ],
          [
           0.4,
           "rgb(217,239,139)"
          ],
          [
           0.5,
           "rgb(255,255,191)"
          ],
          [
           0.6,
           "rgb(254,224,139)"
          ],
          [
           0.7,
           "rgb(253,174,97)"
          ],
          [
           0.8,
           "rgb(244,109,67)"
          ],
          [
           0.9,
           "rgb(215,48,39)"
          ],
          [
           1,
           "rgb(165,0,38)"
          ]
         ]
        },
        "geo": {
         "center": {},
         "domain": {
          "x": [
           0,
           1
          ],
          "y": [
           0,
           1
          ]
         }
        },
        "legend": {
         "tracegroupgap": 0
        },
        "margin": {
         "t": 60
        },
        "template": {
         "data": {
          "bar": [
           {
            "error_x": {
             "color": "#2a3f5f"
            },
            "error_y": {
             "color": "#2a3f5f"
            },
            "marker": {
             "line": {
              "color": "#E5ECF6",
              "width": 0.5
             }
            },
            "type": "bar"
           }
          ],
          "barpolar": [
           {
            "marker": {
             "line": {
              "color": "#E5ECF6",
              "width": 0.5
             }
            },
            "type": "barpolar"
           }
          ],
          "carpet": [
           {
            "aaxis": {
             "endlinecolor": "#2a3f5f",
             "gridcolor": "white",
             "linecolor": "white",
             "minorgridcolor": "white",
             "startlinecolor": "#2a3f5f"
            },
            "baxis": {
             "endlinecolor": "#2a3f5f",
             "gridcolor": "white",
             "linecolor": "white",
             "minorgridcolor": "white",
             "startlinecolor": "#2a3f5f"
            },
            "type": "carpet"
           }
          ],
          "choropleth": [
           {
            "colorbar": {
             "outlinewidth": 0,
             "ticks": ""
            },
            "type": "choropleth"
           }
          ],
          "contour": [
           {
            "colorbar": {
             "outlinewidth": 0,
             "ticks": ""
            },
            "colorscale": [
             [
              0,
              "#0d0887"
             ],
             [
              0.1111111111111111,
              "#46039f"
             ],
             [
              0.2222222222222222,
              "#7201a8"
             ],
             [
              0.3333333333333333,
              "#9c179e"
             ],
             [
              0.4444444444444444,
              "#bd3786"
             ],
             [
              0.5555555555555556,
              "#d8576b"
             ],
             [
              0.6666666666666666,
              "#ed7953"
             ],
             [
              0.7777777777777778,
              "#fb9f3a"
             ],
             [
              0.8888888888888888,
              "#fdca26"
             ],
             [
              1,
              "#f0f921"
             ]
            ],
            "type": "contour"
           }
          ],
          "contourcarpet": [
           {
            "colorbar": {
             "outlinewidth": 0,
             "ticks": ""
            },
            "type": "contourcarpet"
           }
          ],
          "heatmap": [
           {
            "colorbar": {
             "outlinewidth": 0,
             "ticks": ""
            },
            "colorscale": [
             [
              0,
              "#0d0887"
             ],
             [
              0.1111111111111111,
              "#46039f"
             ],
             [
              0.2222222222222222,
              "#7201a8"
             ],
             [
              0.3333333333333333,
              "#9c179e"
             ],
             [
              0.4444444444444444,
              "#bd3786"
             ],
             [
              0.5555555555555556,
              "#d8576b"
             ],
             [
              0.6666666666666666,
              "#ed7953"
             ],
             [
              0.7777777777777778,
              "#fb9f3a"
             ],
             [
              0.8888888888888888,
              "#fdca26"
             ],
             [
              1,
              "#f0f921"
             ]
            ],
            "type": "heatmap"
           }
          ],
          "heatmapgl": [
           {
            "colorbar": {
             "outlinewidth": 0,
             "ticks": ""
            },
            "colorscale": [
             [
              0,
              "#0d0887"
             ],
             [
              0.1111111111111111,
              "#46039f"
             ],
             [
              0.2222222222222222,
              "#7201a8"
             ],
             [
              0.3333333333333333,
              "#9c179e"
             ],
             [
              0.4444444444444444,
              "#bd3786"
             ],
             [
              0.5555555555555556,
              "#d8576b"
             ],
             [
              0.6666666666666666,
              "#ed7953"
             ],
             [
              0.7777777777777778,
              "#fb9f3a"
             ],
             [
              0.8888888888888888,
              "#fdca26"
             ],
             [
              1,
              "#f0f921"
             ]
            ],
            "type": "heatmapgl"
           }
          ],
          "histogram": [
           {
            "marker": {
             "colorbar": {
              "outlinewidth": 0,
              "ticks": ""
             }
            },
            "type": "histogram"
           }
          ],
          "histogram2d": [
           {
            "colorbar": {
             "outlinewidth": 0,
             "ticks": ""
            },
            "colorscale": [
             [
              0,
              "#0d0887"
             ],
             [
              0.1111111111111111,
              "#46039f"
             ],
             [
              0.2222222222222222,
              "#7201a8"
             ],
             [
              0.3333333333333333,
              "#9c179e"
             ],
             [
              0.4444444444444444,
              "#bd3786"
             ],
             [
              0.5555555555555556,
              "#d8576b"
             ],
             [
              0.6666666666666666,
              "#ed7953"
             ],
             [
              0.7777777777777778,
              "#fb9f3a"
             ],
             [
              0.8888888888888888,
              "#fdca26"
             ],
             [
              1,
              "#f0f921"
             ]
            ],
            "type": "histogram2d"
           }
          ],
          "histogram2dcontour": [
           {
            "colorbar": {
             "outlinewidth": 0,
             "ticks": ""
            },
            "colorscale": [
             [
              0,
              "#0d0887"
             ],
             [
              0.1111111111111111,
              "#46039f"
             ],
             [
              0.2222222222222222,
              "#7201a8"
             ],
             [
              0.3333333333333333,
              "#9c179e"
             ],
             [
              0.4444444444444444,
              "#bd3786"
             ],
             [
              0.5555555555555556,
              "#d8576b"
             ],
             [
              0.6666666666666666,
              "#ed7953"
             ],
             [
              0.7777777777777778,
              "#fb9f3a"
             ],
             [
              0.8888888888888888,
              "#fdca26"
             ],
             [
              1,
              "#f0f921"
             ]
            ],
            "type": "histogram2dcontour"
           }
          ],
          "mesh3d": [
           {
            "colorbar": {
             "outlinewidth": 0,
             "ticks": ""
            },
            "type": "mesh3d"
           }
          ],
          "parcoords": [
           {
            "line": {
             "colorbar": {
              "outlinewidth": 0,
              "ticks": ""
             }
            },
            "type": "parcoords"
           }
          ],
          "pie": [
           {
            "automargin": true,
            "type": "pie"
           }
          ],
          "scatter": [
           {
            "marker": {
             "colorbar": {
              "outlinewidth": 0,
              "ticks": ""
             }
            },
            "type": "scatter"
           }
          ],
          "scatter3d": [
           {
            "line": {
             "colorbar": {
              "outlinewidth": 0,
              "ticks": ""
             }
            },
            "marker": {
             "colorbar": {
              "outlinewidth": 0,
              "ticks": ""
             }
            },
            "type": "scatter3d"
           }
          ],
          "scattercarpet": [
           {
            "marker": {
             "colorbar": {
              "outlinewidth": 0,
              "ticks": ""
             }
            },
            "type": "scattercarpet"
           }
          ],
          "scattergeo": [
           {
            "marker": {
             "colorbar": {
              "outlinewidth": 0,
              "ticks": ""
             }
            },
            "type": "scattergeo"
           }
          ],
          "scattergl": [
           {
            "marker": {
             "colorbar": {
              "outlinewidth": 0,
              "ticks": ""
             }
            },
            "type": "scattergl"
           }
          ],
          "scattermapbox": [
           {
            "marker": {
             "colorbar": {
              "outlinewidth": 0,
              "ticks": ""
             }
            },
            "type": "scattermapbox"
           }
          ],
          "scatterpolar": [
           {
            "marker": {
             "colorbar": {
              "outlinewidth": 0,
              "ticks": ""
             }
            },
            "type": "scatterpolar"
           }
          ],
          "scatterpolargl": [
           {
            "marker": {
             "colorbar": {
              "outlinewidth": 0,
              "ticks": ""
             }
            },
            "type": "scatterpolargl"
           }
          ],
          "scatterternary": [
           {
            "marker": {
             "colorbar": {
              "outlinewidth": 0,
              "ticks": ""
             }
            },
            "type": "scatterternary"
           }
          ],
          "surface": [
           {
            "colorbar": {
             "outlinewidth": 0,
             "ticks": ""
            },
            "colorscale": [
             [
              0,
              "#0d0887"
             ],
             [
              0.1111111111111111,
              "#46039f"
             ],
             [
              0.2222222222222222,
              "#7201a8"
             ],
             [
              0.3333333333333333,
              "#9c179e"
             ],
             [
              0.4444444444444444,
              "#bd3786"
             ],
             [
              0.5555555555555556,
              "#d8576b"
             ],
             [
              0.6666666666666666,
              "#ed7953"
             ],
             [
              0.7777777777777778,
              "#fb9f3a"
             ],
             [
              0.8888888888888888,
              "#fdca26"
             ],
             [
              1,
              "#f0f921"
             ]
            ],
            "type": "surface"
           }
          ],
          "table": [
           {
            "cells": {
             "fill": {
              "color": "#EBF0F8"
             },
             "line": {
              "color": "white"
             }
            },
            "header": {
             "fill": {
              "color": "#C8D4E3"
             },
             "line": {
              "color": "white"
             }
            },
            "type": "table"
           }
          ]
         },
         "layout": {
          "annotationdefaults": {
           "arrowcolor": "#2a3f5f",
           "arrowhead": 0,
           "arrowwidth": 1
          },
          "autotypenumbers": "strict",
          "coloraxis": {
           "colorbar": {
            "outlinewidth": 0,
            "ticks": ""
           }
          },
          "colorscale": {
           "diverging": [
            [
             0,
             "#8e0152"
            ],
            [
             0.1,
             "#c51b7d"
            ],
            [
             0.2,
             "#de77ae"
            ],
            [
             0.3,
             "#f1b6da"
            ],
            [
             0.4,
             "#fde0ef"
            ],
            [
             0.5,
             "#f7f7f7"
            ],
            [
             0.6,
             "#e6f5d0"
            ],
            [
             0.7,
             "#b8e186"
            ],
            [
             0.8,
             "#7fbc41"
            ],
            [
             0.9,
             "#4d9221"
            ],
            [
             1,
             "#276419"
            ]
           ],
           "sequential": [
            [
             0,
             "#0d0887"
            ],
            [
             0.1111111111111111,
             "#46039f"
            ],
            [
             0.2222222222222222,
             "#7201a8"
            ],
            [
             0.3333333333333333,
             "#9c179e"
            ],
            [
             0.4444444444444444,
             "#bd3786"
            ],
            [
             0.5555555555555556,
             "#d8576b"
            ],
            [
             0.6666666666666666,
             "#ed7953"
            ],
            [
             0.7777777777777778,
             "#fb9f3a"
            ],
            [
             0.8888888888888888,
             "#fdca26"
            ],
            [
             1,
             "#f0f921"
            ]
           ],
           "sequentialminus": [
            [
             0,
             "#0d0887"
            ],
            [
             0.1111111111111111,
             "#46039f"
            ],
            [
             0.2222222222222222,
             "#7201a8"
            ],
            [
             0.3333333333333333,
             "#9c179e"
            ],
            [
             0.4444444444444444,
             "#bd3786"
            ],
            [
             0.5555555555555556,
             "#d8576b"
            ],
            [
             0.6666666666666666,
             "#ed7953"
            ],
            [
             0.7777777777777778,
             "#fb9f3a"
            ],
            [
             0.8888888888888888,
             "#fdca26"
            ],
            [
             1,
             "#f0f921"
            ]
           ]
          },
          "colorway": [
           "#636efa",
           "#EF553B",
           "#00cc96",
           "#ab63fa",
           "#FFA15A",
           "#19d3f3",
           "#FF6692",
           "#B6E880",
           "#FF97FF",
           "#FECB52"
          ],
          "font": {
           "color": "#2a3f5f"
          },
          "geo": {
           "bgcolor": "white",
           "lakecolor": "white",
           "landcolor": "#E5ECF6",
           "showlakes": true,
           "showland": true,
           "subunitcolor": "white"
          },
          "hoverlabel": {
           "align": "left"
          },
          "hovermode": "closest",
          "mapbox": {
           "style": "light"
          },
          "paper_bgcolor": "white",
          "plot_bgcolor": "#E5ECF6",
          "polar": {
           "angularaxis": {
            "gridcolor": "white",
            "linecolor": "white",
            "ticks": ""
           },
           "bgcolor": "#E5ECF6",
           "radialaxis": {
            "gridcolor": "white",
            "linecolor": "white",
            "ticks": ""
           }
          },
          "scene": {
           "xaxis": {
            "backgroundcolor": "#E5ECF6",
            "gridcolor": "white",
            "gridwidth": 2,
            "linecolor": "white",
            "showbackground": true,
            "ticks": "",
            "zerolinecolor": "white"
           },
           "yaxis": {
            "backgroundcolor": "#E5ECF6",
            "gridcolor": "white",
            "gridwidth": 2,
            "linecolor": "white",
            "showbackground": true,
            "ticks": "",
            "zerolinecolor": "white"
           },
           "zaxis": {
            "backgroundcolor": "#E5ECF6",
            "gridcolor": "white",
            "gridwidth": 2,
            "linecolor": "white",
            "showbackground": true,
            "ticks": "",
            "zerolinecolor": "white"
           }
          },
          "shapedefaults": {
           "line": {
            "color": "#2a3f5f"
           }
          },
          "ternary": {
           "aaxis": {
            "gridcolor": "white",
            "linecolor": "white",
            "ticks": ""
           },
           "baxis": {
            "gridcolor": "white",
            "linecolor": "white",
            "ticks": ""
           },
           "bgcolor": "#E5ECF6",
           "caxis": {
            "gridcolor": "white",
            "linecolor": "white",
            "ticks": ""
           }
          },
          "title": {
           "x": 0.05
          },
          "xaxis": {
           "automargin": true,
           "gridcolor": "white",
           "linecolor": "white",
           "ticks": "",
           "title": {
            "standoff": 15
           },
           "zerolinecolor": "white",
           "zerolinewidth": 2
          },
          "yaxis": {
           "automargin": true,
           "gridcolor": "white",
           "linecolor": "white",
           "ticks": "",
           "title": {
            "standoff": 15
           },
           "zerolinecolor": "white",
           "zerolinewidth": 2
          }
         }
        }
       }
      },
      "text/html": [
       "<div>                            <div id=\"ceba51f4-f31c-4dad-a754-1a8dc9b89c03\" class=\"plotly-graph-div\" style=\"height:525px; width:100%;\"></div>            <script type=\"text/javascript\">                require([\"plotly\"], function(Plotly) {                    window.PLOTLYENV=window.PLOTLYENV || {};                                    if (document.getElementById(\"ceba51f4-f31c-4dad-a754-1a8dc9b89c03\")) {                    Plotly.newPlot(                        \"ceba51f4-f31c-4dad-a754-1a8dc9b89c03\",                        [{\"coloraxis\": \"coloraxis\", \"geo\": \"geo\", \"hovertemplate\": \"<b>%{hovertext}</b><br><br>Country=%{location}<br>0=%{z}<extra></extra>\", \"hovertext\": [\"ARG\", \"AUS\", \"BRA\", \"CAN\", \"DEU\", \"ESP\", \"FRA\", \"GBR\", \"IDN\", \"ITA\", \"MEX\", \"NLD\", \"PHL\", \"SWE\", \"TUR\", \"USA\"], \"locations\": [\"ARG\", \"AUS\", \"BRA\", \"CAN\", \"DEU\", \"ESP\", \"FRA\", \"GBR\", \"IDN\", \"ITA\", \"MEX\", \"NLD\", \"PHL\", \"SWE\", \"TUR\", \"USA\"], \"name\": \"\", \"type\": \"choropleth\", \"z\": [10.0, null, 3.0, null, 2.0, 7.0, 6.0, 5.0, null, 8.0, 4.0, 10.0, null, null, null, 1.0]}],                        {\"coloraxis\": {\"colorbar\": {\"title\": {\"text\": \"0\"}}, \"colorscale\": [[0.0, \"rgb(0,104,55)\"], [0.1, \"rgb(26,152,80)\"], [0.2, \"rgb(102,189,99)\"], [0.3, \"rgb(166,217,106)\"], [0.4, \"rgb(217,239,139)\"], [0.5, \"rgb(255,255,191)\"], [0.6, \"rgb(254,224,139)\"], [0.7, \"rgb(253,174,97)\"], [0.8, \"rgb(244,109,67)\"], [0.9, \"rgb(215,48,39)\"], [1.0, \"rgb(165,0,38)\"]]}, \"geo\": {\"center\": {}, \"domain\": {\"x\": [0.0, 1.0], \"y\": [0.0, 1.0]}}, \"legend\": {\"tracegroupgap\": 0}, \"margin\": {\"t\": 60}, \"template\": {\"data\": {\"bar\": [{\"error_x\": {\"color\": \"#2a3f5f\"}, \"error_y\": {\"color\": \"#2a3f5f\"}, \"marker\": {\"line\": {\"color\": \"#E5ECF6\", \"width\": 0.5}}, \"type\": \"bar\"}], \"barpolar\": [{\"marker\": {\"line\": {\"color\": \"#E5ECF6\", \"width\": 0.5}}, \"type\": \"barpolar\"}], \"carpet\": [{\"aaxis\": {\"endlinecolor\": \"#2a3f5f\", \"gridcolor\": \"white\", \"linecolor\": \"white\", \"minorgridcolor\": \"white\", \"startlinecolor\": \"#2a3f5f\"}, \"baxis\": {\"endlinecolor\": \"#2a3f5f\", \"gridcolor\": \"white\", \"linecolor\": \"white\", \"minorgridcolor\": \"white\", \"startlinecolor\": \"#2a3f5f\"}, \"type\": \"carpet\"}], \"choropleth\": [{\"colorbar\": {\"outlinewidth\": 0, \"ticks\": \"\"}, \"type\": \"choropleth\"}], \"contour\": [{\"colorbar\": {\"outlinewidth\": 0, \"ticks\": \"\"}, \"colorscale\": [[0.0, \"#0d0887\"], [0.1111111111111111, \"#46039f\"], [0.2222222222222222, \"#7201a8\"], [0.3333333333333333, \"#9c179e\"], [0.4444444444444444, \"#bd3786\"], [0.5555555555555556, \"#d8576b\"], [0.6666666666666666, \"#ed7953\"], [0.7777777777777778, \"#fb9f3a\"], [0.8888888888888888, \"#fdca26\"], [1.0, \"#f0f921\"]], \"type\": \"contour\"}], \"contourcarpet\": [{\"colorbar\": {\"outlinewidth\": 0, \"ticks\": \"\"}, \"type\": \"contourcarpet\"}], \"heatmap\": [{\"colorbar\": {\"outlinewidth\": 0, \"ticks\": \"\"}, \"colorscale\": [[0.0, \"#0d0887\"], [0.1111111111111111, \"#46039f\"], [0.2222222222222222, \"#7201a8\"], [0.3333333333333333, \"#9c179e\"], [0.4444444444444444, \"#bd3786\"], [0.5555555555555556, \"#d8576b\"], [0.6666666666666666, \"#ed7953\"], [0.7777777777777778, \"#fb9f3a\"], [0.8888888888888888, \"#fdca26\"], [1.0, \"#f0f921\"]], \"type\": \"heatmap\"}], \"heatmapgl\": [{\"colorbar\": {\"outlinewidth\": 0, \"ticks\": \"\"}, \"colorscale\": [[0.0, \"#0d0887\"], [0.1111111111111111, \"#46039f\"], [0.2222222222222222, \"#7201a8\"], [0.3333333333333333, \"#9c179e\"], [0.4444444444444444, \"#bd3786\"], [0.5555555555555556, \"#d8576b\"], [0.6666666666666666, \"#ed7953\"], [0.7777777777777778, \"#fb9f3a\"], [0.8888888888888888, \"#fdca26\"], [1.0, \"#f0f921\"]], \"type\": \"heatmapgl\"}], \"histogram\": [{\"marker\": {\"colorbar\": {\"outlinewidth\": 0, \"ticks\": \"\"}}, \"type\": \"histogram\"}], \"histogram2d\": [{\"colorbar\": {\"outlinewidth\": 0, \"ticks\": \"\"}, \"colorscale\": [[0.0, \"#0d0887\"], [0.1111111111111111, \"#46039f\"], [0.2222222222222222, \"#7201a8\"], [0.3333333333333333, \"#9c179e\"], [0.4444444444444444, \"#bd3786\"], [0.5555555555555556, \"#d8576b\"], [0.6666666666666666, \"#ed7953\"], [0.7777777777777778, \"#fb9f3a\"], [0.8888888888888888, \"#fdca26\"], [1.0, \"#f0f921\"]], \"type\": \"histogram2d\"}], \"histogram2dcontour\": [{\"colorbar\": {\"outlinewidth\": 0, \"ticks\": \"\"}, \"colorscale\": [[0.0, \"#0d0887\"], [0.1111111111111111, \"#46039f\"], [0.2222222222222222, \"#7201a8\"], [0.3333333333333333, \"#9c179e\"], [0.4444444444444444, \"#bd3786\"], [0.5555555555555556, \"#d8576b\"], [0.6666666666666666, \"#ed7953\"], [0.7777777777777778, \"#fb9f3a\"], [0.8888888888888888, \"#fdca26\"], [1.0, \"#f0f921\"]], \"type\": \"histogram2dcontour\"}], \"mesh3d\": [{\"colorbar\": {\"outlinewidth\": 0, \"ticks\": \"\"}, \"type\": \"mesh3d\"}], \"parcoords\": [{\"line\": {\"colorbar\": {\"outlinewidth\": 0, \"ticks\": \"\"}}, \"type\": \"parcoords\"}], \"pie\": [{\"automargin\": true, \"type\": \"pie\"}], \"scatter\": [{\"marker\": {\"colorbar\": {\"outlinewidth\": 0, \"ticks\": \"\"}}, \"type\": \"scatter\"}], \"scatter3d\": [{\"line\": {\"colorbar\": {\"outlinewidth\": 0, \"ticks\": \"\"}}, \"marker\": {\"colorbar\": {\"outlinewidth\": 0, \"ticks\": \"\"}}, \"type\": \"scatter3d\"}], \"scattercarpet\": [{\"marker\": {\"colorbar\": {\"outlinewidth\": 0, \"ticks\": \"\"}}, \"type\": \"scattercarpet\"}], \"scattergeo\": [{\"marker\": {\"colorbar\": {\"outlinewidth\": 0, \"ticks\": \"\"}}, \"type\": \"scattergeo\"}], \"scattergl\": [{\"marker\": {\"colorbar\": {\"outlinewidth\": 0, \"ticks\": \"\"}}, \"type\": \"scattergl\"}], \"scattermapbox\": [{\"marker\": {\"colorbar\": {\"outlinewidth\": 0, \"ticks\": \"\"}}, \"type\": \"scattermapbox\"}], \"scatterpolar\": [{\"marker\": {\"colorbar\": {\"outlinewidth\": 0, \"ticks\": \"\"}}, \"type\": \"scatterpolar\"}], \"scatterpolargl\": [{\"marker\": {\"colorbar\": {\"outlinewidth\": 0, \"ticks\": \"\"}}, \"type\": \"scatterpolargl\"}], \"scatterternary\": [{\"marker\": {\"colorbar\": {\"outlinewidth\": 0, \"ticks\": \"\"}}, \"type\": \"scatterternary\"}], \"surface\": [{\"colorbar\": {\"outlinewidth\": 0, \"ticks\": \"\"}, \"colorscale\": [[0.0, \"#0d0887\"], [0.1111111111111111, \"#46039f\"], [0.2222222222222222, \"#7201a8\"], [0.3333333333333333, \"#9c179e\"], [0.4444444444444444, \"#bd3786\"], [0.5555555555555556, \"#d8576b\"], [0.6666666666666666, \"#ed7953\"], [0.7777777777777778, \"#fb9f3a\"], [0.8888888888888888, \"#fdca26\"], [1.0, \"#f0f921\"]], \"type\": \"surface\"}], \"table\": [{\"cells\": {\"fill\": {\"color\": \"#EBF0F8\"}, \"line\": {\"color\": \"white\"}}, \"header\": {\"fill\": {\"color\": \"#C8D4E3\"}, \"line\": {\"color\": \"white\"}}, \"type\": \"table\"}]}, \"layout\": {\"annotationdefaults\": {\"arrowcolor\": \"#2a3f5f\", \"arrowhead\": 0, \"arrowwidth\": 1}, \"autotypenumbers\": \"strict\", \"coloraxis\": {\"colorbar\": {\"outlinewidth\": 0, \"ticks\": \"\"}}, \"colorscale\": {\"diverging\": [[0, \"#8e0152\"], [0.1, \"#c51b7d\"], [0.2, \"#de77ae\"], [0.3, \"#f1b6da\"], [0.4, \"#fde0ef\"], [0.5, \"#f7f7f7\"], [0.6, \"#e6f5d0\"], [0.7, \"#b8e186\"], [0.8, \"#7fbc41\"], [0.9, \"#4d9221\"], [1, \"#276419\"]], \"sequential\": [[0.0, \"#0d0887\"], [0.1111111111111111, \"#46039f\"], [0.2222222222222222, \"#7201a8\"], [0.3333333333333333, \"#9c179e\"], [0.4444444444444444, \"#bd3786\"], [0.5555555555555556, \"#d8576b\"], [0.6666666666666666, \"#ed7953\"], [0.7777777777777778, \"#fb9f3a\"], [0.8888888888888888, \"#fdca26\"], [1.0, \"#f0f921\"]], \"sequentialminus\": [[0.0, \"#0d0887\"], [0.1111111111111111, \"#46039f\"], [0.2222222222222222, \"#7201a8\"], [0.3333333333333333, \"#9c179e\"], [0.4444444444444444, \"#bd3786\"], [0.5555555555555556, \"#d8576b\"], [0.6666666666666666, \"#ed7953\"], [0.7777777777777778, \"#fb9f3a\"], [0.8888888888888888, \"#fdca26\"], [1.0, \"#f0f921\"]]}, \"colorway\": [\"#636efa\", \"#EF553B\", \"#00cc96\", \"#ab63fa\", \"#FFA15A\", \"#19d3f3\", \"#FF6692\", \"#B6E880\", \"#FF97FF\", \"#FECB52\"], \"font\": {\"color\": \"#2a3f5f\"}, \"geo\": {\"bgcolor\": \"white\", \"lakecolor\": \"white\", \"landcolor\": \"#E5ECF6\", \"showlakes\": true, \"showland\": true, \"subunitcolor\": \"white\"}, \"hoverlabel\": {\"align\": \"left\"}, \"hovermode\": \"closest\", \"mapbox\": {\"style\": \"light\"}, \"paper_bgcolor\": \"white\", \"plot_bgcolor\": \"#E5ECF6\", \"polar\": {\"angularaxis\": {\"gridcolor\": \"white\", \"linecolor\": \"white\", \"ticks\": \"\"}, \"bgcolor\": \"#E5ECF6\", \"radialaxis\": {\"gridcolor\": \"white\", \"linecolor\": \"white\", \"ticks\": \"\"}}, \"scene\": {\"xaxis\": {\"backgroundcolor\": \"#E5ECF6\", \"gridcolor\": \"white\", \"gridwidth\": 2, \"linecolor\": \"white\", \"showbackground\": true, \"ticks\": \"\", \"zerolinecolor\": \"white\"}, \"yaxis\": {\"backgroundcolor\": \"#E5ECF6\", \"gridcolor\": \"white\", \"gridwidth\": 2, \"linecolor\": \"white\", \"showbackground\": true, \"ticks\": \"\", \"zerolinecolor\": \"white\"}, \"zaxis\": {\"backgroundcolor\": \"#E5ECF6\", \"gridcolor\": \"white\", \"gridwidth\": 2, \"linecolor\": \"white\", \"showbackground\": true, \"ticks\": \"\", \"zerolinecolor\": \"white\"}}, \"shapedefaults\": {\"line\": {\"color\": \"#2a3f5f\"}}, \"ternary\": {\"aaxis\": {\"gridcolor\": \"white\", \"linecolor\": \"white\", \"ticks\": \"\"}, \"baxis\": {\"gridcolor\": \"white\", \"linecolor\": \"white\", \"ticks\": \"\"}, \"bgcolor\": \"#E5ECF6\", \"caxis\": {\"gridcolor\": \"white\", \"linecolor\": \"white\", \"ticks\": \"\"}}, \"title\": {\"x\": 0.05}, \"xaxis\": {\"automargin\": true, \"gridcolor\": \"white\", \"linecolor\": \"white\", \"ticks\": \"\", \"title\": {\"standoff\": 15}, \"zerolinecolor\": \"white\", \"zerolinewidth\": 2}, \"yaxis\": {\"automargin\": true, \"gridcolor\": \"white\", \"linecolor\": \"white\", \"ticks\": \"\", \"title\": {\"standoff\": 15}, \"zerolinecolor\": \"white\", \"zerolinewidth\": 2}}}},                        {\"responsive\": true}                    ).then(function(){\n",
       "                            \n",
       "var gd = document.getElementById('ceba51f4-f31c-4dad-a754-1a8dc9b89c03');\n",
       "var x = new MutationObserver(function (mutations, observer) {{\n",
       "        var display = window.getComputedStyle(gd).display;\n",
       "        if (!display || display === 'none') {{\n",
       "            console.log([gd, 'removed!']);\n",
       "            Plotly.purge(gd);\n",
       "            observer.disconnect();\n",
       "        }}\n",
       "}});\n",
       "\n",
       "// Listen for the removal of the full notebook cells\n",
       "var notebookContainer = gd.closest('#notebook-container');\n",
       "if (notebookContainer) {{\n",
       "    x.observe(notebookContainer, {childList: true});\n",
       "}}\n",
       "\n",
       "// Listen for the clearing of the current output cell\n",
       "var outputEl = gd.closest('.output');\n",
       "if (outputEl) {{\n",
       "    x.observe(outputEl, {childList: true});\n",
       "}}\n",
       "\n",
       "                        })                };                });            </script>        </div>"
      ]
     },
     "metadata": {},
     "output_type": "display_data"
    }
   ],
   "source": [
    "#Plotting map\n",
    "\n",
    "fig = px.choropleth(result_rank, locations=\"Country\",\n",
    "                    color=0, # lifeExp is a column of gapminder\n",
    "                    hover_name=\"Country\", # column to add to hover information\n",
    "#                    color_continuous_scale=px.colors.sequential.Greens)\n",
    "#                    color_continuous_scale=px.colors.sequential.Tealgrn[::-1])\n",
    "                    color_continuous_scale=px.colors.diverging.RdYlGn[::-1])\n",
    "fig.show()"
   ]
  },
  {
   "cell_type": "code",
   "execution_count": 222,
   "metadata": {},
   "outputs": [
    {
     "data": {
      "text/html": [
       "<style  type=\"text/css\" >\n",
       "</style><table id=\"T_ca0c0_\" ><thead>    <tr>        <th class=\"col_heading level0 col0\" >Country</th>        <th class=\"col_heading level0 col1\" >0</th>    </tr></thead><tbody>\n",
       "                <tr>\n",
       "                                <td id=\"T_ca0c0_row0_col0\" class=\"data row0 col0\" >USA</td>\n",
       "                        <td id=\"T_ca0c0_row0_col1\" class=\"data row0 col1\" >1.0</td>\n",
       "            </tr>\n",
       "            <tr>\n",
       "                                <td id=\"T_ca0c0_row1_col0\" class=\"data row1 col0\" >DEU</td>\n",
       "                        <td id=\"T_ca0c0_row1_col1\" class=\"data row1 col1\" >2.0</td>\n",
       "            </tr>\n",
       "            <tr>\n",
       "                                <td id=\"T_ca0c0_row2_col0\" class=\"data row2 col0\" >BRA</td>\n",
       "                        <td id=\"T_ca0c0_row2_col1\" class=\"data row2 col1\" >3.0</td>\n",
       "            </tr>\n",
       "            <tr>\n",
       "                                <td id=\"T_ca0c0_row3_col0\" class=\"data row3 col0\" >MEX</td>\n",
       "                        <td id=\"T_ca0c0_row3_col1\" class=\"data row3 col1\" >4.0</td>\n",
       "            </tr>\n",
       "            <tr>\n",
       "                                <td id=\"T_ca0c0_row4_col0\" class=\"data row4 col0\" >GBR</td>\n",
       "                        <td id=\"T_ca0c0_row4_col1\" class=\"data row4 col1\" >5.0</td>\n",
       "            </tr>\n",
       "    </tbody></table>"
      ],
      "text/plain": [
       "<pandas.io.formats.style.Styler at 0x24318262970>"
      ]
     },
     "metadata": {},
     "output_type": "display_data"
    },
    {
     "data": {
      "text/html": [
       "<style  type=\"text/css\" >\n",
       "</style><table id=\"T_0b26b_\" ><thead>    <tr>        <th class=\"col_heading level0 col0\" >Country</th>        <th class=\"col_heading level0 col1\" >1</th>    </tr></thead><tbody>\n",
       "                <tr>\n",
       "                                <td id=\"T_0b26b_row0_col0\" class=\"data row0 col0\" >USA</td>\n",
       "                        <td id=\"T_0b26b_row0_col1\" class=\"data row0 col1\" >1.0</td>\n",
       "            </tr>\n",
       "            <tr>\n",
       "                                <td id=\"T_0b26b_row1_col0\" class=\"data row1 col0\" >PHL</td>\n",
       "                        <td id=\"T_0b26b_row1_col1\" class=\"data row1 col1\" >2.0</td>\n",
       "            </tr>\n",
       "            <tr>\n",
       "                                <td id=\"T_0b26b_row2_col0\" class=\"data row2 col0\" >IDN</td>\n",
       "                        <td id=\"T_0b26b_row2_col1\" class=\"data row2 col1\" >3.0</td>\n",
       "            </tr>\n",
       "            <tr>\n",
       "                                <td id=\"T_0b26b_row3_col0\" class=\"data row3 col0\" >BRA</td>\n",
       "                        <td id=\"T_0b26b_row3_col1\" class=\"data row3 col1\" >4.0</td>\n",
       "            </tr>\n",
       "            <tr>\n",
       "                                <td id=\"T_0b26b_row4_col0\" class=\"data row4 col0\" >GBR</td>\n",
       "                        <td id=\"T_0b26b_row4_col1\" class=\"data row4 col1\" >4.0</td>\n",
       "            </tr>\n",
       "    </tbody></table>"
      ],
      "text/plain": [
       "<pandas.io.formats.style.Styler at 0x242ac92ae80>"
      ]
     },
     "metadata": {},
     "output_type": "display_data"
    },
    {
     "data": {
      "text/html": [
       "<style  type=\"text/css\" >\n",
       "</style><table id=\"T_ee041_\" ><thead>    <tr>        <th class=\"col_heading level0 col0\" >Country</th>        <th class=\"col_heading level0 col1\" >2</th>    </tr></thead><tbody>\n",
       "                <tr>\n",
       "                                <td id=\"T_ee041_row0_col0\" class=\"data row0 col0\" >USA</td>\n",
       "                        <td id=\"T_ee041_row0_col1\" class=\"data row0 col1\" >1.0</td>\n",
       "            </tr>\n",
       "            <tr>\n",
       "                                <td id=\"T_ee041_row1_col0\" class=\"data row1 col0\" >BRA</td>\n",
       "                        <td id=\"T_ee041_row1_col1\" class=\"data row1 col1\" >2.0</td>\n",
       "            </tr>\n",
       "            <tr>\n",
       "                                <td id=\"T_ee041_row2_col0\" class=\"data row2 col0\" >MEX</td>\n",
       "                        <td id=\"T_ee041_row2_col1\" class=\"data row2 col1\" >3.0</td>\n",
       "            </tr>\n",
       "            <tr>\n",
       "                                <td id=\"T_ee041_row3_col0\" class=\"data row3 col0\" >GBR</td>\n",
       "                        <td id=\"T_ee041_row3_col1\" class=\"data row3 col1\" >4.0</td>\n",
       "            </tr>\n",
       "            <tr>\n",
       "                                <td id=\"T_ee041_row4_col0\" class=\"data row4 col0\" >DEU</td>\n",
       "                        <td id=\"T_ee041_row4_col1\" class=\"data row4 col1\" >5.0</td>\n",
       "            </tr>\n",
       "    </tbody></table>"
      ],
      "text/plain": [
       "<pandas.io.formats.style.Styler at 0x242ac92a2e0>"
      ]
     },
     "metadata": {},
     "output_type": "display_data"
    },
    {
     "data": {
      "text/html": [
       "<style  type=\"text/css\" >\n",
       "</style><table id=\"T_958cf_\" ><thead>    <tr>        <th class=\"col_heading level0 col0\" >Country</th>        <th class=\"col_heading level0 col1\" >3</th>    </tr></thead><tbody>\n",
       "                <tr>\n",
       "                                <td id=\"T_958cf_row0_col0\" class=\"data row0 col0\" >USA</td>\n",
       "                        <td id=\"T_958cf_row0_col1\" class=\"data row0 col1\" >1.0</td>\n",
       "            </tr>\n",
       "            <tr>\n",
       "                                <td id=\"T_958cf_row1_col0\" class=\"data row1 col0\" >TUR</td>\n",
       "                        <td id=\"T_958cf_row1_col1\" class=\"data row1 col1\" >2.0</td>\n",
       "            </tr>\n",
       "            <tr>\n",
       "                                <td id=\"T_958cf_row2_col0\" class=\"data row2 col0\" >DEU</td>\n",
       "                        <td id=\"T_958cf_row2_col1\" class=\"data row2 col1\" >3.0</td>\n",
       "            </tr>\n",
       "            <tr>\n",
       "                                <td id=\"T_958cf_row3_col0\" class=\"data row3 col0\" >GBR</td>\n",
       "                        <td id=\"T_958cf_row3_col1\" class=\"data row3 col1\" >4.0</td>\n",
       "            </tr>\n",
       "            <tr>\n",
       "                                <td id=\"T_958cf_row4_col0\" class=\"data row4 col0\" >IDN</td>\n",
       "                        <td id=\"T_958cf_row4_col1\" class=\"data row4 col1\" >5.0</td>\n",
       "            </tr>\n",
       "    </tbody></table>"
      ],
      "text/plain": [
       "<pandas.io.formats.style.Styler at 0x242ac968940>"
      ]
     },
     "metadata": {},
     "output_type": "display_data"
    },
    {
     "data": {
      "text/html": [
       "<style  type=\"text/css\" >\n",
       "</style><table id=\"T_306ec_\" ><thead>    <tr>        <th class=\"col_heading level0 col0\" >Country</th>        <th class=\"col_heading level0 col1\" >4</th>    </tr></thead><tbody>\n",
       "                <tr>\n",
       "                                <td id=\"T_306ec_row0_col0\" class=\"data row0 col0\" >USA</td>\n",
       "                        <td id=\"T_306ec_row0_col1\" class=\"data row0 col1\" >1.0</td>\n",
       "            </tr>\n",
       "            <tr>\n",
       "                                <td id=\"T_306ec_row1_col0\" class=\"data row1 col0\" >MEX</td>\n",
       "                        <td id=\"T_306ec_row1_col1\" class=\"data row1 col1\" >2.0</td>\n",
       "            </tr>\n",
       "            <tr>\n",
       "                                <td id=\"T_306ec_row2_col0\" class=\"data row2 col0\" >BRA</td>\n",
       "                        <td id=\"T_306ec_row2_col1\" class=\"data row2 col1\" >3.0</td>\n",
       "            </tr>\n",
       "            <tr>\n",
       "                                <td id=\"T_306ec_row3_col0\" class=\"data row3 col0\" >GBR</td>\n",
       "                        <td id=\"T_306ec_row3_col1\" class=\"data row3 col1\" >4.0</td>\n",
       "            </tr>\n",
       "            <tr>\n",
       "                                <td id=\"T_306ec_row4_col0\" class=\"data row4 col0\" >FRA</td>\n",
       "                        <td id=\"T_306ec_row4_col1\" class=\"data row4 col1\" >6.0</td>\n",
       "            </tr>\n",
       "    </tbody></table>"
      ],
      "text/plain": [
       "<pandas.io.formats.style.Styler at 0x242ac95d850>"
      ]
     },
     "metadata": {},
     "output_type": "display_data"
    }
   ],
   "source": [
    "#Rankings per country\n",
    "\n",
    "from IPython.core import display as ICD\n",
    "\n",
    "result_rank_2 = result_rank.copy()\n",
    "\n",
    "for x in range(0,opt_clusters):\n",
    "#    b = str(x)\n",
    "    ranking_table = result_rank_2[['Country', x]]\n",
    "    ranking_table = ranking_table.sort_values(by=[x], ascending=True).head(5)\n",
    "    ranking_table = ranking_table.astype(str)\n",
    "    ranking_table = ranking_table.style.hide_index()        \n",
    "    ICD.display(ranking_table)"
   ]
  },
  {
   "cell_type": "code",
   "execution_count": 223,
   "metadata": {},
   "outputs": [
    {
     "data": {
      "text/html": [
       "<div>\n",
       "<style scoped>\n",
       "    .dataframe tbody tr th:only-of-type {\n",
       "        vertical-align: middle;\n",
       "    }\n",
       "\n",
       "    .dataframe tbody tr th {\n",
       "        vertical-align: top;\n",
       "    }\n",
       "\n",
       "    .dataframe thead tr th {\n",
       "        text-align: left;\n",
       "    }\n",
       "\n",
       "    .dataframe thead tr:last-of-type th {\n",
       "        text-align: right;\n",
       "    }\n",
       "</style>\n",
       "<table border=\"1\" class=\"dataframe\">\n",
       "  <thead>\n",
       "    <tr>\n",
       "      <th></th>\n",
       "      <th colspan=\"5\" halign=\"left\">Streams</th>\n",
       "    </tr>\n",
       "    <tr>\n",
       "      <th>k_means</th>\n",
       "      <th>0</th>\n",
       "      <th>1</th>\n",
       "      <th>2</th>\n",
       "      <th>3</th>\n",
       "      <th>4</th>\n",
       "    </tr>\n",
       "    <tr>\n",
       "      <th>country code</th>\n",
       "      <th></th>\n",
       "      <th></th>\n",
       "      <th></th>\n",
       "      <th></th>\n",
       "      <th></th>\n",
       "    </tr>\n",
       "  </thead>\n",
       "  <tbody>\n",
       "    <tr>\n",
       "      <th>ARE</th>\n",
       "      <td>0.000202</td>\n",
       "      <td>0.000267</td>\n",
       "      <td>0.000159</td>\n",
       "      <td>0.000260</td>\n",
       "      <td>0.000217</td>\n",
       "    </tr>\n",
       "    <tr>\n",
       "      <th>ARG</th>\n",
       "      <td>0.017664</td>\n",
       "      <td>0.005742</td>\n",
       "      <td>0.017633</td>\n",
       "      <td>0.004155</td>\n",
       "      <td>0.012724</td>\n",
       "    </tr>\n",
       "    <tr>\n",
       "      <th>AUS</th>\n",
       "      <td>0.016286</td>\n",
       "      <td>0.021814</td>\n",
       "      <td>0.018183</td>\n",
       "      <td>0.028428</td>\n",
       "      <td>0.017848</td>\n",
       "    </tr>\n",
       "    <tr>\n",
       "      <th>AUT</th>\n",
       "      <td>0.002772</td>\n",
       "      <td>0.001537</td>\n",
       "      <td>0.002141</td>\n",
       "      <td>0.004163</td>\n",
       "      <td>0.001687</td>\n",
       "    </tr>\n",
       "    <tr>\n",
       "      <th>BEL</th>\n",
       "      <td>0.003442</td>\n",
       "      <td>0.003951</td>\n",
       "      <td>0.003011</td>\n",
       "      <td>0.007434</td>\n",
       "      <td>0.003552</td>\n",
       "    </tr>\n",
       "    <tr>\n",
       "      <th>...</th>\n",
       "      <td>...</td>\n",
       "      <td>...</td>\n",
       "      <td>...</td>\n",
       "      <td>...</td>\n",
       "      <td>...</td>\n",
       "    </tr>\n",
       "    <tr>\n",
       "      <th>UKR</th>\n",
       "      <td>0.000250</td>\n",
       "      <td>0.000130</td>\n",
       "      <td>0.000171</td>\n",
       "      <td>0.001046</td>\n",
       "      <td>0.000181</td>\n",
       "    </tr>\n",
       "    <tr>\n",
       "      <th>URY</th>\n",
       "      <td>0.001281</td>\n",
       "      <td>0.000279</td>\n",
       "      <td>0.001270</td>\n",
       "      <td>0.000231</td>\n",
       "      <td>0.000894</td>\n",
       "    </tr>\n",
       "    <tr>\n",
       "      <th>USA</th>\n",
       "      <td>0.121710</td>\n",
       "      <td>0.132861</td>\n",
       "      <td>0.130566</td>\n",
       "      <td>0.120465</td>\n",
       "      <td>0.127737</td>\n",
       "    </tr>\n",
       "    <tr>\n",
       "      <th>VNM</th>\n",
       "      <td>0.000760</td>\n",
       "      <td>0.002730</td>\n",
       "      <td>0.000648</td>\n",
       "      <td>0.001550</td>\n",
       "      <td>0.001917</td>\n",
       "    </tr>\n",
       "    <tr>\n",
       "      <th>ZAF</th>\n",
       "      <td>0.000550</td>\n",
       "      <td>0.000674</td>\n",
       "      <td>0.000515</td>\n",
       "      <td>0.002545</td>\n",
       "      <td>0.000531</td>\n",
       "    </tr>\n",
       "  </tbody>\n",
       "</table>\n",
       "<p>68 rows × 5 columns</p>\n",
       "</div>"
      ],
      "text/plain": [
       "               Streams                                        \n",
       "k_means              0         1         2         3         4\n",
       "country code                                                  \n",
       "ARE           0.000202  0.000267  0.000159  0.000260  0.000217\n",
       "ARG           0.017664  0.005742  0.017633  0.004155  0.012724\n",
       "AUS           0.016286  0.021814  0.018183  0.028428  0.017848\n",
       "AUT           0.002772  0.001537  0.002141  0.004163  0.001687\n",
       "BEL           0.003442  0.003951  0.003011  0.007434  0.003552\n",
       "...                ...       ...       ...       ...       ...\n",
       "UKR           0.000250  0.000130  0.000171  0.001046  0.000181\n",
       "URY           0.001281  0.000279  0.001270  0.000231  0.000894\n",
       "USA           0.121710  0.132861  0.130566  0.120465  0.127737\n",
       "VNM           0.000760  0.002730  0.000648  0.001550  0.001917\n",
       "ZAF           0.000550  0.000674  0.000515  0.002545  0.000531\n",
       "\n",
       "[68 rows x 5 columns]"
      ]
     },
     "execution_count": 223,
     "metadata": {},
     "output_type": "execute_result"
    }
   ],
   "source": [
    "countries_matrix_2 = cluster_country_cluster_pcts.pivot_table(index=['country code'], columns=['k_means'])\n",
    "countries_matrix_2"
   ]
  },
  {
   "cell_type": "code",
   "execution_count": 224,
   "metadata": {},
   "outputs": [
    {
     "data": {
      "text/html": [
       "<div>\n",
       "<style scoped>\n",
       "    .dataframe tbody tr th:only-of-type {\n",
       "        vertical-align: middle;\n",
       "    }\n",
       "\n",
       "    .dataframe tbody tr th {\n",
       "        vertical-align: top;\n",
       "    }\n",
       "\n",
       "    .dataframe thead th {\n",
       "        text-align: right;\n",
       "    }\n",
       "</style>\n",
       "<table border=\"1\" class=\"dataframe\">\n",
       "  <thead>\n",
       "    <tr style=\"text-align: right;\">\n",
       "      <th>Index</th>\n",
       "      <th>Country</th>\n",
       "      <th>0</th>\n",
       "      <th>1</th>\n",
       "      <th>2</th>\n",
       "      <th>3</th>\n",
       "      <th>4</th>\n",
       "    </tr>\n",
       "  </thead>\n",
       "  <tbody>\n",
       "    <tr>\n",
       "      <th>0</th>\n",
       "      <td>ARE</td>\n",
       "      <td>0.000202</td>\n",
       "      <td>0.000267</td>\n",
       "      <td>0.000159</td>\n",
       "      <td>0.000260</td>\n",
       "      <td>0.000217</td>\n",
       "    </tr>\n",
       "    <tr>\n",
       "      <th>1</th>\n",
       "      <td>ARG</td>\n",
       "      <td>0.017664</td>\n",
       "      <td>0.005742</td>\n",
       "      <td>0.017633</td>\n",
       "      <td>0.004155</td>\n",
       "      <td>0.012724</td>\n",
       "    </tr>\n",
       "    <tr>\n",
       "      <th>2</th>\n",
       "      <td>AUS</td>\n",
       "      <td>0.016286</td>\n",
       "      <td>0.021814</td>\n",
       "      <td>0.018183</td>\n",
       "      <td>0.028428</td>\n",
       "      <td>0.017848</td>\n",
       "    </tr>\n",
       "    <tr>\n",
       "      <th>3</th>\n",
       "      <td>AUT</td>\n",
       "      <td>0.002772</td>\n",
       "      <td>0.001537</td>\n",
       "      <td>0.002141</td>\n",
       "      <td>0.004163</td>\n",
       "      <td>0.001687</td>\n",
       "    </tr>\n",
       "    <tr>\n",
       "      <th>4</th>\n",
       "      <td>BEL</td>\n",
       "      <td>0.003442</td>\n",
       "      <td>0.003951</td>\n",
       "      <td>0.003011</td>\n",
       "      <td>0.007434</td>\n",
       "      <td>0.003552</td>\n",
       "    </tr>\n",
       "    <tr>\n",
       "      <th>...</th>\n",
       "      <td>...</td>\n",
       "      <td>...</td>\n",
       "      <td>...</td>\n",
       "      <td>...</td>\n",
       "      <td>...</td>\n",
       "      <td>...</td>\n",
       "    </tr>\n",
       "    <tr>\n",
       "      <th>63</th>\n",
       "      <td>UKR</td>\n",
       "      <td>0.000250</td>\n",
       "      <td>0.000130</td>\n",
       "      <td>0.000171</td>\n",
       "      <td>0.001046</td>\n",
       "      <td>0.000181</td>\n",
       "    </tr>\n",
       "    <tr>\n",
       "      <th>64</th>\n",
       "      <td>URY</td>\n",
       "      <td>0.001281</td>\n",
       "      <td>0.000279</td>\n",
       "      <td>0.001270</td>\n",
       "      <td>0.000231</td>\n",
       "      <td>0.000894</td>\n",
       "    </tr>\n",
       "    <tr>\n",
       "      <th>65</th>\n",
       "      <td>USA</td>\n",
       "      <td>0.121710</td>\n",
       "      <td>0.132861</td>\n",
       "      <td>0.130566</td>\n",
       "      <td>0.120465</td>\n",
       "      <td>0.127737</td>\n",
       "    </tr>\n",
       "    <tr>\n",
       "      <th>66</th>\n",
       "      <td>VNM</td>\n",
       "      <td>0.000760</td>\n",
       "      <td>0.002730</td>\n",
       "      <td>0.000648</td>\n",
       "      <td>0.001550</td>\n",
       "      <td>0.001917</td>\n",
       "    </tr>\n",
       "    <tr>\n",
       "      <th>67</th>\n",
       "      <td>ZAF</td>\n",
       "      <td>0.000550</td>\n",
       "      <td>0.000674</td>\n",
       "      <td>0.000515</td>\n",
       "      <td>0.002545</td>\n",
       "      <td>0.000531</td>\n",
       "    </tr>\n",
       "  </tbody>\n",
       "</table>\n",
       "<p>68 rows × 6 columns</p>\n",
       "</div>"
      ],
      "text/plain": [
       "Index Country         0         1         2         3         4\n",
       "0         ARE  0.000202  0.000267  0.000159  0.000260  0.000217\n",
       "1         ARG  0.017664  0.005742  0.017633  0.004155  0.012724\n",
       "2         AUS  0.016286  0.021814  0.018183  0.028428  0.017848\n",
       "3         AUT  0.002772  0.001537  0.002141  0.004163  0.001687\n",
       "4         BEL  0.003442  0.003951  0.003011  0.007434  0.003552\n",
       "..        ...       ...       ...       ...       ...       ...\n",
       "63        UKR  0.000250  0.000130  0.000171  0.001046  0.000181\n",
       "64        URY  0.001281  0.000279  0.001270  0.000231  0.000894\n",
       "65        USA  0.121710  0.132861  0.130566  0.120465  0.127737\n",
       "66        VNM  0.000760  0.002730  0.000648  0.001550  0.001917\n",
       "67        ZAF  0.000550  0.000674  0.000515  0.002545  0.000531\n",
       "\n",
       "[68 rows x 6 columns]"
      ]
     },
     "execution_count": 224,
     "metadata": {},
     "output_type": "execute_result"
    }
   ],
   "source": [
    "countries_all_clusters_2 = countries_matrix_2.copy()\n",
    "countries_all_clusters_2.columns = countries_all_clusters_2.columns.droplevel(0)\n",
    "countries_all_clusters_2.reset_index(inplace = True)\n",
    "countries_all_clusters_2.columns.name = \"Index\"\n",
    "columns_names = countries_all_clusters_2.columns\n",
    "\n",
    "countries_all_clusters_2 = countries_matrix_2.copy()\n",
    "countries_all_clusters_2.columns = countries_all_clusters_2.columns.droplevel(1)\n",
    "countries_all_clusters_2.reset_index(inplace = True)\n",
    "countries_all_clusters_2.columns = columns_names\n",
    "countries_all_clusters_2 = countries_all_clusters_2.rename(columns = {'country code': 'Country'}, inplace = False)\n",
    "countries_all_clusters_2\n",
    "#countries_all_clusters.reset_index(inplace = True)"
   ]
  },
  {
   "cell_type": "code",
   "execution_count": 225,
   "metadata": {},
   "outputs": [
    {
     "data": {
      "text/html": [
       "<div>\n",
       "<style scoped>\n",
       "    .dataframe tbody tr th:only-of-type {\n",
       "        vertical-align: middle;\n",
       "    }\n",
       "\n",
       "    .dataframe tbody tr th {\n",
       "        vertical-align: top;\n",
       "    }\n",
       "\n",
       "    .dataframe thead th {\n",
       "        text-align: right;\n",
       "    }\n",
       "</style>\n",
       "<table border=\"1\" class=\"dataframe\">\n",
       "  <thead>\n",
       "    <tr style=\"text-align: right;\">\n",
       "      <th></th>\n",
       "      <th>Country</th>\n",
       "      <th>Best Cluster</th>\n",
       "    </tr>\n",
       "  </thead>\n",
       "  <tbody>\n",
       "    <tr>\n",
       "      <th>1</th>\n",
       "      <td>ARG</td>\n",
       "      <td>0</td>\n",
       "    </tr>\n",
       "    <tr>\n",
       "      <th>64</th>\n",
       "      <td>URY</td>\n",
       "      <td>0</td>\n",
       "    </tr>\n",
       "    <tr>\n",
       "      <th>15</th>\n",
       "      <td>DNK</td>\n",
       "      <td>0</td>\n",
       "    </tr>\n",
       "    <tr>\n",
       "      <th>51</th>\n",
       "      <td>PRT</td>\n",
       "      <td>0</td>\n",
       "    </tr>\n",
       "    <tr>\n",
       "      <th>50</th>\n",
       "      <td>POL</td>\n",
       "      <td>0</td>\n",
       "    </tr>\n",
       "    <tr>\n",
       "      <th>...</th>\n",
       "      <td>...</td>\n",
       "      <td>...</td>\n",
       "    </tr>\n",
       "    <tr>\n",
       "      <th>40</th>\n",
       "      <td>MAR</td>\n",
       "      <td>4</td>\n",
       "    </tr>\n",
       "    <tr>\n",
       "      <th>41</th>\n",
       "      <td>MEX</td>\n",
       "      <td>4</td>\n",
       "    </tr>\n",
       "    <tr>\n",
       "      <th>42</th>\n",
       "      <td>MYS</td>\n",
       "      <td>4</td>\n",
       "    </tr>\n",
       "    <tr>\n",
       "      <th>59</th>\n",
       "      <td>SWE</td>\n",
       "      <td>4</td>\n",
       "    </tr>\n",
       "    <tr>\n",
       "      <th>22</th>\n",
       "      <td>FRA</td>\n",
       "      <td>4</td>\n",
       "    </tr>\n",
       "  </tbody>\n",
       "</table>\n",
       "<p>68 rows × 2 columns</p>\n",
       "</div>"
      ],
      "text/plain": [
       "   Country Best Cluster\n",
       "1      ARG            0\n",
       "64     URY            0\n",
       "15     DNK            0\n",
       "51     PRT            0\n",
       "50     POL            0\n",
       "..     ...          ...\n",
       "40     MAR            4\n",
       "41     MEX            4\n",
       "42     MYS            4\n",
       "59     SWE            4\n",
       "22     FRA            4\n",
       "\n",
       "[68 rows x 2 columns]"
      ]
     },
     "execution_count": 225,
     "metadata": {},
     "output_type": "execute_result"
    }
   ],
   "source": [
    "countries_values = countries_all_clusters_2.set_index('Country')\n",
    "maxValueIndex_2 = countries_values.idxmax(axis = 1)\n",
    "countries_best_cluster_2 = pd.DataFrame(maxValueIndex_2)\n",
    "countries_best_cluster_2.reset_index(inplace = True)\n",
    "countries_best_cluster_2 = countries_best_cluster_2.rename(columns = {0: 'Best Cluster'}, inplace = False)\n",
    "countries_best_cluster_2 = countries_best_cluster_2.sort_values(by=['Best Cluster'], ascending=True)\n",
    "countries_best_cluster_2 = countries_best_cluster_2.astype({\"Best Cluster\": str})\n",
    "countries_best_cluster_2"
   ]
  },
  {
   "cell_type": "code",
   "execution_count": 226,
   "metadata": {},
   "outputs": [
    {
     "data": {
      "application/vnd.plotly.v1+json": {
       "config": {
        "plotlyServerURL": "https://plot.ly"
       },
       "data": [
        {
         "colorscale": [
          [
           0,
           "#636efa"
          ],
          [
           1,
           "#636efa"
          ]
         ],
         "geo": "geo",
         "hovertemplate": "<b>%{hovertext}</b><br><br>Best Cluster=0<br>Country=%{location}<extra></extra>",
         "hovertext": [
          "ARG",
          "URY",
          "DNK",
          "PRT",
          "POL",
          "ESP",
          "NLD",
          "LUX",
          "CZE"
         ],
         "locations": [
          "ARG",
          "URY",
          "DNK",
          "PRT",
          "POL",
          "ESP",
          "NLD",
          "LUX",
          "CZE"
         ],
         "name": "0",
         "showlegend": true,
         "showscale": false,
         "type": "choropleth",
         "z": [
          1,
          1,
          1,
          1,
          1,
          1,
          1,
          1,
          1
         ]
        },
        {
         "colorscale": [
          [
           0,
           "#EF553B"
          ],
          [
           1,
           "#EF553B"
          ]
         ],
         "geo": "geo",
         "hovertemplate": "<b>%{hovertext}</b><br><br>Best Cluster=1<br>Country=%{location}<extra></extra>",
         "hovertext": [
          "ARE",
          "IDN",
          "IND",
          "VNM",
          "KOR",
          "NZL",
          "SGP",
          "THA",
          "TWN",
          "USA",
          "PHL",
          "HKG",
          "ISR",
          "CAN"
         ],
         "locations": [
          "ARE",
          "IDN",
          "IND",
          "VNM",
          "KOR",
          "NZL",
          "SGP",
          "THA",
          "TWN",
          "USA",
          "PHL",
          "HKG",
          "ISR",
          "CAN"
         ],
         "name": "1",
         "showlegend": true,
         "showscale": false,
         "type": "choropleth",
         "z": [
          1,
          1,
          1,
          1,
          1,
          1,
          1,
          1,
          1,
          1,
          1,
          1,
          1,
          1
         ]
        },
        {
         "colorscale": [
          [
           0,
           "#00cc96"
          ],
          [
           1,
           "#00cc96"
          ]
         ],
         "geo": "geo",
         "hovertemplate": "<b>%{hovertext}</b><br><br>Best Cluster=2<br>Country=%{location}<extra></extra>",
         "hovertext": [
          "COL",
          "PER",
          "BRA",
          "PRY",
          "CRI",
          "BOL",
          "JPN",
          "PAN",
          "DOM",
          "SLV",
          "ECU",
          "HND",
          "GTM",
          "CHL"
         ],
         "locations": [
          "COL",
          "PER",
          "BRA",
          "PRY",
          "CRI",
          "BOL",
          "JPN",
          "PAN",
          "DOM",
          "SLV",
          "ECU",
          "HND",
          "GTM",
          "CHL"
         ],
         "name": "2",
         "showlegend": true,
         "showscale": false,
         "type": "choropleth",
         "z": [
          1,
          1,
          1,
          1,
          1,
          1,
          1,
          1,
          1,
          1,
          1,
          1,
          1,
          1
         ]
        },
        {
         "colorscale": [
          [
           0,
           "#ab63fa"
          ],
          [
           1,
           "#ab63fa"
          ]
         ],
         "geo": "geo",
         "hovertemplate": "<b>%{hovertext}</b><br><br>Best Cluster=3<br>Country=%{location}<extra></extra>",
         "hovertext": [
          "BGR",
          "TUR",
          "BEL",
          "RUS",
          "ROU",
          "UKR",
          "AUT",
          "CHE",
          "AUS",
          "SVK",
          "ZAF",
          "FIN",
          "NIC",
          "GRC",
          "EST",
          "LVA",
          "LTU",
          "HUN",
          "DEU",
          "EGY",
          "IRL"
         ],
         "locations": [
          "BGR",
          "TUR",
          "BEL",
          "RUS",
          "ROU",
          "UKR",
          "AUT",
          "CHE",
          "AUS",
          "SVK",
          "ZAF",
          "FIN",
          "NIC",
          "GRC",
          "EST",
          "LVA",
          "LTU",
          "HUN",
          "DEU",
          "EGY",
          "IRL"
         ],
         "name": "3",
         "showlegend": true,
         "showscale": false,
         "type": "choropleth",
         "z": [
          1,
          1,
          1,
          1,
          1,
          1,
          1,
          1,
          1,
          1,
          1,
          1,
          1,
          1,
          1,
          1,
          1,
          1,
          1,
          1,
          1
         ]
        },
        {
         "colorscale": [
          [
           0,
           "#FFA15A"
          ],
          [
           1,
           "#FFA15A"
          ]
         ],
         "geo": "geo",
         "hovertemplate": "<b>%{hovertext}</b><br><br>Best Cluster=4<br>Country=%{location}<extra></extra>",
         "hovertext": [
          "GBR",
          "ITA",
          "ISL",
          "NOR",
          "SAU",
          "MAR",
          "MEX",
          "MYS",
          "SWE",
          "FRA"
         ],
         "locations": [
          "GBR",
          "ITA",
          "ISL",
          "NOR",
          "SAU",
          "MAR",
          "MEX",
          "MYS",
          "SWE",
          "FRA"
         ],
         "name": "4",
         "showlegend": true,
         "showscale": false,
         "type": "choropleth",
         "z": [
          1,
          1,
          1,
          1,
          1,
          1,
          1,
          1,
          1,
          1
         ]
        }
       ],
       "layout": {
        "geo": {
         "center": {},
         "domain": {
          "x": [
           0,
           1
          ],
          "y": [
           0,
           1
          ]
         }
        },
        "legend": {
         "title": {
          "text": "Best Cluster"
         },
         "tracegroupgap": 0
        },
        "template": {
         "data": {
          "bar": [
           {
            "error_x": {
             "color": "#2a3f5f"
            },
            "error_y": {
             "color": "#2a3f5f"
            },
            "marker": {
             "line": {
              "color": "#E5ECF6",
              "width": 0.5
             }
            },
            "type": "bar"
           }
          ],
          "barpolar": [
           {
            "marker": {
             "line": {
              "color": "#E5ECF6",
              "width": 0.5
             }
            },
            "type": "barpolar"
           }
          ],
          "carpet": [
           {
            "aaxis": {
             "endlinecolor": "#2a3f5f",
             "gridcolor": "white",
             "linecolor": "white",
             "minorgridcolor": "white",
             "startlinecolor": "#2a3f5f"
            },
            "baxis": {
             "endlinecolor": "#2a3f5f",
             "gridcolor": "white",
             "linecolor": "white",
             "minorgridcolor": "white",
             "startlinecolor": "#2a3f5f"
            },
            "type": "carpet"
           }
          ],
          "choropleth": [
           {
            "colorbar": {
             "outlinewidth": 0,
             "ticks": ""
            },
            "type": "choropleth"
           }
          ],
          "contour": [
           {
            "colorbar": {
             "outlinewidth": 0,
             "ticks": ""
            },
            "colorscale": [
             [
              0,
              "#0d0887"
             ],
             [
              0.1111111111111111,
              "#46039f"
             ],
             [
              0.2222222222222222,
              "#7201a8"
             ],
             [
              0.3333333333333333,
              "#9c179e"
             ],
             [
              0.4444444444444444,
              "#bd3786"
             ],
             [
              0.5555555555555556,
              "#d8576b"
             ],
             [
              0.6666666666666666,
              "#ed7953"
             ],
             [
              0.7777777777777778,
              "#fb9f3a"
             ],
             [
              0.8888888888888888,
              "#fdca26"
             ],
             [
              1,
              "#f0f921"
             ]
            ],
            "type": "contour"
           }
          ],
          "contourcarpet": [
           {
            "colorbar": {
             "outlinewidth": 0,
             "ticks": ""
            },
            "type": "contourcarpet"
           }
          ],
          "heatmap": [
           {
            "colorbar": {
             "outlinewidth": 0,
             "ticks": ""
            },
            "colorscale": [
             [
              0,
              "#0d0887"
             ],
             [
              0.1111111111111111,
              "#46039f"
             ],
             [
              0.2222222222222222,
              "#7201a8"
             ],
             [
              0.3333333333333333,
              "#9c179e"
             ],
             [
              0.4444444444444444,
              "#bd3786"
             ],
             [
              0.5555555555555556,
              "#d8576b"
             ],
             [
              0.6666666666666666,
              "#ed7953"
             ],
             [
              0.7777777777777778,
              "#fb9f3a"
             ],
             [
              0.8888888888888888,
              "#fdca26"
             ],
             [
              1,
              "#f0f921"
             ]
            ],
            "type": "heatmap"
           }
          ],
          "heatmapgl": [
           {
            "colorbar": {
             "outlinewidth": 0,
             "ticks": ""
            },
            "colorscale": [
             [
              0,
              "#0d0887"
             ],
             [
              0.1111111111111111,
              "#46039f"
             ],
             [
              0.2222222222222222,
              "#7201a8"
             ],
             [
              0.3333333333333333,
              "#9c179e"
             ],
             [
              0.4444444444444444,
              "#bd3786"
             ],
             [
              0.5555555555555556,
              "#d8576b"
             ],
             [
              0.6666666666666666,
              "#ed7953"
             ],
             [
              0.7777777777777778,
              "#fb9f3a"
             ],
             [
              0.8888888888888888,
              "#fdca26"
             ],
             [
              1,
              "#f0f921"
             ]
            ],
            "type": "heatmapgl"
           }
          ],
          "histogram": [
           {
            "marker": {
             "colorbar": {
              "outlinewidth": 0,
              "ticks": ""
             }
            },
            "type": "histogram"
           }
          ],
          "histogram2d": [
           {
            "colorbar": {
             "outlinewidth": 0,
             "ticks": ""
            },
            "colorscale": [
             [
              0,
              "#0d0887"
             ],
             [
              0.1111111111111111,
              "#46039f"
             ],
             [
              0.2222222222222222,
              "#7201a8"
             ],
             [
              0.3333333333333333,
              "#9c179e"
             ],
             [
              0.4444444444444444,
              "#bd3786"
             ],
             [
              0.5555555555555556,
              "#d8576b"
             ],
             [
              0.6666666666666666,
              "#ed7953"
             ],
             [
              0.7777777777777778,
              "#fb9f3a"
             ],
             [
              0.8888888888888888,
              "#fdca26"
             ],
             [
              1,
              "#f0f921"
             ]
            ],
            "type": "histogram2d"
           }
          ],
          "histogram2dcontour": [
           {
            "colorbar": {
             "outlinewidth": 0,
             "ticks": ""
            },
            "colorscale": [
             [
              0,
              "#0d0887"
             ],
             [
              0.1111111111111111,
              "#46039f"
             ],
             [
              0.2222222222222222,
              "#7201a8"
             ],
             [
              0.3333333333333333,
              "#9c179e"
             ],
             [
              0.4444444444444444,
              "#bd3786"
             ],
             [
              0.5555555555555556,
              "#d8576b"
             ],
             [
              0.6666666666666666,
              "#ed7953"
             ],
             [
              0.7777777777777778,
              "#fb9f3a"
             ],
             [
              0.8888888888888888,
              "#fdca26"
             ],
             [
              1,
              "#f0f921"
             ]
            ],
            "type": "histogram2dcontour"
           }
          ],
          "mesh3d": [
           {
            "colorbar": {
             "outlinewidth": 0,
             "ticks": ""
            },
            "type": "mesh3d"
           }
          ],
          "parcoords": [
           {
            "line": {
             "colorbar": {
              "outlinewidth": 0,
              "ticks": ""
             }
            },
            "type": "parcoords"
           }
          ],
          "pie": [
           {
            "automargin": true,
            "type": "pie"
           }
          ],
          "scatter": [
           {
            "marker": {
             "colorbar": {
              "outlinewidth": 0,
              "ticks": ""
             }
            },
            "type": "scatter"
           }
          ],
          "scatter3d": [
           {
            "line": {
             "colorbar": {
              "outlinewidth": 0,
              "ticks": ""
             }
            },
            "marker": {
             "colorbar": {
              "outlinewidth": 0,
              "ticks": ""
             }
            },
            "type": "scatter3d"
           }
          ],
          "scattercarpet": [
           {
            "marker": {
             "colorbar": {
              "outlinewidth": 0,
              "ticks": ""
             }
            },
            "type": "scattercarpet"
           }
          ],
          "scattergeo": [
           {
            "marker": {
             "colorbar": {
              "outlinewidth": 0,
              "ticks": ""
             }
            },
            "type": "scattergeo"
           }
          ],
          "scattergl": [
           {
            "marker": {
             "colorbar": {
              "outlinewidth": 0,
              "ticks": ""
             }
            },
            "type": "scattergl"
           }
          ],
          "scattermapbox": [
           {
            "marker": {
             "colorbar": {
              "outlinewidth": 0,
              "ticks": ""
             }
            },
            "type": "scattermapbox"
           }
          ],
          "scatterpolar": [
           {
            "marker": {
             "colorbar": {
              "outlinewidth": 0,
              "ticks": ""
             }
            },
            "type": "scatterpolar"
           }
          ],
          "scatterpolargl": [
           {
            "marker": {
             "colorbar": {
              "outlinewidth": 0,
              "ticks": ""
             }
            },
            "type": "scatterpolargl"
           }
          ],
          "scatterternary": [
           {
            "marker": {
             "colorbar": {
              "outlinewidth": 0,
              "ticks": ""
             }
            },
            "type": "scatterternary"
           }
          ],
          "surface": [
           {
            "colorbar": {
             "outlinewidth": 0,
             "ticks": ""
            },
            "colorscale": [
             [
              0,
              "#0d0887"
             ],
             [
              0.1111111111111111,
              "#46039f"
             ],
             [
              0.2222222222222222,
              "#7201a8"
             ],
             [
              0.3333333333333333,
              "#9c179e"
             ],
             [
              0.4444444444444444,
              "#bd3786"
             ],
             [
              0.5555555555555556,
              "#d8576b"
             ],
             [
              0.6666666666666666,
              "#ed7953"
             ],
             [
              0.7777777777777778,
              "#fb9f3a"
             ],
             [
              0.8888888888888888,
              "#fdca26"
             ],
             [
              1,
              "#f0f921"
             ]
            ],
            "type": "surface"
           }
          ],
          "table": [
           {
            "cells": {
             "fill": {
              "color": "#EBF0F8"
             },
             "line": {
              "color": "white"
             }
            },
            "header": {
             "fill": {
              "color": "#C8D4E3"
             },
             "line": {
              "color": "white"
             }
            },
            "type": "table"
           }
          ]
         },
         "layout": {
          "annotationdefaults": {
           "arrowcolor": "#2a3f5f",
           "arrowhead": 0,
           "arrowwidth": 1
          },
          "autotypenumbers": "strict",
          "coloraxis": {
           "colorbar": {
            "outlinewidth": 0,
            "ticks": ""
           }
          },
          "colorscale": {
           "diverging": [
            [
             0,
             "#8e0152"
            ],
            [
             0.1,
             "#c51b7d"
            ],
            [
             0.2,
             "#de77ae"
            ],
            [
             0.3,
             "#f1b6da"
            ],
            [
             0.4,
             "#fde0ef"
            ],
            [
             0.5,
             "#f7f7f7"
            ],
            [
             0.6,
             "#e6f5d0"
            ],
            [
             0.7,
             "#b8e186"
            ],
            [
             0.8,
             "#7fbc41"
            ],
            [
             0.9,
             "#4d9221"
            ],
            [
             1,
             "#276419"
            ]
           ],
           "sequential": [
            [
             0,
             "#0d0887"
            ],
            [
             0.1111111111111111,
             "#46039f"
            ],
            [
             0.2222222222222222,
             "#7201a8"
            ],
            [
             0.3333333333333333,
             "#9c179e"
            ],
            [
             0.4444444444444444,
             "#bd3786"
            ],
            [
             0.5555555555555556,
             "#d8576b"
            ],
            [
             0.6666666666666666,
             "#ed7953"
            ],
            [
             0.7777777777777778,
             "#fb9f3a"
            ],
            [
             0.8888888888888888,
             "#fdca26"
            ],
            [
             1,
             "#f0f921"
            ]
           ],
           "sequentialminus": [
            [
             0,
             "#0d0887"
            ],
            [
             0.1111111111111111,
             "#46039f"
            ],
            [
             0.2222222222222222,
             "#7201a8"
            ],
            [
             0.3333333333333333,
             "#9c179e"
            ],
            [
             0.4444444444444444,
             "#bd3786"
            ],
            [
             0.5555555555555556,
             "#d8576b"
            ],
            [
             0.6666666666666666,
             "#ed7953"
            ],
            [
             0.7777777777777778,
             "#fb9f3a"
            ],
            [
             0.8888888888888888,
             "#fdca26"
            ],
            [
             1,
             "#f0f921"
            ]
           ]
          },
          "colorway": [
           "#636efa",
           "#EF553B",
           "#00cc96",
           "#ab63fa",
           "#FFA15A",
           "#19d3f3",
           "#FF6692",
           "#B6E880",
           "#FF97FF",
           "#FECB52"
          ],
          "font": {
           "color": "#2a3f5f"
          },
          "geo": {
           "bgcolor": "white",
           "lakecolor": "white",
           "landcolor": "#E5ECF6",
           "showlakes": true,
           "showland": true,
           "subunitcolor": "white"
          },
          "hoverlabel": {
           "align": "left"
          },
          "hovermode": "closest",
          "mapbox": {
           "style": "light"
          },
          "paper_bgcolor": "white",
          "plot_bgcolor": "#E5ECF6",
          "polar": {
           "angularaxis": {
            "gridcolor": "white",
            "linecolor": "white",
            "ticks": ""
           },
           "bgcolor": "#E5ECF6",
           "radialaxis": {
            "gridcolor": "white",
            "linecolor": "white",
            "ticks": ""
           }
          },
          "scene": {
           "xaxis": {
            "backgroundcolor": "#E5ECF6",
            "gridcolor": "white",
            "gridwidth": 2,
            "linecolor": "white",
            "showbackground": true,
            "ticks": "",
            "zerolinecolor": "white"
           },
           "yaxis": {
            "backgroundcolor": "#E5ECF6",
            "gridcolor": "white",
            "gridwidth": 2,
            "linecolor": "white",
            "showbackground": true,
            "ticks": "",
            "zerolinecolor": "white"
           },
           "zaxis": {
            "backgroundcolor": "#E5ECF6",
            "gridcolor": "white",
            "gridwidth": 2,
            "linecolor": "white",
            "showbackground": true,
            "ticks": "",
            "zerolinecolor": "white"
           }
          },
          "shapedefaults": {
           "line": {
            "color": "#2a3f5f"
           }
          },
          "ternary": {
           "aaxis": {
            "gridcolor": "white",
            "linecolor": "white",
            "ticks": ""
           },
           "baxis": {
            "gridcolor": "white",
            "linecolor": "white",
            "ticks": ""
           },
           "bgcolor": "#E5ECF6",
           "caxis": {
            "gridcolor": "white",
            "linecolor": "white",
            "ticks": ""
           }
          },
          "title": {
           "x": 0.05
          },
          "xaxis": {
           "automargin": true,
           "gridcolor": "white",
           "linecolor": "white",
           "ticks": "",
           "title": {
            "standoff": 15
           },
           "zerolinecolor": "white",
           "zerolinewidth": 2
          },
          "yaxis": {
           "automargin": true,
           "gridcolor": "white",
           "linecolor": "white",
           "ticks": "",
           "title": {
            "standoff": 15
           },
           "zerolinecolor": "white",
           "zerolinewidth": 2
          }
         }
        },
        "title": {
         "text": "Cluster with the Highest Quantity of Streams Per Country"
        }
       }
      },
      "text/html": [
       "<div>                            <div id=\"1cf721be-116f-4ef4-9bd1-60d18c2a8018\" class=\"plotly-graph-div\" style=\"height:525px; width:100%;\"></div>            <script type=\"text/javascript\">                require([\"plotly\"], function(Plotly) {                    window.PLOTLYENV=window.PLOTLYENV || {};                                    if (document.getElementById(\"1cf721be-116f-4ef4-9bd1-60d18c2a8018\")) {                    Plotly.newPlot(                        \"1cf721be-116f-4ef4-9bd1-60d18c2a8018\",                        [{\"colorscale\": [[0.0, \"#636efa\"], [1.0, \"#636efa\"]], \"geo\": \"geo\", \"hovertemplate\": \"<b>%{hovertext}</b><br><br>Best Cluster=0<br>Country=%{location}<extra></extra>\", \"hovertext\": [\"ARG\", \"URY\", \"DNK\", \"PRT\", \"POL\", \"ESP\", \"NLD\", \"LUX\", \"CZE\"], \"locations\": [\"ARG\", \"URY\", \"DNK\", \"PRT\", \"POL\", \"ESP\", \"NLD\", \"LUX\", \"CZE\"], \"name\": \"0\", \"showlegend\": true, \"showscale\": false, \"type\": \"choropleth\", \"z\": [1, 1, 1, 1, 1, 1, 1, 1, 1]}, {\"colorscale\": [[0.0, \"#EF553B\"], [1.0, \"#EF553B\"]], \"geo\": \"geo\", \"hovertemplate\": \"<b>%{hovertext}</b><br><br>Best Cluster=1<br>Country=%{location}<extra></extra>\", \"hovertext\": [\"ARE\", \"IDN\", \"IND\", \"VNM\", \"KOR\", \"NZL\", \"SGP\", \"THA\", \"TWN\", \"USA\", \"PHL\", \"HKG\", \"ISR\", \"CAN\"], \"locations\": [\"ARE\", \"IDN\", \"IND\", \"VNM\", \"KOR\", \"NZL\", \"SGP\", \"THA\", \"TWN\", \"USA\", \"PHL\", \"HKG\", \"ISR\", \"CAN\"], \"name\": \"1\", \"showlegend\": true, \"showscale\": false, \"type\": \"choropleth\", \"z\": [1, 1, 1, 1, 1, 1, 1, 1, 1, 1, 1, 1, 1, 1]}, {\"colorscale\": [[0.0, \"#00cc96\"], [1.0, \"#00cc96\"]], \"geo\": \"geo\", \"hovertemplate\": \"<b>%{hovertext}</b><br><br>Best Cluster=2<br>Country=%{location}<extra></extra>\", \"hovertext\": [\"COL\", \"PER\", \"BRA\", \"PRY\", \"CRI\", \"BOL\", \"JPN\", \"PAN\", \"DOM\", \"SLV\", \"ECU\", \"HND\", \"GTM\", \"CHL\"], \"locations\": [\"COL\", \"PER\", \"BRA\", \"PRY\", \"CRI\", \"BOL\", \"JPN\", \"PAN\", \"DOM\", \"SLV\", \"ECU\", \"HND\", \"GTM\", \"CHL\"], \"name\": \"2\", \"showlegend\": true, \"showscale\": false, \"type\": \"choropleth\", \"z\": [1, 1, 1, 1, 1, 1, 1, 1, 1, 1, 1, 1, 1, 1]}, {\"colorscale\": [[0.0, \"#ab63fa\"], [1.0, \"#ab63fa\"]], \"geo\": \"geo\", \"hovertemplate\": \"<b>%{hovertext}</b><br><br>Best Cluster=3<br>Country=%{location}<extra></extra>\", \"hovertext\": [\"BGR\", \"TUR\", \"BEL\", \"RUS\", \"ROU\", \"UKR\", \"AUT\", \"CHE\", \"AUS\", \"SVK\", \"ZAF\", \"FIN\", \"NIC\", \"GRC\", \"EST\", \"LVA\", \"LTU\", \"HUN\", \"DEU\", \"EGY\", \"IRL\"], \"locations\": [\"BGR\", \"TUR\", \"BEL\", \"RUS\", \"ROU\", \"UKR\", \"AUT\", \"CHE\", \"AUS\", \"SVK\", \"ZAF\", \"FIN\", \"NIC\", \"GRC\", \"EST\", \"LVA\", \"LTU\", \"HUN\", \"DEU\", \"EGY\", \"IRL\"], \"name\": \"3\", \"showlegend\": true, \"showscale\": false, \"type\": \"choropleth\", \"z\": [1, 1, 1, 1, 1, 1, 1, 1, 1, 1, 1, 1, 1, 1, 1, 1, 1, 1, 1, 1, 1]}, {\"colorscale\": [[0.0, \"#FFA15A\"], [1.0, \"#FFA15A\"]], \"geo\": \"geo\", \"hovertemplate\": \"<b>%{hovertext}</b><br><br>Best Cluster=4<br>Country=%{location}<extra></extra>\", \"hovertext\": [\"GBR\", \"ITA\", \"ISL\", \"NOR\", \"SAU\", \"MAR\", \"MEX\", \"MYS\", \"SWE\", \"FRA\"], \"locations\": [\"GBR\", \"ITA\", \"ISL\", \"NOR\", \"SAU\", \"MAR\", \"MEX\", \"MYS\", \"SWE\", \"FRA\"], \"name\": \"4\", \"showlegend\": true, \"showscale\": false, \"type\": \"choropleth\", \"z\": [1, 1, 1, 1, 1, 1, 1, 1, 1, 1]}],                        {\"geo\": {\"center\": {}, \"domain\": {\"x\": [0.0, 1.0], \"y\": [0.0, 1.0]}}, \"legend\": {\"title\": {\"text\": \"Best Cluster\"}, \"tracegroupgap\": 0}, \"template\": {\"data\": {\"bar\": [{\"error_x\": {\"color\": \"#2a3f5f\"}, \"error_y\": {\"color\": \"#2a3f5f\"}, \"marker\": {\"line\": {\"color\": \"#E5ECF6\", \"width\": 0.5}}, \"type\": \"bar\"}], \"barpolar\": [{\"marker\": {\"line\": {\"color\": \"#E5ECF6\", \"width\": 0.5}}, \"type\": \"barpolar\"}], \"carpet\": [{\"aaxis\": {\"endlinecolor\": \"#2a3f5f\", \"gridcolor\": \"white\", \"linecolor\": \"white\", \"minorgridcolor\": \"white\", \"startlinecolor\": \"#2a3f5f\"}, \"baxis\": {\"endlinecolor\": \"#2a3f5f\", \"gridcolor\": \"white\", \"linecolor\": \"white\", \"minorgridcolor\": \"white\", \"startlinecolor\": \"#2a3f5f\"}, \"type\": \"carpet\"}], \"choropleth\": [{\"colorbar\": {\"outlinewidth\": 0, \"ticks\": \"\"}, \"type\": \"choropleth\"}], \"contour\": [{\"colorbar\": {\"outlinewidth\": 0, \"ticks\": \"\"}, \"colorscale\": [[0.0, \"#0d0887\"], [0.1111111111111111, \"#46039f\"], [0.2222222222222222, \"#7201a8\"], [0.3333333333333333, \"#9c179e\"], [0.4444444444444444, \"#bd3786\"], [0.5555555555555556, \"#d8576b\"], [0.6666666666666666, \"#ed7953\"], [0.7777777777777778, \"#fb9f3a\"], [0.8888888888888888, \"#fdca26\"], [1.0, \"#f0f921\"]], \"type\": \"contour\"}], \"contourcarpet\": [{\"colorbar\": {\"outlinewidth\": 0, \"ticks\": \"\"}, \"type\": \"contourcarpet\"}], \"heatmap\": [{\"colorbar\": {\"outlinewidth\": 0, \"ticks\": \"\"}, \"colorscale\": [[0.0, \"#0d0887\"], [0.1111111111111111, \"#46039f\"], [0.2222222222222222, \"#7201a8\"], [0.3333333333333333, \"#9c179e\"], [0.4444444444444444, \"#bd3786\"], [0.5555555555555556, \"#d8576b\"], [0.6666666666666666, \"#ed7953\"], [0.7777777777777778, \"#fb9f3a\"], [0.8888888888888888, \"#fdca26\"], [1.0, \"#f0f921\"]], \"type\": \"heatmap\"}], \"heatmapgl\": [{\"colorbar\": {\"outlinewidth\": 0, \"ticks\": \"\"}, \"colorscale\": [[0.0, \"#0d0887\"], [0.1111111111111111, \"#46039f\"], [0.2222222222222222, \"#7201a8\"], [0.3333333333333333, \"#9c179e\"], [0.4444444444444444, \"#bd3786\"], [0.5555555555555556, \"#d8576b\"], [0.6666666666666666, \"#ed7953\"], [0.7777777777777778, \"#fb9f3a\"], [0.8888888888888888, \"#fdca26\"], [1.0, \"#f0f921\"]], \"type\": \"heatmapgl\"}], \"histogram\": [{\"marker\": {\"colorbar\": {\"outlinewidth\": 0, \"ticks\": \"\"}}, \"type\": \"histogram\"}], \"histogram2d\": [{\"colorbar\": {\"outlinewidth\": 0, \"ticks\": \"\"}, \"colorscale\": [[0.0, \"#0d0887\"], [0.1111111111111111, \"#46039f\"], [0.2222222222222222, \"#7201a8\"], [0.3333333333333333, \"#9c179e\"], [0.4444444444444444, \"#bd3786\"], [0.5555555555555556, \"#d8576b\"], [0.6666666666666666, \"#ed7953\"], [0.7777777777777778, \"#fb9f3a\"], [0.8888888888888888, \"#fdca26\"], [1.0, \"#f0f921\"]], \"type\": \"histogram2d\"}], \"histogram2dcontour\": [{\"colorbar\": {\"outlinewidth\": 0, \"ticks\": \"\"}, \"colorscale\": [[0.0, \"#0d0887\"], [0.1111111111111111, \"#46039f\"], [0.2222222222222222, \"#7201a8\"], [0.3333333333333333, \"#9c179e\"], [0.4444444444444444, \"#bd3786\"], [0.5555555555555556, \"#d8576b\"], [0.6666666666666666, \"#ed7953\"], [0.7777777777777778, \"#fb9f3a\"], [0.8888888888888888, \"#fdca26\"], [1.0, \"#f0f921\"]], \"type\": \"histogram2dcontour\"}], \"mesh3d\": [{\"colorbar\": {\"outlinewidth\": 0, \"ticks\": \"\"}, \"type\": \"mesh3d\"}], \"parcoords\": [{\"line\": {\"colorbar\": {\"outlinewidth\": 0, \"ticks\": \"\"}}, \"type\": \"parcoords\"}], \"pie\": [{\"automargin\": true, \"type\": \"pie\"}], \"scatter\": [{\"marker\": {\"colorbar\": {\"outlinewidth\": 0, \"ticks\": \"\"}}, \"type\": \"scatter\"}], \"scatter3d\": [{\"line\": {\"colorbar\": {\"outlinewidth\": 0, \"ticks\": \"\"}}, \"marker\": {\"colorbar\": {\"outlinewidth\": 0, \"ticks\": \"\"}}, \"type\": \"scatter3d\"}], \"scattercarpet\": [{\"marker\": {\"colorbar\": {\"outlinewidth\": 0, \"ticks\": \"\"}}, \"type\": \"scattercarpet\"}], \"scattergeo\": [{\"marker\": {\"colorbar\": {\"outlinewidth\": 0, \"ticks\": \"\"}}, \"type\": \"scattergeo\"}], \"scattergl\": [{\"marker\": {\"colorbar\": {\"outlinewidth\": 0, \"ticks\": \"\"}}, \"type\": \"scattergl\"}], \"scattermapbox\": [{\"marker\": {\"colorbar\": {\"outlinewidth\": 0, \"ticks\": \"\"}}, \"type\": \"scattermapbox\"}], \"scatterpolar\": [{\"marker\": {\"colorbar\": {\"outlinewidth\": 0, \"ticks\": \"\"}}, \"type\": \"scatterpolar\"}], \"scatterpolargl\": [{\"marker\": {\"colorbar\": {\"outlinewidth\": 0, \"ticks\": \"\"}}, \"type\": \"scatterpolargl\"}], \"scatterternary\": [{\"marker\": {\"colorbar\": {\"outlinewidth\": 0, \"ticks\": \"\"}}, \"type\": \"scatterternary\"}], \"surface\": [{\"colorbar\": {\"outlinewidth\": 0, \"ticks\": \"\"}, \"colorscale\": [[0.0, \"#0d0887\"], [0.1111111111111111, \"#46039f\"], [0.2222222222222222, \"#7201a8\"], [0.3333333333333333, \"#9c179e\"], [0.4444444444444444, \"#bd3786\"], [0.5555555555555556, \"#d8576b\"], [0.6666666666666666, \"#ed7953\"], [0.7777777777777778, \"#fb9f3a\"], [0.8888888888888888, \"#fdca26\"], [1.0, \"#f0f921\"]], \"type\": \"surface\"}], \"table\": [{\"cells\": {\"fill\": {\"color\": \"#EBF0F8\"}, \"line\": {\"color\": \"white\"}}, \"header\": {\"fill\": {\"color\": \"#C8D4E3\"}, \"line\": {\"color\": \"white\"}}, \"type\": \"table\"}]}, \"layout\": {\"annotationdefaults\": {\"arrowcolor\": \"#2a3f5f\", \"arrowhead\": 0, \"arrowwidth\": 1}, \"autotypenumbers\": \"strict\", \"coloraxis\": {\"colorbar\": {\"outlinewidth\": 0, \"ticks\": \"\"}}, \"colorscale\": {\"diverging\": [[0, \"#8e0152\"], [0.1, \"#c51b7d\"], [0.2, \"#de77ae\"], [0.3, \"#f1b6da\"], [0.4, \"#fde0ef\"], [0.5, \"#f7f7f7\"], [0.6, \"#e6f5d0\"], [0.7, \"#b8e186\"], [0.8, \"#7fbc41\"], [0.9, \"#4d9221\"], [1, \"#276419\"]], \"sequential\": [[0.0, \"#0d0887\"], [0.1111111111111111, \"#46039f\"], [0.2222222222222222, \"#7201a8\"], [0.3333333333333333, \"#9c179e\"], [0.4444444444444444, \"#bd3786\"], [0.5555555555555556, \"#d8576b\"], [0.6666666666666666, \"#ed7953\"], [0.7777777777777778, \"#fb9f3a\"], [0.8888888888888888, \"#fdca26\"], [1.0, \"#f0f921\"]], \"sequentialminus\": [[0.0, \"#0d0887\"], [0.1111111111111111, \"#46039f\"], [0.2222222222222222, \"#7201a8\"], [0.3333333333333333, \"#9c179e\"], [0.4444444444444444, \"#bd3786\"], [0.5555555555555556, \"#d8576b\"], [0.6666666666666666, \"#ed7953\"], [0.7777777777777778, \"#fb9f3a\"], [0.8888888888888888, \"#fdca26\"], [1.0, \"#f0f921\"]]}, \"colorway\": [\"#636efa\", \"#EF553B\", \"#00cc96\", \"#ab63fa\", \"#FFA15A\", \"#19d3f3\", \"#FF6692\", \"#B6E880\", \"#FF97FF\", \"#FECB52\"], \"font\": {\"color\": \"#2a3f5f\"}, \"geo\": {\"bgcolor\": \"white\", \"lakecolor\": \"white\", \"landcolor\": \"#E5ECF6\", \"showlakes\": true, \"showland\": true, \"subunitcolor\": \"white\"}, \"hoverlabel\": {\"align\": \"left\"}, \"hovermode\": \"closest\", \"mapbox\": {\"style\": \"light\"}, \"paper_bgcolor\": \"white\", \"plot_bgcolor\": \"#E5ECF6\", \"polar\": {\"angularaxis\": {\"gridcolor\": \"white\", \"linecolor\": \"white\", \"ticks\": \"\"}, \"bgcolor\": \"#E5ECF6\", \"radialaxis\": {\"gridcolor\": \"white\", \"linecolor\": \"white\", \"ticks\": \"\"}}, \"scene\": {\"xaxis\": {\"backgroundcolor\": \"#E5ECF6\", \"gridcolor\": \"white\", \"gridwidth\": 2, \"linecolor\": \"white\", \"showbackground\": true, \"ticks\": \"\", \"zerolinecolor\": \"white\"}, \"yaxis\": {\"backgroundcolor\": \"#E5ECF6\", \"gridcolor\": \"white\", \"gridwidth\": 2, \"linecolor\": \"white\", \"showbackground\": true, \"ticks\": \"\", \"zerolinecolor\": \"white\"}, \"zaxis\": {\"backgroundcolor\": \"#E5ECF6\", \"gridcolor\": \"white\", \"gridwidth\": 2, \"linecolor\": \"white\", \"showbackground\": true, \"ticks\": \"\", \"zerolinecolor\": \"white\"}}, \"shapedefaults\": {\"line\": {\"color\": \"#2a3f5f\"}}, \"ternary\": {\"aaxis\": {\"gridcolor\": \"white\", \"linecolor\": \"white\", \"ticks\": \"\"}, \"baxis\": {\"gridcolor\": \"white\", \"linecolor\": \"white\", \"ticks\": \"\"}, \"bgcolor\": \"#E5ECF6\", \"caxis\": {\"gridcolor\": \"white\", \"linecolor\": \"white\", \"ticks\": \"\"}}, \"title\": {\"x\": 0.05}, \"xaxis\": {\"automargin\": true, \"gridcolor\": \"white\", \"linecolor\": \"white\", \"ticks\": \"\", \"title\": {\"standoff\": 15}, \"zerolinecolor\": \"white\", \"zerolinewidth\": 2}, \"yaxis\": {\"automargin\": true, \"gridcolor\": \"white\", \"linecolor\": \"white\", \"ticks\": \"\", \"title\": {\"standoff\": 15}, \"zerolinecolor\": \"white\", \"zerolinewidth\": 2}}}, \"title\": {\"text\": \"Cluster with the Highest Quantity of Streams Per Country\"}},                        {\"responsive\": true}                    ).then(function(){\n",
       "                            \n",
       "var gd = document.getElementById('1cf721be-116f-4ef4-9bd1-60d18c2a8018');\n",
       "var x = new MutationObserver(function (mutations, observer) {{\n",
       "        var display = window.getComputedStyle(gd).display;\n",
       "        if (!display || display === 'none') {{\n",
       "            console.log([gd, 'removed!']);\n",
       "            Plotly.purge(gd);\n",
       "            observer.disconnect();\n",
       "        }}\n",
       "}});\n",
       "\n",
       "// Listen for the removal of the full notebook cells\n",
       "var notebookContainer = gd.closest('#notebook-container');\n",
       "if (notebookContainer) {{\n",
       "    x.observe(notebookContainer, {childList: true});\n",
       "}}\n",
       "\n",
       "// Listen for the clearing of the current output cell\n",
       "var outputEl = gd.closest('.output');\n",
       "if (outputEl) {{\n",
       "    x.observe(outputEl, {childList: true});\n",
       "}}\n",
       "\n",
       "                        })                };                });            </script>        </div>"
      ]
     },
     "metadata": {},
     "output_type": "display_data"
    }
   ],
   "source": [
    "#Plotting map\n",
    "\n",
    "#colorscale = [\"003f5c\",\"58508d\",\"bc5090\",\"ff6361\",\"ffa600\"]\n",
    "\n",
    "\n",
    "fig = px.choropleth(countries_best_cluster_2, locations=\"Country\",\n",
    "                    color=\"Best Cluster\", # lifeExp is a column of gapminder\n",
    "                    hover_name=\"Country\", title = \"Cluster with the Highest Quantity of Streams Per Country\", # column to add to hover information\n",
    "#                    color_continuous_scale=px.colors.sequential.Tealgrn)\n",
    "#                    color_discrete_sequence=colorscale)\n",
    "#                    color_discrete_sequence= \"earth\" )\n",
    "                    color_continuous_scale=\"dense\")\n",
    "fig.show()"
   ]
  }
 ],
 "metadata": {
  "kernelspec": {
   "display_name": "Python 3",
   "language": "python",
   "name": "python3"
  },
  "language_info": {
   "codemirror_mode": {
    "name": "ipython",
    "version": 3
   },
   "file_extension": ".py",
   "mimetype": "text/x-python",
   "name": "python",
   "nbconvert_exporter": "python",
   "pygments_lexer": "ipython3",
   "version": "3.8.5"
  }
 },
 "nbformat": 4,
 "nbformat_minor": 4
}
