{
 "cells": [
  {
   "cell_type": "markdown",
   "metadata": {},
   "source": [
    "This notebook will apply the PCA method to the music features data and then conduct the following clustering methods: \n",
    "1. k-means\n",
    "2. hierarchical\n"
   ]
  },
  {
   "cell_type": "code",
   "execution_count": 1,
   "metadata": {},
   "outputs": [],
   "source": [
    "import pandas as pd \n",
    "import matplotlib\n",
    "import numpy as np\n",
    "import seaborn as sb\n",
    "import sklearn\n",
    "from sklearn.cluster import KMeans\n",
    "import scipy.cluster.hierarchy as sch"
   ]
  },
  {
   "cell_type": "code",
   "execution_count": 2,
   "metadata": {},
   "outputs": [],
   "source": [
    "#Read music feature data into python\n",
    "file_name = 'music_features.csv'\n",
    "music_features = pd.read_csv(file_name, index_col=0)"
   ]
  },
  {
   "cell_type": "code",
   "execution_count": 3,
   "metadata": {},
   "outputs": [
    {
     "data": {
      "text/html": [
       "<div>\n",
       "<style scoped>\n",
       "    .dataframe tbody tr th:only-of-type {\n",
       "        vertical-align: middle;\n",
       "    }\n",
       "\n",
       "    .dataframe tbody tr th {\n",
       "        vertical-align: top;\n",
       "    }\n",
       "\n",
       "    .dataframe thead th {\n",
       "        text-align: right;\n",
       "    }\n",
       "</style>\n",
       "<table border=\"1\" class=\"dataframe\">\n",
       "  <thead>\n",
       "    <tr style=\"text-align: right;\">\n",
       "      <th></th>\n",
       "      <th>acousticness</th>\n",
       "      <th>danceability</th>\n",
       "      <th>duration_ms</th>\n",
       "      <th>energy</th>\n",
       "      <th>id</th>\n",
       "      <th>instrumentalness</th>\n",
       "      <th>key</th>\n",
       "      <th>liveness</th>\n",
       "      <th>loudness</th>\n",
       "      <th>mode</th>\n",
       "      <th>speechiness</th>\n",
       "      <th>tempo</th>\n",
       "      <th>time_signature</th>\n",
       "      <th>type</th>\n",
       "      <th>valence</th>\n",
       "    </tr>\n",
       "  </thead>\n",
       "  <tbody>\n",
       "    <tr>\n",
       "      <th>160541</th>\n",
       "      <td>0.131</td>\n",
       "      <td>0.748</td>\n",
       "      <td>188491.0</td>\n",
       "      <td>0.627</td>\n",
       "      <td>000xQL6tZNLJzIrtIgxqSl</td>\n",
       "      <td>0.000000</td>\n",
       "      <td>7.0</td>\n",
       "      <td>0.0852</td>\n",
       "      <td>-6.029</td>\n",
       "      <td>1.0</td>\n",
       "      <td>0.0639</td>\n",
       "      <td>120.963</td>\n",
       "      <td>4.0</td>\n",
       "      <td>audio_features</td>\n",
       "      <td>0.524</td>\n",
       "    </tr>\n",
       "    <tr>\n",
       "      <th>45268</th>\n",
       "      <td>0.684</td>\n",
       "      <td>0.509</td>\n",
       "      <td>187119.0</td>\n",
       "      <td>0.803</td>\n",
       "      <td>000xYdQfIZ4pDmBGzQalKU</td>\n",
       "      <td>0.000539</td>\n",
       "      <td>0.0</td>\n",
       "      <td>0.4630</td>\n",
       "      <td>-6.743</td>\n",
       "      <td>1.0</td>\n",
       "      <td>0.0400</td>\n",
       "      <td>166.018</td>\n",
       "      <td>4.0</td>\n",
       "      <td>audio_features</td>\n",
       "      <td>0.651</td>\n",
       "    </tr>\n",
       "    <tr>\n",
       "      <th>236479</th>\n",
       "      <td>0.105</td>\n",
       "      <td>0.772</td>\n",
       "      <td>167866.0</td>\n",
       "      <td>0.635</td>\n",
       "      <td>001b8t3bYPfnabpjpfG1Y4</td>\n",
       "      <td>0.000000</td>\n",
       "      <td>9.0</td>\n",
       "      <td>0.1170</td>\n",
       "      <td>-4.846</td>\n",
       "      <td>1.0</td>\n",
       "      <td>0.3720</td>\n",
       "      <td>95.951</td>\n",
       "      <td>4.0</td>\n",
       "      <td>audio_features</td>\n",
       "      <td>0.541</td>\n",
       "    </tr>\n",
       "    <tr>\n",
       "      <th>218937</th>\n",
       "      <td>0.145</td>\n",
       "      <td>0.807</td>\n",
       "      <td>188395.0</td>\n",
       "      <td>0.552</td>\n",
       "      <td>001cKCt7jEOzXjqgkn9DQf</td>\n",
       "      <td>0.000000</td>\n",
       "      <td>8.0</td>\n",
       "      <td>0.0999</td>\n",
       "      <td>-8.966</td>\n",
       "      <td>1.0</td>\n",
       "      <td>0.3050</td>\n",
       "      <td>119.988</td>\n",
       "      <td>4.0</td>\n",
       "      <td>audio_features</td>\n",
       "      <td>0.287</td>\n",
       "    </tr>\n",
       "    <tr>\n",
       "      <th>193090</th>\n",
       "      <td>0.159</td>\n",
       "      <td>0.683</td>\n",
       "      <td>180933.0</td>\n",
       "      <td>0.676</td>\n",
       "      <td>003F0rm5lqxcmhvJPKgfaJ</td>\n",
       "      <td>0.000000</td>\n",
       "      <td>1.0</td>\n",
       "      <td>0.0726</td>\n",
       "      <td>-6.688</td>\n",
       "      <td>0.0</td>\n",
       "      <td>0.1470</td>\n",
       "      <td>98.992</td>\n",
       "      <td>4.0</td>\n",
       "      <td>audio_features</td>\n",
       "      <td>0.434</td>\n",
       "    </tr>\n",
       "  </tbody>\n",
       "</table>\n",
       "</div>"
      ],
      "text/plain": [
       "        acousticness  danceability  duration_ms  energy  \\\n",
       "160541         0.131         0.748     188491.0   0.627   \n",
       "45268          0.684         0.509     187119.0   0.803   \n",
       "236479         0.105         0.772     167866.0   0.635   \n",
       "218937         0.145         0.807     188395.0   0.552   \n",
       "193090         0.159         0.683     180933.0   0.676   \n",
       "\n",
       "                            id  instrumentalness  key  liveness  loudness  \\\n",
       "160541  000xQL6tZNLJzIrtIgxqSl          0.000000  7.0    0.0852    -6.029   \n",
       "45268   000xYdQfIZ4pDmBGzQalKU          0.000539  0.0    0.4630    -6.743   \n",
       "236479  001b8t3bYPfnabpjpfG1Y4          0.000000  9.0    0.1170    -4.846   \n",
       "218937  001cKCt7jEOzXjqgkn9DQf          0.000000  8.0    0.0999    -8.966   \n",
       "193090  003F0rm5lqxcmhvJPKgfaJ          0.000000  1.0    0.0726    -6.688   \n",
       "\n",
       "        mode  speechiness    tempo  time_signature            type  valence  \n",
       "160541   1.0       0.0639  120.963             4.0  audio_features    0.524  \n",
       "45268    1.0       0.0400  166.018             4.0  audio_features    0.651  \n",
       "236479   1.0       0.3720   95.951             4.0  audio_features    0.541  \n",
       "218937   1.0       0.3050  119.988             4.0  audio_features    0.287  \n",
       "193090   0.0       0.1470   98.992             4.0  audio_features    0.434  "
      ]
     },
     "execution_count": 3,
     "metadata": {},
     "output_type": "execute_result"
    }
   ],
   "source": [
    "music_features.head()"
   ]
  },
  {
   "cell_type": "code",
   "execution_count": 4,
   "metadata": {},
   "outputs": [],
   "source": [
    "music_features = music_features.drop(columns=['type'])"
   ]
  },
  {
   "cell_type": "code",
   "execution_count": 5,
   "metadata": {},
   "outputs": [
    {
     "data": {
      "text/plain": [
       "acousticness         3599\n",
       "danceability          889\n",
       "duration_ms         49403\n",
       "energy               1220\n",
       "id                  88126\n",
       "instrumentalness     5142\n",
       "key                    12\n",
       "liveness             1669\n",
       "loudness            13366\n",
       "mode                    2\n",
       "speechiness          1473\n",
       "tempo               37438\n",
       "time_signature          5\n",
       "valence              1470\n",
       "dtype: int64"
      ]
     },
     "execution_count": 5,
     "metadata": {},
     "output_type": "execute_result"
    }
   ],
   "source": [
    "music_features.nunique()"
   ]
  },
  {
   "cell_type": "code",
   "execution_count": 6,
   "metadata": {},
   "outputs": [],
   "source": [
    "features = list(music_features)"
   ]
  },
  {
   "cell_type": "code",
   "execution_count": 7,
   "metadata": {},
   "outputs": [],
   "source": [
    "features.remove('id')"
   ]
  },
  {
   "cell_type": "code",
   "execution_count": 8,
   "metadata": {},
   "outputs": [
    {
     "data": {
      "text/plain": [
       "(8.420049073685684e-17, 0.9999999999999998)"
      ]
     },
     "execution_count": 8,
     "metadata": {},
     "output_type": "execute_result"
    }
   ],
   "source": [
    "from sklearn.preprocessing import StandardScaler\n",
    "\n",
    "feature_values = music_features.loc[:, features].values\n",
    "normalized_values = StandardScaler().fit_transform(feature_values) # normalizing the features\n",
    "np.mean(normalized_values),np.std(normalized_values)"
   ]
  },
  {
   "cell_type": "code",
   "execution_count": 9,
   "metadata": {},
   "outputs": [],
   "source": [
    "from sklearn.decomposition import PCA\n",
    "\n",
    "pca = PCA(n_components=0.90)\n",
    "principalComponents = pca.fit_transform(normalized_values)\n",
    "principalDF = pd.DataFrame(data = principalComponents)"
   ]
  },
  {
   "cell_type": "code",
   "execution_count": 10,
   "metadata": {},
   "outputs": [
    {
     "data": {
      "text/html": [
       "<div>\n",
       "<style scoped>\n",
       "    .dataframe tbody tr th:only-of-type {\n",
       "        vertical-align: middle;\n",
       "    }\n",
       "\n",
       "    .dataframe tbody tr th {\n",
       "        vertical-align: top;\n",
       "    }\n",
       "\n",
       "    .dataframe thead th {\n",
       "        text-align: right;\n",
       "    }\n",
       "</style>\n",
       "<table border=\"1\" class=\"dataframe\">\n",
       "  <thead>\n",
       "    <tr style=\"text-align: right;\">\n",
       "      <th></th>\n",
       "      <th>0</th>\n",
       "      <th>1</th>\n",
       "      <th>2</th>\n",
       "      <th>3</th>\n",
       "      <th>4</th>\n",
       "      <th>5</th>\n",
       "      <th>6</th>\n",
       "      <th>7</th>\n",
       "      <th>8</th>\n",
       "      <th>9</th>\n",
       "    </tr>\n",
       "  </thead>\n",
       "  <tbody>\n",
       "    <tr>\n",
       "      <th>0</th>\n",
       "      <td>-0.451134</td>\n",
       "      <td>-0.033565</td>\n",
       "      <td>-0.439366</td>\n",
       "      <td>0.569575</td>\n",
       "      <td>-0.016130</td>\n",
       "      <td>0.316759</td>\n",
       "      <td>0.554029</td>\n",
       "      <td>-0.360533</td>\n",
       "      <td>-1.078593</td>\n",
       "      <td>0.110149</td>\n",
       "    </tr>\n",
       "    <tr>\n",
       "      <th>1</th>\n",
       "      <td>0.021821</td>\n",
       "      <td>1.748103</td>\n",
       "      <td>-1.119083</td>\n",
       "      <td>-2.078193</td>\n",
       "      <td>0.346411</td>\n",
       "      <td>-0.723661</td>\n",
       "      <td>-0.289637</td>\n",
       "      <td>-1.515539</td>\n",
       "      <td>0.975765</td>\n",
       "      <td>-1.260121</td>\n",
       "    </tr>\n",
       "    <tr>\n",
       "      <th>2</th>\n",
       "      <td>-1.080884</td>\n",
       "      <td>-1.439510</td>\n",
       "      <td>-0.394431</td>\n",
       "      <td>0.030598</td>\n",
       "      <td>-0.557967</td>\n",
       "      <td>-0.133521</td>\n",
       "      <td>-0.497757</td>\n",
       "      <td>0.253585</td>\n",
       "      <td>-1.397900</td>\n",
       "      <td>1.455529</td>\n",
       "    </tr>\n",
       "    <tr>\n",
       "      <th>3</th>\n",
       "      <td>0.288048</td>\n",
       "      <td>-1.355919</td>\n",
       "      <td>-0.412265</td>\n",
       "      <td>-0.186526</td>\n",
       "      <td>-0.410735</td>\n",
       "      <td>0.724761</td>\n",
       "      <td>-0.627038</td>\n",
       "      <td>0.277819</td>\n",
       "      <td>-1.238071</td>\n",
       "      <td>1.280738</td>\n",
       "    </tr>\n",
       "    <tr>\n",
       "      <th>4</th>\n",
       "      <td>-0.327189</td>\n",
       "      <td>-0.569155</td>\n",
       "      <td>-0.424199</td>\n",
       "      <td>0.695444</td>\n",
       "      <td>0.009849</td>\n",
       "      <td>0.219913</td>\n",
       "      <td>-0.097795</td>\n",
       "      <td>1.509594</td>\n",
       "      <td>0.569051</td>\n",
       "      <td>-0.782480</td>\n",
       "    </tr>\n",
       "  </tbody>\n",
       "</table>\n",
       "</div>"
      ],
      "text/plain": [
       "          0         1         2         3         4         5         6  \\\n",
       "0 -0.451134 -0.033565 -0.439366  0.569575 -0.016130  0.316759  0.554029   \n",
       "1  0.021821  1.748103 -1.119083 -2.078193  0.346411 -0.723661 -0.289637   \n",
       "2 -1.080884 -1.439510 -0.394431  0.030598 -0.557967 -0.133521 -0.497757   \n",
       "3  0.288048 -1.355919 -0.412265 -0.186526 -0.410735  0.724761 -0.627038   \n",
       "4 -0.327189 -0.569155 -0.424199  0.695444  0.009849  0.219913 -0.097795   \n",
       "\n",
       "          7         8         9  \n",
       "0 -0.360533 -1.078593  0.110149  \n",
       "1 -1.515539  0.975765 -1.260121  \n",
       "2  0.253585 -1.397900  1.455529  \n",
       "3  0.277819 -1.238071  1.280738  \n",
       "4  1.509594  0.569051 -0.782480  "
      ]
     },
     "execution_count": 10,
     "metadata": {},
     "output_type": "execute_result"
    }
   ],
   "source": [
    "principalDF.head()"
   ]
  },
  {
   "cell_type": "code",
   "execution_count": null,
   "metadata": {},
   "outputs": [],
   "source": [
    "dendrogram = sch.dendrogram(sch.linkage(principalDF.values, method  = \"ward\"))\n",
    "plt.title('Dendrogram')\n",
    "plt.xlabel('Customers')\n",
    "plt.ylabel('Euclidean distances')\n",
    "plt.show()"
   ]
  },
  {
   "cell_type": "code",
   "execution_count": null,
   "metadata": {},
   "outputs": [],
   "source": [
    "from sklearn.cluster import AgglomerativeClustering \n",
    "hc = AgglomerativeClustering(n_clusters = 5, affinity = 'euclidean', linkage ='ward')"
   ]
  }
 ],
 "metadata": {
  "kernelspec": {
   "display_name": "Python 3",
   "language": "python",
   "name": "python3"
  },
  "language_info": {
   "codemirror_mode": {
    "name": "ipython",
    "version": 3
   },
   "file_extension": ".py",
   "mimetype": "text/x-python",
   "name": "python",
   "nbconvert_exporter": "python",
   "pygments_lexer": "ipython3",
   "version": "3.8.5"
  }
 },
 "nbformat": 4,
 "nbformat_minor": 4
}
